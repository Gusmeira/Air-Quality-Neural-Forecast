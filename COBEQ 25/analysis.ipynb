{
 "cells": [
  {
   "cell_type": "markdown",
   "metadata": {},
   "source": [
    "## Libs"
   ]
  },
  {
   "cell_type": "code",
   "execution_count": 157,
   "metadata": {},
   "outputs": [
    {
     "name": "stderr",
     "output_type": "stream",
     "text": [
      "GPU available: False, used: False\n",
      "TPU available: False, using: 0 TPU cores\n",
      "HPU available: False, using: 0 HPUs\n"
     ]
    }
   ],
   "source": [
    "import pandas as pd\n",
    "import numpy as np\n",
    "np.random.seed(1)\n",
    "import optuna\n",
    "\n",
    "import plotly.graph_objects as go\n",
    "import plotly.express as px\n",
    "import plotly.subplots\n",
    "import time\n",
    "\n",
    "from neuralforecast import NeuralForecast\n",
    "from neuralforecast.models import NBEATS, NHITS\n",
    "import sklearn.metrics as metrics\n",
    "\n",
    "ponte = pd.read_pickle(r'Data\\Data_Ponte_dos_Remedios.pkl')\n",
    "del ponte['o3']\n",
    "guarulhos = pd.read_pickle(r'Data\\Data_Guarulhos.pkl')\n",
    "guarulhos = guarulhos[['date','o3']]\n",
    "\n",
    "data = ponte.merge(guarulhos, on='date', how='outer')\n",
    "data.reset_index(drop=True)\n",
    "\n",
    "import joblib\n",
    "import pickle\n",
    "from IPython.display import clear_output\n",
    "import os\n",
    "os.environ['NIXTLA_ID_AS_COL'] = '1'\n",
    "\n",
    "from pytorch_lightning import Trainer\n",
    "trainer = Trainer(\n",
    "    max_steps=4,\n",
    "    logger=False,\n",
    "    enable_progress_bar=False,\n",
    "    enable_model_summary=False  # Disable model summary\n",
    ")\n",
    "\n",
    "import warnings\n",
    "warnings.filterwarnings(\"ignore\", category=UserWarning, module=\"optuna\")\n",
    "\n",
    "from TimeObjectModule import TimeObject, main_layout, main_subplot_layout, data"
   ]
  },
  {
   "cell_type": "markdown",
   "metadata": {},
   "source": [
    "## **Metrics DataFrame**"
   ]
  },
  {
   "cell_type": "code",
   "execution_count": 5,
   "metadata": {},
   "outputs": [],
   "source": [
    "for pollutant in ['co','pm10','pm25','o3','no2']:\n",
    "    for h in [12, 52]:\n",
    "        # print(pollutant,h)\n",
    "        # display(pd.read_pickle(rf'C:\\Users\\gustavo.filho\\Documents\\Python\\GitHub\\TCC\\Results\\Stats\\{pollutant}\\{h}W_Df.pkl').sort_values(by=['smape','mae']).reset_index(drop=True).loc[:,['method','smape','mae','max','mape','mse']])\n",
    "        # print()\n",
    "        # print()\n",
    "        # print()\n",
    "        ..."
   ]
  },
  {
   "cell_type": "markdown",
   "metadata": {},
   "source": [
    "## **Params DataFrame**"
   ]
  },
  {
   "cell_type": "markdown",
   "metadata": {},
   "source": [
    "### NHITS"
   ]
  },
  {
   "cell_type": "code",
   "execution_count": 6,
   "metadata": {},
   "outputs": [
    {
     "data": {
      "text/html": [
       "<div>\n",
       "<style scoped>\n",
       "    .dataframe tbody tr th:only-of-type {\n",
       "        vertical-align: middle;\n",
       "    }\n",
       "\n",
       "    .dataframe tbody tr th {\n",
       "        vertical-align: top;\n",
       "    }\n",
       "\n",
       "    .dataframe thead th {\n",
       "        text-align: right;\n",
       "    }\n",
       "</style>\n",
       "<table border=\"1\" class=\"dataframe\">\n",
       "  <thead>\n",
       "    <tr style=\"text-align: right;\">\n",
       "      <th></th>\n",
       "      <th>pollutant</th>\n",
       "      <th>h</th>\n",
       "      <th>input_size</th>\n",
       "      <th>max_steps</th>\n",
       "      <th>n_stacks</th>\n",
       "      <th>n_blocks</th>\n",
       "      <th>n_freq_downsample</th>\n",
       "      <th>n_pool_kernel_size</th>\n",
       "      <th>local_scalar_type</th>\n",
       "      <th>smape</th>\n",
       "      <th>mae</th>\n",
       "      <th>max</th>\n",
       "      <th>mape</th>\n",
       "      <th>mse</th>\n",
       "    </tr>\n",
       "  </thead>\n",
       "  <tbody>\n",
       "    <tr>\n",
       "      <th>0</th>\n",
       "      <td>co</td>\n",
       "      <td>12</td>\n",
       "      <td>109</td>\n",
       "      <td>70</td>\n",
       "      <td>3</td>\n",
       "      <td>3</td>\n",
       "      <td>[52, 12, 52]</td>\n",
       "      <td>[3, 1, 1]</td>\n",
       "      <td>standard</td>\n",
       "      <td>7</td>\n",
       "      <td>6</td>\n",
       "      <td>8</td>\n",
       "      <td>10</td>\n",
       "      <td>6</td>\n",
       "    </tr>\n",
       "    <tr>\n",
       "      <th>0</th>\n",
       "      <td>pm10</td>\n",
       "      <td>12</td>\n",
       "      <td>134</td>\n",
       "      <td>456</td>\n",
       "      <td>3</td>\n",
       "      <td>1</td>\n",
       "      <td>[12, 12, 4]</td>\n",
       "      <td>[1, 3, 1]</td>\n",
       "      <td>boxcox</td>\n",
       "      <td>11</td>\n",
       "      <td>11</td>\n",
       "      <td>13</td>\n",
       "      <td>11</td>\n",
       "      <td>12</td>\n",
       "    </tr>\n",
       "    <tr>\n",
       "      <th>0</th>\n",
       "      <td>pm25</td>\n",
       "      <td>12</td>\n",
       "      <td>141</td>\n",
       "      <td>166</td>\n",
       "      <td>5</td>\n",
       "      <td>5</td>\n",
       "      <td>[12, 1, 1]</td>\n",
       "      <td>[2, 2, 2]</td>\n",
       "      <td>boxcox</td>\n",
       "      <td>11</td>\n",
       "      <td>11</td>\n",
       "      <td>12</td>\n",
       "      <td>13</td>\n",
       "      <td>13</td>\n",
       "    </tr>\n",
       "    <tr>\n",
       "      <th>0</th>\n",
       "      <td>o3</td>\n",
       "      <td>12</td>\n",
       "      <td>6</td>\n",
       "      <td>167</td>\n",
       "      <td>7</td>\n",
       "      <td>4</td>\n",
       "      <td>[12, 52, 12]</td>\n",
       "      <td>[1, 1, 1]</td>\n",
       "      <td>standard</td>\n",
       "      <td>2</td>\n",
       "      <td>2</td>\n",
       "      <td>21</td>\n",
       "      <td>2</td>\n",
       "      <td>2</td>\n",
       "    </tr>\n",
       "    <tr>\n",
       "      <th>0</th>\n",
       "      <td>no2</td>\n",
       "      <td>12</td>\n",
       "      <td>117</td>\n",
       "      <td>85</td>\n",
       "      <td>7</td>\n",
       "      <td>5</td>\n",
       "      <td>[12, 4, 52]</td>\n",
       "      <td>[1, 2, 3]</td>\n",
       "      <td>minmax</td>\n",
       "      <td>6</td>\n",
       "      <td>6</td>\n",
       "      <td>5</td>\n",
       "      <td>5</td>\n",
       "      <td>5</td>\n",
       "    </tr>\n",
       "    <tr>\n",
       "      <th>0</th>\n",
       "      <td>co</td>\n",
       "      <td>26</td>\n",
       "      <td>83</td>\n",
       "      <td>99</td>\n",
       "      <td>3</td>\n",
       "      <td>3</td>\n",
       "      <td>[12, 1, 1]</td>\n",
       "      <td>[1, 3, 1]</td>\n",
       "      <td>None</td>\n",
       "      <td>4</td>\n",
       "      <td>4</td>\n",
       "      <td>4</td>\n",
       "      <td>6</td>\n",
       "      <td>4</td>\n",
       "    </tr>\n",
       "    <tr>\n",
       "      <th>0</th>\n",
       "      <td>pm10</td>\n",
       "      <td>26</td>\n",
       "      <td>45</td>\n",
       "      <td>140</td>\n",
       "      <td>4</td>\n",
       "      <td>2</td>\n",
       "      <td>[4, 1, 52]</td>\n",
       "      <td>[2, 3, 1]</td>\n",
       "      <td>boxcox</td>\n",
       "      <td>10</td>\n",
       "      <td>10</td>\n",
       "      <td>13</td>\n",
       "      <td>3</td>\n",
       "      <td>8</td>\n",
       "    </tr>\n",
       "    <tr>\n",
       "      <th>0</th>\n",
       "      <td>pm25</td>\n",
       "      <td>26</td>\n",
       "      <td>109</td>\n",
       "      <td>92</td>\n",
       "      <td>3</td>\n",
       "      <td>6</td>\n",
       "      <td>[1, 12, 12]</td>\n",
       "      <td>[1, 2, 3]</td>\n",
       "      <td>None</td>\n",
       "      <td>1</td>\n",
       "      <td>1</td>\n",
       "      <td>12</td>\n",
       "      <td>1</td>\n",
       "      <td>1</td>\n",
       "    </tr>\n",
       "    <tr>\n",
       "      <th>0</th>\n",
       "      <td>o3</td>\n",
       "      <td>26</td>\n",
       "      <td>94</td>\n",
       "      <td>310</td>\n",
       "      <td>3</td>\n",
       "      <td>6</td>\n",
       "      <td>[12, 12, 12]</td>\n",
       "      <td>[1, 1, 2]</td>\n",
       "      <td>boxcox</td>\n",
       "      <td>1</td>\n",
       "      <td>1</td>\n",
       "      <td>1</td>\n",
       "      <td>1</td>\n",
       "      <td>1</td>\n",
       "    </tr>\n",
       "    <tr>\n",
       "      <th>0</th>\n",
       "      <td>no2</td>\n",
       "      <td>26</td>\n",
       "      <td>107</td>\n",
       "      <td>486</td>\n",
       "      <td>3</td>\n",
       "      <td>6</td>\n",
       "      <td>[52, 12, 52]</td>\n",
       "      <td>[3, 2, 3]</td>\n",
       "      <td>standard</td>\n",
       "      <td>14</td>\n",
       "      <td>14</td>\n",
       "      <td>14</td>\n",
       "      <td>14</td>\n",
       "      <td>14</td>\n",
       "    </tr>\n",
       "    <tr>\n",
       "      <th>0</th>\n",
       "      <td>co</td>\n",
       "      <td>52</td>\n",
       "      <td>41</td>\n",
       "      <td>393</td>\n",
       "      <td>3</td>\n",
       "      <td>7</td>\n",
       "      <td>[12, 52, 4]</td>\n",
       "      <td>[3, 1, 1]</td>\n",
       "      <td>None</td>\n",
       "      <td>1</td>\n",
       "      <td>2</td>\n",
       "      <td>5</td>\n",
       "      <td>1</td>\n",
       "      <td>3</td>\n",
       "    </tr>\n",
       "    <tr>\n",
       "      <th>0</th>\n",
       "      <td>pm10</td>\n",
       "      <td>52</td>\n",
       "      <td>89</td>\n",
       "      <td>397</td>\n",
       "      <td>4</td>\n",
       "      <td>5</td>\n",
       "      <td>[1, 12, 12]</td>\n",
       "      <td>[2, 1, 1]</td>\n",
       "      <td>standard</td>\n",
       "      <td>13</td>\n",
       "      <td>10</td>\n",
       "      <td>13</td>\n",
       "      <td>7</td>\n",
       "      <td>13</td>\n",
       "    </tr>\n",
       "    <tr>\n",
       "      <th>0</th>\n",
       "      <td>pm25</td>\n",
       "      <td>52</td>\n",
       "      <td>110</td>\n",
       "      <td>156</td>\n",
       "      <td>6</td>\n",
       "      <td>6</td>\n",
       "      <td>[4, 12, 52]</td>\n",
       "      <td>[1, 3, 1]</td>\n",
       "      <td>standard</td>\n",
       "      <td>13</td>\n",
       "      <td>11</td>\n",
       "      <td>12</td>\n",
       "      <td>13</td>\n",
       "      <td>12</td>\n",
       "    </tr>\n",
       "    <tr>\n",
       "      <th>0</th>\n",
       "      <td>o3</td>\n",
       "      <td>52</td>\n",
       "      <td>28</td>\n",
       "      <td>73</td>\n",
       "      <td>4</td>\n",
       "      <td>1</td>\n",
       "      <td>[52, 1, 12]</td>\n",
       "      <td>[2, 2, 2]</td>\n",
       "      <td>boxcox</td>\n",
       "      <td>15</td>\n",
       "      <td>15</td>\n",
       "      <td>13</td>\n",
       "      <td>15</td>\n",
       "      <td>14</td>\n",
       "    </tr>\n",
       "    <tr>\n",
       "      <th>0</th>\n",
       "      <td>no2</td>\n",
       "      <td>52</td>\n",
       "      <td>81</td>\n",
       "      <td>336</td>\n",
       "      <td>7</td>\n",
       "      <td>7</td>\n",
       "      <td>[52, 4, 1]</td>\n",
       "      <td>[2, 1, 2]</td>\n",
       "      <td>None</td>\n",
       "      <td>10</td>\n",
       "      <td>8</td>\n",
       "      <td>10</td>\n",
       "      <td>11</td>\n",
       "      <td>10</td>\n",
       "    </tr>\n",
       "    <tr>\n",
       "      <th>0</th>\n",
       "      <td>co</td>\n",
       "      <td>78</td>\n",
       "      <td>93</td>\n",
       "      <td>614</td>\n",
       "      <td>6</td>\n",
       "      <td>1</td>\n",
       "      <td>[4, 12, 12]</td>\n",
       "      <td>[1, 2, 3]</td>\n",
       "      <td>standard</td>\n",
       "      <td>17</td>\n",
       "      <td>17</td>\n",
       "      <td>10</td>\n",
       "      <td>11</td>\n",
       "      <td>17</td>\n",
       "    </tr>\n",
       "    <tr>\n",
       "      <th>0</th>\n",
       "      <td>pm10</td>\n",
       "      <td>78</td>\n",
       "      <td>75</td>\n",
       "      <td>685</td>\n",
       "      <td>6</td>\n",
       "      <td>4</td>\n",
       "      <td>[12, 4, 1]</td>\n",
       "      <td>[3, 2, 2]</td>\n",
       "      <td>boxcox</td>\n",
       "      <td>12</td>\n",
       "      <td>12</td>\n",
       "      <td>12</td>\n",
       "      <td>13</td>\n",
       "      <td>12</td>\n",
       "    </tr>\n",
       "    <tr>\n",
       "      <th>0</th>\n",
       "      <td>pm25</td>\n",
       "      <td>78</td>\n",
       "      <td>59</td>\n",
       "      <td>681</td>\n",
       "      <td>3</td>\n",
       "      <td>6</td>\n",
       "      <td>[52, 12, 12]</td>\n",
       "      <td>[2, 3, 2]</td>\n",
       "      <td>minmax</td>\n",
       "      <td>9</td>\n",
       "      <td>9</td>\n",
       "      <td>1</td>\n",
       "      <td>4</td>\n",
       "      <td>1</td>\n",
       "    </tr>\n",
       "    <tr>\n",
       "      <th>0</th>\n",
       "      <td>o3</td>\n",
       "      <td>78</td>\n",
       "      <td>28</td>\n",
       "      <td>546</td>\n",
       "      <td>6</td>\n",
       "      <td>2</td>\n",
       "      <td>[1, 1, 1]</td>\n",
       "      <td>[3, 2, 2]</td>\n",
       "      <td>standard</td>\n",
       "      <td>2</td>\n",
       "      <td>2</td>\n",
       "      <td>3</td>\n",
       "      <td>8</td>\n",
       "      <td>3</td>\n",
       "    </tr>\n",
       "    <tr>\n",
       "      <th>0</th>\n",
       "      <td>no2</td>\n",
       "      <td>78</td>\n",
       "      <td>69</td>\n",
       "      <td>75</td>\n",
       "      <td>7</td>\n",
       "      <td>2</td>\n",
       "      <td>[1, 1, 4]</td>\n",
       "      <td>[3, 2, 3]</td>\n",
       "      <td>boxcox</td>\n",
       "      <td>19</td>\n",
       "      <td>19</td>\n",
       "      <td>13</td>\n",
       "      <td>19</td>\n",
       "      <td>19</td>\n",
       "    </tr>\n",
       "  </tbody>\n",
       "</table>\n",
       "</div>"
      ],
      "text/plain": [
       "  pollutant   h  input_size  max_steps  n_stacks  n_blocks n_freq_downsample  \\\n",
       "0        co  12         109         70         3         3      [52, 12, 52]   \n",
       "0      pm10  12         134        456         3         1       [12, 12, 4]   \n",
       "0      pm25  12         141        166         5         5        [12, 1, 1]   \n",
       "0        o3  12           6        167         7         4      [12, 52, 12]   \n",
       "0       no2  12         117         85         7         5       [12, 4, 52]   \n",
       "0        co  26          83         99         3         3        [12, 1, 1]   \n",
       "0      pm10  26          45        140         4         2        [4, 1, 52]   \n",
       "0      pm25  26         109         92         3         6       [1, 12, 12]   \n",
       "0        o3  26          94        310         3         6      [12, 12, 12]   \n",
       "0       no2  26         107        486         3         6      [52, 12, 52]   \n",
       "0        co  52          41        393         3         7       [12, 52, 4]   \n",
       "0      pm10  52          89        397         4         5       [1, 12, 12]   \n",
       "0      pm25  52         110        156         6         6       [4, 12, 52]   \n",
       "0        o3  52          28         73         4         1       [52, 1, 12]   \n",
       "0       no2  52          81        336         7         7        [52, 4, 1]   \n",
       "0        co  78          93        614         6         1       [4, 12, 12]   \n",
       "0      pm10  78          75        685         6         4        [12, 4, 1]   \n",
       "0      pm25  78          59        681         3         6      [52, 12, 12]   \n",
       "0        o3  78          28        546         6         2         [1, 1, 1]   \n",
       "0       no2  78          69         75         7         2         [1, 1, 4]   \n",
       "\n",
       "  n_pool_kernel_size local_scalar_type  smape  mae  max  mape  mse  \n",
       "0          [3, 1, 1]          standard      7    6    8    10    6  \n",
       "0          [1, 3, 1]            boxcox     11   11   13    11   12  \n",
       "0          [2, 2, 2]            boxcox     11   11   12    13   13  \n",
       "0          [1, 1, 1]          standard      2    2   21     2    2  \n",
       "0          [1, 2, 3]            minmax      6    6    5     5    5  \n",
       "0          [1, 3, 1]              None      4    4    4     6    4  \n",
       "0          [2, 3, 1]            boxcox     10   10   13     3    8  \n",
       "0          [1, 2, 3]              None      1    1   12     1    1  \n",
       "0          [1, 1, 2]            boxcox      1    1    1     1    1  \n",
       "0          [3, 2, 3]          standard     14   14   14    14   14  \n",
       "0          [3, 1, 1]              None      1    2    5     1    3  \n",
       "0          [2, 1, 1]          standard     13   10   13     7   13  \n",
       "0          [1, 3, 1]          standard     13   11   12    13   12  \n",
       "0          [2, 2, 2]            boxcox     15   15   13    15   14  \n",
       "0          [2, 1, 2]              None     10    8   10    11   10  \n",
       "0          [1, 2, 3]          standard     17   17   10    11   17  \n",
       "0          [3, 2, 2]            boxcox     12   12   12    13   12  \n",
       "0          [2, 3, 2]            minmax      9    9    1     4    1  \n",
       "0          [3, 2, 2]          standard      2    2    3     8    3  \n",
       "0          [3, 2, 3]            boxcox     19   19   13    19   19  "
      ]
     },
     "metadata": {},
     "output_type": "display_data"
    }
   ],
   "source": [
    "df_nhits_params = pd.DataFrame()\n",
    "for h in [12, 26, 52, 78]:\n",
    "    for pollutant in ['co','pm10','pm25','o3','no2']:\n",
    "        nhits = joblib.load(fr\"Results\\NHITS\\{pollutant}\\{h}W_Study.pkl\")\n",
    "        nhits = nhits.trials_dataframe().sort_values(by=['values_0','values_1']).reset_index(drop=True)\n",
    "        nhits['pollutant'] = pollutant\n",
    "        nhits['h'] = h\n",
    "        nhits = nhits.loc[[0],['pollutant','h','params_input_size','params_max_steps','params_n_stacks','params_n_blocks','params_n_freq_downsample','params_n_pool_kernel_size','params_local_scalar_type']]\n",
    "        nhits.columns = nhits.columns.str.replace('params_', '', regex=False)\n",
    "\n",
    "        for metric in ['smape','mae','max','mape','mse']:\n",
    "            metrics = pd.read_pickle(rf'C:\\Users\\gustavo.filho\\Documents\\Python\\GitHub\\TCC\\Results\\Stats\\{pollutant}\\{h}W_Df.pkl').reset_index(drop=True)\n",
    "            metrics = metrics.sort_values(by=metric).reset_index(drop=True)\n",
    "            metrics = metrics[metrics['method'] == 'NHITS'].index + 1\n",
    "            nhits[metric] = metrics[0]\n",
    "\n",
    "        df_nhits_params = pd.concat([df_nhits_params, nhits])\n",
    "\n",
    "display(df_nhits_params)"
   ]
  },
  {
   "cell_type": "markdown",
   "metadata": {},
   "source": [
    "### NBEATS"
   ]
  },
  {
   "cell_type": "code",
   "execution_count": 7,
   "metadata": {},
   "outputs": [
    {
     "data": {
      "text/html": [
       "<div>\n",
       "<style scoped>\n",
       "    .dataframe tbody tr th:only-of-type {\n",
       "        vertical-align: middle;\n",
       "    }\n",
       "\n",
       "    .dataframe tbody tr th {\n",
       "        vertical-align: top;\n",
       "    }\n",
       "\n",
       "    .dataframe thead th {\n",
       "        text-align: right;\n",
       "    }\n",
       "</style>\n",
       "<table border=\"1\" class=\"dataframe\">\n",
       "  <thead>\n",
       "    <tr style=\"text-align: right;\">\n",
       "      <th></th>\n",
       "      <th>pollutant</th>\n",
       "      <th>h</th>\n",
       "      <th>input_size</th>\n",
       "      <th>max_steps</th>\n",
       "      <th>n_stacks</th>\n",
       "      <th>n_blocks</th>\n",
       "      <th>interpretability</th>\n",
       "      <th>local_scalar_type</th>\n",
       "      <th>smape</th>\n",
       "      <th>mae</th>\n",
       "      <th>max</th>\n",
       "      <th>mape</th>\n",
       "      <th>mse</th>\n",
       "    </tr>\n",
       "  </thead>\n",
       "  <tbody>\n",
       "    <tr>\n",
       "      <th>0</th>\n",
       "      <td>co</td>\n",
       "      <td>12</td>\n",
       "      <td>66</td>\n",
       "      <td>587</td>\n",
       "      <td>5</td>\n",
       "      <td>3</td>\n",
       "      <td>[identity, trend]</td>\n",
       "      <td>boxcox</td>\n",
       "      <td>5</td>\n",
       "      <td>4</td>\n",
       "      <td>21</td>\n",
       "      <td>1</td>\n",
       "      <td>13</td>\n",
       "    </tr>\n",
       "    <tr>\n",
       "      <th>0</th>\n",
       "      <td>pm10</td>\n",
       "      <td>12</td>\n",
       "      <td>40</td>\n",
       "      <td>88</td>\n",
       "      <td>5</td>\n",
       "      <td>5</td>\n",
       "      <td>[seasonality, seasonality]</td>\n",
       "      <td>boxcox</td>\n",
       "      <td>14</td>\n",
       "      <td>14</td>\n",
       "      <td>12</td>\n",
       "      <td>13</td>\n",
       "      <td>13</td>\n",
       "    </tr>\n",
       "    <tr>\n",
       "      <th>0</th>\n",
       "      <td>pm25</td>\n",
       "      <td>12</td>\n",
       "      <td>81</td>\n",
       "      <td>614</td>\n",
       "      <td>2</td>\n",
       "      <td>1</td>\n",
       "      <td>[seasonality, trend]</td>\n",
       "      <td>boxcox</td>\n",
       "      <td>21</td>\n",
       "      <td>21</td>\n",
       "      <td>19</td>\n",
       "      <td>21</td>\n",
       "      <td>21</td>\n",
       "    </tr>\n",
       "    <tr>\n",
       "      <th>0</th>\n",
       "      <td>o3</td>\n",
       "      <td>12</td>\n",
       "      <td>12</td>\n",
       "      <td>586</td>\n",
       "      <td>7</td>\n",
       "      <td>4</td>\n",
       "      <td>[identity, identity]</td>\n",
       "      <td>None</td>\n",
       "      <td>1</td>\n",
       "      <td>1</td>\n",
       "      <td>1</td>\n",
       "      <td>1</td>\n",
       "      <td>1</td>\n",
       "    </tr>\n",
       "    <tr>\n",
       "      <th>0</th>\n",
       "      <td>no2</td>\n",
       "      <td>12</td>\n",
       "      <td>144</td>\n",
       "      <td>290</td>\n",
       "      <td>4</td>\n",
       "      <td>2</td>\n",
       "      <td>[trend, seasonality]</td>\n",
       "      <td>minmax</td>\n",
       "      <td>1</td>\n",
       "      <td>1</td>\n",
       "      <td>21</td>\n",
       "      <td>6</td>\n",
       "      <td>8</td>\n",
       "    </tr>\n",
       "    <tr>\n",
       "      <th>0</th>\n",
       "      <td>co</td>\n",
       "      <td>26</td>\n",
       "      <td>42</td>\n",
       "      <td>198</td>\n",
       "      <td>7</td>\n",
       "      <td>3</td>\n",
       "      <td>[trend, identity]</td>\n",
       "      <td>boxcox</td>\n",
       "      <td>14</td>\n",
       "      <td>12</td>\n",
       "      <td>19</td>\n",
       "      <td>7</td>\n",
       "      <td>15</td>\n",
       "    </tr>\n",
       "    <tr>\n",
       "      <th>0</th>\n",
       "      <td>pm10</td>\n",
       "      <td>26</td>\n",
       "      <td>50</td>\n",
       "      <td>456</td>\n",
       "      <td>2</td>\n",
       "      <td>2</td>\n",
       "      <td>[seasonality, trend]</td>\n",
       "      <td>boxcox</td>\n",
       "      <td>13</td>\n",
       "      <td>13</td>\n",
       "      <td>15</td>\n",
       "      <td>13</td>\n",
       "      <td>14</td>\n",
       "    </tr>\n",
       "    <tr>\n",
       "      <th>0</th>\n",
       "      <td>pm25</td>\n",
       "      <td>26</td>\n",
       "      <td>62</td>\n",
       "      <td>155</td>\n",
       "      <td>2</td>\n",
       "      <td>1</td>\n",
       "      <td>[trend, identity]</td>\n",
       "      <td>None</td>\n",
       "      <td>2</td>\n",
       "      <td>2</td>\n",
       "      <td>14</td>\n",
       "      <td>2</td>\n",
       "      <td>3</td>\n",
       "    </tr>\n",
       "    <tr>\n",
       "      <th>0</th>\n",
       "      <td>o3</td>\n",
       "      <td>26</td>\n",
       "      <td>32</td>\n",
       "      <td>97</td>\n",
       "      <td>2</td>\n",
       "      <td>3</td>\n",
       "      <td>[trend, trend]</td>\n",
       "      <td>None</td>\n",
       "      <td>3</td>\n",
       "      <td>3</td>\n",
       "      <td>3</td>\n",
       "      <td>9</td>\n",
       "      <td>3</td>\n",
       "    </tr>\n",
       "    <tr>\n",
       "      <th>0</th>\n",
       "      <td>no2</td>\n",
       "      <td>26</td>\n",
       "      <td>114</td>\n",
       "      <td>39</td>\n",
       "      <td>3</td>\n",
       "      <td>5</td>\n",
       "      <td>[identity, identity]</td>\n",
       "      <td>minmax</td>\n",
       "      <td>1</td>\n",
       "      <td>1</td>\n",
       "      <td>2</td>\n",
       "      <td>1</td>\n",
       "      <td>1</td>\n",
       "    </tr>\n",
       "    <tr>\n",
       "      <th>0</th>\n",
       "      <td>co</td>\n",
       "      <td>52</td>\n",
       "      <td>135</td>\n",
       "      <td>605</td>\n",
       "      <td>2</td>\n",
       "      <td>5</td>\n",
       "      <td>[identity, seasonality]</td>\n",
       "      <td>boxcox</td>\n",
       "      <td>2</td>\n",
       "      <td>1</td>\n",
       "      <td>1</td>\n",
       "      <td>13</td>\n",
       "      <td>1</td>\n",
       "    </tr>\n",
       "    <tr>\n",
       "      <th>0</th>\n",
       "      <td>pm10</td>\n",
       "      <td>52</td>\n",
       "      <td>127</td>\n",
       "      <td>134</td>\n",
       "      <td>5</td>\n",
       "      <td>4</td>\n",
       "      <td>[identity, seasonality]</td>\n",
       "      <td>standard</td>\n",
       "      <td>10</td>\n",
       "      <td>7</td>\n",
       "      <td>12</td>\n",
       "      <td>8</td>\n",
       "      <td>8</td>\n",
       "    </tr>\n",
       "    <tr>\n",
       "      <th>0</th>\n",
       "      <td>pm25</td>\n",
       "      <td>52</td>\n",
       "      <td>116</td>\n",
       "      <td>398</td>\n",
       "      <td>6</td>\n",
       "      <td>4</td>\n",
       "      <td>[identity, identity]</td>\n",
       "      <td>None</td>\n",
       "      <td>9</td>\n",
       "      <td>6</td>\n",
       "      <td>13</td>\n",
       "      <td>6</td>\n",
       "      <td>13</td>\n",
       "    </tr>\n",
       "    <tr>\n",
       "      <th>0</th>\n",
       "      <td>o3</td>\n",
       "      <td>52</td>\n",
       "      <td>24</td>\n",
       "      <td>38</td>\n",
       "      <td>2</td>\n",
       "      <td>2</td>\n",
       "      <td>[trend, identity]</td>\n",
       "      <td>minmax</td>\n",
       "      <td>5</td>\n",
       "      <td>5</td>\n",
       "      <td>2</td>\n",
       "      <td>5</td>\n",
       "      <td>1</td>\n",
       "    </tr>\n",
       "    <tr>\n",
       "      <th>0</th>\n",
       "      <td>no2</td>\n",
       "      <td>52</td>\n",
       "      <td>85</td>\n",
       "      <td>255</td>\n",
       "      <td>3</td>\n",
       "      <td>2</td>\n",
       "      <td>[trend, trend]</td>\n",
       "      <td>boxcox</td>\n",
       "      <td>14</td>\n",
       "      <td>12</td>\n",
       "      <td>7</td>\n",
       "      <td>14</td>\n",
       "      <td>12</td>\n",
       "    </tr>\n",
       "    <tr>\n",
       "      <th>0</th>\n",
       "      <td>co</td>\n",
       "      <td>78</td>\n",
       "      <td>104</td>\n",
       "      <td>15</td>\n",
       "      <td>3</td>\n",
       "      <td>5</td>\n",
       "      <td>[trend, identity]</td>\n",
       "      <td>standard</td>\n",
       "      <td>21</td>\n",
       "      <td>19</td>\n",
       "      <td>15</td>\n",
       "      <td>18</td>\n",
       "      <td>18</td>\n",
       "    </tr>\n",
       "    <tr>\n",
       "      <th>0</th>\n",
       "      <td>pm10</td>\n",
       "      <td>78</td>\n",
       "      <td>51</td>\n",
       "      <td>380</td>\n",
       "      <td>7</td>\n",
       "      <td>3</td>\n",
       "      <td>[trend, trend]</td>\n",
       "      <td>minmax</td>\n",
       "      <td>13</td>\n",
       "      <td>13</td>\n",
       "      <td>19</td>\n",
       "      <td>14</td>\n",
       "      <td>13</td>\n",
       "    </tr>\n",
       "    <tr>\n",
       "      <th>0</th>\n",
       "      <td>pm25</td>\n",
       "      <td>78</td>\n",
       "      <td>53</td>\n",
       "      <td>689</td>\n",
       "      <td>2</td>\n",
       "      <td>4</td>\n",
       "      <td>[identity, seasonality]</td>\n",
       "      <td>boxcox</td>\n",
       "      <td>10</td>\n",
       "      <td>10</td>\n",
       "      <td>7</td>\n",
       "      <td>12</td>\n",
       "      <td>10</td>\n",
       "    </tr>\n",
       "    <tr>\n",
       "      <th>0</th>\n",
       "      <td>o3</td>\n",
       "      <td>78</td>\n",
       "      <td>4</td>\n",
       "      <td>95</td>\n",
       "      <td>3</td>\n",
       "      <td>2</td>\n",
       "      <td>[trend, trend]</td>\n",
       "      <td>minmax</td>\n",
       "      <td>1</td>\n",
       "      <td>1</td>\n",
       "      <td>1</td>\n",
       "      <td>7</td>\n",
       "      <td>1</td>\n",
       "    </tr>\n",
       "    <tr>\n",
       "      <th>0</th>\n",
       "      <td>no2</td>\n",
       "      <td>78</td>\n",
       "      <td>114</td>\n",
       "      <td>539</td>\n",
       "      <td>4</td>\n",
       "      <td>5</td>\n",
       "      <td>[trend, identity]</td>\n",
       "      <td>minmax</td>\n",
       "      <td>16</td>\n",
       "      <td>18</td>\n",
       "      <td>15</td>\n",
       "      <td>18</td>\n",
       "      <td>16</td>\n",
       "    </tr>\n",
       "  </tbody>\n",
       "</table>\n",
       "</div>"
      ],
      "text/plain": [
       "  pollutant   h  input_size  max_steps  n_stacks  n_blocks  \\\n",
       "0        co  12          66        587         5         3   \n",
       "0      pm10  12          40         88         5         5   \n",
       "0      pm25  12          81        614         2         1   \n",
       "0        o3  12          12        586         7         4   \n",
       "0       no2  12         144        290         4         2   \n",
       "0        co  26          42        198         7         3   \n",
       "0      pm10  26          50        456         2         2   \n",
       "0      pm25  26          62        155         2         1   \n",
       "0        o3  26          32         97         2         3   \n",
       "0       no2  26         114         39         3         5   \n",
       "0        co  52         135        605         2         5   \n",
       "0      pm10  52         127        134         5         4   \n",
       "0      pm25  52         116        398         6         4   \n",
       "0        o3  52          24         38         2         2   \n",
       "0       no2  52          85        255         3         2   \n",
       "0        co  78         104         15         3         5   \n",
       "0      pm10  78          51        380         7         3   \n",
       "0      pm25  78          53        689         2         4   \n",
       "0        o3  78           4         95         3         2   \n",
       "0       no2  78         114        539         4         5   \n",
       "\n",
       "             interpretability local_scalar_type  smape  mae  max  mape  mse  \n",
       "0           [identity, trend]            boxcox      5    4   21     1   13  \n",
       "0  [seasonality, seasonality]            boxcox     14   14   12    13   13  \n",
       "0        [seasonality, trend]            boxcox     21   21   19    21   21  \n",
       "0        [identity, identity]              None      1    1    1     1    1  \n",
       "0        [trend, seasonality]            minmax      1    1   21     6    8  \n",
       "0           [trend, identity]            boxcox     14   12   19     7   15  \n",
       "0        [seasonality, trend]            boxcox     13   13   15    13   14  \n",
       "0           [trend, identity]              None      2    2   14     2    3  \n",
       "0              [trend, trend]              None      3    3    3     9    3  \n",
       "0        [identity, identity]            minmax      1    1    2     1    1  \n",
       "0     [identity, seasonality]            boxcox      2    1    1    13    1  \n",
       "0     [identity, seasonality]          standard     10    7   12     8    8  \n",
       "0        [identity, identity]              None      9    6   13     6   13  \n",
       "0           [trend, identity]            minmax      5    5    2     5    1  \n",
       "0              [trend, trend]            boxcox     14   12    7    14   12  \n",
       "0           [trend, identity]          standard     21   19   15    18   18  \n",
       "0              [trend, trend]            minmax     13   13   19    14   13  \n",
       "0     [identity, seasonality]            boxcox     10   10    7    12   10  \n",
       "0              [trend, trend]            minmax      1    1    1     7    1  \n",
       "0           [trend, identity]            minmax     16   18   15    18   16  "
      ]
     },
     "metadata": {},
     "output_type": "display_data"
    }
   ],
   "source": [
    "df_nbeats_params = pd.DataFrame()\n",
    "for h in [12, 26, 52, 78]:\n",
    "    for pollutant in ['co','pm10','pm25','o3','no2']:\n",
    "        nbeats = joblib.load(fr\"Results\\NBEATS\\{pollutant}\\{h}W_Study.pkl\")\n",
    "        nbeats = nbeats.trials_dataframe().sort_values(by=['values_0','values_1']).reset_index(drop=True)\n",
    "        nbeats['pollutant'] = pollutant\n",
    "        nbeats['h'] = h\n",
    "        nbeats = nbeats.loc[[0],['pollutant','h','params_input_size','params_max_steps','params_n_stacks','params_n_blocks','params_interpretability','params_local_scalar_type']]\n",
    "        nbeats.columns = nbeats.columns.str.replace('params_', '', regex=False)\n",
    "\n",
    "        for metric in ['smape','mae','max','mape','mse']:\n",
    "            metrics = pd.read_pickle(rf'C:\\Users\\gustavo.filho\\Documents\\Python\\GitHub\\TCC\\Results\\Stats\\{pollutant}\\{h}W_Df.pkl').reset_index(drop=True)\n",
    "            metrics = metrics.sort_values(by=metric).reset_index(drop=True)\n",
    "            metrics = metrics[metrics['method'] == 'NBEATS'].index + 1\n",
    "            nbeats[metric] = metrics[0]\n",
    "\n",
    "        df_nbeats_params = pd.concat([df_nbeats_params, nbeats])\n",
    "\n",
    "display(df_nbeats_params)"
   ]
  },
  {
   "cell_type": "code",
   "execution_count": 8,
   "metadata": {},
   "outputs": [],
   "source": [
    "# metrics = pd.read_pickle(rf'C:\\Users\\gustavo.filho\\Documents\\Python\\GitHub\\TCC\\Results\\Stats\\co\\12W_Df.pkl').reset_index(drop=True)\n",
    "# metrics = metrics.sort_values(by='mse').reset_index(drop=True)\n",
    "# metrics"
   ]
  },
  {
   "cell_type": "markdown",
   "metadata": {},
   "source": [
    "# **Visualizations**"
   ]
  },
  {
   "cell_type": "code",
   "execution_count": 168,
   "metadata": {},
   "outputs": [],
   "source": [
    "# from statsforecast import StatsForecast\n",
    "# from statsforecast.models import AutoARIMA, AutoCES, AutoETS, AutoTheta\n",
    "\n",
    "# results_stats = []\n",
    "# # for pollutant in ['co','pm10','pm25','o3','no2']:\n",
    "# for pollutant in ['pm25']:\n",
    "#     for h in [12, 26, 52, 78]:\n",
    "\n",
    "#         obj = TimeObject(data, pollutant, agg_freq='W')\n",
    "#         obj.NIXTLA_train_test(split=h)\n",
    "\n",
    "#         # ======================================================================================================\n",
    "\n",
    "#         nbeats = joblib.load(fr\"Results\\NBEATS\\{pollutant}\\{h}W_Study.pkl\")\n",
    "#         model = NBEATS(\n",
    "#             h=h,\n",
    "#             input_size=nbeats.best_trials[0].params.get('input_size'),\n",
    "#             stack_types=nbeats.best_trials[0].params.get('interpretability')+(nbeats.best_trials[0].params.get('n_stacks')-len(nbeats.best_trials[0].params.get('interpretability')))*['identity'],\n",
    "#             n_blocks=nbeats.best_trials[0].params.get('n_stacks') * [nbeats.best_trials[0].params.get('n_blocks')],\n",
    "#             max_steps=nbeats.best_trials[0].params.get('max_steps'),\n",
    "#             learning_rate=1e-3,\n",
    "#             val_check_steps=10,\n",
    "#         )\n",
    "#         fcst = NeuralForecast(\n",
    "#             models=[model],\n",
    "#             freq='W',\n",
    "#             local_scaler_type=nbeats.best_trials[0].params.get('local_scalar_type')\n",
    "#         )\n",
    "#         fcst.fit(df=obj.Y_train, verbose=False)\n",
    "#         predicted = fcst.predict(df=obj.Y_train, verbose=False)\n",
    "#         obj.plot_forecast(predicted, method='NBEATS')\n",
    "\n",
    "#         # ======================================================================================================\n",
    "        \n",
    "#         nhits = joblib.load(fr\"Results\\NHITS\\{pollutant}\\{h}W_Study.pkl\")\n",
    "#         model = NHITS(\n",
    "#             h=h,\n",
    "#             input_size=nhits.best_trials[0].params.get('input_size'),\n",
    "#             stack_types=nhits.best_trials[0].params.get('n_stacks')*['identity'],\n",
    "#             n_freq_downsample=nhits.best_trials[0].params.get('n_freq_downsample')+(nhits.best_trials[0].params.get('n_stacks')-len(nhits.best_trials[0].params.get('n_freq_downsample')))*[1],\n",
    "#             n_blocks=nhits.best_trials[0].params.get('n_stacks')*[nhits.best_trials[0].params.get('n_blocks')],\n",
    "#             n_pool_kernel_size=(nhits.best_trials[0].params.get('n_stacks')-len(nhits.best_trials[0].params.get('n_pool_kernel_size')))*[1]+nhits.best_trials[0].params.get('n_pool_kernel_size'),\n",
    "#             pooling_mode=\"MaxPool1d\",\n",
    "#             activation=\"ReLU\",\n",
    "#             interpolation_mode='linear',\n",
    "#             max_steps=nhits.best_trials[0].params.get('max_steps'),\n",
    "#             val_check_steps=10,\n",
    "#         )\n",
    "#         fcst = NeuralForecast(\n",
    "#             models=[model],\n",
    "#             freq='W',\n",
    "#             local_scaler_type=nhits.best_trials[0].params.get('local_scalar_type')\n",
    "#         )\n",
    "#         fcst.fit(df=obj.Y_train, verbose=False)\n",
    "#         predicted = fcst.predict(df=obj.Y_train, verbose=False)\n",
    "#         obj.metrics_(predicted, method='NHITS')\n",
    "#         obj.plot_forecast(predicted)"
   ]
  },
  {
   "cell_type": "code",
   "execution_count": 171,
   "metadata": {},
   "outputs": [
    {
     "data": {
      "application/vnd.plotly.v1+json": {
       "config": {
        "plotlyServerURL": "https://plot.ly"
       },
       "data": [
        {
         "hovertemplate": "x: %{x}<br>y: %{y}",
         "marker": {
          "color": "#000000"
         },
         "name": "12",
         "orientation": "h",
         "type": "bar",
         "x": [
          0.013619675691044855,
          0.017287556493920102,
          0.04831516174543708,
          0.07532334333123394,
          0.11790963776284949,
          0.7275446249755145
         ],
         "y": [
          "stacks",
          "blocks",
          "epochs",
          "interpretability",
          "scalar",
          "input"
         ]
        },
        {
         "hovertemplate": "x: %{x}<br>y: %{y}",
         "marker": {
          "color": "#404040"
         },
         "name": "26",
         "orientation": "h",
         "type": "bar",
         "x": [
          0.01385941611566087,
          0.016900775261414872,
          0.05912381185037241,
          0.07246505302070463,
          0.15541760961955212,
          0.682233334132295
         ],
         "y": [
          "stacks",
          "blocks",
          "epochs",
          "interpretability",
          "scalar",
          "input"
         ]
        },
        {
         "hovertemplate": "x: %{x}<br>y: %{y}",
         "marker": {
          "color": "#808080"
         },
         "name": "52",
         "orientation": "h",
         "type": "bar",
         "x": [
          0.015068969286582856,
          0.016782831457392573,
          0.0559306579901314,
          0.06466315405963273,
          0.11920344584237048,
          0.72835094136389
         ],
         "y": [
          "stacks",
          "blocks",
          "epochs",
          "interpretability",
          "scalar",
          "input"
         ]
        },
        {
         "hovertemplate": "x: %{x}<br>y: %{y}",
         "marker": {
          "color": "#BFBFBF"
         },
         "name": "78",
         "orientation": "h",
         "type": "bar",
         "x": [
          0.023305187674899915,
          0.017308611560735526,
          0.05229761721413813,
          0.11546833894219258,
          0.096166550759764,
          0.6954536938482698
         ],
         "y": [
          "stacks",
          "blocks",
          "epochs",
          "interpretability",
          "scalar",
          "input"
         ]
        }
       ],
       "layout": {
        "height": 500,
        "paper_bgcolor": "white",
        "plot_bgcolor": "white",
        "template": {
         "data": {
          "bar": [
           {
            "error_x": {
             "color": "#2a3f5f"
            },
            "error_y": {
             "color": "#2a3f5f"
            },
            "marker": {
             "line": {
              "color": "#E5ECF6",
              "width": 0.5
             },
             "pattern": {
              "fillmode": "overlay",
              "size": 10,
              "solidity": 0.2
             }
            },
            "type": "bar"
           }
          ],
          "barpolar": [
           {
            "marker": {
             "line": {
              "color": "#E5ECF6",
              "width": 0.5
             },
             "pattern": {
              "fillmode": "overlay",
              "size": 10,
              "solidity": 0.2
             }
            },
            "type": "barpolar"
           }
          ],
          "carpet": [
           {
            "aaxis": {
             "endlinecolor": "#2a3f5f",
             "gridcolor": "white",
             "linecolor": "white",
             "minorgridcolor": "white",
             "startlinecolor": "#2a3f5f"
            },
            "baxis": {
             "endlinecolor": "#2a3f5f",
             "gridcolor": "white",
             "linecolor": "white",
             "minorgridcolor": "white",
             "startlinecolor": "#2a3f5f"
            },
            "type": "carpet"
           }
          ],
          "choropleth": [
           {
            "colorbar": {
             "outlinewidth": 0,
             "ticks": ""
            },
            "type": "choropleth"
           }
          ],
          "contour": [
           {
            "colorbar": {
             "outlinewidth": 0,
             "ticks": ""
            },
            "colorscale": [
             [
              0,
              "#0d0887"
             ],
             [
              0.1111111111111111,
              "#46039f"
             ],
             [
              0.2222222222222222,
              "#7201a8"
             ],
             [
              0.3333333333333333,
              "#9c179e"
             ],
             [
              0.4444444444444444,
              "#bd3786"
             ],
             [
              0.5555555555555556,
              "#d8576b"
             ],
             [
              0.6666666666666666,
              "#ed7953"
             ],
             [
              0.7777777777777778,
              "#fb9f3a"
             ],
             [
              0.8888888888888888,
              "#fdca26"
             ],
             [
              1,
              "#f0f921"
             ]
            ],
            "type": "contour"
           }
          ],
          "contourcarpet": [
           {
            "colorbar": {
             "outlinewidth": 0,
             "ticks": ""
            },
            "type": "contourcarpet"
           }
          ],
          "heatmap": [
           {
            "colorbar": {
             "outlinewidth": 0,
             "ticks": ""
            },
            "colorscale": [
             [
              0,
              "#0d0887"
             ],
             [
              0.1111111111111111,
              "#46039f"
             ],
             [
              0.2222222222222222,
              "#7201a8"
             ],
             [
              0.3333333333333333,
              "#9c179e"
             ],
             [
              0.4444444444444444,
              "#bd3786"
             ],
             [
              0.5555555555555556,
              "#d8576b"
             ],
             [
              0.6666666666666666,
              "#ed7953"
             ],
             [
              0.7777777777777778,
              "#fb9f3a"
             ],
             [
              0.8888888888888888,
              "#fdca26"
             ],
             [
              1,
              "#f0f921"
             ]
            ],
            "type": "heatmap"
           }
          ],
          "heatmapgl": [
           {
            "colorbar": {
             "outlinewidth": 0,
             "ticks": ""
            },
            "colorscale": [
             [
              0,
              "#0d0887"
             ],
             [
              0.1111111111111111,
              "#46039f"
             ],
             [
              0.2222222222222222,
              "#7201a8"
             ],
             [
              0.3333333333333333,
              "#9c179e"
             ],
             [
              0.4444444444444444,
              "#bd3786"
             ],
             [
              0.5555555555555556,
              "#d8576b"
             ],
             [
              0.6666666666666666,
              "#ed7953"
             ],
             [
              0.7777777777777778,
              "#fb9f3a"
             ],
             [
              0.8888888888888888,
              "#fdca26"
             ],
             [
              1,
              "#f0f921"
             ]
            ],
            "type": "heatmapgl"
           }
          ],
          "histogram": [
           {
            "marker": {
             "pattern": {
              "fillmode": "overlay",
              "size": 10,
              "solidity": 0.2
             }
            },
            "type": "histogram"
           }
          ],
          "histogram2d": [
           {
            "colorbar": {
             "outlinewidth": 0,
             "ticks": ""
            },
            "colorscale": [
             [
              0,
              "#0d0887"
             ],
             [
              0.1111111111111111,
              "#46039f"
             ],
             [
              0.2222222222222222,
              "#7201a8"
             ],
             [
              0.3333333333333333,
              "#9c179e"
             ],
             [
              0.4444444444444444,
              "#bd3786"
             ],
             [
              0.5555555555555556,
              "#d8576b"
             ],
             [
              0.6666666666666666,
              "#ed7953"
             ],
             [
              0.7777777777777778,
              "#fb9f3a"
             ],
             [
              0.8888888888888888,
              "#fdca26"
             ],
             [
              1,
              "#f0f921"
             ]
            ],
            "type": "histogram2d"
           }
          ],
          "histogram2dcontour": [
           {
            "colorbar": {
             "outlinewidth": 0,
             "ticks": ""
            },
            "colorscale": [
             [
              0,
              "#0d0887"
             ],
             [
              0.1111111111111111,
              "#46039f"
             ],
             [
              0.2222222222222222,
              "#7201a8"
             ],
             [
              0.3333333333333333,
              "#9c179e"
             ],
             [
              0.4444444444444444,
              "#bd3786"
             ],
             [
              0.5555555555555556,
              "#d8576b"
             ],
             [
              0.6666666666666666,
              "#ed7953"
             ],
             [
              0.7777777777777778,
              "#fb9f3a"
             ],
             [
              0.8888888888888888,
              "#fdca26"
             ],
             [
              1,
              "#f0f921"
             ]
            ],
            "type": "histogram2dcontour"
           }
          ],
          "mesh3d": [
           {
            "colorbar": {
             "outlinewidth": 0,
             "ticks": ""
            },
            "type": "mesh3d"
           }
          ],
          "parcoords": [
           {
            "line": {
             "colorbar": {
              "outlinewidth": 0,
              "ticks": ""
             }
            },
            "type": "parcoords"
           }
          ],
          "pie": [
           {
            "automargin": true,
            "type": "pie"
           }
          ],
          "scatter": [
           {
            "fillpattern": {
             "fillmode": "overlay",
             "size": 10,
             "solidity": 0.2
            },
            "type": "scatter"
           }
          ],
          "scatter3d": [
           {
            "line": {
             "colorbar": {
              "outlinewidth": 0,
              "ticks": ""
             }
            },
            "marker": {
             "colorbar": {
              "outlinewidth": 0,
              "ticks": ""
             }
            },
            "type": "scatter3d"
           }
          ],
          "scattercarpet": [
           {
            "marker": {
             "colorbar": {
              "outlinewidth": 0,
              "ticks": ""
             }
            },
            "type": "scattercarpet"
           }
          ],
          "scattergeo": [
           {
            "marker": {
             "colorbar": {
              "outlinewidth": 0,
              "ticks": ""
             }
            },
            "type": "scattergeo"
           }
          ],
          "scattergl": [
           {
            "marker": {
             "colorbar": {
              "outlinewidth": 0,
              "ticks": ""
             }
            },
            "type": "scattergl"
           }
          ],
          "scattermapbox": [
           {
            "marker": {
             "colorbar": {
              "outlinewidth": 0,
              "ticks": ""
             }
            },
            "type": "scattermapbox"
           }
          ],
          "scatterpolar": [
           {
            "marker": {
             "colorbar": {
              "outlinewidth": 0,
              "ticks": ""
             }
            },
            "type": "scatterpolar"
           }
          ],
          "scatterpolargl": [
           {
            "marker": {
             "colorbar": {
              "outlinewidth": 0,
              "ticks": ""
             }
            },
            "type": "scatterpolargl"
           }
          ],
          "scatterternary": [
           {
            "marker": {
             "colorbar": {
              "outlinewidth": 0,
              "ticks": ""
             }
            },
            "type": "scatterternary"
           }
          ],
          "surface": [
           {
            "colorbar": {
             "outlinewidth": 0,
             "ticks": ""
            },
            "colorscale": [
             [
              0,
              "#0d0887"
             ],
             [
              0.1111111111111111,
              "#46039f"
             ],
             [
              0.2222222222222222,
              "#7201a8"
             ],
             [
              0.3333333333333333,
              "#9c179e"
             ],
             [
              0.4444444444444444,
              "#bd3786"
             ],
             [
              0.5555555555555556,
              "#d8576b"
             ],
             [
              0.6666666666666666,
              "#ed7953"
             ],
             [
              0.7777777777777778,
              "#fb9f3a"
             ],
             [
              0.8888888888888888,
              "#fdca26"
             ],
             [
              1,
              "#f0f921"
             ]
            ],
            "type": "surface"
           }
          ],
          "table": [
           {
            "cells": {
             "fill": {
              "color": "#EBF0F8"
             },
             "line": {
              "color": "white"
             }
            },
            "header": {
             "fill": {
              "color": "#C8D4E3"
             },
             "line": {
              "color": "white"
             }
            },
            "type": "table"
           }
          ]
         },
         "layout": {
          "annotationdefaults": {
           "arrowcolor": "#2a3f5f",
           "arrowhead": 0,
           "arrowwidth": 1
          },
          "autotypenumbers": "strict",
          "coloraxis": {
           "colorbar": {
            "outlinewidth": 0,
            "ticks": ""
           }
          },
          "colorscale": {
           "diverging": [
            [
             0,
             "#8e0152"
            ],
            [
             0.1,
             "#c51b7d"
            ],
            [
             0.2,
             "#de77ae"
            ],
            [
             0.3,
             "#f1b6da"
            ],
            [
             0.4,
             "#fde0ef"
            ],
            [
             0.5,
             "#f7f7f7"
            ],
            [
             0.6,
             "#e6f5d0"
            ],
            [
             0.7,
             "#b8e186"
            ],
            [
             0.8,
             "#7fbc41"
            ],
            [
             0.9,
             "#4d9221"
            ],
            [
             1,
             "#276419"
            ]
           ],
           "sequential": [
            [
             0,
             "#0d0887"
            ],
            [
             0.1111111111111111,
             "#46039f"
            ],
            [
             0.2222222222222222,
             "#7201a8"
            ],
            [
             0.3333333333333333,
             "#9c179e"
            ],
            [
             0.4444444444444444,
             "#bd3786"
            ],
            [
             0.5555555555555556,
             "#d8576b"
            ],
            [
             0.6666666666666666,
             "#ed7953"
            ],
            [
             0.7777777777777778,
             "#fb9f3a"
            ],
            [
             0.8888888888888888,
             "#fdca26"
            ],
            [
             1,
             "#f0f921"
            ]
           ],
           "sequentialminus": [
            [
             0,
             "#0d0887"
            ],
            [
             0.1111111111111111,
             "#46039f"
            ],
            [
             0.2222222222222222,
             "#7201a8"
            ],
            [
             0.3333333333333333,
             "#9c179e"
            ],
            [
             0.4444444444444444,
             "#bd3786"
            ],
            [
             0.5555555555555556,
             "#d8576b"
            ],
            [
             0.6666666666666666,
             "#ed7953"
            ],
            [
             0.7777777777777778,
             "#fb9f3a"
            ],
            [
             0.8888888888888888,
             "#fdca26"
            ],
            [
             1,
             "#f0f921"
            ]
           ]
          },
          "colorway": [
           "#636efa",
           "#EF553B",
           "#00cc96",
           "#ab63fa",
           "#FFA15A",
           "#19d3f3",
           "#FF6692",
           "#B6E880",
           "#FF97FF",
           "#FECB52"
          ],
          "font": {
           "color": "#2a3f5f"
          },
          "geo": {
           "bgcolor": "white",
           "lakecolor": "white",
           "landcolor": "#E5ECF6",
           "showlakes": true,
           "showland": true,
           "subunitcolor": "white"
          },
          "hoverlabel": {
           "align": "left"
          },
          "hovermode": "closest",
          "mapbox": {
           "style": "light"
          },
          "paper_bgcolor": "white",
          "plot_bgcolor": "#E5ECF6",
          "polar": {
           "angularaxis": {
            "gridcolor": "white",
            "linecolor": "white",
            "ticks": ""
           },
           "bgcolor": "#E5ECF6",
           "radialaxis": {
            "gridcolor": "white",
            "linecolor": "white",
            "ticks": ""
           }
          },
          "scene": {
           "xaxis": {
            "backgroundcolor": "#E5ECF6",
            "gridcolor": "white",
            "gridwidth": 2,
            "linecolor": "white",
            "showbackground": true,
            "ticks": "",
            "zerolinecolor": "white"
           },
           "yaxis": {
            "backgroundcolor": "#E5ECF6",
            "gridcolor": "white",
            "gridwidth": 2,
            "linecolor": "white",
            "showbackground": true,
            "ticks": "",
            "zerolinecolor": "white"
           },
           "zaxis": {
            "backgroundcolor": "#E5ECF6",
            "gridcolor": "white",
            "gridwidth": 2,
            "linecolor": "white",
            "showbackground": true,
            "ticks": "",
            "zerolinecolor": "white"
           }
          },
          "shapedefaults": {
           "line": {
            "color": "#2a3f5f"
           }
          },
          "ternary": {
           "aaxis": {
            "gridcolor": "white",
            "linecolor": "white",
            "ticks": ""
           },
           "baxis": {
            "gridcolor": "white",
            "linecolor": "white",
            "ticks": ""
           },
           "bgcolor": "#E5ECF6",
           "caxis": {
            "gridcolor": "white",
            "linecolor": "white",
            "ticks": ""
           }
          },
          "title": {
           "x": 0.05
          },
          "xaxis": {
           "automargin": true,
           "gridcolor": "white",
           "linecolor": "white",
           "ticks": "",
           "title": {
            "standoff": 15
           },
           "zerolinecolor": "white",
           "zerolinewidth": 2
          },
          "yaxis": {
           "automargin": true,
           "gridcolor": "white",
           "linecolor": "white",
           "ticks": "",
           "title": {
            "standoff": 15
           },
           "zerolinecolor": "white",
           "zerolinewidth": 2
          }
         }
        },
        "title": {
         "text": "N-BEATS | SMAPE"
        },
        "width": 600,
        "xaxis": {
         "gridcolor": "#cccccc",
         "linecolor": "black",
         "title": {
          "text": "Params Importance"
         }
        },
        "yaxis": {
         "gridcolor": "#cccccc",
         "linecolor": "black"
        }
       }
      }
     },
     "metadata": {},
     "output_type": "display_data"
    }
   ],
   "source": [
    "def plot_hyperparams_importance(metric='smape', nhits=True, type='poll'):\n",
    "\n",
    "    if nhits:\n",
    "        model = 'N-HiTS'\n",
    "        params_importance = joblib.load(r'Results\\Params Importance\\Params_Importance_NHITS')\n",
    "    else:\n",
    "        model = 'N-BEATS'\n",
    "        params_importance = joblib.load(r'Results\\Params Importance\\Params_Importance_NBEATS')\n",
    "\n",
    "    hyperparams_sum = {}\n",
    "    hyperparams_count = {}\n",
    "    hyper_results = pd.DataFrame()\n",
    "\n",
    "    if (type == 'poll'): concat = ['o3','no2','co','pm10','pm25']\n",
    "    else: concat = ['12','26','52','78']\n",
    "\n",
    "    for concat in concat:\n",
    "        for pollutant_h, item in params_importance.items():\n",
    "            for metric_, hyperparams in item.items():\n",
    "\n",
    "                if (concat in pollutant_h) and (metric_ == metric):\n",
    "\n",
    "                    for key, value in hyperparams.items():\n",
    "                        if key not in hyperparams_sum:\n",
    "                            hyperparams_sum[key] = 0\n",
    "                            hyperparams_count[key] = 0\n",
    "                        hyperparams_sum[key] += value\n",
    "                        hyperparams_count[key] += 1\n",
    "\n",
    "        mean_hyperparams = {key: hyperparams_sum[key] / hyperparams_count[key] for key in hyperparams_sum}\n",
    "        hyper_results = pd.concat([hyper_results, pd.DataFrame(mean_hyperparams, index=[f'{concat}'])])\n",
    "    \n",
    "    hyper_results = hyper_results.rename(columns={\n",
    "        'input_size':'input',\n",
    "        'n_freq_downsample':'downsample',\n",
    "        'n_pool_kernel_size':'kernel',\n",
    "        'local_scalar_type':'scalar',\n",
    "        'n_blocks':'blocks',\n",
    "        'n_stacks':'stacks',\n",
    "        'max_steps':'epochs',\n",
    "    })\n",
    "\n",
    "    fig = go.Figure()\n",
    "    colors = [\n",
    "        \"#000000\",  # Black\n",
    "        \"#404040\",  # Dark Gray\n",
    "        \"#808080\",  # Medium Gray\n",
    "        \"#BFBFBF\",  # Light Gray\n",
    "        \"#D9D9D9\",  # Light Silver\n",
    "    ]\n",
    "    sorted_hyper_results = hyper_results.T\n",
    "    sorted_hyper_results[\"mean\"] = sorted_hyper_results.mean(axis=1)  # Add mean column\n",
    "    sorted_hyper_results = sorted_hyper_results.sort_values(by=\"mean\", ascending=True).drop(columns=[\"mean\"])\n",
    "\n",
    "    # Add a bar for each hyperparameter\n",
    "    for idx, hyperparameter in enumerate(sorted_hyper_results.columns):\n",
    "    # for hyperparameter in sorted_hyper_results.columns:\n",
    "        fig.add_trace(\n",
    "            go.Bar(\n",
    "                y=sorted_hyper_results.index,  # Pollutants on the y-axis\n",
    "                x=sorted_hyper_results[hyperparameter],  # Values on the x-axis\n",
    "                name=hyperparameter,  # Name of the hyperparameter\n",
    "                marker=dict(color=colors[idx % len(colors)]),  # Assign colors\n",
    "                orientation=\"h\",  # Horizontal bars\n",
    "            )\n",
    "        )\n",
    "\n",
    "    # Update layout\n",
    "    fig.update_layout(\n",
    "        title=\"Hyperparameter Importance by Pollutant\",\n",
    "        xaxis_title=\"Importance\",\n",
    "        yaxis_title=\"Pollutant\",\n",
    "        barmode=\"group\",  # Stack the bars\n",
    "        legend_title=\"Hyperparameters\",\n",
    "    )\n",
    "\n",
    "    main_layout(fig, title=f'{model} | {metric.upper()}', x='Params Importance', width=600, height=500)\n",
    "    # Show the plot\n",
    "    return fig\n",
    "\n",
    "plot_hyperparams_importance(metric='smape', nhits=False, type='h')"
   ]
  },
  {
   "cell_type": "markdown",
   "metadata": {},
   "source": [
    "# X"
   ]
  },
  {
   "cell_type": "code",
   "execution_count": 244,
   "metadata": {},
   "outputs": [
    {
     "data": {
      "text/html": [
       "<div>\n",
       "<style scoped>\n",
       "    .dataframe tbody tr th:only-of-type {\n",
       "        vertical-align: middle;\n",
       "    }\n",
       "\n",
       "    .dataframe tbody tr th {\n",
       "        vertical-align: top;\n",
       "    }\n",
       "\n",
       "    .dataframe thead th {\n",
       "        text-align: right;\n",
       "    }\n",
       "</style>\n",
       "<table border=\"1\" class=\"dataframe\">\n",
       "  <thead>\n",
       "    <tr style=\"text-align: right;\">\n",
       "      <th></th>\n",
       "      <th>poll</th>\n",
       "      <th>freq</th>\n",
       "      <th>split</th>\n",
       "      <th>h</th>\n",
       "      <th>input_size</th>\n",
       "      <th>n_stacks</th>\n",
       "      <th>n_blocks</th>\n",
       "      <th>max_steps</th>\n",
       "      <th>local_scalar_type</th>\n",
       "      <th>n_pool_kernel_size</th>\n",
       "      <th>n_freq_downsample</th>\n",
       "      <th>mape</th>\n",
       "      <th>smape</th>\n",
       "      <th>max</th>\n",
       "      <th>mae</th>\n",
       "      <th>mse</th>\n",
       "    </tr>\n",
       "  </thead>\n",
       "  <tbody>\n",
       "    <tr>\n",
       "      <th>0</th>\n",
       "      <td>o3</td>\n",
       "      <td>W</td>\n",
       "      <td>30</td>\n",
       "      <td>78</td>\n",
       "      <td>28</td>\n",
       "      <td>6</td>\n",
       "      <td>2</td>\n",
       "      <td>546</td>\n",
       "      <td>standard</td>\n",
       "      <td>[3, 2, 2]</td>\n",
       "      <td>[1, 1, 1]</td>\n",
       "      <td>28.515450</td>\n",
       "      <td>22.810470</td>\n",
       "      <td>19.941125</td>\n",
       "      <td>5.802455</td>\n",
       "      <td>55.233915</td>\n",
       "    </tr>\n",
       "    <tr>\n",
       "      <th>1</th>\n",
       "      <td>o3</td>\n",
       "      <td>W</td>\n",
       "      <td>30</td>\n",
       "      <td>78</td>\n",
       "      <td>11</td>\n",
       "      <td>3</td>\n",
       "      <td>2</td>\n",
       "      <td>73</td>\n",
       "      <td>minmax</td>\n",
       "      <td>[1, 2, 2]</td>\n",
       "      <td>[12, 4, 12]</td>\n",
       "      <td>27.497970</td>\n",
       "      <td>22.902185</td>\n",
       "      <td>14.995335</td>\n",
       "      <td>5.747085</td>\n",
       "      <td>50.313850</td>\n",
       "    </tr>\n",
       "    <tr>\n",
       "      <th>2</th>\n",
       "      <td>o3</td>\n",
       "      <td>W</td>\n",
       "      <td>30</td>\n",
       "      <td>78</td>\n",
       "      <td>17</td>\n",
       "      <td>3</td>\n",
       "      <td>3</td>\n",
       "      <td>158</td>\n",
       "      <td>None</td>\n",
       "      <td>[1, 2, 2]</td>\n",
       "      <td>[12, 4, 52]</td>\n",
       "      <td>25.623260</td>\n",
       "      <td>23.026185</td>\n",
       "      <td>18.334895</td>\n",
       "      <td>5.744520</td>\n",
       "      <td>51.205305</td>\n",
       "    </tr>\n",
       "    <tr>\n",
       "      <th>3</th>\n",
       "      <td>o3</td>\n",
       "      <td>W</td>\n",
       "      <td>30</td>\n",
       "      <td>78</td>\n",
       "      <td>11</td>\n",
       "      <td>3</td>\n",
       "      <td>7</td>\n",
       "      <td>382</td>\n",
       "      <td>minmax</td>\n",
       "      <td>[1, 2, 2]</td>\n",
       "      <td>[12, 4, 12]</td>\n",
       "      <td>27.987175</td>\n",
       "      <td>23.245240</td>\n",
       "      <td>20.206535</td>\n",
       "      <td>5.925975</td>\n",
       "      <td>55.265330</td>\n",
       "    </tr>\n",
       "    <tr>\n",
       "      <th>4</th>\n",
       "      <td>o3</td>\n",
       "      <td>W</td>\n",
       "      <td>30</td>\n",
       "      <td>78</td>\n",
       "      <td>27</td>\n",
       "      <td>6</td>\n",
       "      <td>7</td>\n",
       "      <td>681</td>\n",
       "      <td>standard</td>\n",
       "      <td>[2, 3, 1]</td>\n",
       "      <td>[12, 1, 12]</td>\n",
       "      <td>29.306100</td>\n",
       "      <td>23.428870</td>\n",
       "      <td>18.715260</td>\n",
       "      <td>5.977305</td>\n",
       "      <td>56.348980</td>\n",
       "    </tr>\n",
       "    <tr>\n",
       "      <th>...</th>\n",
       "      <td>...</td>\n",
       "      <td>...</td>\n",
       "      <td>...</td>\n",
       "      <td>...</td>\n",
       "      <td>...</td>\n",
       "      <td>...</td>\n",
       "      <td>...</td>\n",
       "      <td>...</td>\n",
       "      <td>...</td>\n",
       "      <td>...</td>\n",
       "      <td>...</td>\n",
       "      <td>...</td>\n",
       "      <td>...</td>\n",
       "      <td>...</td>\n",
       "      <td>...</td>\n",
       "      <td>...</td>\n",
       "    </tr>\n",
       "    <tr>\n",
       "      <th>95</th>\n",
       "      <td>o3</td>\n",
       "      <td>W</td>\n",
       "      <td>30</td>\n",
       "      <td>78</td>\n",
       "      <td>127</td>\n",
       "      <td>3</td>\n",
       "      <td>3</td>\n",
       "      <td>594</td>\n",
       "      <td>standard</td>\n",
       "      <td>[2, 2, 3]</td>\n",
       "      <td>[4, 12, 52]</td>\n",
       "      <td>45.314360</td>\n",
       "      <td>32.311600</td>\n",
       "      <td>30.242810</td>\n",
       "      <td>9.126165</td>\n",
       "      <td>131.276095</td>\n",
       "    </tr>\n",
       "    <tr>\n",
       "      <th>96</th>\n",
       "      <td>o3</td>\n",
       "      <td>W</td>\n",
       "      <td>30</td>\n",
       "      <td>78</td>\n",
       "      <td>74</td>\n",
       "      <td>3</td>\n",
       "      <td>1</td>\n",
       "      <td>597</td>\n",
       "      <td>None</td>\n",
       "      <td>[1, 2, 1]</td>\n",
       "      <td>[4, 52, 12]</td>\n",
       "      <td>45.183700</td>\n",
       "      <td>32.572205</td>\n",
       "      <td>24.123585</td>\n",
       "      <td>9.024790</td>\n",
       "      <td>117.592025</td>\n",
       "    </tr>\n",
       "    <tr>\n",
       "      <th>97</th>\n",
       "      <td>o3</td>\n",
       "      <td>W</td>\n",
       "      <td>30</td>\n",
       "      <td>78</td>\n",
       "      <td>111</td>\n",
       "      <td>3</td>\n",
       "      <td>3</td>\n",
       "      <td>77</td>\n",
       "      <td>None</td>\n",
       "      <td>[3, 2, 3]</td>\n",
       "      <td>[4, 52, 4]</td>\n",
       "      <td>46.000040</td>\n",
       "      <td>33.214900</td>\n",
       "      <td>23.381670</td>\n",
       "      <td>9.240785</td>\n",
       "      <td>120.149270</td>\n",
       "    </tr>\n",
       "    <tr>\n",
       "      <th>98</th>\n",
       "      <td>o3</td>\n",
       "      <td>W</td>\n",
       "      <td>30</td>\n",
       "      <td>78</td>\n",
       "      <td>88</td>\n",
       "      <td>5</td>\n",
       "      <td>2</td>\n",
       "      <td>291</td>\n",
       "      <td>boxcox</td>\n",
       "      <td>[3, 1, 3]</td>\n",
       "      <td>[52, 52, 1]</td>\n",
       "      <td>47.253035</td>\n",
       "      <td>34.112415</td>\n",
       "      <td>24.157800</td>\n",
       "      <td>9.922300</td>\n",
       "      <td>149.778915</td>\n",
       "    </tr>\n",
       "    <tr>\n",
       "      <th>99</th>\n",
       "      <td>o3</td>\n",
       "      <td>W</td>\n",
       "      <td>30</td>\n",
       "      <td>78</td>\n",
       "      <td>155</td>\n",
       "      <td>3</td>\n",
       "      <td>6</td>\n",
       "      <td>527</td>\n",
       "      <td>boxcox</td>\n",
       "      <td>[1, 1, 2]</td>\n",
       "      <td>[12, 12, 4]</td>\n",
       "      <td>96.954490</td>\n",
       "      <td>49.892840</td>\n",
       "      <td>81.757745</td>\n",
       "      <td>20.288925</td>\n",
       "      <td>994.724605</td>\n",
       "    </tr>\n",
       "  </tbody>\n",
       "</table>\n",
       "<p>100 rows × 16 columns</p>\n",
       "</div>"
      ],
      "text/plain": [
       "   poll freq  split   h  input_size  n_stacks  n_blocks  max_steps  \\\n",
       "0    o3    W     30  78          28         6         2        546   \n",
       "1    o3    W     30  78          11         3         2         73   \n",
       "2    o3    W     30  78          17         3         3        158   \n",
       "3    o3    W     30  78          11         3         7        382   \n",
       "4    o3    W     30  78          27         6         7        681   \n",
       "..  ...  ...    ...  ..         ...       ...       ...        ...   \n",
       "95   o3    W     30  78         127         3         3        594   \n",
       "96   o3    W     30  78          74         3         1        597   \n",
       "97   o3    W     30  78         111         3         3         77   \n",
       "98   o3    W     30  78          88         5         2        291   \n",
       "99   o3    W     30  78         155         3         6        527   \n",
       "\n",
       "   local_scalar_type n_pool_kernel_size n_freq_downsample       mape  \\\n",
       "0           standard          [3, 2, 2]         [1, 1, 1]  28.515450   \n",
       "1             minmax          [1, 2, 2]       [12, 4, 12]  27.497970   \n",
       "2               None          [1, 2, 2]       [12, 4, 52]  25.623260   \n",
       "3             minmax          [1, 2, 2]       [12, 4, 12]  27.987175   \n",
       "4           standard          [2, 3, 1]       [12, 1, 12]  29.306100   \n",
       "..               ...                ...               ...        ...   \n",
       "95          standard          [2, 2, 3]       [4, 12, 52]  45.314360   \n",
       "96              None          [1, 2, 1]       [4, 52, 12]  45.183700   \n",
       "97              None          [3, 2, 3]        [4, 52, 4]  46.000040   \n",
       "98            boxcox          [3, 1, 3]       [52, 52, 1]  47.253035   \n",
       "99            boxcox          [1, 1, 2]       [12, 12, 4]  96.954490   \n",
       "\n",
       "        smape        max        mae         mse  \n",
       "0   22.810470  19.941125   5.802455   55.233915  \n",
       "1   22.902185  14.995335   5.747085   50.313850  \n",
       "2   23.026185  18.334895   5.744520   51.205305  \n",
       "3   23.245240  20.206535   5.925975   55.265330  \n",
       "4   23.428870  18.715260   5.977305   56.348980  \n",
       "..        ...        ...        ...         ...  \n",
       "95  32.311600  30.242810   9.126165  131.276095  \n",
       "96  32.572205  24.123585   9.024790  117.592025  \n",
       "97  33.214900  23.381670   9.240785  120.149270  \n",
       "98  34.112415  24.157800   9.922300  149.778915  \n",
       "99  49.892840  81.757745  20.288925  994.724605  \n",
       "\n",
       "[100 rows x 16 columns]"
      ]
     },
     "execution_count": 244,
     "metadata": {},
     "output_type": "execute_result"
    }
   ],
   "source": [
    "joblib.load(r'Results\\NHITS\\o3\\78W_Df.pkl').sort_values(['smape','mae']).reset_index(drop=True)"
   ]
  },
  {
   "cell_type": "code",
   "execution_count": 245,
   "metadata": {},
   "outputs": [
    {
     "data": {
      "application/vnd.plotly.v1+json": {
       "config": {
        "plotlyServerURL": "https://plot.ly"
       },
       "data": [
        {
         "colorbar": {
          "title": {
           "text": "sMAPE"
          }
         },
         "colorscale": [
          [
           0,
           "rgb(247,251,255)"
          ],
          [
           0.125,
           "rgb(222,235,247)"
          ],
          [
           0.25,
           "rgb(198,219,239)"
          ],
          [
           0.375,
           "rgb(158,202,225)"
          ],
          [
           0.5,
           "rgb(107,174,214)"
          ],
          [
           0.625,
           "rgb(66,146,198)"
          ],
          [
           0.75,
           "rgb(33,113,181)"
          ],
          [
           0.875,
           "rgb(8,81,156)"
          ],
          [
           1,
           "rgb(8,48,107)"
          ]
         ],
         "connectgaps": true,
         "contours": {
          "coloring": "heatmap"
         },
         "hoverinfo": "none",
         "line": {
          "smoothing": 1.3
         },
         "reversescale": true,
         "type": "contour",
         "x": [
          0.6999999999999993,
          8,
          10,
          12,
          13,
          15,
          16,
          17,
          18,
          19,
          21,
          25,
          26,
          28,
          29,
          38,
          40,
          47,
          53,
          60,
          61,
          71,
          77,
          82,
          83,
          92,
          95,
          97,
          100,
          101,
          102,
          103,
          104,
          106,
          109,
          112,
          116,
          117,
          120,
          122,
          127,
          130,
          134,
          151,
          154,
          161.3
         ],
         "y": [
          "[1, 1, 12]",
          "[1, 1, 1]",
          "[1, 1, 52]",
          "[1, 12, 4]",
          "[1, 12, 52]",
          "[1, 4, 12]",
          "[1, 4, 1]",
          "[1, 4, 52]",
          "[1, 52, 12]",
          "[1, 52, 4]",
          "[1, 52, 52]",
          "[12, 1, 12]",
          "[12, 1, 4]",
          "[12, 12, 1]",
          "[12, 12, 52]",
          "[12, 4, 12]",
          "[12, 4, 1]",
          "[12, 4, 52]",
          "[4, 1, 12]",
          "[4, 1, 4]",
          "[4, 12, 12]",
          "[4, 12, 1]",
          "[4, 12, 4]",
          "[4, 4, 52]",
          "[4, 52, 12]",
          "[4, 52, 52]",
          "[52, 1, 12]",
          "[52, 1, 1]",
          "[52, 12, 4]",
          "[52, 12, 52]",
          "[52, 4, 1]",
          "[52, 4, 52]",
          "[52, 52, 12]"
         ],
         "z": [
          [
           null,
           null,
           null,
           null,
           null,
           null,
           null,
           null,
           null,
           null,
           null,
           null,
           null,
           null,
           null,
           null,
           null,
           null,
           null,
           null,
           null,
           null,
           null,
           null,
           null,
           null,
           null,
           null,
           null,
           null,
           29.779365000000002,
           null,
           null,
           null,
           null,
           null,
           null,
           null,
           null,
           null,
           null,
           null,
           null,
           30.45068,
           null,
           null
          ],
          [
           null,
           null,
           null,
           null,
           null,
           null,
           32.131995,
           null,
           null,
           null,
           null,
           null,
           null,
           null,
           null,
           null,
           null,
           null,
           null,
           null,
           null,
           null,
           null,
           null,
           null,
           null,
           null,
           null,
           null,
           null,
           31.651345,
           null,
           null,
           null,
           null,
           null,
           null,
           null,
           null,
           null,
           null,
           null,
           null,
           null,
           null,
           null
          ],
          [
           null,
           null,
           null,
           null,
           null,
           null,
           null,
           null,
           null,
           null,
           null,
           null,
           null,
           null,
           null,
           null,
           null,
           null,
           null,
           null,
           null,
           null,
           null,
           31.6204,
           null,
           null,
           27.37836,
           null,
           null,
           null,
           null,
           null,
           null,
           null,
           null,
           null,
           null,
           null,
           null,
           null,
           null,
           null,
           33.19651,
           null,
           null,
           null
          ],
          [
           null,
           null,
           null,
           null,
           null,
           null,
           32.50993,
           null,
           null,
           null,
           null,
           null,
           null,
           null,
           null,
           null,
           null,
           null,
           null,
           null,
           null,
           null,
           null,
           null,
           null,
           null,
           null,
           null,
           null,
           null,
           null,
           30.81543,
           null,
           null,
           null,
           null,
           null,
           null,
           null,
           null,
           null,
           null,
           null,
           null,
           null,
           null
          ],
          [
           null,
           null,
           null,
           28.49418,
           null,
           null,
           null,
           null,
           null,
           null,
           null,
           null,
           null,
           null,
           null,
           null,
           null,
           null,
           null,
           null,
           null,
           null,
           null,
           null,
           null,
           null,
           null,
           null,
           null,
           null,
           null,
           null,
           null,
           null,
           null,
           null,
           null,
           null,
           null,
           null,
           null,
           null,
           null,
           null,
           null,
           null
          ],
          [
           null,
           null,
           null,
           null,
           null,
           31.045925,
           null,
           null,
           null,
           null,
           null,
           null,
           null,
           null,
           null,
           null,
           null,
           null,
           null,
           null,
           28.71244,
           null,
           null,
           null,
           27.88157,
           null,
           null,
           null,
           null,
           null,
           null,
           null,
           null,
           null,
           null,
           null,
           null,
           null,
           null,
           null,
           null,
           null,
           null,
           null,
           null,
           null
          ],
          [
           null,
           31.208730000000003,
           null,
           null,
           null,
           null,
           null,
           null,
           null,
           null,
           null,
           35.914175,
           null,
           null,
           null,
           null,
           null,
           null,
           null,
           null,
           null,
           null,
           null,
           null,
           null,
           29.78912,
           38.488125,
           36.166555,
           null,
           null,
           null,
           null,
           null,
           null,
           null,
           null,
           null,
           null,
           null,
           null,
           null,
           null,
           null,
           null,
           null,
           null
          ],
          [
           null,
           null,
           null,
           null,
           null,
           null,
           null,
           null,
           null,
           null,
           null,
           null,
           null,
           null,
           null,
           null,
           null,
           null,
           null,
           null,
           null,
           null,
           null,
           null,
           null,
           null,
           null,
           null,
           null,
           null,
           null,
           null,
           null,
           null,
           null,
           null,
           null,
           null,
           null,
           null,
           null,
           null,
           31.71819,
           null,
           null,
           null
          ],
          [
           null,
           null,
           null,
           null,
           null,
           null,
           null,
           null,
           null,
           null,
           null,
           null,
           null,
           null,
           null,
           null,
           null,
           null,
           null,
           null,
           null,
           null,
           null,
           null,
           null,
           null,
           null,
           null,
           null,
           35.61266500000001,
           null,
           null,
           null,
           null,
           null,
           null,
           null,
           null,
           null,
           null,
           null,
           null,
           null,
           null,
           null,
           null
          ],
          [
           null,
           null,
           null,
           null,
           null,
           null,
           null,
           27.556825,
           33.504565,
           null,
           32.039365,
           null,
           null,
           null,
           null,
           null,
           null,
           null,
           37.283585,
           null,
           null,
           null,
           null,
           null,
           null,
           null,
           null,
           null,
           null,
           null,
           null,
           null,
           null,
           null,
           null,
           null,
           null,
           null,
           null,
           null,
           null,
           null,
           null,
           null,
           null,
           null
          ],
          [
           null,
           null,
           null,
           null,
           null,
           null,
           null,
           null,
           null,
           null,
           null,
           null,
           null,
           null,
           null,
           null,
           null,
           null,
           null,
           null,
           null,
           null,
           null,
           null,
           null,
           null,
           null,
           null,
           null,
           null,
           null,
           32.448235,
           null,
           null,
           null,
           null,
           null,
           null,
           null,
           null,
           null,
           null,
           null,
           null,
           null,
           null
          ],
          [
           null,
           null,
           null,
           null,
           null,
           null,
           33.464985,
           null,
           null,
           null,
           null,
           null,
           null,
           null,
           null,
           null,
           null,
           null,
           null,
           null,
           null,
           null,
           null,
           null,
           null,
           null,
           null,
           null,
           null,
           null,
           null,
           null,
           null,
           null,
           null,
           null,
           null,
           null,
           null,
           null,
           null,
           null,
           null,
           null,
           null,
           null
          ],
          [
           null,
           null,
           null,
           null,
           null,
           null,
           null,
           null,
           null,
           null,
           null,
           null,
           null,
           null,
           37.093215,
           null,
           null,
           null,
           null,
           null,
           null,
           null,
           null,
           null,
           null,
           null,
           null,
           null,
           null,
           null,
           null,
           null,
           null,
           null,
           null,
           null,
           null,
           null,
           null,
           null,
           null,
           30.914830000000002,
           null,
           null,
           null,
           null
          ],
          [
           null,
           null,
           null,
           null,
           null,
           30.953515,
           null,
           null,
           null,
           null,
           null,
           null,
           null,
           null,
           null,
           null,
           null,
           null,
           null,
           null,
           null,
           null,
           null,
           null,
           null,
           null,
           null,
           null,
           null,
           null,
           null,
           null,
           null,
           null,
           null,
           29.42578,
           null,
           33.47652,
           null,
           null,
           null,
           null,
           null,
           null,
           null,
           null
          ],
          [
           null,
           null,
           null,
           null,
           null,
           null,
           null,
           null,
           null,
           33.45897,
           null,
           null,
           null,
           null,
           null,
           null,
           null,
           null,
           null,
           null,
           null,
           null,
           null,
           null,
           null,
           null,
           null,
           null,
           null,
           null,
           null,
           30.70034,
           null,
           null,
           null,
           null,
           null,
           null,
           null,
           null,
           null,
           null,
           null,
           null,
           null,
           null
          ],
          [
           null,
           null,
           null,
           null,
           null,
           null,
           null,
           null,
           null,
           null,
           null,
           null,
           null,
           null,
           null,
           null,
           null,
           null,
           null,
           39.320975000000004,
           null,
           null,
           null,
           null,
           null,
           null,
           null,
           null,
           null,
           null,
           null,
           29.787245,
           null,
           null,
           null,
           null,
           null,
           null,
           null,
           null,
           null,
           null,
           null,
           null,
           null,
           null
          ],
          [
           null,
           null,
           null,
           null,
           null,
           null,
           null,
           null,
           null,
           null,
           null,
           null,
           null,
           null,
           null,
           null,
           null,
           null,
           null,
           null,
           null,
           38.25114,
           null,
           null,
           null,
           null,
           null,
           null,
           null,
           null,
           null,
           null,
           null,
           null,
           32.300145,
           null,
           null,
           30.862160000000003,
           null,
           null,
           null,
           null,
           null,
           null,
           29.850160000000002,
           null
          ],
          [
           null,
           null,
           null,
           null,
           null,
           null,
           null,
           null,
           null,
           null,
           28.73782,
           null,
           null,
           null,
           null,
           null,
           null,
           null,
           null,
           null,
           null,
           null,
           null,
           null,
           null,
           null,
           null,
           null,
           null,
           null,
           null,
           null,
           null,
           null,
           null,
           null,
           33.334064999999995,
           25.866609999999998,
           null,
           null,
           null,
           null,
           null,
           null,
           26.75037,
           null
          ],
          [
           null,
           null,
           null,
           null,
           null,
           null,
           null,
           null,
           null,
           null,
           null,
           null,
           null,
           null,
           null,
           null,
           null,
           null,
           null,
           null,
           null,
           null,
           null,
           null,
           null,
           null,
           null,
           null,
           null,
           33.68386,
           null,
           null,
           32.666844999999995,
           null,
           null,
           null,
           null,
           null,
           null,
           null,
           null,
           null,
           null,
           null,
           null,
           null
          ],
          [
           null,
           null,
           null,
           null,
           null,
           null,
           null,
           null,
           null,
           null,
           null,
           null,
           null,
           null,
           null,
           null,
           null,
           null,
           null,
           null,
           null,
           null,
           null,
           null,
           null,
           null,
           null,
           null,
           null,
           null,
           null,
           null,
           null,
           31.71105,
           null,
           null,
           null,
           null,
           null,
           null,
           null,
           null,
           null,
           null,
           null,
           null
          ],
          [
           null,
           null,
           null,
           null,
           null,
           null,
           null,
           null,
           null,
           null,
           null,
           null,
           null,
           null,
           null,
           null,
           null,
           null,
           null,
           null,
           null,
           null,
           null,
           null,
           null,
           null,
           null,
           null,
           null,
           null,
           null,
           null,
           34.156895,
           null,
           null,
           null,
           null,
           null,
           null,
           null,
           null,
           null,
           null,
           null,
           null,
           null
          ],
          [
           null,
           null,
           null,
           null,
           null,
           null,
           null,
           null,
           null,
           null,
           null,
           null,
           35.252505,
           null,
           null,
           null,
           null,
           null,
           null,
           null,
           null,
           null,
           null,
           null,
           null,
           null,
           null,
           null,
           null,
           null,
           null,
           31.618695,
           null,
           null,
           null,
           null,
           null,
           null,
           null,
           null,
           null,
           null,
           null,
           null,
           31.483159999999998,
           null
          ],
          [
           null,
           null,
           null,
           null,
           null,
           null,
           null,
           null,
           null,
           null,
           null,
           null,
           null,
           null,
           null,
           null,
           null,
           null,
           null,
           null,
           36.527005,
           null,
           null,
           null,
           null,
           null,
           null,
           null,
           null,
           null,
           null,
           null,
           null,
           null,
           null,
           null,
           null,
           null,
           null,
           null,
           null,
           null,
           null,
           null,
           null,
           null
          ],
          [
           null,
           null,
           34.475525000000005,
           null,
           null,
           null,
           null,
           null,
           null,
           null,
           null,
           null,
           null,
           null,
           null,
           null,
           null,
           null,
           null,
           null,
           null,
           null,
           null,
           null,
           null,
           null,
           null,
           null,
           null,
           null,
           null,
           null,
           null,
           null,
           null,
           null,
           null,
           null,
           null,
           31.21479,
           null,
           null,
           null,
           null,
           null,
           null
          ],
          [
           null,
           null,
           null,
           null,
           null,
           null,
           null,
           38.322755,
           null,
           null,
           null,
           null,
           null,
           null,
           null,
           null,
           null,
           null,
           null,
           null,
           null,
           null,
           null,
           null,
           null,
           null,
           null,
           null,
           null,
           null,
           null,
           null,
           null,
           null,
           null,
           null,
           null,
           null,
           null,
           null,
           null,
           null,
           null,
           null,
           null,
           null
          ],
          [
           null,
           null,
           null,
           null,
           null,
           null,
           null,
           null,
           null,
           null,
           null,
           null,
           null,
           null,
           null,
           null,
           null,
           35.979515,
           null,
           null,
           null,
           null,
           null,
           null,
           null,
           null,
           null,
           null,
           null,
           null,
           null,
           null,
           null,
           null,
           null,
           null,
           null,
           null,
           null,
           null,
           null,
           null,
           null,
           null,
           null,
           null
          ],
          [
           null,
           null,
           null,
           null,
           26.896214999999998,
           null,
           null,
           null,
           34.942945,
           null,
           null,
           null,
           null,
           null,
           null,
           30.05354,
           31.402025000000002,
           null,
           null,
           null,
           31.170279999999998,
           null,
           null,
           null,
           null,
           null,
           null,
           null,
           null,
           null,
           null,
           null,
           null,
           null,
           null,
           null,
           null,
           null,
           null,
           31.796495,
           null,
           null,
           null,
           null,
           29.04428,
           null
          ],
          [
           null,
           null,
           null,
           null,
           null,
           null,
           null,
           null,
           null,
           null,
           null,
           null,
           null,
           null,
           null,
           null,
           null,
           null,
           null,
           null,
           null,
           null,
           null,
           null,
           null,
           null,
           null,
           null,
           34.978044999999995,
           null,
           null,
           null,
           null,
           null,
           null,
           null,
           null,
           null,
           null,
           null,
           null,
           null,
           null,
           null,
           null,
           null
          ],
          [
           null,
           null,
           null,
           null,
           33.00799,
           null,
           null,
           null,
           null,
           null,
           null,
           null,
           null,
           null,
           null,
           null,
           null,
           null,
           null,
           null,
           null,
           null,
           null,
           null,
           null,
           null,
           null,
           null,
           null,
           null,
           null,
           null,
           null,
           null,
           null,
           null,
           null,
           null,
           34.345839999999995,
           null,
           null,
           null,
           null,
           null,
           31.063,
           null
          ],
          [
           null,
           null,
           null,
           null,
           null,
           null,
           null,
           29.432845,
           null,
           null,
           null,
           null,
           null,
           37.10775,
           null,
           null,
           null,
           null,
           null,
           null,
           null,
           null,
           null,
           null,
           null,
           null,
           null,
           null,
           null,
           null,
           null,
           null,
           null,
           null,
           null,
           null,
           null,
           25.884034999999997,
           null,
           null,
           null,
           null,
           null,
           null,
           null,
           null
          ],
          [
           null,
           null,
           null,
           34.300290000000004,
           null,
           null,
           null,
           null,
           null,
           null,
           null,
           null,
           null,
           null,
           null,
           null,
           null,
           null,
           null,
           null,
           null,
           null,
           null,
           null,
           null,
           null,
           null,
           null,
           null,
           null,
           null,
           null,
           null,
           null,
           null,
           null,
           null,
           null,
           null,
           null,
           null,
           null,
           null,
           null,
           null,
           null
          ],
          [
           null,
           null,
           null,
           null,
           null,
           null,
           null,
           null,
           null,
           null,
           null,
           null,
           null,
           null,
           null,
           null,
           null,
           null,
           null,
           null,
           null,
           null,
           28.085855000000002,
           null,
           null,
           null,
           37.14666,
           null,
           null,
           null,
           null,
           null,
           null,
           null,
           null,
           null,
           null,
           null,
           null,
           null,
           32.370945,
           null,
           null,
           null,
           null,
           null
          ],
          [
           null,
           null,
           null,
           null,
           null,
           33.57503,
           null,
           null,
           null,
           null,
           null,
           null,
           null,
           null,
           null,
           null,
           null,
           null,
           null,
           null,
           null,
           null,
           null,
           null,
           null,
           null,
           null,
           null,
           null,
           null,
           null,
           null,
           null,
           null,
           null,
           null,
           null,
           null,
           null,
           null,
           null,
           null,
           null,
           null,
           null,
           null
          ]
         ]
        },
        {
         "marker": {
          "color": "black",
          "line": {
           "color": "Gray",
           "width": 2
          }
         },
         "mode": "markers",
         "name": "Feasible Trial",
         "showlegend": false,
         "type": "scatter",
         "x": [
          13,
          101,
          82,
          117,
          21,
          101,
          112,
          103,
          109,
          127,
          15,
          97,
          120,
          10,
          29,
          92,
          16,
          106,
          100,
          83,
          26,
          116,
          151,
          154,
          117,
          47,
          154,
          60,
          95,
          122,
          102,
          25,
          16,
          12,
          12,
          53,
          18,
          8,
          61,
          104,
          134,
          130,
          103,
          16,
          61,
          15,
          19,
          71,
          40,
          17,
          28,
          12,
          15,
          103,
          8,
          103,
          17,
          18,
          92,
          112,
          112,
          21,
          83,
          53,
          13,
          82,
          15,
          53,
          154,
          117,
          134,
          122,
          154,
          154,
          10,
          104,
          83,
          61,
          103,
          61,
          102,
          151,
          117,
          77,
          106,
          15,
          95,
          16,
          134,
          17,
          38,
          103,
          95,
          103,
          154,
          82,
          100,
          127,
          17,
          117
         ],
         "y": [
          "[52, 12, 4]",
          "[1, 52, 12]",
          "[1, 1, 52]",
          "[12, 12, 1]",
          "[12, 4, 52]",
          "[4, 1, 12]",
          "[12, 12, 1]",
          "[1, 52, 52]",
          "[12, 4, 1]",
          "[52, 4, 52]",
          "[12, 12, 1]",
          "[1, 4, 1]",
          "[52, 12, 4]",
          "[4, 4, 52]",
          "[12, 1, 4]",
          "[1, 4, 1]",
          "[12, 1, 12]",
          "[4, 1, 4]",
          "[52, 1, 1]",
          "[1, 4, 12]",
          "[4, 12, 1]",
          "[12, 4, 52]",
          "[1, 1, 12]",
          "[4, 12, 1]",
          "[52, 12, 52]",
          "[4, 52, 52]",
          "[52, 1, 12]",
          "[12, 4, 12]",
          "[1, 1, 52]",
          "[52, 1, 12]",
          "[1, 1, 1]",
          "[1, 4, 1]",
          "[1, 12, 4]",
          "[52, 4, 1]",
          "[1, 12, 52]",
          "[1, 52, 4]",
          "[1, 52, 4]",
          "[1, 4, 1]",
          "[52, 1, 12]",
          "[4, 1, 12]",
          "[1, 4, 52]",
          "[12, 1, 4]",
          "[12, 12, 52]",
          "[1, 1, 1]",
          "[4, 12, 4]",
          "[52, 52, 12]",
          "[12, 12, 52]",
          "[12, 4, 1]",
          "[52, 1, 12]",
          "[4, 52, 12]",
          "[52, 12, 52]",
          "[1, 12, 52]",
          "[1, 4, 12]",
          "[12, 12, 52]",
          "[1, 4, 1]",
          "[4, 12, 1]",
          "[52, 12, 52]",
          "[52, 1, 12]",
          "[1, 4, 1]",
          "[12, 12, 1]",
          "[12, 12, 1]",
          "[1, 52, 4]",
          "[1, 4, 12]",
          "[1, 52, 4]",
          "[52, 1, 12]",
          "[1, 1, 52]",
          "[52, 52, 12]",
          "[1, 52, 4]",
          "[52, 12, 4]",
          "[12, 12, 1]",
          "[1, 4, 52]",
          "[4, 4, 52]",
          "[12, 4, 52]",
          "[4, 12, 1]",
          "[4, 4, 52]",
          "[4, 12, 12]",
          "[1, 4, 12]",
          "[1, 4, 12]",
          "[12, 4, 12]",
          "[52, 1, 12]",
          "[1, 1, 12]",
          "[1, 1, 12]",
          "[12, 4, 52]",
          "[52, 4, 52]",
          "[4, 1, 4]",
          "[12, 12, 1]",
          "[52, 4, 52]",
          "[1, 1, 1]",
          "[1, 1, 52]",
          "[4, 52, 12]",
          "[52, 1, 12]",
          "[1, 12, 4]",
          "[1, 4, 1]",
          "[12, 12, 52]",
          "[12, 4, 1]",
          "[1, 1, 52]",
          "[52, 1, 1]",
          "[52, 4, 52]",
          "[1, 52, 4]",
          "[12, 4, 1]"
         ]
        },
        {
         "marker": {
          "color": "#cccccc",
          "line": {
           "color": "Gray",
           "width": 2
          }
         },
         "mode": "markers",
         "name": "Infeasible Trial",
         "showlegend": false,
         "type": "scatter",
         "x": [],
         "y": []
        }
       ],
       "layout": {
        "height": 800,
        "plot_bgcolor": "white",
        "template": {
         "data": {
          "bar": [
           {
            "error_x": {
             "color": "#2a3f5f"
            },
            "error_y": {
             "color": "#2a3f5f"
            },
            "marker": {
             "line": {
              "color": "#E5ECF6",
              "width": 0.5
             },
             "pattern": {
              "fillmode": "overlay",
              "size": 10,
              "solidity": 0.2
             }
            },
            "type": "bar"
           }
          ],
          "barpolar": [
           {
            "marker": {
             "line": {
              "color": "#E5ECF6",
              "width": 0.5
             },
             "pattern": {
              "fillmode": "overlay",
              "size": 10,
              "solidity": 0.2
             }
            },
            "type": "barpolar"
           }
          ],
          "carpet": [
           {
            "aaxis": {
             "endlinecolor": "#2a3f5f",
             "gridcolor": "white",
             "linecolor": "white",
             "minorgridcolor": "white",
             "startlinecolor": "#2a3f5f"
            },
            "baxis": {
             "endlinecolor": "#2a3f5f",
             "gridcolor": "white",
             "linecolor": "white",
             "minorgridcolor": "white",
             "startlinecolor": "#2a3f5f"
            },
            "type": "carpet"
           }
          ],
          "choropleth": [
           {
            "colorbar": {
             "outlinewidth": 0,
             "ticks": ""
            },
            "type": "choropleth"
           }
          ],
          "contour": [
           {
            "colorbar": {
             "outlinewidth": 0,
             "ticks": ""
            },
            "colorscale": [
             [
              0,
              "#0d0887"
             ],
             [
              0.1111111111111111,
              "#46039f"
             ],
             [
              0.2222222222222222,
              "#7201a8"
             ],
             [
              0.3333333333333333,
              "#9c179e"
             ],
             [
              0.4444444444444444,
              "#bd3786"
             ],
             [
              0.5555555555555556,
              "#d8576b"
             ],
             [
              0.6666666666666666,
              "#ed7953"
             ],
             [
              0.7777777777777778,
              "#fb9f3a"
             ],
             [
              0.8888888888888888,
              "#fdca26"
             ],
             [
              1,
              "#f0f921"
             ]
            ],
            "type": "contour"
           }
          ],
          "contourcarpet": [
           {
            "colorbar": {
             "outlinewidth": 0,
             "ticks": ""
            },
            "type": "contourcarpet"
           }
          ],
          "heatmap": [
           {
            "colorbar": {
             "outlinewidth": 0,
             "ticks": ""
            },
            "colorscale": [
             [
              0,
              "#0d0887"
             ],
             [
              0.1111111111111111,
              "#46039f"
             ],
             [
              0.2222222222222222,
              "#7201a8"
             ],
             [
              0.3333333333333333,
              "#9c179e"
             ],
             [
              0.4444444444444444,
              "#bd3786"
             ],
             [
              0.5555555555555556,
              "#d8576b"
             ],
             [
              0.6666666666666666,
              "#ed7953"
             ],
             [
              0.7777777777777778,
              "#fb9f3a"
             ],
             [
              0.8888888888888888,
              "#fdca26"
             ],
             [
              1,
              "#f0f921"
             ]
            ],
            "type": "heatmap"
           }
          ],
          "heatmapgl": [
           {
            "colorbar": {
             "outlinewidth": 0,
             "ticks": ""
            },
            "colorscale": [
             [
              0,
              "#0d0887"
             ],
             [
              0.1111111111111111,
              "#46039f"
             ],
             [
              0.2222222222222222,
              "#7201a8"
             ],
             [
              0.3333333333333333,
              "#9c179e"
             ],
             [
              0.4444444444444444,
              "#bd3786"
             ],
             [
              0.5555555555555556,
              "#d8576b"
             ],
             [
              0.6666666666666666,
              "#ed7953"
             ],
             [
              0.7777777777777778,
              "#fb9f3a"
             ],
             [
              0.8888888888888888,
              "#fdca26"
             ],
             [
              1,
              "#f0f921"
             ]
            ],
            "type": "heatmapgl"
           }
          ],
          "histogram": [
           {
            "marker": {
             "pattern": {
              "fillmode": "overlay",
              "size": 10,
              "solidity": 0.2
             }
            },
            "type": "histogram"
           }
          ],
          "histogram2d": [
           {
            "colorbar": {
             "outlinewidth": 0,
             "ticks": ""
            },
            "colorscale": [
             [
              0,
              "#0d0887"
             ],
             [
              0.1111111111111111,
              "#46039f"
             ],
             [
              0.2222222222222222,
              "#7201a8"
             ],
             [
              0.3333333333333333,
              "#9c179e"
             ],
             [
              0.4444444444444444,
              "#bd3786"
             ],
             [
              0.5555555555555556,
              "#d8576b"
             ],
             [
              0.6666666666666666,
              "#ed7953"
             ],
             [
              0.7777777777777778,
              "#fb9f3a"
             ],
             [
              0.8888888888888888,
              "#fdca26"
             ],
             [
              1,
              "#f0f921"
             ]
            ],
            "type": "histogram2d"
           }
          ],
          "histogram2dcontour": [
           {
            "colorbar": {
             "outlinewidth": 0,
             "ticks": ""
            },
            "colorscale": [
             [
              0,
              "#0d0887"
             ],
             [
              0.1111111111111111,
              "#46039f"
             ],
             [
              0.2222222222222222,
              "#7201a8"
             ],
             [
              0.3333333333333333,
              "#9c179e"
             ],
             [
              0.4444444444444444,
              "#bd3786"
             ],
             [
              0.5555555555555556,
              "#d8576b"
             ],
             [
              0.6666666666666666,
              "#ed7953"
             ],
             [
              0.7777777777777778,
              "#fb9f3a"
             ],
             [
              0.8888888888888888,
              "#fdca26"
             ],
             [
              1,
              "#f0f921"
             ]
            ],
            "type": "histogram2dcontour"
           }
          ],
          "mesh3d": [
           {
            "colorbar": {
             "outlinewidth": 0,
             "ticks": ""
            },
            "type": "mesh3d"
           }
          ],
          "parcoords": [
           {
            "line": {
             "colorbar": {
              "outlinewidth": 0,
              "ticks": ""
             }
            },
            "type": "parcoords"
           }
          ],
          "pie": [
           {
            "automargin": true,
            "type": "pie"
           }
          ],
          "scatter": [
           {
            "fillpattern": {
             "fillmode": "overlay",
             "size": 10,
             "solidity": 0.2
            },
            "type": "scatter"
           }
          ],
          "scatter3d": [
           {
            "line": {
             "colorbar": {
              "outlinewidth": 0,
              "ticks": ""
             }
            },
            "marker": {
             "colorbar": {
              "outlinewidth": 0,
              "ticks": ""
             }
            },
            "type": "scatter3d"
           }
          ],
          "scattercarpet": [
           {
            "marker": {
             "colorbar": {
              "outlinewidth": 0,
              "ticks": ""
             }
            },
            "type": "scattercarpet"
           }
          ],
          "scattergeo": [
           {
            "marker": {
             "colorbar": {
              "outlinewidth": 0,
              "ticks": ""
             }
            },
            "type": "scattergeo"
           }
          ],
          "scattergl": [
           {
            "marker": {
             "colorbar": {
              "outlinewidth": 0,
              "ticks": ""
             }
            },
            "type": "scattergl"
           }
          ],
          "scattermapbox": [
           {
            "marker": {
             "colorbar": {
              "outlinewidth": 0,
              "ticks": ""
             }
            },
            "type": "scattermapbox"
           }
          ],
          "scatterpolar": [
           {
            "marker": {
             "colorbar": {
              "outlinewidth": 0,
              "ticks": ""
             }
            },
            "type": "scatterpolar"
           }
          ],
          "scatterpolargl": [
           {
            "marker": {
             "colorbar": {
              "outlinewidth": 0,
              "ticks": ""
             }
            },
            "type": "scatterpolargl"
           }
          ],
          "scatterternary": [
           {
            "marker": {
             "colorbar": {
              "outlinewidth": 0,
              "ticks": ""
             }
            },
            "type": "scatterternary"
           }
          ],
          "surface": [
           {
            "colorbar": {
             "outlinewidth": 0,
             "ticks": ""
            },
            "colorscale": [
             [
              0,
              "#0d0887"
             ],
             [
              0.1111111111111111,
              "#46039f"
             ],
             [
              0.2222222222222222,
              "#7201a8"
             ],
             [
              0.3333333333333333,
              "#9c179e"
             ],
             [
              0.4444444444444444,
              "#bd3786"
             ],
             [
              0.5555555555555556,
              "#d8576b"
             ],
             [
              0.6666666666666666,
              "#ed7953"
             ],
             [
              0.7777777777777778,
              "#fb9f3a"
             ],
             [
              0.8888888888888888,
              "#fdca26"
             ],
             [
              1,
              "#f0f921"
             ]
            ],
            "type": "surface"
           }
          ],
          "table": [
           {
            "cells": {
             "fill": {
              "color": "#EBF0F8"
             },
             "line": {
              "color": "white"
             }
            },
            "header": {
             "fill": {
              "color": "#C8D4E3"
             },
             "line": {
              "color": "white"
             }
            },
            "type": "table"
           }
          ]
         },
         "layout": {
          "annotationdefaults": {
           "arrowcolor": "#2a3f5f",
           "arrowhead": 0,
           "arrowwidth": 1
          },
          "autotypenumbers": "strict",
          "coloraxis": {
           "colorbar": {
            "outlinewidth": 0,
            "ticks": ""
           }
          },
          "colorscale": {
           "diverging": [
            [
             0,
             "#8e0152"
            ],
            [
             0.1,
             "#c51b7d"
            ],
            [
             0.2,
             "#de77ae"
            ],
            [
             0.3,
             "#f1b6da"
            ],
            [
             0.4,
             "#fde0ef"
            ],
            [
             0.5,
             "#f7f7f7"
            ],
            [
             0.6,
             "#e6f5d0"
            ],
            [
             0.7,
             "#b8e186"
            ],
            [
             0.8,
             "#7fbc41"
            ],
            [
             0.9,
             "#4d9221"
            ],
            [
             1,
             "#276419"
            ]
           ],
           "sequential": [
            [
             0,
             "#0d0887"
            ],
            [
             0.1111111111111111,
             "#46039f"
            ],
            [
             0.2222222222222222,
             "#7201a8"
            ],
            [
             0.3333333333333333,
             "#9c179e"
            ],
            [
             0.4444444444444444,
             "#bd3786"
            ],
            [
             0.5555555555555556,
             "#d8576b"
            ],
            [
             0.6666666666666666,
             "#ed7953"
            ],
            [
             0.7777777777777778,
             "#fb9f3a"
            ],
            [
             0.8888888888888888,
             "#fdca26"
            ],
            [
             1,
             "#f0f921"
            ]
           ],
           "sequentialminus": [
            [
             0,
             "#0d0887"
            ],
            [
             0.1111111111111111,
             "#46039f"
            ],
            [
             0.2222222222222222,
             "#7201a8"
            ],
            [
             0.3333333333333333,
             "#9c179e"
            ],
            [
             0.4444444444444444,
             "#bd3786"
            ],
            [
             0.5555555555555556,
             "#d8576b"
            ],
            [
             0.6666666666666666,
             "#ed7953"
            ],
            [
             0.7777777777777778,
             "#fb9f3a"
            ],
            [
             0.8888888888888888,
             "#fdca26"
            ],
            [
             1,
             "#f0f921"
            ]
           ]
          },
          "colorway": [
           "#636efa",
           "#EF553B",
           "#00cc96",
           "#ab63fa",
           "#FFA15A",
           "#19d3f3",
           "#FF6692",
           "#B6E880",
           "#FF97FF",
           "#FECB52"
          ],
          "font": {
           "color": "#2a3f5f"
          },
          "geo": {
           "bgcolor": "white",
           "lakecolor": "white",
           "landcolor": "#E5ECF6",
           "showlakes": true,
           "showland": true,
           "subunitcolor": "white"
          },
          "hoverlabel": {
           "align": "left"
          },
          "hovermode": "closest",
          "mapbox": {
           "style": "light"
          },
          "paper_bgcolor": "white",
          "plot_bgcolor": "#E5ECF6",
          "polar": {
           "angularaxis": {
            "gridcolor": "white",
            "linecolor": "white",
            "ticks": ""
           },
           "bgcolor": "#E5ECF6",
           "radialaxis": {
            "gridcolor": "white",
            "linecolor": "white",
            "ticks": ""
           }
          },
          "scene": {
           "xaxis": {
            "backgroundcolor": "#E5ECF6",
            "gridcolor": "white",
            "gridwidth": 2,
            "linecolor": "white",
            "showbackground": true,
            "ticks": "",
            "zerolinecolor": "white"
           },
           "yaxis": {
            "backgroundcolor": "#E5ECF6",
            "gridcolor": "white",
            "gridwidth": 2,
            "linecolor": "white",
            "showbackground": true,
            "ticks": "",
            "zerolinecolor": "white"
           },
           "zaxis": {
            "backgroundcolor": "#E5ECF6",
            "gridcolor": "white",
            "gridwidth": 2,
            "linecolor": "white",
            "showbackground": true,
            "ticks": "",
            "zerolinecolor": "white"
           }
          },
          "shapedefaults": {
           "line": {
            "color": "#2a3f5f"
           }
          },
          "ternary": {
           "aaxis": {
            "gridcolor": "white",
            "linecolor": "white",
            "ticks": ""
           },
           "baxis": {
            "gridcolor": "white",
            "linecolor": "white",
            "ticks": ""
           },
           "bgcolor": "#E5ECF6",
           "caxis": {
            "gridcolor": "white",
            "linecolor": "white",
            "ticks": ""
           }
          },
          "title": {
           "x": 0.05
          },
          "xaxis": {
           "automargin": true,
           "gridcolor": "white",
           "linecolor": "white",
           "ticks": "",
           "title": {
            "standoff": 15
           },
           "zerolinecolor": "white",
           "zerolinewidth": 2
          },
          "yaxis": {
           "automargin": true,
           "gridcolor": "white",
           "linecolor": "white",
           "ticks": "",
           "title": {
            "standoff": 15
           },
           "zerolinecolor": "white",
           "zerolinewidth": 2
          }
         }
        },
        "title": {
         "text": "N-HiTS sMAPE Contour for Hyperparameter Relationship - Horizon: 12"
        },
        "width": 800,
        "xaxis": {
         "range": [
          0.6999999999999993,
          161.3
         ],
         "title": {
          "text": "input"
         }
        },
        "yaxis": {
         "range": [
          -1.6,
          33.6
         ],
         "title": {
          "text": "downsample"
         },
         "type": "category"
        }
       }
      }
     },
     "metadata": {},
     "output_type": "display_data"
    },
    {
     "data": {
      "application/vnd.plotly.v1+json": {
       "config": {
        "plotlyServerURL": "https://plot.ly"
       },
       "data": [
        {
         "colorbar": {
          "title": {
           "text": "sMAPE"
          }
         },
         "colorscale": [
          [
           0,
           "rgb(247,251,255)"
          ],
          [
           0.125,
           "rgb(222,235,247)"
          ],
          [
           0.25,
           "rgb(198,219,239)"
          ],
          [
           0.375,
           "rgb(158,202,225)"
          ],
          [
           0.5,
           "rgb(107,174,214)"
          ],
          [
           0.625,
           "rgb(66,146,198)"
          ],
          [
           0.75,
           "rgb(33,113,181)"
          ],
          [
           0.875,
           "rgb(8,81,156)"
          ],
          [
           1,
           "rgb(8,48,107)"
          ]
         ],
         "connectgaps": true,
         "contours": {
          "coloring": "heatmap"
         },
         "hoverinfo": "none",
         "line": {
          "smoothing": 1.3
         },
         "reversescale": true,
         "type": "contour",
         "x": [
          -3.6000000000000005,
          4,
          10,
          11,
          12,
          15,
          24,
          30,
          31,
          34,
          39,
          50,
          54,
          56,
          57,
          60,
          63,
          64,
          70,
          71,
          75,
          79,
          80,
          81,
          83,
          85,
          86,
          87,
          91,
          96,
          102,
          104,
          105,
          107,
          112,
          114,
          118,
          126,
          128,
          130,
          140,
          142,
          143,
          144,
          145,
          147,
          150,
          156,
          163.6
         ],
         "y": [
          "[1, 1, 1]",
          "[1, 12, 1]",
          "[1, 12, 4]",
          "[1, 12, 52]",
          "[1, 4, 12]",
          "[1, 4, 4]",
          "[1, 4, 52]",
          "[1, 52, 12]",
          "[1, 52, 4]",
          "[12, 1, 12]",
          "[12, 1, 1]",
          "[12, 1, 4]",
          "[12, 12, 12]",
          "[12, 12, 52]",
          "[12, 4, 52]",
          "[12, 52, 12]",
          "[12, 52, 4]",
          "[4, 12, 12]",
          "[4, 4, 12]",
          "[4, 4, 4]",
          "[4, 52, 12]",
          "[4, 52, 1]",
          "[4, 52, 4]",
          "[52, 1, 1]",
          "[52, 1, 4]",
          "[52, 1, 52]",
          "[52, 12, 1]",
          "[52, 12, 4]",
          "[52, 12, 52]",
          "[52, 4, 52]",
          "[52, 52, 12]",
          "[52, 52, 4]",
          "[52, 52, 52]"
         ],
         "z": [
          [
           null,
           null,
           null,
           null,
           null,
           null,
           null,
           null,
           null,
           null,
           null,
           null,
           null,
           null,
           null,
           null,
           null,
           null,
           null,
           null,
           null,
           null,
           null,
           null,
           null,
           null,
           null,
           null,
           23.549445,
           null,
           null,
           null,
           null,
           null,
           null,
           null,
           null,
           null,
           null,
           null,
           null,
           null,
           null,
           null,
           null,
           null,
           null,
           null,
           null
          ],
          [
           null,
           null,
           null,
           null,
           null,
           null,
           null,
           null,
           null,
           null,
           null,
           null,
           null,
           null,
           null,
           null,
           null,
           null,
           null,
           null,
           null,
           null,
           null,
           24.65653,
           null,
           null,
           null,
           null,
           null,
           null,
           null,
           null,
           null,
           null,
           21.959605,
           null,
           21.458669999999998,
           null,
           null,
           null,
           null,
           null,
           null,
           null,
           null,
           null,
           null,
           null,
           null
          ],
          [
           null,
           null,
           null,
           null,
           26.809975,
           null,
           null,
           null,
           null,
           null,
           null,
           null,
           null,
           25.331879999999998,
           null,
           null,
           null,
           null,
           null,
           null,
           null,
           null,
           null,
           null,
           null,
           null,
           null,
           null,
           null,
           null,
           null,
           null,
           null,
           null,
           24.39966,
           null,
           null,
           null,
           null,
           null,
           null,
           null,
           null,
           null,
           null,
           null,
           null,
           null,
           null
          ],
          [
           null,
           null,
           null,
           null,
           null,
           null,
           null,
           null,
           null,
           null,
           null,
           null,
           null,
           null,
           null,
           null,
           null,
           null,
           null,
           null,
           null,
           null,
           null,
           null,
           null,
           null,
           null,
           null,
           null,
           null,
           null,
           null,
           null,
           22.090755,
           null,
           null,
           null,
           null,
           null,
           null,
           null,
           null,
           null,
           null,
           null,
           null,
           null,
           null,
           null
          ],
          [
           null,
           null,
           null,
           null,
           null,
           null,
           null,
           null,
           28.63919,
           null,
           null,
           null,
           null,
           null,
           null,
           null,
           null,
           22.60604,
           null,
           null,
           null,
           null,
           null,
           null,
           null,
           null,
           null,
           null,
           null,
           null,
           null,
           null,
           null,
           null,
           null,
           null,
           null,
           null,
           null,
           null,
           null,
           null,
           null,
           null,
           null,
           null,
           null,
           null,
           null
          ],
          [
           null,
           25.30231,
           null,
           null,
           null,
           null,
           null,
           null,
           null,
           null,
           null,
           null,
           null,
           null,
           null,
           null,
           null,
           null,
           null,
           null,
           null,
           null,
           null,
           null,
           null,
           26.030365,
           null,
           22.282245,
           null,
           null,
           null,
           null,
           null,
           20.3153,
           null,
           null,
           null,
           null,
           null,
           null,
           null,
           null,
           null,
           null,
           null,
           null,
           null,
           null,
           null
          ],
          [
           null,
           21.397475,
           null,
           null,
           null,
           null,
           null,
           null,
           null,
           null,
           null,
           null,
           null,
           null,
           null,
           null,
           null,
           null,
           null,
           null,
           null,
           null,
           null,
           null,
           null,
           null,
           null,
           null,
           null,
           null,
           null,
           null,
           null,
           null,
           null,
           22.926695000000002,
           null,
           null,
           24.900695,
           null,
           null,
           null,
           null,
           null,
           null,
           null,
           null,
           null,
           null
          ],
          [
           null,
           null,
           null,
           null,
           27.212615,
           null,
           null,
           null,
           null,
           null,
           null,
           null,
           26.98979,
           null,
           null,
           null,
           null,
           null,
           null,
           null,
           null,
           null,
           null,
           null,
           null,
           25.863305,
           null,
           null,
           null,
           null,
           null,
           null,
           null,
           null,
           null,
           null,
           null,
           null,
           null,
           null,
           null,
           null,
           null,
           null,
           null,
           null,
           null,
           null,
           null
          ],
          [
           null,
           null,
           null,
           null,
           null,
           null,
           null,
           null,
           null,
           null,
           null,
           null,
           null,
           null,
           null,
           null,
           null,
           22.698594999999997,
           null,
           null,
           null,
           null,
           null,
           null,
           null,
           null,
           null,
           null,
           null,
           null,
           null,
           null,
           null,
           null,
           null,
           null,
           null,
           null,
           null,
           null,
           null,
           null,
           null,
           null,
           null,
           null,
           null,
           null,
           null
          ],
          [
           null,
           null,
           33.335255000000004,
           null,
           null,
           null,
           null,
           null,
           null,
           26.581755,
           null,
           null,
           null,
           null,
           null,
           null,
           null,
           null,
           null,
           null,
           null,
           null,
           null,
           null,
           null,
           null,
           null,
           null,
           null,
           null,
           null,
           null,
           null,
           null,
           null,
           null,
           null,
           23.906825,
           27.179499999999997,
           25.259455,
           null,
           null,
           null,
           null,
           null,
           null,
           null,
           null,
           null
          ],
          [
           null,
           null,
           null,
           null,
           null,
           null,
           null,
           null,
           null,
           null,
           null,
           29.37601,
           null,
           null,
           null,
           null,
           null,
           null,
           null,
           null,
           null,
           null,
           null,
           null,
           null,
           null,
           null,
           null,
           null,
           null,
           null,
           null,
           null,
           null,
           null,
           null,
           null,
           null,
           null,
           null,
           null,
           null,
           null,
           null,
           null,
           null,
           null,
           null,
           null
          ],
          [
           null,
           null,
           null,
           null,
           null,
           null,
           30.125165,
           null,
           null,
           null,
           null,
           null,
           null,
           null,
           null,
           null,
           null,
           null,
           null,
           null,
           null,
           null,
           null,
           null,
           23.262900000000002,
           null,
           null,
           null,
           null,
           null,
           null,
           23.613115,
           null,
           null,
           null,
           null,
           null,
           null,
           null,
           null,
           24.73885,
           null,
           24.371515000000002,
           null,
           null,
           null,
           null,
           null,
           null
          ],
          [
           null,
           null,
           24.14826,
           null,
           null,
           null,
           null,
           null,
           null,
           null,
           null,
           null,
           null,
           null,
           null,
           null,
           null,
           null,
           null,
           null,
           null,
           null,
           null,
           null,
           null,
           null,
           null,
           null,
           null,
           null,
           null,
           null,
           null,
           null,
           null,
           null,
           null,
           null,
           null,
           null,
           null,
           null,
           null,
           null,
           null,
           null,
           28.74342,
           null,
           null
          ],
          [
           null,
           null,
           21.225025000000002,
           null,
           null,
           26.558805,
           null,
           null,
           null,
           null,
           null,
           null,
           null,
           null,
           null,
           null,
           null,
           null,
           null,
           null,
           null,
           null,
           null,
           null,
           null,
           null,
           null,
           null,
           null,
           null,
           null,
           22.410040000000002,
           null,
           null,
           null,
           null,
           null,
           null,
           null,
           null,
           null,
           null,
           null,
           null,
           null,
           null,
           null,
           27.12615,
           null
          ],
          [
           null,
           null,
           null,
           null,
           null,
           null,
           null,
           null,
           null,
           null,
           null,
           null,
           null,
           null,
           null,
           null,
           null,
           null,
           null,
           24.28386,
           null,
           null,
           null,
           null,
           null,
           null,
           null,
           null,
           null,
           null,
           null,
           null,
           null,
           null,
           null,
           null,
           null,
           null,
           null,
           null,
           null,
           null,
           null,
           null,
           null,
           null,
           null,
           null,
           null
          ],
          [
           null,
           null,
           null,
           null,
           null,
           null,
           null,
           null,
           null,
           null,
           null,
           null,
           null,
           null,
           null,
           null,
           null,
           null,
           null,
           null,
           null,
           null,
           null,
           null,
           null,
           null,
           null,
           null,
           null,
           null,
           null,
           null,
           null,
           null,
           null,
           null,
           null,
           null,
           null,
           null,
           null,
           null,
           null,
           24.269255,
           null,
           null,
           null,
           29.123504999999998,
           null
          ],
          [
           null,
           null,
           null,
           null,
           null,
           null,
           null,
           null,
           null,
           null,
           null,
           null,
           null,
           null,
           null,
           null,
           null,
           null,
           null,
           null,
           null,
           null,
           null,
           null,
           null,
           null,
           null,
           null,
           null,
           null,
           null,
           null,
           null,
           null,
           null,
           null,
           null,
           null,
           null,
           null,
           null,
           null,
           null,
           null,
           24.849145,
           null,
           null,
           null,
           null
          ],
          [
           null,
           null,
           null,
           null,
           null,
           null,
           null,
           null,
           null,
           null,
           null,
           null,
           null,
           null,
           null,
           null,
           null,
           null,
           null,
           null,
           null,
           null,
           25.990859999999998,
           null,
           null,
           null,
           null,
           null,
           null,
           null,
           null,
           null,
           null,
           null,
           null,
           null,
           null,
           null,
           null,
           null,
           null,
           null,
           null,
           null,
           null,
           null,
           null,
           null,
           null
          ],
          [
           null,
           null,
           null,
           null,
           null,
           null,
           null,
           null,
           null,
           null,
           null,
           null,
           null,
           null,
           null,
           null,
           null,
           null,
           null,
           null,
           null,
           null,
           null,
           null,
           null,
           null,
           null,
           null,
           null,
           null,
           23.420105,
           null,
           null,
           null,
           null,
           null,
           null,
           null,
           null,
           null,
           null,
           null,
           null,
           null,
           null,
           null,
           null,
           null,
           null
          ],
          [
           null,
           null,
           null,
           25.747905,
           null,
           null,
           null,
           null,
           null,
           25.718865,
           null,
           null,
           null,
           null,
           null,
           null,
           null,
           null,
           null,
           null,
           null,
           null,
           null,
           null,
           null,
           null,
           null,
           null,
           null,
           null,
           null,
           null,
           null,
           null,
           null,
           23.071894999999998,
           null,
           null,
           null,
           null,
           null,
           null,
           null,
           null,
           null,
           null,
           null,
           null,
           null
          ],
          [
           null,
           null,
           null,
           null,
           null,
           null,
           null,
           null,
           null,
           null,
           null,
           null,
           null,
           null,
           null,
           27.82658,
           null,
           28.300584999999998,
           null,
           null,
           null,
           null,
           null,
           null,
           null,
           null,
           null,
           null,
           null,
           null,
           null,
           null,
           null,
           null,
           null,
           null,
           null,
           null,
           null,
           null,
           null,
           null,
           null,
           null,
           null,
           null,
           null,
           null,
           null
          ],
          [
           null,
           null,
           null,
           null,
           null,
           null,
           null,
           null,
           null,
           null,
           null,
           null,
           null,
           null,
           null,
           null,
           null,
           null,
           null,
           null,
           null,
           null,
           null,
           null,
           null,
           null,
           null,
           null,
           null,
           null,
           null,
           null,
           null,
           null,
           null,
           null,
           null,
           27.56534,
           null,
           null,
           null,
           null,
           null,
           null,
           null,
           null,
           null,
           null,
           null
          ],
          [
           null,
           null,
           null,
           null,
           null,
           null,
           null,
           null,
           null,
           null,
           null,
           null,
           null,
           null,
           null,
           null,
           null,
           null,
           25.07483,
           null,
           null,
           null,
           null,
           null,
           null,
           null,
           null,
           null,
           null,
           null,
           null,
           null,
           null,
           null,
           null,
           null,
           null,
           null,
           null,
           null,
           null,
           null,
           null,
           null,
           null,
           null,
           null,
           null,
           null
          ],
          [
           null,
           null,
           null,
           null,
           null,
           null,
           null,
           null,
           null,
           null,
           null,
           null,
           null,
           null,
           null,
           null,
           null,
           null,
           25.405430000000003,
           null,
           null,
           null,
           null,
           null,
           null,
           null,
           null,
           null,
           null,
           null,
           null,
           null,
           null,
           null,
           null,
           null,
           null,
           null,
           null,
           null,
           null,
           null,
           null,
           null,
           24.550784999999998,
           null,
           null,
           null,
           null
          ],
          [
           null,
           null,
           null,
           null,
           null,
           null,
           null,
           null,
           null,
           null,
           null,
           null,
           null,
           null,
           null,
           null,
           null,
           null,
           null,
           null,
           null,
           null,
           null,
           null,
           null,
           null,
           null,
           null,
           null,
           null,
           null,
           null,
           null,
           null,
           null,
           null,
           null,
           null,
           22.56589,
           null,
           null,
           21.9643,
           null,
           null,
           null,
           null,
           null,
           null,
           null
          ],
          [
           null,
           null,
           null,
           null,
           null,
           null,
           null,
           null,
           null,
           null,
           null,
           null,
           null,
           null,
           null,
           null,
           null,
           null,
           null,
           null,
           null,
           25.23014,
           null,
           null,
           null,
           null,
           null,
           null,
           null,
           null,
           null,
           null,
           24.512855000000002,
           null,
           null,
           null,
           null,
           null,
           null,
           null,
           null,
           null,
           null,
           null,
           null,
           null,
           null,
           null,
           null
          ],
          [
           null,
           null,
           null,
           null,
           null,
           null,
           null,
           null,
           null,
           null,
           null,
           null,
           null,
           null,
           31.076909999999998,
           null,
           null,
           null,
           null,
           null,
           null,
           null,
           null,
           null,
           null,
           null,
           null,
           null,
           null,
           null,
           null,
           null,
           null,
           null,
           null,
           null,
           null,
           null,
           null,
           null,
           null,
           null,
           null,
           null,
           null,
           27.27281,
           null,
           null,
           null
          ],
          [
           null,
           null,
           null,
           null,
           null,
           null,
           null,
           null,
           null,
           null,
           null,
           null,
           null,
           null,
           null,
           null,
           null,
           null,
           null,
           null,
           null,
           null,
           null,
           null,
           null,
           null,
           null,
           null,
           null,
           23.720019999999998,
           null,
           null,
           null,
           null,
           null,
           null,
           null,
           null,
           null,
           null,
           null,
           null,
           null,
           null,
           null,
           null,
           null,
           null,
           null
          ],
          [
           null,
           21.434625,
           null,
           null,
           null,
           null,
           null,
           null,
           27.645955,
           null,
           null,
           null,
           null,
           null,
           null,
           null,
           29.395715000000003,
           null,
           null,
           null,
           null,
           null,
           null,
           null,
           null,
           null,
           null,
           null,
           24.006055,
           null,
           null,
           null,
           null,
           23.083309999999997,
           null,
           null,
           null,
           null,
           null,
           null,
           null,
           null,
           null,
           null,
           null,
           null,
           null,
           null,
           null
          ],
          [
           null,
           null,
           null,
           null,
           null,
           null,
           null,
           null,
           null,
           null,
           null,
           null,
           null,
           null,
           null,
           null,
           null,
           null,
           null,
           null,
           null,
           null,
           null,
           null,
           null,
           null,
           26.310135000000002,
           null,
           null,
           null,
           null,
           null,
           null,
           null,
           null,
           null,
           null,
           null,
           null,
           null,
           null,
           null,
           null,
           null,
           null,
           null,
           null,
           null,
           null
          ],
          [
           null,
           null,
           null,
           null,
           null,
           null,
           null,
           null,
           null,
           null,
           32.005805,
           null,
           null,
           null,
           null,
           null,
           null,
           null,
           null,
           null,
           null,
           null,
           null,
           null,
           null,
           null,
           null,
           null,
           null,
           null,
           null,
           null,
           null,
           null,
           null,
           23.14983,
           23.1211,
           null,
           null,
           null,
           null,
           null,
           24.949175,
           null,
           null,
           null,
           null,
           null,
           null
          ],
          [
           null,
           null,
           null,
           null,
           null,
           null,
           null,
           24.76885,
           null,
           null,
           null,
           null,
           null,
           null,
           null,
           null,
           null,
           null,
           null,
           null,
           null,
           null,
           null,
           null,
           null,
           null,
           null,
           null,
           null,
           null,
           null,
           null,
           null,
           null,
           null,
           null,
           null,
           null,
           null,
           null,
           null,
           null,
           null,
           null,
           null,
           null,
           null,
           null,
           null
          ],
          [
           null,
           null,
           null,
           30.792030000000004,
           null,
           null,
           null,
           null,
           null,
           null,
           null,
           null,
           null,
           null,
           null,
           null,
           null,
           null,
           null,
           null,
           28.231675,
           null,
           null,
           null,
           null,
           null,
           null,
           null,
           null,
           null,
           null,
           null,
           null,
           null,
           null,
           null,
           null,
           null,
           null,
           null,
           null,
           null,
           null,
           null,
           null,
           null,
           null,
           null,
           null
          ]
         ]
        },
        {
         "marker": {
          "color": "black",
          "line": {
           "color": "Gray",
           "width": 2
          }
         },
         "mode": "markers",
         "name": "Feasible Trial",
         "showlegend": false,
         "type": "scatter",
         "x": [
          91,
          10,
          81,
          83,
          85,
          156,
          70,
          140,
          147,
          126,
          86,
          105,
          130,
          80,
          10,
          107,
          11,
          118,
          71,
          4,
          56,
          102,
          15,
          107,
          64,
          96,
          79,
          64,
          104,
          118,
          75,
          87,
          30,
          11,
          142,
          150,
          85,
          145,
          34,
          57,
          31,
          60,
          144,
          112,
          50,
          114,
          128,
          143,
          63,
          64,
          128,
          91,
          10,
          145,
          71,
          128,
          156,
          10,
          126,
          24,
          126,
          10,
          60,
          4,
          56,
          143,
          114,
          104,
          10,
          143,
          85,
          87,
          81,
          4,
          70,
          107,
          70,
          63,
          91,
          56,
          30,
          81,
          4,
          31,
          85,
          147,
          11,
          114,
          12,
          12,
          112,
          144,
          34,
          54,
          107,
          39,
          118,
          11,
          4,
          102
         ],
         "y": [
          "[52, 12, 52]",
          "[12, 12, 12]",
          "[1, 12, 1]",
          "[12, 1, 4]",
          "[1, 4, 4]",
          "[12, 12, 52]",
          "[52, 1, 1]",
          "[12, 1, 4]",
          "[52, 12, 1]",
          "[12, 1, 12]",
          "[52, 4, 52]",
          "[52, 1, 52]",
          "[12, 1, 12]",
          "[4, 12, 12]",
          "[12, 12, 52]",
          "[52, 12, 52]",
          "[52, 52, 52]",
          "[1, 12, 1]",
          "[12, 4, 52]",
          "[1, 4, 4]",
          "[1, 12, 4]",
          "[4, 4, 12]",
          "[12, 12, 52]",
          "[1, 12, 52]",
          "[1, 4, 12]",
          "[52, 12, 4]",
          "[52, 1, 52]",
          "[4, 52, 12]",
          "[12, 12, 52]",
          "[52, 52, 12]",
          "[52, 52, 52]",
          "[1, 4, 4]",
          "[52, 52, 4]",
          "[4, 4, 4]",
          "[52, 1, 4]",
          "[12, 12, 12]",
          "[1, 52, 12]",
          "[12, 52, 4]",
          "[4, 4, 4]",
          "[52, 12, 1]",
          "[1, 4, 12]",
          "[4, 52, 12]",
          "[12, 52, 12]",
          "[1, 12, 4]",
          "[12, 1, 1]",
          "[52, 52, 12]",
          "[1, 4, 52]",
          "[52, 52, 12]",
          "[52, 12, 52]",
          "[1, 52, 4]",
          "[12, 1, 12]",
          "[52, 12, 52]",
          "[12, 12, 52]",
          "[52, 1, 1]",
          "[12, 4, 52]",
          "[52, 1, 4]",
          "[12, 52, 12]",
          "[12, 1, 12]",
          "[12, 1, 12]",
          "[12, 1, 4]",
          "[4, 52, 1]",
          "[12, 12, 52]",
          "[4, 52, 12]",
          "[1, 4, 4]",
          "[1, 12, 4]",
          "[52, 52, 12]",
          "[4, 4, 4]",
          "[12, 1, 4]",
          "[12, 12, 52]",
          "[12, 1, 4]",
          "[1, 4, 4]",
          "[1, 4, 4]",
          "[1, 12, 1]",
          "[52, 12, 52]",
          "[4, 52, 4]",
          "[52, 12, 52]",
          "[52, 1, 1]",
          "[52, 12, 52]",
          "[1, 1, 1]",
          "[1, 12, 4]",
          "[52, 52, 4]",
          "[1, 12, 1]",
          "[1, 4, 52]",
          "[52, 12, 52]",
          "[1, 4, 4]",
          "[52, 12, 1]",
          "[4, 4, 4]",
          "[1, 4, 52]",
          "[1, 52, 12]",
          "[1, 12, 4]",
          "[1, 12, 1]",
          "[12, 52, 12]",
          "[12, 1, 12]",
          "[1, 52, 12]",
          "[1, 4, 4]",
          "[52, 52, 12]",
          "[1, 12, 1]",
          "[4, 4, 4]",
          "[1, 4, 4]",
          "[4, 4, 12]"
         ]
        },
        {
         "marker": {
          "color": "#cccccc",
          "line": {
           "color": "Gray",
           "width": 2
          }
         },
         "mode": "markers",
         "name": "Infeasible Trial",
         "showlegend": false,
         "type": "scatter",
         "x": [],
         "y": []
        }
       ],
       "layout": {
        "height": 800,
        "plot_bgcolor": "white",
        "template": {
         "data": {
          "bar": [
           {
            "error_x": {
             "color": "#2a3f5f"
            },
            "error_y": {
             "color": "#2a3f5f"
            },
            "marker": {
             "line": {
              "color": "#E5ECF6",
              "width": 0.5
             },
             "pattern": {
              "fillmode": "overlay",
              "size": 10,
              "solidity": 0.2
             }
            },
            "type": "bar"
           }
          ],
          "barpolar": [
           {
            "marker": {
             "line": {
              "color": "#E5ECF6",
              "width": 0.5
             },
             "pattern": {
              "fillmode": "overlay",
              "size": 10,
              "solidity": 0.2
             }
            },
            "type": "barpolar"
           }
          ],
          "carpet": [
           {
            "aaxis": {
             "endlinecolor": "#2a3f5f",
             "gridcolor": "white",
             "linecolor": "white",
             "minorgridcolor": "white",
             "startlinecolor": "#2a3f5f"
            },
            "baxis": {
             "endlinecolor": "#2a3f5f",
             "gridcolor": "white",
             "linecolor": "white",
             "minorgridcolor": "white",
             "startlinecolor": "#2a3f5f"
            },
            "type": "carpet"
           }
          ],
          "choropleth": [
           {
            "colorbar": {
             "outlinewidth": 0,
             "ticks": ""
            },
            "type": "choropleth"
           }
          ],
          "contour": [
           {
            "colorbar": {
             "outlinewidth": 0,
             "ticks": ""
            },
            "colorscale": [
             [
              0,
              "#0d0887"
             ],
             [
              0.1111111111111111,
              "#46039f"
             ],
             [
              0.2222222222222222,
              "#7201a8"
             ],
             [
              0.3333333333333333,
              "#9c179e"
             ],
             [
              0.4444444444444444,
              "#bd3786"
             ],
             [
              0.5555555555555556,
              "#d8576b"
             ],
             [
              0.6666666666666666,
              "#ed7953"
             ],
             [
              0.7777777777777778,
              "#fb9f3a"
             ],
             [
              0.8888888888888888,
              "#fdca26"
             ],
             [
              1,
              "#f0f921"
             ]
            ],
            "type": "contour"
           }
          ],
          "contourcarpet": [
           {
            "colorbar": {
             "outlinewidth": 0,
             "ticks": ""
            },
            "type": "contourcarpet"
           }
          ],
          "heatmap": [
           {
            "colorbar": {
             "outlinewidth": 0,
             "ticks": ""
            },
            "colorscale": [
             [
              0,
              "#0d0887"
             ],
             [
              0.1111111111111111,
              "#46039f"
             ],
             [
              0.2222222222222222,
              "#7201a8"
             ],
             [
              0.3333333333333333,
              "#9c179e"
             ],
             [
              0.4444444444444444,
              "#bd3786"
             ],
             [
              0.5555555555555556,
              "#d8576b"
             ],
             [
              0.6666666666666666,
              "#ed7953"
             ],
             [
              0.7777777777777778,
              "#fb9f3a"
             ],
             [
              0.8888888888888888,
              "#fdca26"
             ],
             [
              1,
              "#f0f921"
             ]
            ],
            "type": "heatmap"
           }
          ],
          "heatmapgl": [
           {
            "colorbar": {
             "outlinewidth": 0,
             "ticks": ""
            },
            "colorscale": [
             [
              0,
              "#0d0887"
             ],
             [
              0.1111111111111111,
              "#46039f"
             ],
             [
              0.2222222222222222,
              "#7201a8"
             ],
             [
              0.3333333333333333,
              "#9c179e"
             ],
             [
              0.4444444444444444,
              "#bd3786"
             ],
             [
              0.5555555555555556,
              "#d8576b"
             ],
             [
              0.6666666666666666,
              "#ed7953"
             ],
             [
              0.7777777777777778,
              "#fb9f3a"
             ],
             [
              0.8888888888888888,
              "#fdca26"
             ],
             [
              1,
              "#f0f921"
             ]
            ],
            "type": "heatmapgl"
           }
          ],
          "histogram": [
           {
            "marker": {
             "pattern": {
              "fillmode": "overlay",
              "size": 10,
              "solidity": 0.2
             }
            },
            "type": "histogram"
           }
          ],
          "histogram2d": [
           {
            "colorbar": {
             "outlinewidth": 0,
             "ticks": ""
            },
            "colorscale": [
             [
              0,
              "#0d0887"
             ],
             [
              0.1111111111111111,
              "#46039f"
             ],
             [
              0.2222222222222222,
              "#7201a8"
             ],
             [
              0.3333333333333333,
              "#9c179e"
             ],
             [
              0.4444444444444444,
              "#bd3786"
             ],
             [
              0.5555555555555556,
              "#d8576b"
             ],
             [
              0.6666666666666666,
              "#ed7953"
             ],
             [
              0.7777777777777778,
              "#fb9f3a"
             ],
             [
              0.8888888888888888,
              "#fdca26"
             ],
             [
              1,
              "#f0f921"
             ]
            ],
            "type": "histogram2d"
           }
          ],
          "histogram2dcontour": [
           {
            "colorbar": {
             "outlinewidth": 0,
             "ticks": ""
            },
            "colorscale": [
             [
              0,
              "#0d0887"
             ],
             [
              0.1111111111111111,
              "#46039f"
             ],
             [
              0.2222222222222222,
              "#7201a8"
             ],
             [
              0.3333333333333333,
              "#9c179e"
             ],
             [
              0.4444444444444444,
              "#bd3786"
             ],
             [
              0.5555555555555556,
              "#d8576b"
             ],
             [
              0.6666666666666666,
              "#ed7953"
             ],
             [
              0.7777777777777778,
              "#fb9f3a"
             ],
             [
              0.8888888888888888,
              "#fdca26"
             ],
             [
              1,
              "#f0f921"
             ]
            ],
            "type": "histogram2dcontour"
           }
          ],
          "mesh3d": [
           {
            "colorbar": {
             "outlinewidth": 0,
             "ticks": ""
            },
            "type": "mesh3d"
           }
          ],
          "parcoords": [
           {
            "line": {
             "colorbar": {
              "outlinewidth": 0,
              "ticks": ""
             }
            },
            "type": "parcoords"
           }
          ],
          "pie": [
           {
            "automargin": true,
            "type": "pie"
           }
          ],
          "scatter": [
           {
            "fillpattern": {
             "fillmode": "overlay",
             "size": 10,
             "solidity": 0.2
            },
            "type": "scatter"
           }
          ],
          "scatter3d": [
           {
            "line": {
             "colorbar": {
              "outlinewidth": 0,
              "ticks": ""
             }
            },
            "marker": {
             "colorbar": {
              "outlinewidth": 0,
              "ticks": ""
             }
            },
            "type": "scatter3d"
           }
          ],
          "scattercarpet": [
           {
            "marker": {
             "colorbar": {
              "outlinewidth": 0,
              "ticks": ""
             }
            },
            "type": "scattercarpet"
           }
          ],
          "scattergeo": [
           {
            "marker": {
             "colorbar": {
              "outlinewidth": 0,
              "ticks": ""
             }
            },
            "type": "scattergeo"
           }
          ],
          "scattergl": [
           {
            "marker": {
             "colorbar": {
              "outlinewidth": 0,
              "ticks": ""
             }
            },
            "type": "scattergl"
           }
          ],
          "scattermapbox": [
           {
            "marker": {
             "colorbar": {
              "outlinewidth": 0,
              "ticks": ""
             }
            },
            "type": "scattermapbox"
           }
          ],
          "scatterpolar": [
           {
            "marker": {
             "colorbar": {
              "outlinewidth": 0,
              "ticks": ""
             }
            },
            "type": "scatterpolar"
           }
          ],
          "scatterpolargl": [
           {
            "marker": {
             "colorbar": {
              "outlinewidth": 0,
              "ticks": ""
             }
            },
            "type": "scatterpolargl"
           }
          ],
          "scatterternary": [
           {
            "marker": {
             "colorbar": {
              "outlinewidth": 0,
              "ticks": ""
             }
            },
            "type": "scatterternary"
           }
          ],
          "surface": [
           {
            "colorbar": {
             "outlinewidth": 0,
             "ticks": ""
            },
            "colorscale": [
             [
              0,
              "#0d0887"
             ],
             [
              0.1111111111111111,
              "#46039f"
             ],
             [
              0.2222222222222222,
              "#7201a8"
             ],
             [
              0.3333333333333333,
              "#9c179e"
             ],
             [
              0.4444444444444444,
              "#bd3786"
             ],
             [
              0.5555555555555556,
              "#d8576b"
             ],
             [
              0.6666666666666666,
              "#ed7953"
             ],
             [
              0.7777777777777778,
              "#fb9f3a"
             ],
             [
              0.8888888888888888,
              "#fdca26"
             ],
             [
              1,
              "#f0f921"
             ]
            ],
            "type": "surface"
           }
          ],
          "table": [
           {
            "cells": {
             "fill": {
              "color": "#EBF0F8"
             },
             "line": {
              "color": "white"
             }
            },
            "header": {
             "fill": {
              "color": "#C8D4E3"
             },
             "line": {
              "color": "white"
             }
            },
            "type": "table"
           }
          ]
         },
         "layout": {
          "annotationdefaults": {
           "arrowcolor": "#2a3f5f",
           "arrowhead": 0,
           "arrowwidth": 1
          },
          "autotypenumbers": "strict",
          "coloraxis": {
           "colorbar": {
            "outlinewidth": 0,
            "ticks": ""
           }
          },
          "colorscale": {
           "diverging": [
            [
             0,
             "#8e0152"
            ],
            [
             0.1,
             "#c51b7d"
            ],
            [
             0.2,
             "#de77ae"
            ],
            [
             0.3,
             "#f1b6da"
            ],
            [
             0.4,
             "#fde0ef"
            ],
            [
             0.5,
             "#f7f7f7"
            ],
            [
             0.6,
             "#e6f5d0"
            ],
            [
             0.7,
             "#b8e186"
            ],
            [
             0.8,
             "#7fbc41"
            ],
            [
             0.9,
             "#4d9221"
            ],
            [
             1,
             "#276419"
            ]
           ],
           "sequential": [
            [
             0,
             "#0d0887"
            ],
            [
             0.1111111111111111,
             "#46039f"
            ],
            [
             0.2222222222222222,
             "#7201a8"
            ],
            [
             0.3333333333333333,
             "#9c179e"
            ],
            [
             0.4444444444444444,
             "#bd3786"
            ],
            [
             0.5555555555555556,
             "#d8576b"
            ],
            [
             0.6666666666666666,
             "#ed7953"
            ],
            [
             0.7777777777777778,
             "#fb9f3a"
            ],
            [
             0.8888888888888888,
             "#fdca26"
            ],
            [
             1,
             "#f0f921"
            ]
           ],
           "sequentialminus": [
            [
             0,
             "#0d0887"
            ],
            [
             0.1111111111111111,
             "#46039f"
            ],
            [
             0.2222222222222222,
             "#7201a8"
            ],
            [
             0.3333333333333333,
             "#9c179e"
            ],
            [
             0.4444444444444444,
             "#bd3786"
            ],
            [
             0.5555555555555556,
             "#d8576b"
            ],
            [
             0.6666666666666666,
             "#ed7953"
            ],
            [
             0.7777777777777778,
             "#fb9f3a"
            ],
            [
             0.8888888888888888,
             "#fdca26"
            ],
            [
             1,
             "#f0f921"
            ]
           ]
          },
          "colorway": [
           "#636efa",
           "#EF553B",
           "#00cc96",
           "#ab63fa",
           "#FFA15A",
           "#19d3f3",
           "#FF6692",
           "#B6E880",
           "#FF97FF",
           "#FECB52"
          ],
          "font": {
           "color": "#2a3f5f"
          },
          "geo": {
           "bgcolor": "white",
           "lakecolor": "white",
           "landcolor": "#E5ECF6",
           "showlakes": true,
           "showland": true,
           "subunitcolor": "white"
          },
          "hoverlabel": {
           "align": "left"
          },
          "hovermode": "closest",
          "mapbox": {
           "style": "light"
          },
          "paper_bgcolor": "white",
          "plot_bgcolor": "#E5ECF6",
          "polar": {
           "angularaxis": {
            "gridcolor": "white",
            "linecolor": "white",
            "ticks": ""
           },
           "bgcolor": "#E5ECF6",
           "radialaxis": {
            "gridcolor": "white",
            "linecolor": "white",
            "ticks": ""
           }
          },
          "scene": {
           "xaxis": {
            "backgroundcolor": "#E5ECF6",
            "gridcolor": "white",
            "gridwidth": 2,
            "linecolor": "white",
            "showbackground": true,
            "ticks": "",
            "zerolinecolor": "white"
           },
           "yaxis": {
            "backgroundcolor": "#E5ECF6",
            "gridcolor": "white",
            "gridwidth": 2,
            "linecolor": "white",
            "showbackground": true,
            "ticks": "",
            "zerolinecolor": "white"
           },
           "zaxis": {
            "backgroundcolor": "#E5ECF6",
            "gridcolor": "white",
            "gridwidth": 2,
            "linecolor": "white",
            "showbackground": true,
            "ticks": "",
            "zerolinecolor": "white"
           }
          },
          "shapedefaults": {
           "line": {
            "color": "#2a3f5f"
           }
          },
          "ternary": {
           "aaxis": {
            "gridcolor": "white",
            "linecolor": "white",
            "ticks": ""
           },
           "baxis": {
            "gridcolor": "white",
            "linecolor": "white",
            "ticks": ""
           },
           "bgcolor": "#E5ECF6",
           "caxis": {
            "gridcolor": "white",
            "linecolor": "white",
            "ticks": ""
           }
          },
          "title": {
           "x": 0.05
          },
          "xaxis": {
           "automargin": true,
           "gridcolor": "white",
           "linecolor": "white",
           "ticks": "",
           "title": {
            "standoff": 15
           },
           "zerolinecolor": "white",
           "zerolinewidth": 2
          },
          "yaxis": {
           "automargin": true,
           "gridcolor": "white",
           "linecolor": "white",
           "ticks": "",
           "title": {
            "standoff": 15
           },
           "zerolinecolor": "white",
           "zerolinewidth": 2
          }
         }
        },
        "title": {
         "text": "N-HiTS sMAPE Contour for Hyperparameter Relationship - Horizon: 26"
        },
        "width": 800,
        "xaxis": {
         "range": [
          -3.6000000000000005,
          163.6
         ],
         "title": {
          "text": "input"
         }
        },
        "yaxis": {
         "range": [
          -1.6,
          33.6
         ],
         "title": {
          "text": "downsample"
         },
         "type": "category"
        }
       }
      }
     },
     "metadata": {},
     "output_type": "display_data"
    },
    {
     "data": {
      "application/vnd.plotly.v1+json": {
       "config": {
        "plotlyServerURL": "https://plot.ly"
       },
       "data": [
        {
         "colorbar": {
          "title": {
           "text": "sMAPE"
          }
         },
         "colorscale": [
          [
           0,
           "rgb(247,251,255)"
          ],
          [
           0.125,
           "rgb(222,235,247)"
          ],
          [
           0.25,
           "rgb(198,219,239)"
          ],
          [
           0.375,
           "rgb(158,202,225)"
          ],
          [
           0.5,
           "rgb(107,174,214)"
          ],
          [
           0.625,
           "rgb(66,146,198)"
          ],
          [
           0.75,
           "rgb(33,113,181)"
          ],
          [
           0.875,
           "rgb(8,81,156)"
          ],
          [
           1,
           "rgb(8,48,107)"
          ]
         ],
         "connectgaps": true,
         "contours": {
          "coloring": "heatmap"
         },
         "hoverinfo": "none",
         "line": {
          "smoothing": 1.3
         },
         "reversescale": true,
         "type": "contour",
         "x": [
          -2.45,
          5,
          6,
          7,
          9,
          17,
          19,
          25,
          27,
          31,
          33,
          36,
          37,
          41,
          43,
          44,
          45,
          46,
          47,
          48,
          53,
          57,
          68,
          70,
          71,
          74,
          78,
          79,
          81,
          85,
          87,
          89,
          92,
          109,
          112,
          114,
          115,
          118,
          123,
          125,
          131,
          133,
          135,
          137,
          138,
          139,
          141,
          144,
          145,
          148,
          151,
          154,
          161.45
         ],
         "y": [
          "[1, 1, 12]",
          "[1, 1, 4]",
          "[1, 1, 52]",
          "[1, 12, 4]",
          "[1, 4, 1]",
          "[1, 4, 4]",
          "[1, 4, 52]",
          "[1, 52, 52]",
          "[12, 1, 1]",
          "[12, 1, 52]",
          "[12, 12, 12]",
          "[12, 4, 12]",
          "[12, 4, 1]",
          "[12, 4, 52]",
          "[12, 52, 12]",
          "[12, 52, 1]",
          "[12, 52, 4]",
          "[12, 52, 52]",
          "[4, 1, 12]",
          "[4, 12, 12]",
          "[4, 12, 1]",
          "[4, 12, 4]",
          "[4, 12, 52]",
          "[4, 4, 12]",
          "[4, 4, 1]",
          "[4, 4, 52]",
          "[4, 52, 12]",
          "[4, 52, 1]",
          "[4, 52, 52]",
          "[52, 1, 12]",
          "[52, 1, 4]",
          "[52, 12, 1]",
          "[52, 12, 4]",
          "[52, 12, 52]",
          "[52, 4, 12]",
          "[52, 4, 1]",
          "[52, 52, 1]",
          "[52, 52, 4]",
          "[52, 52, 52]"
         ],
         "z": [
          [
           null,
           24.5229,
           null,
           null,
           null,
           null,
           null,
           null,
           null,
           null,
           null,
           null,
           25.40718,
           null,
           null,
           null,
           null,
           null,
           null,
           null,
           null,
           null,
           null,
           null,
           null,
           null,
           null,
           null,
           null,
           null,
           null,
           null,
           null,
           null,
           null,
           null,
           null,
           null,
           null,
           null,
           null,
           null,
           null,
           null,
           null,
           null,
           null,
           null,
           null,
           null,
           null,
           null,
           null
          ],
          [
           null,
           null,
           null,
           null,
           null,
           null,
           null,
           null,
           null,
           null,
           null,
           null,
           null,
           null,
           null,
           null,
           null,
           null,
           null,
           null,
           null,
           null,
           null,
           null,
           null,
           null,
           null,
           null,
           null,
           null,
           null,
           null,
           null,
           null,
           null,
           null,
           null,
           null,
           null,
           null,
           null,
           null,
           null,
           null,
           null,
           null,
           null,
           29.358915,
           null,
           null,
           null,
           null,
           null
          ],
          [
           null,
           null,
           null,
           null,
           null,
           null,
           null,
           26.568385,
           null,
           null,
           null,
           null,
           null,
           null,
           null,
           null,
           null,
           null,
           22.04793,
           null,
           null,
           null,
           null,
           null,
           20.436105,
           null,
           null,
           null,
           null,
           null,
           null,
           null,
           null,
           null,
           null,
           null,
           null,
           null,
           null,
           null,
           null,
           null,
           null,
           null,
           null,
           26.057949999999998,
           null,
           null,
           null,
           null,
           null,
           null,
           null
          ],
          [
           null,
           null,
           null,
           null,
           null,
           null,
           null,
           null,
           null,
           null,
           null,
           null,
           null,
           null,
           null,
           null,
           null,
           null,
           null,
           null,
           null,
           null,
           null,
           21.0155,
           null,
           null,
           null,
           null,
           null,
           null,
           null,
           null,
           null,
           null,
           null,
           null,
           null,
           null,
           null,
           null,
           null,
           null,
           null,
           null,
           null,
           null,
           null,
           null,
           null,
           null,
           null,
           null,
           null
          ],
          [
           null,
           null,
           null,
           null,
           null,
           null,
           null,
           null,
           null,
           25.055315,
           null,
           null,
           null,
           null,
           null,
           null,
           null,
           null,
           null,
           null,
           null,
           null,
           null,
           null,
           null,
           null,
           null,
           null,
           null,
           null,
           null,
           null,
           null,
           null,
           null,
           null,
           null,
           null,
           null,
           28.03541,
           null,
           null,
           null,
           null,
           null,
           null,
           null,
           null,
           null,
           null,
           null,
           null,
           null
          ],
          [
           null,
           null,
           null,
           null,
           null,
           null,
           null,
           null,
           null,
           null,
           null,
           null,
           null,
           null,
           21.752045000000003,
           null,
           null,
           null,
           null,
           null,
           null,
           null,
           null,
           null,
           null,
           null,
           null,
           null,
           null,
           null,
           null,
           null,
           null,
           null,
           null,
           null,
           null,
           null,
           null,
           null,
           null,
           null,
           null,
           null,
           null,
           null,
           null,
           null,
           null,
           null,
           null,
           null,
           null
          ],
          [
           null,
           null,
           null,
           null,
           null,
           null,
           null,
           null,
           null,
           null,
           null,
           null,
           null,
           null,
           null,
           null,
           24.060225,
           null,
           null,
           null,
           null,
           null,
           null,
           null,
           null,
           null,
           null,
           null,
           null,
           null,
           null,
           null,
           null,
           null,
           null,
           null,
           null,
           null,
           null,
           null,
           null,
           null,
           null,
           null,
           null,
           null,
           null,
           null,
           null,
           null,
           null,
           null,
           null
          ],
          [
           null,
           null,
           null,
           null,
           null,
           null,
           null,
           null,
           null,
           null,
           null,
           null,
           null,
           null,
           null,
           null,
           null,
           null,
           null,
           null,
           null,
           null,
           null,
           null,
           null,
           null,
           null,
           null,
           null,
           null,
           null,
           null,
           null,
           null,
           null,
           null,
           null,
           null,
           null,
           null,
           null,
           null,
           null,
           null,
           null,
           null,
           null,
           null,
           null,
           null,
           null,
           27.88684,
           null
          ],
          [
           null,
           null,
           null,
           29.720245,
           null,
           null,
           null,
           null,
           null,
           null,
           null,
           null,
           null,
           null,
           null,
           null,
           null,
           null,
           null,
           null,
           null,
           null,
           null,
           null,
           null,
           null,
           null,
           null,
           null,
           null,
           null,
           null,
           null,
           null,
           null,
           null,
           null,
           null,
           null,
           null,
           null,
           null,
           null,
           null,
           null,
           null,
           null,
           null,
           null,
           null,
           null,
           null,
           null
          ],
          [
           null,
           null,
           null,
           null,
           null,
           null,
           null,
           null,
           null,
           null,
           null,
           null,
           null,
           null,
           null,
           null,
           null,
           null,
           null,
           null,
           null,
           null,
           null,
           null,
           null,
           null,
           null,
           null,
           null,
           null,
           null,
           22.391185,
           null,
           null,
           null,
           21.67651,
           null,
           null,
           null,
           null,
           null,
           null,
           null,
           null,
           null,
           null,
           null,
           null,
           null,
           null,
           null,
           null,
           null
          ],
          [
           null,
           null,
           null,
           null,
           null,
           null,
           null,
           null,
           26.41362,
           null,
           null,
           null,
           null,
           null,
           null,
           null,
           null,
           null,
           null,
           null,
           21.475845,
           null,
           null,
           null,
           null,
           null,
           22.6329,
           null,
           null,
           null,
           null,
           null,
           null,
           null,
           null,
           null,
           null,
           null,
           null,
           null,
           null,
           null,
           null,
           null,
           null,
           null,
           null,
           null,
           null,
           null,
           null,
           null,
           null
          ],
          [
           null,
           null,
           null,
           null,
           null,
           null,
           null,
           null,
           null,
           null,
           null,
           null,
           null,
           null,
           null,
           null,
           null,
           null,
           23.727314999999997,
           null,
           null,
           21.02901,
           null,
           null,
           null,
           null,
           null,
           null,
           null,
           null,
           null,
           23.80001,
           23.559125,
           null,
           null,
           null,
           null,
           null,
           23.387140000000002,
           null,
           null,
           null,
           null,
           null,
           null,
           null,
           null,
           null,
           null,
           null,
           null,
           null,
           null
          ],
          [
           null,
           null,
           null,
           null,
           null,
           null,
           null,
           null,
           null,
           null,
           null,
           null,
           null,
           null,
           null,
           null,
           null,
           null,
           null,
           null,
           null,
           null,
           null,
           null,
           null,
           null,
           null,
           20.846085000000002,
           null,
           null,
           22.187735,
           null,
           null,
           null,
           null,
           null,
           null,
           null,
           null,
           null,
           null,
           null,
           null,
           null,
           null,
           null,
           null,
           null,
           null,
           null,
           null,
           null,
           null
          ],
          [
           null,
           null,
           27.727135,
           null,
           null,
           31.99135,
           null,
           null,
           null,
           null,
           25.583395,
           null,
           null,
           null,
           null,
           null,
           null,
           null,
           null,
           22.85745,
           null,
           null,
           null,
           null,
           null,
           21.91426,
           null,
           null,
           null,
           null,
           null,
           null,
           null,
           null,
           null,
           null,
           null,
           21.836109999999998,
           null,
           null,
           null,
           null,
           null,
           null,
           null,
           null,
           null,
           null,
           null,
           null,
           null,
           null,
           null
          ],
          [
           null,
           null,
           null,
           null,
           null,
           null,
           null,
           null,
           null,
           null,
           null,
           null,
           null,
           null,
           null,
           null,
           null,
           null,
           null,
           null,
           null,
           null,
           null,
           null,
           null,
           null,
           null,
           null,
           null,
           null,
           null,
           null,
           27.09006,
           null,
           null,
           null,
           null,
           null,
           null,
           null,
           null,
           null,
           null,
           24.82292,
           null,
           null,
           null,
           null,
           null,
           null,
           null,
           null,
           null
          ],
          [
           null,
           null,
           null,
           null,
           null,
           null,
           null,
           null,
           null,
           null,
           null,
           null,
           null,
           null,
           null,
           null,
           null,
           null,
           null,
           null,
           null,
           null,
           null,
           null,
           null,
           null,
           null,
           null,
           null,
           null,
           null,
           null,
           null,
           null,
           23.968825,
           null,
           null,
           null,
           null,
           null,
           null,
           null,
           null,
           null,
           null,
           null,
           null,
           null,
           null,
           null,
           null,
           null,
           null
          ],
          [
           null,
           null,
           null,
           null,
           null,
           null,
           null,
           null,
           null,
           null,
           null,
           null,
           null,
           null,
           null,
           null,
           null,
           null,
           null,
           null,
           null,
           null,
           null,
           null,
           null,
           null,
           null,
           null,
           19.852505,
           null,
           null,
           null,
           null,
           null,
           null,
           null,
           null,
           null,
           null,
           null,
           null,
           null,
           null,
           null,
           null,
           null,
           null,
           null,
           null,
           null,
           null,
           null,
           null
          ],
          [
           null,
           null,
           null,
           null,
           null,
           null,
           null,
           null,
           null,
           null,
           null,
           null,
           null,
           null,
           null,
           null,
           null,
           null,
           null,
           null,
           null,
           null,
           null,
           null,
           null,
           null,
           null,
           null,
           null,
           null,
           null,
           null,
           null,
           null,
           null,
           null,
           null,
           null,
           null,
           null,
           null,
           null,
           23.39847,
           null,
           null,
           null,
           null,
           null,
           null,
           null,
           null,
           null,
           null
          ],
          [
           null,
           null,
           null,
           null,
           null,
           null,
           null,
           null,
           null,
           null,
           null,
           null,
           null,
           null,
           null,
           null,
           null,
           null,
           null,
           null,
           null,
           null,
           null,
           20.759099999999997,
           null,
           null,
           null,
           null,
           null,
           null,
           null,
           null,
           null,
           null,
           null,
           null,
           null,
           null,
           null,
           null,
           null,
           null,
           null,
           null,
           null,
           null,
           null,
           null,
           null,
           null,
           null,
           null,
           null
          ],
          [
           null,
           null,
           null,
           null,
           null,
           null,
           null,
           null,
           null,
           null,
           null,
           null,
           null,
           null,
           null,
           null,
           null,
           null,
           null,
           null,
           null,
           23.286405,
           null,
           null,
           null,
           null,
           null,
           null,
           null,
           null,
           null,
           null,
           null,
           null,
           null,
           null,
           null,
           null,
           null,
           null,
           null,
           null,
           null,
           null,
           24.721105,
           null,
           null,
           null,
           null,
           null,
           null,
           null,
           null
          ],
          [
           null,
           null,
           null,
           null,
           null,
           null,
           27.083305,
           null,
           null,
           null,
           null,
           null,
           null,
           null,
           null,
           null,
           null,
           null,
           null,
           null,
           null,
           null,
           null,
           null,
           null,
           null,
           null,
           null,
           null,
           null,
           null,
           null,
           null,
           null,
           null,
           null,
           null,
           null,
           null,
           null,
           29.915165,
           null,
           null,
           null,
           null,
           null,
           null,
           null,
           null,
           null,
           null,
           null,
           null
          ],
          [
           null,
           null,
           null,
           null,
           null,
           null,
           null,
           null,
           null,
           null,
           null,
           25.528039999999997,
           null,
           23.21387,
           null,
           null,
           21.77512,
           null,
           null,
           null,
           null,
           null,
           null,
           null,
           null,
           null,
           null,
           null,
           null,
           null,
           null,
           null,
           null,
           null,
           null,
           null,
           null,
           null,
           null,
           null,
           null,
           23.23475,
           null,
           null,
           null,
           null,
           null,
           null,
           null,
           null,
           null,
           null,
           null
          ],
          [
           null,
           null,
           null,
           null,
           null,
           null,
           null,
           null,
           null,
           null,
           null,
           null,
           null,
           null,
           null,
           null,
           null,
           null,
           null,
           null,
           null,
           null,
           null,
           null,
           null,
           null,
           null,
           null,
           null,
           null,
           null,
           null,
           null,
           null,
           null,
           null,
           null,
           null,
           null,
           null,
           null,
           null,
           null,
           null,
           null,
           null,
           null,
           null,
           null,
           null,
           28.612775,
           null,
           null
          ],
          [
           null,
           null,
           null,
           null,
           null,
           null,
           null,
           null,
           null,
           null,
           null,
           null,
           null,
           null,
           null,
           null,
           null,
           null,
           null,
           null,
           24.83003,
           null,
           null,
           null,
           null,
           null,
           null,
           null,
           null,
           null,
           null,
           null,
           null,
           null,
           null,
           null,
           null,
           null,
           21.60731,
           null,
           null,
           null,
           null,
           null,
           null,
           null,
           null,
           null,
           null,
           null,
           null,
           null,
           null
          ],
          [
           null,
           null,
           null,
           null,
           null,
           null,
           null,
           null,
           null,
           null,
           null,
           null,
           null,
           null,
           23.522585,
           null,
           null,
           null,
           null,
           null,
           null,
           null,
           null,
           20.94795,
           null,
           null,
           null,
           null,
           null,
           null,
           null,
           null,
           null,
           null,
           null,
           null,
           null,
           null,
           null,
           null,
           null,
           null,
           null,
           null,
           23.39935,
           null,
           null,
           null,
           null,
           null,
           null,
           null,
           null
          ],
          [
           null,
           null,
           null,
           null,
           null,
           null,
           null,
           null,
           null,
           null,
           null,
           null,
           null,
           null,
           null,
           null,
           null,
           null,
           null,
           null,
           null,
           null,
           null,
           null,
           null,
           21.52319,
           null,
           null,
           null,
           null,
           null,
           null,
           null,
           null,
           22.867055,
           20.177509999999998,
           null,
           null,
           null,
           null,
           null,
           null,
           null,
           null,
           null,
           null,
           null,
           null,
           null,
           null,
           null,
           null,
           null
          ],
          [
           null,
           null,
           null,
           null,
           null,
           null,
           null,
           null,
           null,
           null,
           null,
           null,
           null,
           null,
           null,
           null,
           null,
           null,
           null,
           null,
           null,
           null,
           null,
           null,
           null,
           21.066595,
           null,
           null,
           null,
           null,
           null,
           null,
           null,
           null,
           null,
           null,
           null,
           null,
           null,
           null,
           null,
           null,
           null,
           null,
           null,
           null,
           24.90001,
           null,
           null,
           null,
           null,
           null,
           null
          ],
          [
           null,
           null,
           null,
           null,
           null,
           null,
           null,
           null,
           null,
           null,
           null,
           null,
           null,
           null,
           null,
           null,
           null,
           null,
           null,
           null,
           null,
           null,
           null,
           null,
           null,
           null,
           null,
           null,
           null,
           null,
           null,
           null,
           null,
           null,
           null,
           null,
           null,
           null,
           null,
           null,
           null,
           null,
           null,
           null,
           null,
           null,
           22.125295,
           null,
           null,
           null,
           null,
           null,
           null
          ],
          [
           null,
           null,
           null,
           null,
           null,
           null,
           null,
           null,
           null,
           null,
           null,
           null,
           null,
           null,
           null,
           null,
           null,
           21.147489999999998,
           null,
           null,
           null,
           null,
           null,
           null,
           null,
           null,
           null,
           null,
           null,
           null,
           null,
           null,
           null,
           null,
           null,
           null,
           null,
           null,
           null,
           null,
           null,
           null,
           null,
           null,
           null,
           null,
           null,
           null,
           null,
           null,
           null,
           null,
           null
          ],
          [
           null,
           null,
           null,
           null,
           null,
           26.419584999999998,
           null,
           null,
           null,
           null,
           null,
           null,
           null,
           null,
           null,
           null,
           null,
           null,
           23.74017,
           null,
           null,
           null,
           null,
           null,
           null,
           null,
           null,
           null,
           null,
           null,
           null,
           null,
           null,
           null,
           null,
           null,
           null,
           null,
           null,
           null,
           null,
           null,
           null,
           null,
           null,
           null,
           null,
           null,
           null,
           null,
           null,
           null,
           null
          ],
          [
           null,
           null,
           null,
           null,
           null,
           null,
           null,
           null,
           null,
           null,
           null,
           null,
           null,
           null,
           null,
           null,
           null,
           null,
           null,
           null,
           null,
           null,
           null,
           null,
           null,
           null,
           null,
           null,
           null,
           null,
           null,
           null,
           null,
           null,
           null,
           null,
           null,
           null,
           null,
           null,
           null,
           null,
           null,
           null,
           24.025215,
           null,
           null,
           null,
           null,
           null,
           null,
           null,
           null
          ],
          [
           null,
           null,
           null,
           null,
           null,
           null,
           null,
           null,
           null,
           null,
           null,
           null,
           null,
           null,
           null,
           null,
           null,
           null,
           null,
           null,
           null,
           null,
           null,
           null,
           21.104425,
           null,
           null,
           null,
           null,
           null,
           null,
           null,
           null,
           null,
           null,
           null,
           null,
           null,
           null,
           null,
           null,
           null,
           null,
           null,
           null,
           null,
           null,
           null,
           null,
           null,
           null,
           null,
           null
          ],
          [
           null,
           null,
           null,
           null,
           null,
           null,
           null,
           null,
           null,
           null,
           null,
           null,
           null,
           null,
           null,
           null,
           null,
           null,
           null,
           null,
           null,
           null,
           null,
           null,
           null,
           null,
           null,
           null,
           null,
           null,
           null,
           null,
           25.553385,
           null,
           null,
           null,
           null,
           null,
           null,
           null,
           null,
           null,
           null,
           null,
           null,
           null,
           null,
           null,
           null,
           28.56489,
           null,
           null,
           null
          ],
          [
           null,
           null,
           null,
           null,
           null,
           null,
           null,
           null,
           null,
           null,
           null,
           null,
           null,
           null,
           null,
           null,
           null,
           27.068075,
           null,
           null,
           null,
           null,
           null,
           null,
           null,
           null,
           null,
           null,
           null,
           null,
           null,
           null,
           null,
           null,
           null,
           null,
           null,
           null,
           null,
           null,
           null,
           null,
           null,
           null,
           null,
           null,
           null,
           null,
           24.134885,
           null,
           null,
           null,
           null
          ],
          [
           null,
           null,
           null,
           null,
           null,
           null,
           null,
           null,
           null,
           null,
           null,
           null,
           null,
           null,
           null,
           null,
           null,
           null,
           null,
           null,
           null,
           null,
           null,
           null,
           null,
           null,
           null,
           null,
           null,
           null,
           null,
           null,
           null,
           null,
           null,
           null,
           null,
           null,
           null,
           null,
           null,
           null,
           null,
           null,
           null,
           null,
           null,
           null,
           null,
           null,
           26.780704999999998,
           null,
           null
          ],
          [
           null,
           null,
           null,
           null,
           null,
           null,
           null,
           null,
           null,
           null,
           null,
           null,
           null,
           null,
           null,
           null,
           null,
           null,
           null,
           null,
           null,
           null,
           null,
           null,
           null,
           null,
           null,
           null,
           19.536715,
           null,
           null,
           null,
           null,
           23.29875,
           null,
           null,
           null,
           null,
           null,
           null,
           null,
           null,
           null,
           null,
           null,
           null,
           null,
           null,
           null,
           null,
           null,
           null,
           null
          ],
          [
           null,
           null,
           null,
           null,
           null,
           null,
           null,
           null,
           null,
           null,
           null,
           null,
           null,
           null,
           null,
           null,
           null,
           null,
           21.308255,
           null,
           null,
           null,
           null,
           null,
           null,
           null,
           null,
           null,
           null,
           null,
           null,
           null,
           null,
           null,
           21.686590000000002,
           null,
           25.672175000000003,
           null,
           null,
           null,
           null,
           null,
           null,
           null,
           null,
           null,
           null,
           null,
           null,
           null,
           null,
           null,
           null
          ],
          [
           null,
           null,
           null,
           null,
           null,
           null,
           null,
           null,
           null,
           null,
           null,
           null,
           null,
           null,
           null,
           null,
           null,
           null,
           null,
           null,
           null,
           null,
           null,
           null,
           null,
           null,
           null,
           null,
           null,
           null,
           null,
           null,
           null,
           null,
           null,
           null,
           null,
           null,
           null,
           null,
           25.58755,
           null,
           null,
           null,
           null,
           null,
           null,
           null,
           null,
           null,
           null,
           null,
           null
          ],
          [
           null,
           null,
           null,
           null,
           26.576144999999997,
           null,
           null,
           null,
           null,
           null,
           null,
           null,
           null,
           null,
           null,
           23.061455000000002,
           null,
           null,
           null,
           null,
           null,
           null,
           20.08683,
           null,
           22.72644,
           null,
           22.7563,
           null,
           null,
           20.156280000000002,
           21.206335,
           null,
           null,
           null,
           21.280594999999998,
           null,
           null,
           null,
           null,
           null,
           null,
           null,
           null,
           null,
           null,
           null,
           null,
           null,
           null,
           null,
           null,
           null,
           null
          ]
         ]
        },
        {
         "marker": {
          "color": "black",
          "line": {
           "color": "Gray",
           "width": 2
          }
         },
         "mode": "markers",
         "name": "Feasible Trial",
         "showlegend": false,
         "type": "scatter",
         "x": [
          27,
          92,
          87,
          114,
          47,
          141,
          53,
          144,
          89,
          19,
          145,
          71,
          41,
          5,
          112,
          137,
          17,
          57,
          151,
          79,
          81,
          31,
          125,
          43,
          151,
          7,
          135,
          47,
          37,
          78,
          33,
          118,
          9,
          70,
          74,
          123,
          115,
          48,
          17,
          154,
          45,
          131,
          109,
          45,
          46,
          138,
          78,
          36,
          92,
          44,
          89,
          47,
          123,
          25,
          87,
          78,
          85,
          70,
          135,
          79,
          79,
          79,
          71,
          112,
          141,
          53,
          78,
          114,
          70,
          71,
          6,
          46,
          68,
          47,
          92,
          71,
          47,
          48,
          139,
          112,
          43,
          131,
          44,
          74,
          47,
          141,
          70,
          148,
          112,
          114,
          81,
          71,
          74,
          70,
          138,
          138,
          133,
          123,
          57,
          112
         ],
         "y": [
          "[12, 12, 12]",
          "[52, 12, 4]",
          "[52, 52, 52]",
          "[4, 4, 52]",
          "[1, 1, 52]",
          "[4, 52, 1]",
          "[4, 4, 12]",
          "[1, 1, 4]",
          "[12, 1, 52]",
          "[4, 12, 1]",
          "[52, 12, 52]",
          "[52, 52, 52]",
          "[4, 12, 4]",
          "[1, 1, 12]",
          "[12, 52, 1]",
          "[12, 52, 12]",
          "[52, 1, 12]",
          "[12, 4, 12]",
          "[4, 12, 52]",
          "[12, 4, 1]",
          "[52, 4, 1]",
          "[1, 4, 1]",
          "[1, 4, 1]",
          "[4, 4, 1]",
          "[52, 4, 12]",
          "[12, 1, 1]",
          "[12, 52, 52]",
          "[52, 1, 12]",
          "[1, 1, 12]",
          "[12, 12, 12]",
          "[12, 4, 52]",
          "[12, 4, 52]",
          "[52, 52, 52]",
          "[1, 12, 4]",
          "[4, 52, 12]",
          "[4, 4, 12]",
          "[52, 52, 1]",
          "[12, 4, 52]",
          "[12, 4, 52]",
          "[1, 52, 52]",
          "[4, 12, 4]",
          "[52, 52, 4]",
          "[52, 4, 1]",
          "[1, 4, 52]",
          "[4, 52, 52]",
          "[4, 12, 12]",
          "[52, 52, 52]",
          "[4, 12, 4]",
          "[12, 52, 12]",
          "[52, 52, 52]",
          "[12, 4, 12]",
          "[52, 52, 1]",
          "[12, 4, 12]",
          "[1, 1, 52]",
          "[12, 4, 1]",
          "[52, 52, 52]",
          "[52, 52, 52]",
          "[1, 12, 4]",
          "[12, 52, 52]",
          "[12, 4, 1]",
          "[12, 4, 1]",
          "[12, 4, 1]",
          "[52, 52, 52]",
          "[12, 52, 1]",
          "[4, 52, 1]",
          "[12, 12, 12]",
          "[52, 52, 52]",
          "[4, 4, 52]",
          "[4, 4, 1]",
          "[52, 52, 52]",
          "[12, 4, 52]",
          "[52, 12, 52]",
          "[52, 52, 52]",
          "[1, 1, 52]",
          "[12, 4, 12]",
          "[1, 1, 52]",
          "[1, 1, 52]",
          "[12, 4, 52]",
          "[1, 1, 52]",
          "[52, 52, 52]",
          "[1, 4, 4]",
          "[4, 12, 1]",
          "[52, 52, 52]",
          "[12, 4, 52]",
          "[12, 4, 12]",
          "[4, 52, 12]",
          "[4, 1, 12]",
          "[52, 12, 4]",
          "[52, 52, 1]",
          "[12, 1, 52]",
          "[12, 52, 4]",
          "[52, 12, 1]",
          "[4, 4, 52]",
          "[1, 12, 4]",
          "[4, 4, 1]",
          "[52, 1, 4]",
          "[4, 12, 4]",
          "[4, 4, 12]",
          "[4, 12, 12]",
          "[4, 4, 52]"
         ]
        },
        {
         "marker": {
          "color": "#cccccc",
          "line": {
           "color": "Gray",
           "width": 2
          }
         },
         "mode": "markers",
         "name": "Infeasible Trial",
         "showlegend": false,
         "type": "scatter",
         "x": [],
         "y": []
        }
       ],
       "layout": {
        "height": 800,
        "plot_bgcolor": "white",
        "template": {
         "data": {
          "bar": [
           {
            "error_x": {
             "color": "#2a3f5f"
            },
            "error_y": {
             "color": "#2a3f5f"
            },
            "marker": {
             "line": {
              "color": "#E5ECF6",
              "width": 0.5
             },
             "pattern": {
              "fillmode": "overlay",
              "size": 10,
              "solidity": 0.2
             }
            },
            "type": "bar"
           }
          ],
          "barpolar": [
           {
            "marker": {
             "line": {
              "color": "#E5ECF6",
              "width": 0.5
             },
             "pattern": {
              "fillmode": "overlay",
              "size": 10,
              "solidity": 0.2
             }
            },
            "type": "barpolar"
           }
          ],
          "carpet": [
           {
            "aaxis": {
             "endlinecolor": "#2a3f5f",
             "gridcolor": "white",
             "linecolor": "white",
             "minorgridcolor": "white",
             "startlinecolor": "#2a3f5f"
            },
            "baxis": {
             "endlinecolor": "#2a3f5f",
             "gridcolor": "white",
             "linecolor": "white",
             "minorgridcolor": "white",
             "startlinecolor": "#2a3f5f"
            },
            "type": "carpet"
           }
          ],
          "choropleth": [
           {
            "colorbar": {
             "outlinewidth": 0,
             "ticks": ""
            },
            "type": "choropleth"
           }
          ],
          "contour": [
           {
            "colorbar": {
             "outlinewidth": 0,
             "ticks": ""
            },
            "colorscale": [
             [
              0,
              "#0d0887"
             ],
             [
              0.1111111111111111,
              "#46039f"
             ],
             [
              0.2222222222222222,
              "#7201a8"
             ],
             [
              0.3333333333333333,
              "#9c179e"
             ],
             [
              0.4444444444444444,
              "#bd3786"
             ],
             [
              0.5555555555555556,
              "#d8576b"
             ],
             [
              0.6666666666666666,
              "#ed7953"
             ],
             [
              0.7777777777777778,
              "#fb9f3a"
             ],
             [
              0.8888888888888888,
              "#fdca26"
             ],
             [
              1,
              "#f0f921"
             ]
            ],
            "type": "contour"
           }
          ],
          "contourcarpet": [
           {
            "colorbar": {
             "outlinewidth": 0,
             "ticks": ""
            },
            "type": "contourcarpet"
           }
          ],
          "heatmap": [
           {
            "colorbar": {
             "outlinewidth": 0,
             "ticks": ""
            },
            "colorscale": [
             [
              0,
              "#0d0887"
             ],
             [
              0.1111111111111111,
              "#46039f"
             ],
             [
              0.2222222222222222,
              "#7201a8"
             ],
             [
              0.3333333333333333,
              "#9c179e"
             ],
             [
              0.4444444444444444,
              "#bd3786"
             ],
             [
              0.5555555555555556,
              "#d8576b"
             ],
             [
              0.6666666666666666,
              "#ed7953"
             ],
             [
              0.7777777777777778,
              "#fb9f3a"
             ],
             [
              0.8888888888888888,
              "#fdca26"
             ],
             [
              1,
              "#f0f921"
             ]
            ],
            "type": "heatmap"
           }
          ],
          "heatmapgl": [
           {
            "colorbar": {
             "outlinewidth": 0,
             "ticks": ""
            },
            "colorscale": [
             [
              0,
              "#0d0887"
             ],
             [
              0.1111111111111111,
              "#46039f"
             ],
             [
              0.2222222222222222,
              "#7201a8"
             ],
             [
              0.3333333333333333,
              "#9c179e"
             ],
             [
              0.4444444444444444,
              "#bd3786"
             ],
             [
              0.5555555555555556,
              "#d8576b"
             ],
             [
              0.6666666666666666,
              "#ed7953"
             ],
             [
              0.7777777777777778,
              "#fb9f3a"
             ],
             [
              0.8888888888888888,
              "#fdca26"
             ],
             [
              1,
              "#f0f921"
             ]
            ],
            "type": "heatmapgl"
           }
          ],
          "histogram": [
           {
            "marker": {
             "pattern": {
              "fillmode": "overlay",
              "size": 10,
              "solidity": 0.2
             }
            },
            "type": "histogram"
           }
          ],
          "histogram2d": [
           {
            "colorbar": {
             "outlinewidth": 0,
             "ticks": ""
            },
            "colorscale": [
             [
              0,
              "#0d0887"
             ],
             [
              0.1111111111111111,
              "#46039f"
             ],
             [
              0.2222222222222222,
              "#7201a8"
             ],
             [
              0.3333333333333333,
              "#9c179e"
             ],
             [
              0.4444444444444444,
              "#bd3786"
             ],
             [
              0.5555555555555556,
              "#d8576b"
             ],
             [
              0.6666666666666666,
              "#ed7953"
             ],
             [
              0.7777777777777778,
              "#fb9f3a"
             ],
             [
              0.8888888888888888,
              "#fdca26"
             ],
             [
              1,
              "#f0f921"
             ]
            ],
            "type": "histogram2d"
           }
          ],
          "histogram2dcontour": [
           {
            "colorbar": {
             "outlinewidth": 0,
             "ticks": ""
            },
            "colorscale": [
             [
              0,
              "#0d0887"
             ],
             [
              0.1111111111111111,
              "#46039f"
             ],
             [
              0.2222222222222222,
              "#7201a8"
             ],
             [
              0.3333333333333333,
              "#9c179e"
             ],
             [
              0.4444444444444444,
              "#bd3786"
             ],
             [
              0.5555555555555556,
              "#d8576b"
             ],
             [
              0.6666666666666666,
              "#ed7953"
             ],
             [
              0.7777777777777778,
              "#fb9f3a"
             ],
             [
              0.8888888888888888,
              "#fdca26"
             ],
             [
              1,
              "#f0f921"
             ]
            ],
            "type": "histogram2dcontour"
           }
          ],
          "mesh3d": [
           {
            "colorbar": {
             "outlinewidth": 0,
             "ticks": ""
            },
            "type": "mesh3d"
           }
          ],
          "parcoords": [
           {
            "line": {
             "colorbar": {
              "outlinewidth": 0,
              "ticks": ""
             }
            },
            "type": "parcoords"
           }
          ],
          "pie": [
           {
            "automargin": true,
            "type": "pie"
           }
          ],
          "scatter": [
           {
            "fillpattern": {
             "fillmode": "overlay",
             "size": 10,
             "solidity": 0.2
            },
            "type": "scatter"
           }
          ],
          "scatter3d": [
           {
            "line": {
             "colorbar": {
              "outlinewidth": 0,
              "ticks": ""
             }
            },
            "marker": {
             "colorbar": {
              "outlinewidth": 0,
              "ticks": ""
             }
            },
            "type": "scatter3d"
           }
          ],
          "scattercarpet": [
           {
            "marker": {
             "colorbar": {
              "outlinewidth": 0,
              "ticks": ""
             }
            },
            "type": "scattercarpet"
           }
          ],
          "scattergeo": [
           {
            "marker": {
             "colorbar": {
              "outlinewidth": 0,
              "ticks": ""
             }
            },
            "type": "scattergeo"
           }
          ],
          "scattergl": [
           {
            "marker": {
             "colorbar": {
              "outlinewidth": 0,
              "ticks": ""
             }
            },
            "type": "scattergl"
           }
          ],
          "scattermapbox": [
           {
            "marker": {
             "colorbar": {
              "outlinewidth": 0,
              "ticks": ""
             }
            },
            "type": "scattermapbox"
           }
          ],
          "scatterpolar": [
           {
            "marker": {
             "colorbar": {
              "outlinewidth": 0,
              "ticks": ""
             }
            },
            "type": "scatterpolar"
           }
          ],
          "scatterpolargl": [
           {
            "marker": {
             "colorbar": {
              "outlinewidth": 0,
              "ticks": ""
             }
            },
            "type": "scatterpolargl"
           }
          ],
          "scatterternary": [
           {
            "marker": {
             "colorbar": {
              "outlinewidth": 0,
              "ticks": ""
             }
            },
            "type": "scatterternary"
           }
          ],
          "surface": [
           {
            "colorbar": {
             "outlinewidth": 0,
             "ticks": ""
            },
            "colorscale": [
             [
              0,
              "#0d0887"
             ],
             [
              0.1111111111111111,
              "#46039f"
             ],
             [
              0.2222222222222222,
              "#7201a8"
             ],
             [
              0.3333333333333333,
              "#9c179e"
             ],
             [
              0.4444444444444444,
              "#bd3786"
             ],
             [
              0.5555555555555556,
              "#d8576b"
             ],
             [
              0.6666666666666666,
              "#ed7953"
             ],
             [
              0.7777777777777778,
              "#fb9f3a"
             ],
             [
              0.8888888888888888,
              "#fdca26"
             ],
             [
              1,
              "#f0f921"
             ]
            ],
            "type": "surface"
           }
          ],
          "table": [
           {
            "cells": {
             "fill": {
              "color": "#EBF0F8"
             },
             "line": {
              "color": "white"
             }
            },
            "header": {
             "fill": {
              "color": "#C8D4E3"
             },
             "line": {
              "color": "white"
             }
            },
            "type": "table"
           }
          ]
         },
         "layout": {
          "annotationdefaults": {
           "arrowcolor": "#2a3f5f",
           "arrowhead": 0,
           "arrowwidth": 1
          },
          "autotypenumbers": "strict",
          "coloraxis": {
           "colorbar": {
            "outlinewidth": 0,
            "ticks": ""
           }
          },
          "colorscale": {
           "diverging": [
            [
             0,
             "#8e0152"
            ],
            [
             0.1,
             "#c51b7d"
            ],
            [
             0.2,
             "#de77ae"
            ],
            [
             0.3,
             "#f1b6da"
            ],
            [
             0.4,
             "#fde0ef"
            ],
            [
             0.5,
             "#f7f7f7"
            ],
            [
             0.6,
             "#e6f5d0"
            ],
            [
             0.7,
             "#b8e186"
            ],
            [
             0.8,
             "#7fbc41"
            ],
            [
             0.9,
             "#4d9221"
            ],
            [
             1,
             "#276419"
            ]
           ],
           "sequential": [
            [
             0,
             "#0d0887"
            ],
            [
             0.1111111111111111,
             "#46039f"
            ],
            [
             0.2222222222222222,
             "#7201a8"
            ],
            [
             0.3333333333333333,
             "#9c179e"
            ],
            [
             0.4444444444444444,
             "#bd3786"
            ],
            [
             0.5555555555555556,
             "#d8576b"
            ],
            [
             0.6666666666666666,
             "#ed7953"
            ],
            [
             0.7777777777777778,
             "#fb9f3a"
            ],
            [
             0.8888888888888888,
             "#fdca26"
            ],
            [
             1,
             "#f0f921"
            ]
           ],
           "sequentialminus": [
            [
             0,
             "#0d0887"
            ],
            [
             0.1111111111111111,
             "#46039f"
            ],
            [
             0.2222222222222222,
             "#7201a8"
            ],
            [
             0.3333333333333333,
             "#9c179e"
            ],
            [
             0.4444444444444444,
             "#bd3786"
            ],
            [
             0.5555555555555556,
             "#d8576b"
            ],
            [
             0.6666666666666666,
             "#ed7953"
            ],
            [
             0.7777777777777778,
             "#fb9f3a"
            ],
            [
             0.8888888888888888,
             "#fdca26"
            ],
            [
             1,
             "#f0f921"
            ]
           ]
          },
          "colorway": [
           "#636efa",
           "#EF553B",
           "#00cc96",
           "#ab63fa",
           "#FFA15A",
           "#19d3f3",
           "#FF6692",
           "#B6E880",
           "#FF97FF",
           "#FECB52"
          ],
          "font": {
           "color": "#2a3f5f"
          },
          "geo": {
           "bgcolor": "white",
           "lakecolor": "white",
           "landcolor": "#E5ECF6",
           "showlakes": true,
           "showland": true,
           "subunitcolor": "white"
          },
          "hoverlabel": {
           "align": "left"
          },
          "hovermode": "closest",
          "mapbox": {
           "style": "light"
          },
          "paper_bgcolor": "white",
          "plot_bgcolor": "#E5ECF6",
          "polar": {
           "angularaxis": {
            "gridcolor": "white",
            "linecolor": "white",
            "ticks": ""
           },
           "bgcolor": "#E5ECF6",
           "radialaxis": {
            "gridcolor": "white",
            "linecolor": "white",
            "ticks": ""
           }
          },
          "scene": {
           "xaxis": {
            "backgroundcolor": "#E5ECF6",
            "gridcolor": "white",
            "gridwidth": 2,
            "linecolor": "white",
            "showbackground": true,
            "ticks": "",
            "zerolinecolor": "white"
           },
           "yaxis": {
            "backgroundcolor": "#E5ECF6",
            "gridcolor": "white",
            "gridwidth": 2,
            "linecolor": "white",
            "showbackground": true,
            "ticks": "",
            "zerolinecolor": "white"
           },
           "zaxis": {
            "backgroundcolor": "#E5ECF6",
            "gridcolor": "white",
            "gridwidth": 2,
            "linecolor": "white",
            "showbackground": true,
            "ticks": "",
            "zerolinecolor": "white"
           }
          },
          "shapedefaults": {
           "line": {
            "color": "#2a3f5f"
           }
          },
          "ternary": {
           "aaxis": {
            "gridcolor": "white",
            "linecolor": "white",
            "ticks": ""
           },
           "baxis": {
            "gridcolor": "white",
            "linecolor": "white",
            "ticks": ""
           },
           "bgcolor": "#E5ECF6",
           "caxis": {
            "gridcolor": "white",
            "linecolor": "white",
            "ticks": ""
           }
          },
          "title": {
           "x": 0.05
          },
          "xaxis": {
           "automargin": true,
           "gridcolor": "white",
           "linecolor": "white",
           "ticks": "",
           "title": {
            "standoff": 15
           },
           "zerolinecolor": "white",
           "zerolinewidth": 2
          },
          "yaxis": {
           "automargin": true,
           "gridcolor": "white",
           "linecolor": "white",
           "ticks": "",
           "title": {
            "standoff": 15
           },
           "zerolinecolor": "white",
           "zerolinewidth": 2
          }
         }
        },
        "title": {
         "text": "N-HiTS sMAPE Contour for Hyperparameter Relationship - Horizon: 52"
        },
        "width": 800,
        "xaxis": {
         "range": [
          -2.45,
          161.45
         ],
         "title": {
          "text": "input"
         }
        },
        "yaxis": {
         "range": [
          -1.9000000000000001,
          39.9
         ],
         "title": {
          "text": "downsample"
         },
         "type": "category"
        }
       }
      }
     },
     "metadata": {},
     "output_type": "display_data"
    },
    {
     "data": {
      "application/vnd.plotly.v1+json": {
       "config": {
        "plotlyServerURL": "https://plot.ly"
       },
       "data": [
        {
         "colorbar": {
          "title": {
           "text": "sMAPE"
          }
         },
         "colorscale": [
          [
           0,
           "rgb(247,251,255)"
          ],
          [
           0.125,
           "rgb(222,235,247)"
          ],
          [
           0.25,
           "rgb(198,219,239)"
          ],
          [
           0.375,
           "rgb(158,202,225)"
          ],
          [
           0.5,
           "rgb(107,174,214)"
          ],
          [
           0.625,
           "rgb(66,146,198)"
          ],
          [
           0.75,
           "rgb(33,113,181)"
          ],
          [
           0.875,
           "rgb(8,81,156)"
          ],
          [
           1,
           "rgb(8,48,107)"
          ]
         ],
         "connectgaps": true,
         "contours": {
          "coloring": "heatmap"
         },
         "hoverinfo": "none",
         "line": {
          "smoothing": 1.3
         },
         "reversescale": true,
         "type": "contour",
         "x": [
          -3.45,
          4,
          6,
          7,
          9,
          11,
          12,
          22,
          23,
          26,
          27,
          28,
          31,
          32,
          33,
          35,
          36,
          42,
          44,
          45,
          47,
          48,
          50,
          52,
          58,
          60,
          69,
          73,
          75,
          81,
          89,
          91,
          92,
          94,
          96,
          97,
          101,
          103,
          104,
          106,
          108,
          110,
          113,
          119,
          123,
          125,
          131,
          144,
          145,
          146,
          147,
          149,
          153,
          160.45
         ],
         "y": [
          "[1, 1, 12]",
          "[1, 1, 1]",
          "[1, 1, 4]",
          "[1, 1, 52]",
          "[1, 12, 52]",
          "[1, 4, 12]",
          "[1, 4, 4]",
          "[1, 52, 1]",
          "[1, 52, 52]",
          "[12, 1, 4]",
          "[12, 12, 4]",
          "[12, 4, 12]",
          "[12, 52, 12]",
          "[12, 52, 4]",
          "[12, 52, 52]",
          "[4, 1, 12]",
          "[4, 1, 1]",
          "[4, 1, 4]",
          "[4, 1, 52]",
          "[4, 12, 12]",
          "[4, 12, 1]",
          "[4, 12, 4]",
          "[4, 4, 1]",
          "[4, 4, 4]",
          "[4, 4, 52]",
          "[4, 52, 12]",
          "[4, 52, 1]",
          "[4, 52, 52]",
          "[52, 1, 12]",
          "[52, 1, 1]",
          "[52, 1, 4]",
          "[52, 1, 52]",
          "[52, 12, 52]",
          "[52, 4, 1]",
          "[52, 4, 52]",
          "[52, 52, 12]",
          "[52, 52, 1]",
          "[52, 52, 4]"
         ],
         "z": [
          [
           null,
           null,
           null,
           null,
           null,
           null,
           null,
           null,
           null,
           null,
           null,
           null,
           26.545695000000002,
           null,
           null,
           null,
           27.30904,
           null,
           null,
           null,
           null,
           null,
           null,
           null,
           null,
           null,
           null,
           null,
           25.487305,
           null,
           null,
           null,
           null,
           null,
           null,
           null,
           26.596015,
           null,
           null,
           null,
           null,
           null,
           null,
           null,
           null,
           null,
           null,
           null,
           null,
           null,
           null,
           null,
           null,
           null
          ],
          [
           null,
           null,
           null,
           null,
           null,
           null,
           null,
           null,
           null,
           null,
           null,
           null,
           null,
           null,
           null,
           null,
           null,
           null,
           null,
           null,
           null,
           null,
           null,
           null,
           null,
           null,
           null,
           null,
           null,
           null,
           null,
           null,
           null,
           null,
           null,
           null,
           null,
           null,
           null,
           null,
           24.36193,
           null,
           null,
           null,
           null,
           null,
           null,
           null,
           null,
           null,
           null,
           null,
           null,
           null
          ],
          [
           null,
           null,
           27.117240000000002,
           null,
           23.428694999999998,
           25.81127,
           null,
           null,
           null,
           null,
           null,
           null,
           null,
           null,
           null,
           null,
           null,
           null,
           27.096145,
           null,
           null,
           null,
           null,
           28.760705,
           null,
           null,
           22.53676,
           null,
           null,
           27.27046,
           null,
           26.14571,
           null,
           null,
           null,
           null,
           null,
           null,
           null,
           null,
           null,
           null,
           null,
           null,
           null,
           null,
           null,
           null,
           null,
           null,
           null,
           null,
           null,
           null
          ],
          [
           null,
           null,
           null,
           null,
           null,
           null,
           null,
           null,
           null,
           null,
           null,
           null,
           null,
           null,
           null,
           null,
           null,
           null,
           null,
           29.106704999999998,
           null,
           null,
           null,
           null,
           null,
           null,
           null,
           null,
           null,
           null,
           null,
           null,
           null,
           null,
           null,
           null,
           null,
           null,
           null,
           null,
           null,
           null,
           null,
           null,
           null,
           null,
           null,
           null,
           null,
           null,
           null,
           null,
           null,
           null
          ],
          [
           null,
           null,
           null,
           null,
           null,
           null,
           null,
           null,
           null,
           27.587539999999997,
           null,
           null,
           null,
           null,
           null,
           null,
           null,
           null,
           null,
           null,
           null,
           null,
           null,
           null,
           null,
           null,
           null,
           null,
           null,
           null,
           null,
           null,
           null,
           null,
           26.15201,
           null,
           null,
           null,
           null,
           null,
           null,
           null,
           null,
           null,
           null,
           null,
           null,
           null,
           null,
           null,
           null,
           null,
           null,
           null
          ],
          [
           null,
           null,
           null,
           null,
           null,
           null,
           null,
           30.07199,
           null,
           null,
           null,
           null,
           null,
           null,
           null,
           null,
           null,
           27.545569999999998,
           null,
           null,
           null,
           null,
           null,
           null,
           null,
           null,
           null,
           null,
           null,
           null,
           null,
           null,
           null,
           null,
           null,
           null,
           null,
           null,
           null,
           null,
           null,
           null,
           null,
           null,
           null,
           null,
           null,
           null,
           null,
           null,
           null,
           null,
           null,
           null
          ],
          [
           null,
           null,
           null,
           null,
           null,
           null,
           null,
           null,
           null,
           27.764255,
           null,
           27.90083,
           null,
           null,
           null,
           null,
           null,
           null,
           null,
           null,
           null,
           null,
           null,
           null,
           26.64289,
           null,
           null,
           null,
           null,
           null,
           26.286935,
           null,
           null,
           null,
           null,
           null,
           null,
           null,
           null,
           null,
           null,
           null,
           null,
           null,
           null,
           null,
           null,
           26.817145,
           null,
           null,
           null,
           null,
           null,
           null
          ],
          [
           null,
           null,
           null,
           null,
           null,
           null,
           null,
           null,
           null,
           27.78614,
           null,
           null,
           null,
           null,
           null,
           null,
           null,
           null,
           null,
           null,
           null,
           null,
           null,
           null,
           null,
           null,
           null,
           null,
           null,
           null,
           null,
           null,
           null,
           null,
           null,
           null,
           null,
           null,
           null,
           null,
           null,
           null,
           null,
           null,
           null,
           null,
           null,
           null,
           null,
           null,
           null,
           null,
           null,
           null
          ],
          [
           null,
           null,
           null,
           null,
           null,
           null,
           null,
           null,
           null,
           null,
           null,
           null,
           null,
           null,
           null,
           null,
           null,
           null,
           null,
           null,
           null,
           null,
           null,
           null,
           null,
           null,
           null,
           null,
           null,
           null,
           27.748395,
           null,
           null,
           null,
           null,
           null,
           null,
           null,
           null,
           23.823375,
           null,
           null,
           null,
           null,
           null,
           null,
           null,
           null,
           null,
           null,
           null,
           null,
           null,
           null
          ],
          [
           null,
           null,
           null,
           null,
           null,
           null,
           null,
           null,
           null,
           null,
           null,
           null,
           null,
           null,
           null,
           null,
           null,
           null,
           null,
           null,
           null,
           null,
           null,
           null,
           null,
           null,
           null,
           null,
           null,
           null,
           null,
           null,
           26.89274,
           null,
           null,
           null,
           null,
           null,
           null,
           null,
           null,
           null,
           null,
           null,
           null,
           null,
           null,
           null,
           null,
           null,
           null,
           null,
           null,
           null
          ],
          [
           null,
           null,
           null,
           null,
           null,
           null,
           null,
           null,
           null,
           null,
           null,
           null,
           null,
           null,
           null,
           null,
           null,
           null,
           null,
           null,
           null,
           null,
           null,
           null,
           null,
           null,
           null,
           null,
           null,
           null,
           null,
           null,
           null,
           null,
           null,
           null,
           25.742089999999997,
           null,
           null,
           null,
           null,
           null,
           null,
           null,
           null,
           null,
           null,
           null,
           null,
           null,
           null,
           34.5774,
           null,
           null
          ],
          [
           null,
           null,
           null,
           null,
           null,
           null,
           null,
           null,
           null,
           null,
           null,
           null,
           null,
           null,
           null,
           null,
           null,
           null,
           null,
           null,
           null,
           null,
           null,
           null,
           null,
           null,
           28.009050000000002,
           null,
           null,
           null,
           null,
           null,
           null,
           null,
           null,
           null,
           null,
           null,
           null,
           null,
           null,
           null,
           null,
           null,
           null,
           null,
           null,
           null,
           null,
           null,
           null,
           null,
           null,
           null
          ],
          [
           null,
           null,
           null,
           null,
           null,
           null,
           null,
           null,
           null,
           null,
           null,
           null,
           null,
           null,
           null,
           null,
           null,
           null,
           null,
           null,
           null,
           null,
           null,
           30.335245,
           null,
           null,
           null,
           null,
           null,
           null,
           null,
           null,
           null,
           null,
           null,
           null,
           null,
           null,
           null,
           null,
           null,
           null,
           null,
           null,
           null,
           null,
           null,
           null,
           null,
           null,
           null,
           null,
           null,
           null
          ],
          [
           null,
           null,
           null,
           null,
           null,
           null,
           null,
           null,
           null,
           null,
           null,
           null,
           null,
           null,
           null,
           null,
           null,
           29.022765,
           null,
           null,
           null,
           null,
           null,
           null,
           null,
           null,
           null,
           null,
           null,
           null,
           null,
           null,
           null,
           null,
           null,
           null,
           null,
           null,
           null,
           null,
           null,
           null,
           null,
           null,
           28.22553,
           null,
           null,
           null,
           null,
           29.051535,
           null,
           null,
           null,
           null
          ],
          [
           null,
           null,
           null,
           null,
           null,
           null,
           null,
           null,
           29.88189,
           null,
           null,
           null,
           null,
           28.368675,
           null,
           null,
           null,
           null,
           null,
           null,
           null,
           null,
           null,
           null,
           null,
           null,
           null,
           null,
           null,
           null,
           null,
           null,
           null,
           null,
           null,
           null,
           null,
           null,
           null,
           null,
           null,
           null,
           null,
           null,
           null,
           null,
           null,
           null,
           null,
           null,
           null,
           null,
           null,
           null
          ],
          [
           null,
           null,
           null,
           null,
           null,
           null,
           null,
           null,
           null,
           null,
           null,
           null,
           null,
           null,
           null,
           null,
           27.408520000000003,
           null,
           null,
           null,
           28.87067,
           null,
           null,
           null,
           null,
           null,
           null,
           null,
           null,
           null,
           null,
           null,
           null,
           null,
           null,
           null,
           null,
           null,
           null,
           null,
           null,
           null,
           null,
           null,
           null,
           null,
           null,
           null,
           null,
           null,
           null,
           null,
           null,
           null
          ],
          [
           null,
           null,
           null,
           null,
           null,
           null,
           null,
           null,
           null,
           null,
           null,
           null,
           null,
           null,
           null,
           null,
           null,
           null,
           null,
           null,
           null,
           null,
           null,
           null,
           null,
           null,
           null,
           null,
           null,
           null,
           null,
           null,
           null,
           null,
           null,
           null,
           null,
           null,
           null,
           null,
           null,
           26.90139,
           null,
           null,
           null,
           null,
           null,
           null,
           null,
           null,
           28.135565,
           null,
           null,
           null
          ],
          [
           null,
           26.96763,
           null,
           null,
           null,
           null,
           null,
           null,
           null,
           null,
           null,
           null,
           null,
           null,
           null,
           null,
           null,
           null,
           null,
           27.36023,
           null,
           28.69054,
           null,
           null,
           null,
           null,
           null,
           null,
           null,
           null,
           null,
           null,
           null,
           null,
           null,
           null,
           null,
           null,
           null,
           null,
           null,
           null,
           null,
           null,
           null,
           null,
           null,
           null,
           null,
           null,
           null,
           null,
           null,
           null
          ],
          [
           null,
           null,
           null,
           30.914455,
           null,
           null,
           null,
           null,
           null,
           null,
           null,
           null,
           null,
           null,
           null,
           null,
           null,
           null,
           null,
           null,
           null,
           null,
           null,
           null,
           null,
           null,
           null,
           null,
           null,
           null,
           null,
           null,
           null,
           null,
           null,
           null,
           null,
           null,
           null,
           null,
           null,
           null,
           null,
           null,
           null,
           null,
           null,
           null,
           null,
           null,
           null,
           null,
           null,
           null
          ],
          [
           null,
           null,
           null,
           null,
           null,
           null,
           null,
           null,
           null,
           null,
           null,
           null,
           null,
           null,
           null,
           null,
           null,
           null,
           null,
           null,
           null,
           null,
           null,
           null,
           null,
           null,
           null,
           null,
           null,
           null,
           null,
           null,
           null,
           null,
           null,
           28.066119999999998,
           null,
           null,
           null,
           23.752815,
           null,
           null,
           null,
           null,
           null,
           null,
           null,
           null,
           null,
           null,
           null,
           null,
           null,
           null
          ],
          [
           null,
           null,
           null,
           null,
           null,
           null,
           null,
           null,
           null,
           null,
           null,
           null,
           null,
           null,
           26.285490000000003,
           null,
           null,
           null,
           null,
           null,
           null,
           null,
           null,
           null,
           null,
           null,
           null,
           25.31739,
           null,
           null,
           null,
           null,
           null,
           null,
           null,
           null,
           null,
           null,
           null,
           null,
           null,
           25.04092,
           null,
           null,
           null,
           null,
           null,
           null,
           null,
           null,
           null,
           null,
           null,
           null
          ],
          [
           null,
           null,
           null,
           null,
           null,
           null,
           null,
           null,
           null,
           null,
           null,
           null,
           null,
           null,
           null,
           null,
           null,
           29.509325,
           null,
           null,
           null,
           null,
           null,
           null,
           null,
           null,
           null,
           null,
           null,
           null,
           null,
           null,
           null,
           26.678275,
           null,
           null,
           null,
           null,
           null,
           null,
           null,
           null,
           null,
           null,
           null,
           null,
           null,
           null,
           null,
           null,
           null,
           null,
           null,
           null
          ],
          [
           null,
           null,
           null,
           null,
           null,
           null,
           null,
           null,
           null,
           null,
           null,
           null,
           null,
           28.902365000000003,
           null,
           null,
           null,
           null,
           null,
           null,
           null,
           null,
           null,
           null,
           null,
           null,
           null,
           null,
           null,
           null,
           null,
           null,
           null,
           null,
           null,
           null,
           null,
           null,
           null,
           null,
           null,
           null,
           23.642654999999998,
           null,
           null,
           null,
           null,
           null,
           null,
           null,
           null,
           null,
           null,
           null
          ],
          [
           null,
           null,
           null,
           null,
           null,
           null,
           null,
           null,
           null,
           null,
           29.828780000000002,
           null,
           null,
           null,
           null,
           null,
           null,
           null,
           null,
           null,
           null,
           null,
           null,
           null,
           null,
           null,
           null,
           null,
           null,
           null,
           null,
           null,
           null,
           null,
           null,
           null,
           null,
           null,
           null,
           null,
           null,
           null,
           null,
           null,
           null,
           null,
           null,
           null,
           null,
           null,
           null,
           null,
           null,
           null
          ],
          [
           null,
           null,
           null,
           null,
           null,
           null,
           null,
           null,
           29.122985,
           null,
           null,
           null,
           null,
           null,
           null,
           null,
           null,
           28.940615,
           null,
           null,
           null,
           null,
           null,
           null,
           null,
           null,
           null,
           null,
           null,
           null,
           null,
           null,
           null,
           null,
           null,
           26.793300000000002,
           null,
           null,
           null,
           null,
           null,
           null,
           null,
           null,
           null,
           null,
           null,
           null,
           null,
           null,
           null,
           29.53776,
           null,
           null
          ],
          [
           null,
           null,
           null,
           null,
           null,
           null,
           null,
           null,
           null,
           null,
           null,
           null,
           null,
           null,
           null,
           null,
           null,
           null,
           null,
           null,
           null,
           null,
           null,
           null,
           null,
           null,
           null,
           null,
           null,
           null,
           null,
           null,
           null,
           null,
           null,
           null,
           null,
           null,
           null,
           null,
           null,
           null,
           null,
           null,
           null,
           33.98961,
           null,
           null,
           null,
           null,
           null,
           null,
           null,
           null
          ],
          [
           null,
           null,
           null,
           null,
           null,
           null,
           null,
           null,
           null,
           null,
           null,
           null,
           null,
           null,
           null,
           null,
           null,
           null,
           null,
           null,
           null,
           null,
           null,
           null,
           null,
           null,
           null,
           null,
           null,
           null,
           null,
           null,
           null,
           null,
           null,
           null,
           null,
           null,
           null,
           null,
           null,
           null,
           null,
           null,
           null,
           null,
           29.261375,
           null,
           null,
           null,
           null,
           null,
           null,
           null
          ],
          [
           null,
           null,
           null,
           null,
           null,
           null,
           null,
           null,
           null,
           null,
           null,
           null,
           null,
           null,
           26.961615000000002,
           27.380029999999998,
           null,
           null,
           null,
           null,
           null,
           null,
           null,
           null,
           null,
           null,
           null,
           null,
           null,
           null,
           null,
           null,
           null,
           null,
           null,
           null,
           null,
           null,
           24.15363,
           24.54263,
           null,
           null,
           null,
           null,
           null,
           null,
           null,
           null,
           null,
           null,
           null,
           null,
           null,
           null
          ],
          [
           null,
           null,
           null,
           null,
           null,
           null,
           null,
           null,
           null,
           null,
           null,
           null,
           null,
           null,
           null,
           null,
           null,
           null,
           26.3998,
           null,
           null,
           null,
           null,
           null,
           null,
           null,
           null,
           null,
           null,
           null,
           null,
           null,
           null,
           null,
           null,
           null,
           null,
           null,
           null,
           null,
           null,
           null,
           null,
           null,
           null,
           null,
           null,
           28.21519,
           null,
           null,
           null,
           null,
           null,
           null
          ],
          [
           null,
           null,
           null,
           null,
           null,
           31.491915,
           null,
           null,
           null,
           null,
           null,
           null,
           null,
           null,
           null,
           null,
           null,
           null,
           null,
           null,
           null,
           null,
           null,
           null,
           null,
           null,
           null,
           null,
           null,
           null,
           null,
           null,
           null,
           null,
           null,
           null,
           null,
           25.204365,
           null,
           null,
           null,
           null,
           null,
           null,
           null,
           null,
           null,
           null,
           null,
           null,
           null,
           null,
           null,
           null
          ],
          [
           null,
           null,
           null,
           null,
           null,
           null,
           null,
           null,
           null,
           null,
           null,
           null,
           null,
           null,
           null,
           null,
           null,
           null,
           null,
           null,
           null,
           null,
           null,
           28.100875000000002,
           null,
           null,
           null,
           null,
           null,
           25.822085,
           null,
           null,
           null,
           null,
           null,
           null,
           null,
           null,
           null,
           null,
           null,
           null,
           null,
           28.496775,
           null,
           null,
           null,
           null,
           null,
           null,
           null,
           null,
           null,
           null
          ],
          [
           null,
           null,
           null,
           null,
           null,
           null,
           null,
           null,
           null,
           null,
           null,
           null,
           null,
           null,
           null,
           null,
           null,
           null,
           null,
           null,
           null,
           null,
           null,
           null,
           null,
           null,
           null,
           29.30507,
           null,
           null,
           null,
           null,
           null,
           null,
           null,
           null,
           null,
           null,
           null,
           null,
           null,
           null,
           null,
           null,
           null,
           null,
           null,
           null,
           null,
           null,
           null,
           null,
           null,
           null
          ],
          [
           null,
           null,
           null,
           null,
           null,
           null,
           null,
           null,
           null,
           null,
           null,
           null,
           null,
           null,
           null,
           null,
           null,
           null,
           null,
           null,
           null,
           null,
           null,
           null,
           null,
           null,
           null,
           null,
           26.58757,
           null,
           null,
           null,
           26.33692,
           null,
           null,
           null,
           null,
           null,
           null,
           null,
           null,
           null,
           null,
           null,
           null,
           null,
           null,
           null,
           null,
           null,
           null,
           null,
           null,
           null
          ],
          [
           null,
           null,
           null,
           null,
           null,
           null,
           null,
           null,
           null,
           null,
           null,
           null,
           null,
           null,
           null,
           null,
           null,
           null,
           null,
           null,
           null,
           null,
           null,
           null,
           null,
           null,
           null,
           null,
           null,
           null,
           null,
           null,
           null,
           null,
           null,
           null,
           null,
           null,
           null,
           null,
           null,
           null,
           null,
           null,
           null,
           null,
           null,
           null,
           null,
           null,
           null,
           null,
           28.024875,
           null
          ],
          [
           null,
           null,
           null,
           null,
           null,
           null,
           31.273975,
           null,
           null,
           null,
           null,
           null,
           null,
           null,
           null,
           null,
           null,
           null,
           null,
           null,
           null,
           null,
           null,
           null,
           null,
           null,
           null,
           null,
           null,
           null,
           25.43836,
           null,
           null,
           null,
           null,
           null,
           null,
           null,
           null,
           null,
           null,
           null,
           null,
           null,
           null,
           null,
           null,
           null,
           null,
           null,
           null,
           null,
           null,
           null
          ],
          [
           null,
           null,
           null,
           null,
           null,
           null,
           null,
           null,
           null,
           null,
           null,
           null,
           null,
           null,
           null,
           null,
           null,
           null,
           null,
           null,
           null,
           null,
           29.7377,
           null,
           null,
           null,
           null,
           null,
           null,
           null,
           null,
           null,
           null,
           null,
           null,
           null,
           null,
           null,
           null,
           null,
           null,
           null,
           null,
           null,
           null,
           null,
           null,
           null,
           28.848125000000003,
           null,
           null,
           null,
           null,
           null
          ],
          [
           null,
           null,
           null,
           null,
           null,
           null,
           null,
           null,
           null,
           null,
           null,
           null,
           null,
           null,
           null,
           null,
           null,
           null,
           null,
           null,
           null,
           null,
           null,
           null,
           null,
           27.362335,
           null,
           null,
           null,
           null,
           null,
           null,
           null,
           null,
           null,
           null,
           null,
           null,
           null,
           null,
           null,
           null,
           null,
           null,
           null,
           null,
           null,
           null,
           null,
           null,
           null,
           null,
           null,
           null
          ],
          [
           null,
           null,
           null,
           null,
           null,
           null,
           null,
           null,
           null,
           26.900095,
           null,
           null,
           null,
           null,
           null,
           null,
           null,
           null,
           null,
           null,
           null,
           null,
           null,
           null,
           null,
           null,
           null,
           null,
           null,
           null,
           null,
           null,
           null,
           null,
           null,
           null,
           null,
           null,
           null,
           null,
           null,
           null,
           null,
           null,
           null,
           null,
           null,
           null,
           null,
           null,
           null,
           null,
           null,
           null
          ]
         ]
        },
        {
         "marker": {
          "color": "black",
          "line": {
           "color": "Gray",
           "width": 2
          }
         },
         "mode": "markers",
         "name": "Feasible Trial",
         "showlegend": false,
         "type": "scatter",
         "x": [
          7,
          131,
          149,
          69,
          44,
          9,
          27,
          22,
          94,
          81,
          92,
          92,
          153,
          113,
          144,
          36,
          106,
          23,
          108,
          32,
          145,
          119,
          149,
          146,
          101,
          104,
          73,
          42,
          123,
          89,
          97,
          4,
          91,
          12,
          103,
          106,
          60,
          31,
          33,
          45,
          50,
          125,
          110,
          26,
          52,
          47,
          52,
          75,
          58,
          26,
          81,
          26,
          35,
          146,
          75,
          110,
          69,
          153,
          89,
          89,
          89,
          32,
          42,
          97,
          58,
          97,
          36,
          11,
          42,
          23,
          92,
          58,
          89,
          45,
          73,
          119,
          42,
          144,
          106,
          147,
          26,
          75,
          75,
          11,
          52,
          48,
          97,
          106,
          96,
          33,
          101,
          23,
          6,
          44,
          52,
          110,
          23,
          149,
          28,
          81
         ],
         "y": [
          "[4, 1, 52]",
          "[4, 52, 1]",
          "[4, 4, 52]",
          "[1, 1, 4]",
          "[52, 1, 12]",
          "[1, 1, 4]",
          "[4, 4, 4]",
          "[1, 4, 12]",
          "[4, 12, 4]",
          "[52, 1, 4]",
          "[12, 1, 4]",
          "[52, 12, 52]",
          "[52, 4, 1]",
          "[4, 4, 1]",
          "[1, 4, 4]",
          "[1, 1, 12]",
          "[1, 52, 52]",
          "[4, 4, 52]",
          "[1, 1, 1]",
          "[12, 52, 52]",
          "[52, 52, 12]",
          "[52, 1, 4]",
          "[12, 12, 4]",
          "[12, 52, 4]",
          "[1, 1, 12]",
          "[4, 52, 52]",
          "[52, 1, 52]",
          "[1, 4, 12]",
          "[12, 52, 4]",
          "[52, 4, 52]",
          "[4, 4, 52]",
          "[4, 1, 4]",
          "[1, 1, 4]",
          "[52, 4, 52]",
          "[52, 1, 1]",
          "[4, 12, 12]",
          "[52, 52, 1]",
          "[1, 1, 12]",
          "[4, 12, 1]",
          "[1, 1, 52]",
          "[52, 52, 12]",
          "[4, 52, 12]",
          "[4, 1, 1]",
          "[52, 52, 4]",
          "[1, 1, 4]",
          "[4, 1, 12]",
          "[12, 52, 12]",
          "[1, 1, 12]",
          "[1, 4, 4]",
          "[1, 12, 52]",
          "[52, 1, 4]",
          "[1, 52, 1]",
          "[4, 52, 52]",
          "[12, 52, 4]",
          "[1, 1, 12]",
          "[4, 12, 1]",
          "[12, 4, 12]",
          "[52, 4, 1]",
          "[1, 52, 52]",
          "[52, 4, 52]",
          "[52, 4, 52]",
          "[4, 4, 1]",
          "[4, 4, 52]",
          "[4, 4, 52]",
          "[1, 4, 4]",
          "[4, 12, 12]",
          "[4, 1, 12]",
          "[1, 1, 4]",
          "[12, 52, 4]",
          "[4, 4, 52]",
          "[12, 1, 4]",
          "[1, 4, 4]",
          "[1, 4, 4]",
          "[4, 1, 4]",
          "[4, 12, 1]",
          "[52, 1, 4]",
          "[4, 12, 4]",
          "[52, 1, 12]",
          "[4, 52, 52]",
          "[4, 1, 1]",
          "[1, 4, 4]",
          "[52, 12, 52]",
          "[1, 1, 12]",
          "[52, 1, 1]",
          "[52, 1, 4]",
          "[4, 1, 4]",
          "[4, 4, 52]",
          "[4, 12, 12]",
          "[1, 12, 52]",
          "[4, 52, 52]",
          "[12, 12, 4]",
          "[4, 4, 52]",
          "[1, 1, 4]",
          "[1, 1, 4]",
          "[12, 52, 12]",
          "[4, 1, 1]",
          "[12, 52, 52]",
          "[4, 4, 52]",
          "[1, 4, 4]",
          "[1, 1, 4]"
         ]
        },
        {
         "marker": {
          "color": "#cccccc",
          "line": {
           "color": "Gray",
           "width": 2
          }
         },
         "mode": "markers",
         "name": "Infeasible Trial",
         "showlegend": false,
         "type": "scatter",
         "x": [],
         "y": []
        }
       ],
       "layout": {
        "height": 800,
        "plot_bgcolor": "white",
        "template": {
         "data": {
          "bar": [
           {
            "error_x": {
             "color": "#2a3f5f"
            },
            "error_y": {
             "color": "#2a3f5f"
            },
            "marker": {
             "line": {
              "color": "#E5ECF6",
              "width": 0.5
             },
             "pattern": {
              "fillmode": "overlay",
              "size": 10,
              "solidity": 0.2
             }
            },
            "type": "bar"
           }
          ],
          "barpolar": [
           {
            "marker": {
             "line": {
              "color": "#E5ECF6",
              "width": 0.5
             },
             "pattern": {
              "fillmode": "overlay",
              "size": 10,
              "solidity": 0.2
             }
            },
            "type": "barpolar"
           }
          ],
          "carpet": [
           {
            "aaxis": {
             "endlinecolor": "#2a3f5f",
             "gridcolor": "white",
             "linecolor": "white",
             "minorgridcolor": "white",
             "startlinecolor": "#2a3f5f"
            },
            "baxis": {
             "endlinecolor": "#2a3f5f",
             "gridcolor": "white",
             "linecolor": "white",
             "minorgridcolor": "white",
             "startlinecolor": "#2a3f5f"
            },
            "type": "carpet"
           }
          ],
          "choropleth": [
           {
            "colorbar": {
             "outlinewidth": 0,
             "ticks": ""
            },
            "type": "choropleth"
           }
          ],
          "contour": [
           {
            "colorbar": {
             "outlinewidth": 0,
             "ticks": ""
            },
            "colorscale": [
             [
              0,
              "#0d0887"
             ],
             [
              0.1111111111111111,
              "#46039f"
             ],
             [
              0.2222222222222222,
              "#7201a8"
             ],
             [
              0.3333333333333333,
              "#9c179e"
             ],
             [
              0.4444444444444444,
              "#bd3786"
             ],
             [
              0.5555555555555556,
              "#d8576b"
             ],
             [
              0.6666666666666666,
              "#ed7953"
             ],
             [
              0.7777777777777778,
              "#fb9f3a"
             ],
             [
              0.8888888888888888,
              "#fdca26"
             ],
             [
              1,
              "#f0f921"
             ]
            ],
            "type": "contour"
           }
          ],
          "contourcarpet": [
           {
            "colorbar": {
             "outlinewidth": 0,
             "ticks": ""
            },
            "type": "contourcarpet"
           }
          ],
          "heatmap": [
           {
            "colorbar": {
             "outlinewidth": 0,
             "ticks": ""
            },
            "colorscale": [
             [
              0,
              "#0d0887"
             ],
             [
              0.1111111111111111,
              "#46039f"
             ],
             [
              0.2222222222222222,
              "#7201a8"
             ],
             [
              0.3333333333333333,
              "#9c179e"
             ],
             [
              0.4444444444444444,
              "#bd3786"
             ],
             [
              0.5555555555555556,
              "#d8576b"
             ],
             [
              0.6666666666666666,
              "#ed7953"
             ],
             [
              0.7777777777777778,
              "#fb9f3a"
             ],
             [
              0.8888888888888888,
              "#fdca26"
             ],
             [
              1,
              "#f0f921"
             ]
            ],
            "type": "heatmap"
           }
          ],
          "heatmapgl": [
           {
            "colorbar": {
             "outlinewidth": 0,
             "ticks": ""
            },
            "colorscale": [
             [
              0,
              "#0d0887"
             ],
             [
              0.1111111111111111,
              "#46039f"
             ],
             [
              0.2222222222222222,
              "#7201a8"
             ],
             [
              0.3333333333333333,
              "#9c179e"
             ],
             [
              0.4444444444444444,
              "#bd3786"
             ],
             [
              0.5555555555555556,
              "#d8576b"
             ],
             [
              0.6666666666666666,
              "#ed7953"
             ],
             [
              0.7777777777777778,
              "#fb9f3a"
             ],
             [
              0.8888888888888888,
              "#fdca26"
             ],
             [
              1,
              "#f0f921"
             ]
            ],
            "type": "heatmapgl"
           }
          ],
          "histogram": [
           {
            "marker": {
             "pattern": {
              "fillmode": "overlay",
              "size": 10,
              "solidity": 0.2
             }
            },
            "type": "histogram"
           }
          ],
          "histogram2d": [
           {
            "colorbar": {
             "outlinewidth": 0,
             "ticks": ""
            },
            "colorscale": [
             [
              0,
              "#0d0887"
             ],
             [
              0.1111111111111111,
              "#46039f"
             ],
             [
              0.2222222222222222,
              "#7201a8"
             ],
             [
              0.3333333333333333,
              "#9c179e"
             ],
             [
              0.4444444444444444,
              "#bd3786"
             ],
             [
              0.5555555555555556,
              "#d8576b"
             ],
             [
              0.6666666666666666,
              "#ed7953"
             ],
             [
              0.7777777777777778,
              "#fb9f3a"
             ],
             [
              0.8888888888888888,
              "#fdca26"
             ],
             [
              1,
              "#f0f921"
             ]
            ],
            "type": "histogram2d"
           }
          ],
          "histogram2dcontour": [
           {
            "colorbar": {
             "outlinewidth": 0,
             "ticks": ""
            },
            "colorscale": [
             [
              0,
              "#0d0887"
             ],
             [
              0.1111111111111111,
              "#46039f"
             ],
             [
              0.2222222222222222,
              "#7201a8"
             ],
             [
              0.3333333333333333,
              "#9c179e"
             ],
             [
              0.4444444444444444,
              "#bd3786"
             ],
             [
              0.5555555555555556,
              "#d8576b"
             ],
             [
              0.6666666666666666,
              "#ed7953"
             ],
             [
              0.7777777777777778,
              "#fb9f3a"
             ],
             [
              0.8888888888888888,
              "#fdca26"
             ],
             [
              1,
              "#f0f921"
             ]
            ],
            "type": "histogram2dcontour"
           }
          ],
          "mesh3d": [
           {
            "colorbar": {
             "outlinewidth": 0,
             "ticks": ""
            },
            "type": "mesh3d"
           }
          ],
          "parcoords": [
           {
            "line": {
             "colorbar": {
              "outlinewidth": 0,
              "ticks": ""
             }
            },
            "type": "parcoords"
           }
          ],
          "pie": [
           {
            "automargin": true,
            "type": "pie"
           }
          ],
          "scatter": [
           {
            "fillpattern": {
             "fillmode": "overlay",
             "size": 10,
             "solidity": 0.2
            },
            "type": "scatter"
           }
          ],
          "scatter3d": [
           {
            "line": {
             "colorbar": {
              "outlinewidth": 0,
              "ticks": ""
             }
            },
            "marker": {
             "colorbar": {
              "outlinewidth": 0,
              "ticks": ""
             }
            },
            "type": "scatter3d"
           }
          ],
          "scattercarpet": [
           {
            "marker": {
             "colorbar": {
              "outlinewidth": 0,
              "ticks": ""
             }
            },
            "type": "scattercarpet"
           }
          ],
          "scattergeo": [
           {
            "marker": {
             "colorbar": {
              "outlinewidth": 0,
              "ticks": ""
             }
            },
            "type": "scattergeo"
           }
          ],
          "scattergl": [
           {
            "marker": {
             "colorbar": {
              "outlinewidth": 0,
              "ticks": ""
             }
            },
            "type": "scattergl"
           }
          ],
          "scattermapbox": [
           {
            "marker": {
             "colorbar": {
              "outlinewidth": 0,
              "ticks": ""
             }
            },
            "type": "scattermapbox"
           }
          ],
          "scatterpolar": [
           {
            "marker": {
             "colorbar": {
              "outlinewidth": 0,
              "ticks": ""
             }
            },
            "type": "scatterpolar"
           }
          ],
          "scatterpolargl": [
           {
            "marker": {
             "colorbar": {
              "outlinewidth": 0,
              "ticks": ""
             }
            },
            "type": "scatterpolargl"
           }
          ],
          "scatterternary": [
           {
            "marker": {
             "colorbar": {
              "outlinewidth": 0,
              "ticks": ""
             }
            },
            "type": "scatterternary"
           }
          ],
          "surface": [
           {
            "colorbar": {
             "outlinewidth": 0,
             "ticks": ""
            },
            "colorscale": [
             [
              0,
              "#0d0887"
             ],
             [
              0.1111111111111111,
              "#46039f"
             ],
             [
              0.2222222222222222,
              "#7201a8"
             ],
             [
              0.3333333333333333,
              "#9c179e"
             ],
             [
              0.4444444444444444,
              "#bd3786"
             ],
             [
              0.5555555555555556,
              "#d8576b"
             ],
             [
              0.6666666666666666,
              "#ed7953"
             ],
             [
              0.7777777777777778,
              "#fb9f3a"
             ],
             [
              0.8888888888888888,
              "#fdca26"
             ],
             [
              1,
              "#f0f921"
             ]
            ],
            "type": "surface"
           }
          ],
          "table": [
           {
            "cells": {
             "fill": {
              "color": "#EBF0F8"
             },
             "line": {
              "color": "white"
             }
            },
            "header": {
             "fill": {
              "color": "#C8D4E3"
             },
             "line": {
              "color": "white"
             }
            },
            "type": "table"
           }
          ]
         },
         "layout": {
          "annotationdefaults": {
           "arrowcolor": "#2a3f5f",
           "arrowhead": 0,
           "arrowwidth": 1
          },
          "autotypenumbers": "strict",
          "coloraxis": {
           "colorbar": {
            "outlinewidth": 0,
            "ticks": ""
           }
          },
          "colorscale": {
           "diverging": [
            [
             0,
             "#8e0152"
            ],
            [
             0.1,
             "#c51b7d"
            ],
            [
             0.2,
             "#de77ae"
            ],
            [
             0.3,
             "#f1b6da"
            ],
            [
             0.4,
             "#fde0ef"
            ],
            [
             0.5,
             "#f7f7f7"
            ],
            [
             0.6,
             "#e6f5d0"
            ],
            [
             0.7,
             "#b8e186"
            ],
            [
             0.8,
             "#7fbc41"
            ],
            [
             0.9,
             "#4d9221"
            ],
            [
             1,
             "#276419"
            ]
           ],
           "sequential": [
            [
             0,
             "#0d0887"
            ],
            [
             0.1111111111111111,
             "#46039f"
            ],
            [
             0.2222222222222222,
             "#7201a8"
            ],
            [
             0.3333333333333333,
             "#9c179e"
            ],
            [
             0.4444444444444444,
             "#bd3786"
            ],
            [
             0.5555555555555556,
             "#d8576b"
            ],
            [
             0.6666666666666666,
             "#ed7953"
            ],
            [
             0.7777777777777778,
             "#fb9f3a"
            ],
            [
             0.8888888888888888,
             "#fdca26"
            ],
            [
             1,
             "#f0f921"
            ]
           ],
           "sequentialminus": [
            [
             0,
             "#0d0887"
            ],
            [
             0.1111111111111111,
             "#46039f"
            ],
            [
             0.2222222222222222,
             "#7201a8"
            ],
            [
             0.3333333333333333,
             "#9c179e"
            ],
            [
             0.4444444444444444,
             "#bd3786"
            ],
            [
             0.5555555555555556,
             "#d8576b"
            ],
            [
             0.6666666666666666,
             "#ed7953"
            ],
            [
             0.7777777777777778,
             "#fb9f3a"
            ],
            [
             0.8888888888888888,
             "#fdca26"
            ],
            [
             1,
             "#f0f921"
            ]
           ]
          },
          "colorway": [
           "#636efa",
           "#EF553B",
           "#00cc96",
           "#ab63fa",
           "#FFA15A",
           "#19d3f3",
           "#FF6692",
           "#B6E880",
           "#FF97FF",
           "#FECB52"
          ],
          "font": {
           "color": "#2a3f5f"
          },
          "geo": {
           "bgcolor": "white",
           "lakecolor": "white",
           "landcolor": "#E5ECF6",
           "showlakes": true,
           "showland": true,
           "subunitcolor": "white"
          },
          "hoverlabel": {
           "align": "left"
          },
          "hovermode": "closest",
          "mapbox": {
           "style": "light"
          },
          "paper_bgcolor": "white",
          "plot_bgcolor": "#E5ECF6",
          "polar": {
           "angularaxis": {
            "gridcolor": "white",
            "linecolor": "white",
            "ticks": ""
           },
           "bgcolor": "#E5ECF6",
           "radialaxis": {
            "gridcolor": "white",
            "linecolor": "white",
            "ticks": ""
           }
          },
          "scene": {
           "xaxis": {
            "backgroundcolor": "#E5ECF6",
            "gridcolor": "white",
            "gridwidth": 2,
            "linecolor": "white",
            "showbackground": true,
            "ticks": "",
            "zerolinecolor": "white"
           },
           "yaxis": {
            "backgroundcolor": "#E5ECF6",
            "gridcolor": "white",
            "gridwidth": 2,
            "linecolor": "white",
            "showbackground": true,
            "ticks": "",
            "zerolinecolor": "white"
           },
           "zaxis": {
            "backgroundcolor": "#E5ECF6",
            "gridcolor": "white",
            "gridwidth": 2,
            "linecolor": "white",
            "showbackground": true,
            "ticks": "",
            "zerolinecolor": "white"
           }
          },
          "shapedefaults": {
           "line": {
            "color": "#2a3f5f"
           }
          },
          "ternary": {
           "aaxis": {
            "gridcolor": "white",
            "linecolor": "white",
            "ticks": ""
           },
           "baxis": {
            "gridcolor": "white",
            "linecolor": "white",
            "ticks": ""
           },
           "bgcolor": "#E5ECF6",
           "caxis": {
            "gridcolor": "white",
            "linecolor": "white",
            "ticks": ""
           }
          },
          "title": {
           "x": 0.05
          },
          "xaxis": {
           "automargin": true,
           "gridcolor": "white",
           "linecolor": "white",
           "ticks": "",
           "title": {
            "standoff": 15
           },
           "zerolinecolor": "white",
           "zerolinewidth": 2
          },
          "yaxis": {
           "automargin": true,
           "gridcolor": "white",
           "linecolor": "white",
           "ticks": "",
           "title": {
            "standoff": 15
           },
           "zerolinecolor": "white",
           "zerolinewidth": 2
          }
         }
        },
        "title": {
         "text": "N-HiTS sMAPE Contour for Hyperparameter Relationship - Horizon: 78"
        },
        "width": 800,
        "xaxis": {
         "range": [
          -3.45,
          160.45
         ],
         "title": {
          "text": "input"
         }
        },
        "yaxis": {
         "range": [
          -1.85,
          38.85
         ],
         "title": {
          "text": "downsample"
         },
         "type": "category"
        }
       }
      }
     },
     "metadata": {},
     "output_type": "display_data"
    }
   ],
   "source": [
    "for h in ['12','26','52','78']:\n",
    "    fig = optuna.visualization.plot_contour(\n",
    "        joblib.load(fr'Results\\NHITS\\no2\\{h}W_Study.pkl'),\n",
    "        target_name='sMAPE',\n",
    "        target=lambda x: x.values[0],\n",
    "        params=['input_size','n_freq_downsample']\n",
    "    )\n",
    "    fig.update_layout({\n",
    "        'width':800, 'height':800,\n",
    "        'title':dict(text=f'N-HiTS sMAPE Contour for Hyperparameter Relationship - Horizon: {h}'),\n",
    "        'plot_bgcolor':'white',\n",
    "        'xaxis':dict(title='input'),\n",
    "        'yaxis':dict(title='downsample'),\n",
    "    })\n",
    "    fig.show()"
   ]
  },
  {
   "cell_type": "code",
   "execution_count": 222,
   "metadata": {},
   "outputs": [
    {
     "data": {
      "text/plain": [
       "{'co 12': {'smape': {'input_size': np.float64(0.7434609724049641),\n",
       "   'interpretability': np.float64(0.10260394488086569),\n",
       "   'max_steps': np.float64(0.07805474550745937),\n",
       "   'n_blocks': np.float64(0.03778696601702781),\n",
       "   'local_scalar_type': np.float64(0.02470248972991941),\n",
       "   'n_stacks': np.float64(0.013390881459763717)},\n",
       "  'mae': {'input_size': np.float64(0.7636896126002689),\n",
       "   'max_steps': np.float64(0.09905687911525723),\n",
       "   'interpretability': np.float64(0.07975257414342532),\n",
       "   'local_scalar_type': np.float64(0.034392578761542766),\n",
       "   'n_blocks': np.float64(0.018856743996974606),\n",
       "   'n_stacks': np.float64(0.00425161138253111)}},\n",
       " 'co 26': {'smape': {'local_scalar_type': np.float64(0.6975769944949958),\n",
       "   'input_size': np.float64(0.17567325340435028),\n",
       "   'interpretability': np.float64(0.0793987766207511),\n",
       "   'max_steps': np.float64(0.01849372041141619),\n",
       "   'n_blocks': np.float64(0.017915755722394924),\n",
       "   'n_stacks': np.float64(0.010941499346091819)},\n",
       "  'mae': {'local_scalar_type': np.float64(0.6884922765811802),\n",
       "   'input_size': np.float64(0.14122262612018907),\n",
       "   'interpretability': np.float64(0.1252100420199211),\n",
       "   'max_steps': np.float64(0.021255002158069216),\n",
       "   'n_blocks': np.float64(0.01381501265350367),\n",
       "   'n_stacks': np.float64(0.010005040467136884)}},\n",
       " 'co 52': {'smape': {'input_size': np.float64(0.7110699287897875),\n",
       "   'interpretability': np.float64(0.11806007429624948),\n",
       "   'local_scalar_type': np.float64(0.07173737813133296),\n",
       "   'n_stacks': np.float64(0.0401629535984302),\n",
       "   'n_blocks': np.float64(0.03329971066466466),\n",
       "   'max_steps': np.float64(0.025669954519535233)},\n",
       "  'mae': {'input_size': np.float64(0.7637120637534043),\n",
       "   'interpretability': np.float64(0.0887795111772914),\n",
       "   'local_scalar_type': np.float64(0.06289367436285709),\n",
       "   'n_stacks': np.float64(0.03131133639934961),\n",
       "   'max_steps': np.float64(0.029734251532627265),\n",
       "   'n_blocks': np.float64(0.02356916277447049)}},\n",
       " 'co 78': {'smape': {'input_size': np.float64(0.6761322088582477),\n",
       "   'n_stacks': np.float64(0.21492217096288907),\n",
       "   'interpretability': np.float64(0.05630551846562195),\n",
       "   'local_scalar_type': np.float64(0.03943450273639213),\n",
       "   'max_steps': np.float64(0.0070419828850268994),\n",
       "   'n_blocks': np.float64(0.006163616091822413)},\n",
       "  'mae': {'input_size': np.float64(0.7572271004216244),\n",
       "   'n_stacks': np.float64(0.10286290067703321),\n",
       "   'interpretability': np.float64(0.08728480882697152),\n",
       "   'local_scalar_type': np.float64(0.03997518632901572),\n",
       "   'max_steps': np.float64(0.01017293447777409),\n",
       "   'n_blocks': np.float64(0.002477069267581024)}},\n",
       " 'pm10 12': {'smape': {'input_size': np.float64(0.6550799537117221),\n",
       "   'local_scalar_type': np.float64(0.1387687501408754),\n",
       "   'interpretability': np.float64(0.10080077943028815),\n",
       "   'max_steps': np.float64(0.07560070245313011),\n",
       "   'n_stacks': np.float64(0.019480581080861453),\n",
       "   'n_blocks': np.float64(0.010269233183122875)},\n",
       "  'mae': {'input_size': np.float64(0.5609565558785067),\n",
       "   'local_scalar_type': np.float64(0.20887095804292113),\n",
       "   'interpretability': np.float64(0.1267369996731317),\n",
       "   'max_steps': np.float64(0.06548750667547505),\n",
       "   'n_stacks': np.float64(0.021817273772910664),\n",
       "   'n_blocks': np.float64(0.01613070595705472)}},\n",
       " 'pm10 26': {'smape': {'input_size': np.float64(0.3859799347873135),\n",
       "   'max_steps': np.float64(0.2261809516303192),\n",
       "   'local_scalar_type': np.float64(0.2065549057004851),\n",
       "   'interpretability': np.float64(0.14509556040818164),\n",
       "   'n_stacks': np.float64(0.018849816445757003),\n",
       "   'n_blocks': np.float64(0.01733883102794349)},\n",
       "  'mae': {'input_size': np.float64(0.3528618526944832),\n",
       "   'max_steps': np.float64(0.2997070823630925),\n",
       "   'local_scalar_type': np.float64(0.22669010590969466),\n",
       "   'interpretability': np.float64(0.08289789016088467),\n",
       "   'n_blocks': np.float64(0.026863870681277095),\n",
       "   'n_stacks': np.float64(0.010979198190568022)}},\n",
       " 'pm10 52': {'smape': {'input_size': np.float64(0.9745021996109491),\n",
       "   'interpretability': np.float64(0.009046219013095456),\n",
       "   'local_scalar_type': np.float64(0.006848285836191118),\n",
       "   'n_blocks': np.float64(0.0037133938585547704),\n",
       "   'max_steps': np.float64(0.003635211843895997),\n",
       "   'n_stacks': np.float64(0.0022546898373134484)},\n",
       "  'mae': {'input_size': np.float64(0.9749421654883831),\n",
       "   'local_scalar_type': np.float64(0.00761807884860397),\n",
       "   'max_steps': np.float64(0.00610347554115756),\n",
       "   'n_blocks': np.float64(0.004824420270067613),\n",
       "   'interpretability': np.float64(0.004544243985045621),\n",
       "   'n_stacks': np.float64(0.0019676158667421787)}},\n",
       " 'pm10 78': {'smape': {'input_size': np.float64(0.8885154192433077),\n",
       "   'max_steps': np.float64(0.056539972288891946),\n",
       "   'interpretability': np.float64(0.027350329650375687),\n",
       "   'local_scalar_type': np.float64(0.024712590809239852),\n",
       "   'n_stacks': np.float64(0.0015978317170804732),\n",
       "   'n_blocks': np.float64(0.0012838562911042734)},\n",
       "  'mae': {'input_size': np.float64(0.8549300028199363),\n",
       "   'max_steps': np.float64(0.09952922098914725),\n",
       "   'interpretability': np.float64(0.025056429462911475),\n",
       "   'local_scalar_type': np.float64(0.017587516363061075),\n",
       "   'n_stacks': np.float64(0.0021298039534387646),\n",
       "   'n_blocks': np.float64(0.0007670264115051938)}},\n",
       " 'pm25 12': {'smape': {'input_size': np.float64(0.8068579013990954),\n",
       "   'interpretability': np.float64(0.08244846873724596),\n",
       "   'local_scalar_type': np.float64(0.056704038602926436),\n",
       "   'max_steps': np.float64(0.02146901038281953),\n",
       "   'n_stacks': np.float64(0.018987121628354992),\n",
       "   'n_blocks': np.float64(0.013533459249557726)},\n",
       "  'mae': {'input_size': np.float64(0.8326901435391225),\n",
       "   'interpretability': np.float64(0.06632720942010116),\n",
       "   'local_scalar_type': np.float64(0.045945641652375524),\n",
       "   'max_steps': np.float64(0.02903586488594584),\n",
       "   'n_stacks': np.float64(0.015226065974231767),\n",
       "   'n_blocks': np.float64(0.010775074528223079)}},\n",
       " 'pm25 26': {'smape': {'input_size': np.float64(0.8721535742279574),\n",
       "   'max_steps': np.float64(0.04152443778431158),\n",
       "   'interpretability': np.float64(0.03277244112820904),\n",
       "   'local_scalar_type': np.float64(0.032479714287105554),\n",
       "   'n_stacks': np.float64(0.011534947495931421),\n",
       "   'n_blocks': np.float64(0.009534885076485299)},\n",
       "  'mae': {'input_size': np.float64(0.9170234367761539),\n",
       "   'local_scalar_type': np.float64(0.03014462527260557),\n",
       "   'interpretability': np.float64(0.02357174168044869),\n",
       "   'n_blocks': np.float64(0.012650110434734681),\n",
       "   'max_steps': np.float64(0.01000855106655446),\n",
       "   'n_stacks': np.float64(0.0066015347695026665)}},\n",
       " 'pm25 52': {'smape': {'input_size': np.float64(0.8707477531209799),\n",
       "   'local_scalar_type': np.float64(0.06049209062413287),\n",
       "   'n_stacks': np.float64(0.02343243268024315),\n",
       "   'max_steps': np.float64(0.017134194804771585),\n",
       "   'interpretability': np.float64(0.016658152276829364),\n",
       "   'n_blocks': np.float64(0.011535376493043084)},\n",
       "  'mae': {'input_size': np.float64(0.8516960496792855),\n",
       "   'local_scalar_type': np.float64(0.07163460213599361),\n",
       "   'n_stacks': np.float64(0.02726869077844121),\n",
       "   'max_steps': np.float64(0.01982426615944465),\n",
       "   'interpretability': np.float64(0.015408379694139027),\n",
       "   'n_blocks': np.float64(0.014168011552695954)}},\n",
       " 'pm25 78': {'smape': {'input_size': np.float64(0.6245837928077308),\n",
       "   'interpretability': np.float64(0.2861502727790362),\n",
       "   'local_scalar_type': np.float64(0.030891822107194336),\n",
       "   'max_steps': np.float64(0.029371384784226236),\n",
       "   'n_blocks': np.float64(0.02015053483452523),\n",
       "   'n_stacks': np.float64(0.0088521926872871)},\n",
       "  'mae': {'input_size': np.float64(0.7336269157005486),\n",
       "   'interpretability': np.float64(0.18930535641745627),\n",
       "   'max_steps': np.float64(0.03619590503148622),\n",
       "   'local_scalar_type': np.float64(0.019288412131923515),\n",
       "   'n_stacks': np.float64(0.014017156161183963),\n",
       "   'n_blocks': np.float64(0.007566254557401655)}},\n",
       " 'o3 12': {'smape': {'input_size': np.float64(0.8638464109066808),\n",
       "   'interpretability': np.float64(0.05559959489051591),\n",
       "   'max_steps': np.float64(0.034816747213476246),\n",
       "   'local_scalar_type': np.float64(0.022675876069511432),\n",
       "   'n_blocks': np.float64(0.016490419091215937),\n",
       "   'n_stacks': np.float64(0.0065709518285996926)},\n",
       "  'mae': {'input_size': np.float64(0.7848283994203873),\n",
       "   'interpretability': np.float64(0.07102546354001152),\n",
       "   'max_steps': np.float64(0.06518580730794286),\n",
       "   'local_scalar_type': np.float64(0.04416543408122651),\n",
       "   'n_stacks': np.float64(0.01834931553059827),\n",
       "   'n_blocks': np.float64(0.016445580119833676)}},\n",
       " 'o3 26': {'smape': {'input_size': np.float64(0.879676556220588),\n",
       "   'interpretability': np.float64(0.0571818292316081),\n",
       "   'max_steps': np.float64(0.026162362779957482),\n",
       "   'n_stacks': np.float64(0.014376880087910219),\n",
       "   'local_scalar_type': np.float64(0.011867564772441726),\n",
       "   'n_blocks': np.float64(0.010734806907494275)},\n",
       "  'mae': {'input_size': np.float64(0.809113575533519),\n",
       "   'interpretability': np.float64(0.08810738037979854),\n",
       "   'local_scalar_type': np.float64(0.03997051652599067),\n",
       "   'max_steps': np.float64(0.03493146058095948),\n",
       "   'n_blocks': np.float64(0.016546167868464485),\n",
       "   'n_stacks': np.float64(0.011330899111267867)}},\n",
       " 'o3 52': {'smape': {'input_size': np.float64(0.7207966886741818),\n",
       "   'max_steps': np.float64(0.18443899456162466),\n",
       "   'interpretability': np.float64(0.0639220020242121),\n",
       "   'local_scalar_type': np.float64(0.012021001223456689),\n",
       "   'n_blocks': np.float64(0.00985539917142557),\n",
       "   'n_stacks': np.float64(0.008965914345099264)},\n",
       "  'mae': {'input_size': np.float64(0.7271904054120727),\n",
       "   'max_steps': np.float64(0.17940401185540558),\n",
       "   'interpretability': np.float64(0.0579632655490401),\n",
       "   'n_blocks': np.float64(0.01853030181616406),\n",
       "   'local_scalar_type': np.float64(0.010359680252835837),\n",
       "   'n_stacks': np.float64(0.006552335114481952)}},\n",
       " 'o3 78': {'smape': {'interpretability': np.float64(0.7639223995228752),\n",
       "   'input_size': np.float64(0.21751275280882518),\n",
       "   'max_steps': np.float64(0.012694417396557937),\n",
       "   'local_scalar_type': np.float64(0.003570560195259802),\n",
       "   'n_stacks': np.float64(0.0014623620840573395),\n",
       "   'n_blocks': np.float64(0.0008375079924246383)},\n",
       "  'mae': {'interpretability': np.float64(0.7706605090276609),\n",
       "   'input_size': np.float64(0.21668460223122432),\n",
       "   'max_steps': np.float64(0.006454568317915235),\n",
       "   'local_scalar_type': np.float64(0.004903909683876232),\n",
       "   'n_blocks': np.float64(0.0006704794311704969),\n",
       "   'n_stacks': np.float64(0.0006259313081527918)}},\n",
       " 'no2 12': {'smape': {'input_size': np.float64(0.5684778864551105),\n",
       "   'local_scalar_type': np.float64(0.3466970342710147),\n",
       "   'interpretability': np.float64(0.03516392871725401),\n",
       "   'max_steps': np.float64(0.03163460317030011),\n",
       "   'n_stacks': np.float64(0.009668842457644423),\n",
       "   'n_blocks': np.float64(0.008357704928676157)},\n",
       "  'mae': {'input_size': np.float64(0.5074050471122593),\n",
       "   'local_scalar_type': np.float64(0.3576407250776149),\n",
       "   'interpretability': np.float64(0.05988439759826831),\n",
       "   'max_steps': np.float64(0.05092354051848642),\n",
       "   'n_blocks': np.float64(0.01502892717781181),\n",
       "   'n_stacks': np.float64(0.009117362515559394)}},\n",
       " 'no2 26': {'smape': {'input_size': np.float64(0.871126897805169),\n",
       "   'max_steps': np.float64(0.037300837170534326),\n",
       "   'interpretability': np.float64(0.033585206162126915),\n",
       "   'n_blocks': np.float64(0.027045691410230204),\n",
       "   'local_scalar_type': np.float64(0.01614872812624541),\n",
       "   'n_stacks': np.float64(0.014792639325693946)},\n",
       "  'mae': {'input_size': np.float64(0.8728164379559553),\n",
       "   'max_steps': np.float64(0.03401206737842565),\n",
       "   'n_blocks': np.float64(0.02978726653156716),\n",
       "   'local_scalar_type': np.float64(0.02894099302492699),\n",
       "   'n_stacks': np.float64(0.01725819218249229),\n",
       "   'interpretability': np.float64(0.017185042926632532)}},\n",
       " 'no2 52': {'smape': {'input_size': np.float64(0.8258142089395001),\n",
       "   'local_scalar_type': np.float64(0.08277683562492254),\n",
       "   'interpretability': np.float64(0.03761033307705817),\n",
       "   'n_blocks': np.float64(0.02433083905905179),\n",
       "   'max_steps': np.float64(0.016843395618419413),\n",
       "   'n_stacks': np.float64(0.012624387681048089)},\n",
       "  'mae': {'input_size': np.float64(0.7918288978107114),\n",
       "   'local_scalar_type': np.float64(0.08447566522268554),\n",
       "   'interpretability': np.float64(0.048612181522687745),\n",
       "   'n_blocks': np.float64(0.026018385839243995),\n",
       "   'max_steps': np.float64(0.024750408946435418),\n",
       "   'n_stacks': np.float64(0.02431446065823598)}},\n",
       " 'no2 78': {'smape': {'input_size': np.float64(0.5770655827889364),\n",
       "   'interpretability': np.float64(0.20569094753145142),\n",
       "   'max_steps': np.float64(0.10134471707608854),\n",
       "   'n_blocks': np.float64(0.06599424414394531),\n",
       "   'local_scalar_type': np.float64(0.03666985171163682),\n",
       "   'n_stacks': np.float64(0.013234656747941427)},\n",
       "  'mae': {'input_size': np.float64(0.43152890778909936),\n",
       "   'interpretability': np.float64(0.35377269541345757),\n",
       "   'max_steps': np.float64(0.11049872925887363),\n",
       "   'n_blocks': np.float64(0.045513070989383494),\n",
       "   'local_scalar_type': np.float64(0.042426746475715746),\n",
       "   'n_stacks': np.float64(0.01625985007347039)}}}"
      ]
     },
     "execution_count": 222,
     "metadata": {},
     "output_type": "execute_result"
    }
   ],
   "source": [
    "nbeats_params_importance"
   ]
  }
 ],
 "metadata": {
  "kernelspec": {
   "display_name": "venv-3.12",
   "language": "python",
   "name": "python3"
  },
  "language_info": {
   "codemirror_mode": {
    "name": "ipython",
    "version": 3
   },
   "file_extension": ".py",
   "mimetype": "text/x-python",
   "name": "python",
   "nbconvert_exporter": "python",
   "pygments_lexer": "ipython3",
   "version": "3.11.9"
  }
 },
 "nbformat": 4,
 "nbformat_minor": 2
}
