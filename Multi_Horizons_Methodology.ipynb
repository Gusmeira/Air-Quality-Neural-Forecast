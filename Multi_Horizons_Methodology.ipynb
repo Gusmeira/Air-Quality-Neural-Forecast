{
 "cells": [
  {
   "cell_type": "markdown",
   "metadata": {},
   "source": [
    "# Libs"
   ]
  },
  {
   "cell_type": "code",
   "execution_count": 1,
   "metadata": {},
   "outputs": [
    {
     "name": "stderr",
     "output_type": "stream",
     "text": [
      "GPU available: False, used: False\n",
      "TPU available: False, using: 0 TPU cores\n",
      "HPU available: False, using: 0 HPUs\n"
     ]
    }
   ],
   "source": [
    "import pandas as pd\n",
    "import numpy as np\n",
    "np.random.seed(1)\n",
    "from functools import partial\n",
    "import itertools\n",
    "import optuna\n",
    "\n",
    "import plotly.graph_objects as go\n",
    "import plotly.express as px\n",
    "\n",
    "from neuralforecast import NeuralForecast\n",
    "from neuralforecast.models import NBEATS, NHITS\n",
    "import sklearn.metrics as metrics\n",
    "\n",
    "ponte = pd.read_pickle(r'Data\\Data_Ponte_dos_Remedios.pkl')\n",
    "del ponte['o3']\n",
    "guarulhos = pd.read_pickle(r'Data\\Data_Guarulhos.pkl')\n",
    "guarulhos = guarulhos[['date','o3']]\n",
    "\n",
    "data = ponte.merge(guarulhos, on='date', how='outer')\n",
    "data.reset_index(drop=True)\n",
    "\n",
    "import shutil\n",
    "import pickle\n",
    "from IPython.display import clear_output\n",
    "import os\n",
    "os.environ['NIXTLA_ID_AS_COL'] = '1'\n",
    "\n",
    "from pytorch_lightning import Trainer\n",
    "trainer = Trainer(\n",
    "    max_steps=4,\n",
    "    logger=False,\n",
    "    enable_progress_bar=False,\n",
    "    enable_model_summary=False  # Disable model summary\n",
    ")\n",
    "\n",
    "import warnings\n",
    "warnings.filterwarnings(\"ignore\", category=UserWarning, module=\"optuna\")"
   ]
  },
  {
   "cell_type": "markdown",
   "metadata": {},
   "source": [
    "# Gumodex"
   ]
  },
  {
   "cell_type": "code",
   "execution_count": 2,
   "metadata": {},
   "outputs": [],
   "source": [
    "# USED WITH PLOTLY TO ELABORATE THE DESIGN ===========================================================\n",
    "def main_layout(fig:go.Figure, width=700, height=600, x=None, y=None, title=None,\n",
    "               x_range=None, y_range=None, paper_color='white', \n",
    "               customdata=None, hover_customdata='Info', \n",
    "               hover_x='x',hover_y='y', **kwargs) -> go.Figure:\n",
    "    fig.layout = go.Layout(\n",
    "        width=width,\n",
    "        height=height,\n",
    "        plot_bgcolor=paper_color,\n",
    "        paper_bgcolor=paper_color,\n",
    "        xaxis={'gridcolor':'#cccccc', 'linecolor':'black','title':x, 'range':x_range},\n",
    "        yaxis={'gridcolor':'#cccccc', 'linecolor':'black','title':y, 'range':y_range},\n",
    "        title={'text':title},\n",
    "        **kwargs\n",
    "    )\n",
    "    if customdata == 'no':\n",
    "        ...\n",
    "    elif customdata is None:\n",
    "        fig.update_traces(patch={\n",
    "            'customdata':customdata, 'hovertemplate': hover_x + ': %{x}<br>' + hover_y + ': %{y}'\n",
    "        })\n",
    "    else:\n",
    "        fig.update_traces(patch={\n",
    "            'customdata':customdata,\n",
    "            'hovertemplate': hover_x + ': %{x}<br>' + hover_y + ': %{y}<br>' + hover_customdata + ': %{customdata}<br>'\n",
    "        })\n",
    "    return fig\n",
    "# ====================================================================================================\n",
    "def main_subplot_layout(fig:go.Figure, width=1400, height=500, title=None, paper_color='white',\n",
    "                        x=None, y=None, rows=1, cols=2, x_range=None, y_range=None,\n",
    "                        customdata=None, hover_customdata='Info', \n",
    "                        hover_x='x',hover_y='y', **kwargs) -> go.Figure:\n",
    "    fig.update_layout({\n",
    "        'width':width,\n",
    "        'height':height,\n",
    "        'plot_bgcolor':paper_color,\n",
    "        'paper_bgcolor':paper_color,\n",
    "        'title':title,\n",
    "        **kwargs\n",
    "    })\n",
    "    for xaxis in fig.select_xaxes():\n",
    "        xaxis.update(\n",
    "            showgrid=True,\n",
    "            gridcolor='#CCCCCC',\n",
    "            linecolor='black',\n",
    "            title=x,\n",
    "            range=x_range\n",
    "        )\n",
    "    for yaxis in fig.select_yaxes():\n",
    "        yaxis.update(\n",
    "            showgrid=True,\n",
    "            gridcolor='#CCCCCC',\n",
    "            linecolor='black',\n",
    "            title=y,\n",
    "            range=y_range\n",
    "        )\n",
    "    if customdata == 'no':\n",
    "        ...\n",
    "    elif customdata is None:\n",
    "        fig.update_traces(patch={\n",
    "            'customdata':customdata, 'hovertemplate': hover_x + ': %{x}<br>' + hover_y + ': %{y}'\n",
    "        })\n",
    "    else:\n",
    "        fig.update_traces(patch={\n",
    "            'customdata':customdata,\n",
    "            'hovertemplate': hover_x + ': %{x}<br>' + hover_y + ': %{y}<br>' + hover_customdata + ': %{customdata}<br>'\n",
    "        })\n",
    "    return fig\n",
    "# ===================================================================================================="
   ]
  },
  {
   "cell_type": "markdown",
   "metadata": {},
   "source": [
    "# **Time Object**"
   ]
  },
  {
   "cell_type": "code",
   "execution_count": 3,
   "metadata": {},
   "outputs": [],
   "source": [
    "class TimeObject:\n",
    "    def __init__(self, df:pd.DataFrame, column:str, \n",
    "                 NAN_treatment_args:dict={'method':'from_derivatives'},\n",
    "                 agg_freq:str=None) -> None:\n",
    "\n",
    "        self.df = df[['date',column]]\n",
    "        self.column = column\n",
    "        self.time_serie = self.to_serie_()\n",
    "\n",
    "        self.NAN_treatment_(**NAN_treatment_args)\n",
    "        self.NIXTLA_treatment_()\n",
    "        if agg_freq != None: \n",
    "            self.nixtla_df = self.nixtla_df.groupby(pd.Grouper(key='ds', freq=agg_freq)).agg({'y': 'mean'}).reset_index()\n",
    "            self.nixtla_df.loc[:, ['unique_id']] = 1.0\n",
    "        self.NIXTLA_train_test(split=7)\n",
    "\n",
    "    def to_serie_(self) -> pd.Series:\n",
    "        time_serie = self.df[self.column].fillna(np.nan)\n",
    "        time_serie.index = pd.to_datetime(self.df['date'])\n",
    "\n",
    "        full_index = pd.date_range(start=time_serie.index.min(), end=time_serie.index.max(), freq='D')\n",
    "        time_serie = time_serie.reindex(full_index)\n",
    "        return time_serie\n",
    "    \n",
    "    def NAN_treatment_(self, **kwargs) -> None:\n",
    "        self.time_serie = self.time_serie.interpolate(**kwargs)\n",
    "    \n",
    "    def NIXTLA_treatment_(self) -> None:\n",
    "        self.nixtla_df = pd.DataFrame()\n",
    "        self.nixtla_df.loc[:, ['ds']] = pd.to_datetime(self.time_serie.index)\n",
    "        self.nixtla_df.loc[:, ['y']] = self.time_serie.values\n",
    "        self.nixtla_df.loc[:, ['unique_id']] = 1.0\n",
    "\n",
    "    def plot(self) -> go.Figure:\n",
    "        fig = go.Figure()\n",
    "        fig.add_trace(trace=go.Scatter(\n",
    "            x=self.time_serie.index, y=self.time_serie,\n",
    "            marker=dict(color='#222222')\n",
    "        ))\n",
    "        return fig\n",
    "\n",
    "    def NIXTLA_train_test(self, split:int=12):\n",
    "        self.split = split\n",
    "        self.Y_train = self.nixtla_df[self.nixtla_df.ds<self.nixtla_df['ds'].values[-split]]\n",
    "        self.Y_test = self.nixtla_df[self.nixtla_df.ds>=self.nixtla_df['ds'].values[-split]].reset_index(drop=True)\n",
    "\n",
    "    def metrics_(self, forecast_df:pd.DataFrame, method:str='NHITS'):\n",
    "\n",
    "        def smape(y_true, y_pred):\n",
    "            summation = 0\n",
    "            for i in range(len(y_true)):\n",
    "                summation += np.abs(y_true[i]-y_pred[i])/(np.abs(y_true[i]) + np.abs(y_pred[i]))\n",
    "            return 200/(len(y_true)+1) * summation\n",
    "        \n",
    "        self.metrics = {}\n",
    "        self.metrics['mae'] = np.round(metrics.mean_absolute_error(y_true=self.Y_test['y'], y_pred=forecast_df[method]),5)\n",
    "        self.metrics['mape'] = np.round(100*metrics.mean_absolute_percentage_error(y_true=self.Y_test['y'], y_pred=forecast_df[method]),5)\n",
    "        self.metrics['mse'] = np.round(metrics.mean_squared_error(y_true=self.Y_test['y'], y_pred=forecast_df[method]),5)\n",
    "        self.metrics['max'] = np.round(metrics.max_error(y_true=self.Y_test['y'], y_pred=forecast_df[method]),5)\n",
    "        self.metrics['smape'] = np.round(smape(y_true=self.Y_test['y'], y_pred=forecast_df[method]),5)\n",
    "        return\n",
    "\n",
    "    def plot_time_series(self):\n",
    "        fig = go.Figure()\n",
    "        fig.add_trace(trace=go.Scatter(\n",
    "            x=self.Y_train['ds'], y=self.Y_train['y'],\n",
    "            mode='lines', marker=go.scatter.Marker(\n",
    "                color='black'\n",
    "            ), name='Time Series'\n",
    "        ))\n",
    "        main_layout(fig=fig, width=1100, height=450, title='Time Series', x='time', y='AQI')\n",
    "        return fig\n",
    "\n",
    "    def plot_forecast(self, forecast_df:pd.DataFrame, confidence:int=90, method='NHITS', show:bool=True, show_metrics:bool=True):\n",
    "        fig = go.Figure()\n",
    "\n",
    "        fig.add_trace(trace=go.Scatter(\n",
    "            x=self.Y_train['ds'], y=self.Y_train['y'],\n",
    "            mode='lines', marker=go.scatter.Marker(\n",
    "                color='black'\n",
    "            ), name='train'\n",
    "        ))\n",
    "        \n",
    "        fig.add_trace(trace=go.Scatter(\n",
    "            x=self.Y_test['ds'], y=self.Y_test['y'],\n",
    "            mode='lines', marker=go.scatter.Marker(\n",
    "                color='skyblue'\n",
    "            ), name='test'\n",
    "        ))\n",
    "\n",
    "        fig.add_trace(trace=go.Scatter(\n",
    "            x=forecast_df['ds'], y=forecast_df[f'{method}'],\n",
    "            mode='lines', marker=go.scatter.Marker(\n",
    "                color='orange'\n",
    "            ), name=method\n",
    "        ))\n",
    "\n",
    "        try:\n",
    "            fig.add_trace(go.Scatter(\n",
    "                x=forecast_df['ds'], y=forecast_df[f'{method}-lo-{confidence}'],\n",
    "                mode='lines', line=dict(width=0), fill='tonexty',\n",
    "                fillcolor='rgba(255, 165, 0, 0)',\n",
    "                showlegend=False\n",
    "            ))\n",
    "\n",
    "            fig.add_trace(go.Scatter(\n",
    "                x=forecast_df['ds'], y=forecast_df[f'{method}-hi-{confidence}'],\n",
    "                mode='lines', line=dict(width=0), fill='tonexty',\n",
    "                fillcolor='rgba(255, 165, 0, 0.2)',\n",
    "                name=f'confidence: {confidence}%'\n",
    "            ))\n",
    "        except: ...\n",
    "\n",
    "        main_layout(fig=fig, width=1100, height=450, title='Forecast', x='time', y='AQI')\n",
    "\n",
    "        if show:\n",
    "            fig.show()\n",
    "        if show_metrics:\n",
    "            self.metrics_(forecast_df, method=method)\n",
    "            for key, metric in self.metrics.items():\n",
    "                print(f'{key}: {metric}')\n",
    "        \n",
    "        return fig"
   ]
  },
  {
   "cell_type": "markdown",
   "metadata": {},
   "source": [
    "# **Optuna**"
   ]
  },
  {
   "cell_type": "markdown",
   "metadata": {},
   "source": [
    "### **N-HiTS**"
   ]
  },
  {
   "cell_type": "code",
   "execution_count": null,
   "metadata": {},
   "outputs": [],
   "source": [
    "# Define the objective function\n",
    "def objective(trial, pollutant, horizon):\n",
    "    # Hyperparameter search space\n",
    "    input_size = trial.suggest_int('input_size', 4, 156, step=1)\n",
    "    n_stacks = trial.suggest_int('n_stacks', 3, 7, step=1)\n",
    "    n_blocks = trial.suggest_int('n_blocks', 1, 7, step=1)\n",
    "    max_steps = trial.suggest_int('max_steps', 1, 700, step=1)\n",
    "    local_scalar_type = trial.suggest_categorical('local_scalar_type', [None, 'standard', 'boxcox', 'minmax'])\n",
    "    n_pool_kernel_size = trial.suggest_categorical('n_pool_kernel_size', [list(combination) for combination in list(itertools.product([1, 2, 3], repeat=3))])\n",
    "    n_freq_downsample = trial.suggest_categorical('n_freq_downsample', [list(combination) for combination in list(itertools.product([1, 4, 12, 52], repeat=3))])\n",
    "\n",
    "    mape = []\n",
    "    smape = []\n",
    "    max = []\n",
    "    mae = []\n",
    "    mse = []\n",
    "    # Split for cross validation\n",
    "    for split in [1, 90]:\n",
    "        print(f'\\nPollutant = {pollutant} \\nh = {horizon} \\nTrial = {trial.number+1}\\n')\n",
    "        # Instantiate TimeObject and prepare training data\n",
    "        obj = TimeObject(df=data[:-split], column=pollutant, agg_freq='W')\n",
    "        obj.NIXTLA_train_test(split=horizon)\n",
    "\n",
    "        # Define the model\n",
    "        model = NHITS(\n",
    "            h=horizon,\n",
    "            input_size=input_size,\n",
    "            stack_types=n_stacks*['identity'],\n",
    "            n_freq_downsample=n_freq_downsample+(n_stacks-len(n_freq_downsample))*[1],\n",
    "            n_blocks=n_stacks*[n_blocks],\n",
    "            n_pool_kernel_size=(n_stacks-len(n_pool_kernel_size))*[1]+n_pool_kernel_size,\n",
    "            pooling_mode=\"MaxPool1d\",\n",
    "            activation=\"ReLU\",\n",
    "            interpolation_mode='linear',\n",
    "            max_steps=max_steps,\n",
    "            val_check_steps=12,\n",
    "        )\n",
    "\n",
    "        # Initialize NeuralForecast and fit the model\n",
    "        fcst = NeuralForecast(\n",
    "            models=[model],\n",
    "            freq='W',\n",
    "            local_scaler_type=local_scalar_type\n",
    "        )\n",
    "        fcst.fit(df=obj.Y_train, verbose=False)\n",
    "        prediction = fcst.predict(df=obj.Y_train, verbose=False)\n",
    "\n",
    "        # Evaluate metrics\n",
    "        obj.metrics_(forecast_df=prediction, method='NHITS')\n",
    "        mape.append(obj.metrics['mape'])\n",
    "        smape.append(obj.metrics['smape'])\n",
    "        max.append(obj.metrics['max'])\n",
    "        mae.append(obj.metrics['mae'])\n",
    "        mse.append(obj.metrics['mse'])\n",
    "        \n",
    "        clear_output(wait=True)\n",
    "\n",
    "    directory_path = \"lightning_logs\"\n",
    "    if os.path.exists(directory_path):\n",
    "        shutil.rmtree(directory_path)\n",
    "\n",
    "    mape = np.mean(mape)\n",
    "    smape = np.mean(smape)\n",
    "    max = np.mean(max)\n",
    "    mae = np.mean(mae)\n",
    "    mse = np.mean(mse)\n",
    "\n",
    "    # Collect the results\n",
    "    results.append({\n",
    "        'poll': pollutant,\n",
    "        'freq': 'W',\n",
    "        'split': split,\n",
    "        'h': horizon,\n",
    "        'input_size': input_size,\n",
    "        'n_stacks': n_stacks,\n",
    "        'n_blocks': n_blocks,\n",
    "        'max_steps': max_steps,\n",
    "        'local_scalar_type': local_scalar_type,\n",
    "        'n_pool_kernel_size': n_pool_kernel_size,\n",
    "        'n_freq_downsample': n_freq_downsample,\n",
    "        'mape': mape,\n",
    "        'smape': smape,\n",
    "        'max': max,\n",
    "        'mae': mae,\n",
    "        'mse': mse,\n",
    "    })\n",
    "\n",
    "    # The objective for Optuna is to minimize the MAE (or maximize a metric)\n",
    "    return smape, max, mae  # You can change this to any metric you want to optimize\n",
    "\n",
    "for pollutant in data[['pm25','co','no2','o3','pm10']]:\n",
    "    for h in [12, 52, 104]:\n",
    "        # Initialize the results list\n",
    "        results = []\n",
    "        # Define the optimization study_nhits\n",
    "        study_nhits = optuna.create_study(directions=['minimize','minimize','minimize'])  # Minimize the MAE\n",
    "\n",
    "        # Run the optimization with the number of trials you want\n",
    "        study_nhits.optimize(partial(objective, pollutant=pollutant, horizon=h), n_trials=50)\n",
    "\n",
    "        clear_output(wait=True)\n",
    "        NHITS_W = pd.DataFrame(results)\n",
    "        NHITS_W.to_pickle(fr'Results\\NHITS_{h}W_Df_{pollutant}.pkl')\n",
    "        with open(fr\"Results\\NHITS_{h}W_Study_{pollutant}.pkl\", \"wb\") as f:\n",
    "            pickle.dump(study_nhits, f)"
   ]
  },
  {
   "cell_type": "markdown",
   "metadata": {},
   "source": [
    "### **N-BEATS**"
   ]
  },
  {
   "cell_type": "code",
   "execution_count": null,
   "metadata": {},
   "outputs": [
    {
     "name": "stderr",
     "output_type": "stream",
     "text": [
      "[I 2024-12-09 12:42:20,704] Trial 2 finished with value: 40.79736666666667 and parameters: {'input_size': 99, 'n_stacks': 7, 'n_blocks': 1, 'max_steps': 1, 'local_scalar_type': None, 'interpretability': ['identity', 'identity']}. Best is trial 1 with value: 24.015110000000004.\n"
     ]
    }
   ],
   "source": [
    "# Define the objective function\n",
    "def objective(trial, pollutant, horizon):\n",
    "    # Hyperparameter search space\n",
    "    input_size = trial.suggest_int('input_size', 4, 156, step=1)\n",
    "    n_stacks = trial.suggest_int('n_stacks', 2, 7, step=1)\n",
    "    n_blocks = trial.suggest_int('n_blocks', 1, 5, step=1)\n",
    "    max_steps = trial.suggest_int('max_steps', 1, 700, step=1)\n",
    "    local_scalar_type = trial.suggest_categorical('local_scalar_type', [None, 'standard', 'boxcox', 'minmax'])\n",
    "    interpretability = trial.suggest_categorical('interpretability', [['seasonality','trend'],['seasonality','identity'],['trend','identity'],['identity','identity']])\n",
    "\n",
    "    mape = []\n",
    "    smape = []\n",
    "    max = []\n",
    "    mae = []\n",
    "    mse = []\n",
    "    # Split for cross validation\n",
    "    for split in [1, 90]:\n",
    "        # Instantiate TimeObject and prepare training data\n",
    "        obj = TimeObject(df=data[:-split], column=pollutant, agg_freq='W')\n",
    "        obj.NIXTLA_train_test(split=horizon)\n",
    "\n",
    "        # Define the model\n",
    "        model = NBEATS(\n",
    "            h=horizon,\n",
    "            input_size=input_size,\n",
    "            stack_types=interpretability+(n_stacks-len(interpretability))*['identity'],\n",
    "            n_blocks=n_stacks * [n_blocks],\n",
    "            max_steps=max_steps,\n",
    "            val_check_steps=12,\n",
    "            learning_rate=1e-3\n",
    "        )\n",
    "\n",
    "        # Initialize NeuralForecast and fit the model\n",
    "        fcst = NeuralForecast(\n",
    "            models=[model],\n",
    "            freq='W',\n",
    "            local_scaler_type=local_scalar_type\n",
    "        )\n",
    "        fcst.fit(df=obj.Y_train, verbose=False)\n",
    "        prediction = fcst.predict(df=obj.Y_train, verbose=False)\n",
    "\n",
    "        # Evaluate metrics\n",
    "        obj.metrics_(forecast_df=prediction, method='NBEATS')\n",
    "        mape.append(obj.metrics['mape'])\n",
    "        smape.append(obj.metrics['smape'])\n",
    "        max.append(obj.metrics['max'])\n",
    "        mae.append(obj.metrics['mae'])\n",
    "        mse.append(obj.metrics['mse'])\n",
    "            \n",
    "        clear_output(wait=True)\n",
    "\n",
    "        directory_path = \"lightning_logs\"\n",
    "        if os.path.exists(directory_path):\n",
    "            shutil.rmtree(directory_path)\n",
    "\n",
    "    mape = np.mean(mape)\n",
    "    smape = np.mean(smape)\n",
    "    max = np.mean(max)\n",
    "    mae = np.mean(mae)\n",
    "    mse = np.mean(mse)\n",
    "\n",
    "    # Collect the results\n",
    "    results.append({\n",
    "        'pollutant': pollutant,\n",
    "        'freq': 'W',\n",
    "        'split': split,\n",
    "        'h': horizon,\n",
    "        'input_size': input_size,\n",
    "        'n_stacks': n_stacks,\n",
    "        'n_blocks': n_blocks,\n",
    "        'max_steps': max_steps,\n",
    "        'local_scalar_type': local_scalar_type,\n",
    "        'interpretability': interpretability,\n",
    "        'mape': mape,\n",
    "        'smape': smape,\n",
    "        'max': max,\n",
    "        'mae': mae,\n",
    "        'mse': mse,\n",
    "    })\n",
    "\n",
    "    # The objective for Optuna is to minimize the MAE (or maximize a metric)\n",
    "    return smape  # You can change this to any metric you want to optimize\n",
    "\n",
    "for pollutant in data[['pm10','pm25','co','no2','o3']]:\n",
    "    for h in [12, 52, 104]:\n",
    "        # Initialize the results list\n",
    "        results = []\n",
    "        # Define the optimization study_nbeats\n",
    "        study_nbeats = optuna.create_study(direction='minimize')  # Minimize the MAE\n",
    "\n",
    "        # Run the optimization with the number of trials you want\n",
    "        study_nbeats.optimize(partial(objective, pollutant=pollutant, horizon=h), n_trials=50)\n",
    "\n",
    "        clear_output(wait=True)\n",
    "        NBEATS_W = pd.DataFrame(results)\n",
    "        NBEATS_W.to_pickle(fr'Results\\NBEATS_{h}W_Df_{pollutant}.pkl')\n",
    "        with open(fr\"Results\\NBEATS_{h}W_Study_{pollutant}.pkl\", \"wb\") as f:\n",
    "            pickle.dump(study_nbeats, f)"
   ]
  },
  {
   "cell_type": "markdown",
   "metadata": {},
   "source": [
    "### Optuna Graphs"
   ]
  },
  {
   "cell_type": "code",
   "execution_count": null,
   "metadata": {},
   "outputs": [
    {
     "data": {
      "application/vnd.plotly.v1+json": {
       "config": {
        "plotlyServerURL": "https://plot.ly"
       },
       "data": [
        {
         "type": "scatter",
         "xaxis": "x",
         "yaxis": "y"
        },
        {
         "colorbar": {
          "title": {
           "text": "smape"
          }
         },
         "colorscale": [
          [
           0,
           "rgb(247,251,255)"
          ],
          [
           0.125,
           "rgb(222,235,247)"
          ],
          [
           0.25,
           "rgb(198,219,239)"
          ],
          [
           0.375,
           "rgb(158,202,225)"
          ],
          [
           0.5,
           "rgb(107,174,214)"
          ],
          [
           0.625,
           "rgb(66,146,198)"
          ],
          [
           0.75,
           "rgb(33,113,181)"
          ],
          [
           0.875,
           "rgb(8,81,156)"
          ],
          [
           1,
           "rgb(8,48,107)"
          ]
         ],
         "connectgaps": true,
         "contours": {
          "coloring": "heatmap"
         },
         "hoverinfo": "none",
         "line": {
          "smoothing": 1.3
         },
         "reversescale": true,
         "showscale": true,
         "type": "contour",
         "x": [
          -3.4000000000000004,
          4,
          5,
          6,
          8,
          10,
          11,
          12,
          13,
          14,
          15,
          16,
          17,
          20,
          22,
          24,
          25,
          27,
          29,
          30,
          32,
          33,
          38,
          40,
          44,
          45,
          52,
          53,
          56,
          64,
          65,
          74,
          76,
          90,
          98,
          106,
          108,
          127,
          136,
          152,
          159.4
         ],
         "xaxis": "x4",
         "y": [
          0.95,
          1,
          2,
          2.05
         ],
         "yaxis": "y4",
         "z": [
          [
           null,
           null,
           null,
           null,
           null,
           null,
           null,
           null,
           null,
           null,
           null,
           null,
           null,
           null,
           null,
           null,
           null,
           null,
           null,
           null,
           null,
           null,
           null,
           null,
           null,
           null,
           null,
           null,
           null,
           null,
           null,
           null,
           null,
           null,
           null,
           null,
           null,
           null,
           null,
           null,
           null
          ],
          [
           null,
           27.760043333333332,
           27.96666,
           null,
           29.035163333333333,
           29.247870000000002,
           null,
           null,
           null,
           null,
           null,
           null,
           33.41441666666666,
           null,
           34.71989333333334,
           27.94499,
           null,
           null,
           null,
           null,
           35.936566666666664,
           42.28951333333334,
           80.77009666666667,
           34.30800333333334,
           null,
           null,
           null,
           103.97121333333332,
           41.87186,
           39.42832666666667,
           34.20766666666667,
           null,
           null,
           39.26704333333333,
           61.95826666666667,
           134.18969333333334,
           null,
           45.215203333333335,
           41.35354666666667,
           null,
           null
          ],
          [
           null,
           23.058909999999997,
           26.884576666666664,
           25.885206666666665,
           null,
           null,
           30.432080000000003,
           57.17731,
           39.79792,
           35.8272,
           39.44526333333334,
           24.503386666666668,
           null,
           63.93659333333333,
           52.89028,
           null,
           26.985323333333337,
           54.18399,
           27.848203333333334,
           30.81898,
           null,
           null,
           30.06703,
           null,
           104.96717333333333,
           30.867593333333332,
           78.32469666666667,
           null,
           null,
           null,
           null,
           31.99142333333333,
           37.93136333333333,
           null,
           null,
           null,
           110.72557333333333,
           null,
           null,
           60.195196666666675,
           null
          ],
          [
           null,
           null,
           null,
           null,
           null,
           null,
           null,
           null,
           null,
           null,
           null,
           null,
           null,
           null,
           null,
           null,
           null,
           null,
           null,
           null,
           null,
           null,
           null,
           null,
           null,
           null,
           null,
           null,
           null,
           null,
           null,
           null,
           null,
           null,
           null,
           null,
           null,
           null,
           null,
           null,
           null
          ]
         ]
        },
        {
         "marker": {
          "color": "black",
          "line": {
           "color": "Gray",
           "width": 2
          }
         },
         "mode": "markers",
         "name": "Feasible Trial",
         "showlegend": false,
         "type": "scatter",
         "x": [
          12,
          22,
          152,
          76,
          24,
          30,
          44,
          106,
          108,
          38,
          65,
          64,
          56,
          98,
          5,
          6,
          11,
          8,
          45,
          136,
          90,
          4,
          4,
          22,
          5,
          32,
          20,
          53,
          16,
          33,
          14,
          10,
          5,
          4,
          24,
          17,
          27,
          40,
          15,
          127,
          29,
          5,
          4,
          16,
          20,
          13,
          74,
          38,
          25,
          52
         ],
         "xaxis": "x4",
         "y": [
          2,
          2,
          2,
          2,
          1,
          2,
          2,
          1,
          2,
          1,
          1,
          1,
          1,
          1,
          1,
          2,
          2,
          1,
          2,
          1,
          1,
          1,
          1,
          1,
          1,
          1,
          2,
          1,
          2,
          1,
          2,
          1,
          1,
          1,
          1,
          1,
          2,
          1,
          2,
          1,
          2,
          2,
          2,
          2,
          2,
          2,
          2,
          2,
          2,
          2
         ],
         "yaxis": "y4"
        },
        {
         "colorbar": {
          "title": {
           "text": "smape"
          }
         },
         "colorscale": [
          [
           0,
           "rgb(247,251,255)"
          ],
          [
           0.125,
           "rgb(222,235,247)"
          ],
          [
           0.25,
           "rgb(198,219,239)"
          ],
          [
           0.375,
           "rgb(158,202,225)"
          ],
          [
           0.5,
           "rgb(107,174,214)"
          ],
          [
           0.625,
           "rgb(66,146,198)"
          ],
          [
           0.75,
           "rgb(33,113,181)"
          ],
          [
           0.875,
           "rgb(8,81,156)"
          ],
          [
           1,
           "rgb(8,48,107)"
          ]
         ],
         "connectgaps": true,
         "contours": {
          "coloring": "heatmap"
         },
         "hoverinfo": "none",
         "line": {
          "smoothing": 1.3
         },
         "reversescale": true,
         "showscale": false,
         "type": "contour",
         "x": [
          -3.4000000000000004,
          4,
          5,
          6,
          8,
          10,
          11,
          12,
          13,
          14,
          15,
          16,
          17,
          20,
          22,
          24,
          25,
          27,
          29,
          30,
          32,
          33,
          38,
          40,
          44,
          45,
          52,
          53,
          56,
          64,
          65,
          74,
          76,
          90,
          98,
          106,
          108,
          127,
          136,
          152,
          159.4
         ],
         "xaxis": "x7",
         "y": [
          1.75,
          2,
          3,
          4,
          5,
          6,
          7,
          7.25
         ],
         "yaxis": "y7",
         "z": [
          [
           null,
           null,
           null,
           null,
           null,
           null,
           null,
           null,
           null,
           null,
           null,
           null,
           null,
           null,
           null,
           null,
           null,
           null,
           null,
           null,
           null,
           null,
           null,
           null,
           null,
           null,
           null,
           null,
           null,
           null,
           null,
           null,
           null,
           null,
           null,
           null,
           null,
           null,
           null,
           null,
           null
          ],
          [
           null,
           null,
           null,
           null,
           null,
           null,
           null,
           null,
           null,
           null,
           39.44526333333334,
           null,
           null,
           null,
           null,
           76.21560666666666,
           null,
           null,
           null,
           null,
           null,
           null,
           null,
           null,
           null,
           null,
           null,
           null,
           null,
           null,
           null,
           null,
           null,
           null,
           null,
           null,
           null,
           null,
           null,
           null,
           null
          ],
          [
           null,
           null,
           null,
           null,
           null,
           null,
           null,
           null,
           null,
           null,
           null,
           null,
           null,
           null,
           null,
           null,
           null,
           null,
           null,
           null,
           null,
           null,
           null,
           null,
           104.96717333333333,
           null,
           78.32469666666667,
           null,
           null,
           null,
           null,
           null,
           null,
           null,
           null,
           134.18969333333334,
           null,
           null,
           null,
           60.195196666666675,
           null
          ],
          [
           null,
           null,
           null,
           null,
           null,
           null,
           null,
           null,
           null,
           null,
           null,
           48.94245000000001,
           null,
           null,
           null,
           null,
           null,
           null,
           null,
           null,
           null,
           null,
           80.77009666666667,
           null,
           null,
           null,
           null,
           null,
           null,
           null,
           null,
           null,
           null,
           null,
           null,
           null,
           110.72557333333333,
           null,
           41.35354666666667,
           null,
           null
          ],
          [
           null,
           null,
           27.96666,
           25.885206666666665,
           29.035163333333333,
           29.247870000000002,
           30.432080000000003,
           null,
           null,
           null,
           null,
           null,
           null,
           null,
           null,
           null,
           null,
           null,
           null,
           null,
           null,
           null,
           null,
           34.30800333333334,
           null,
           30.867593333333332,
           null,
           103.97121333333332,
           null,
           null,
           null,
           null,
           37.93136333333333,
           39.26704333333333,
           null,
           null,
           null,
           null,
           null,
           null,
           null
          ],
          [
           null,
           27.760043333333332,
           31.126823333333334,
           null,
           null,
           null,
           null,
           57.17731,
           null,
           35.8272,
           null,
           null,
           33.41441666666666,
           33.33466333333333,
           34.71989333333334,
           27.94499,
           null,
           null,
           null,
           null,
           35.936566666666664,
           42.28951333333334,
           null,
           null,
           null,
           null,
           null,
           null,
           null,
           null,
           null,
           null,
           null,
           null,
           61.95826666666667,
           null,
           null,
           45.215203333333335,
           null,
           null,
           null
          ],
          [
           null,
           23.058909999999997,
           26.884576666666664,
           null,
           null,
           null,
           null,
           null,
           39.79792,
           null,
           null,
           24.503386666666668,
           null,
           63.93659333333333,
           null,
           null,
           26.985323333333337,
           54.18399,
           27.848203333333334,
           30.81898,
           null,
           null,
           30.06703,
           null,
           null,
           null,
           null,
           null,
           41.87186,
           39.42832666666667,
           34.20766666666667,
           31.99142333333333,
           null,
           null,
           null,
           null,
           null,
           null,
           null,
           null,
           null
          ],
          [
           null,
           null,
           null,
           null,
           null,
           null,
           null,
           null,
           null,
           null,
           null,
           null,
           null,
           null,
           null,
           null,
           null,
           null,
           null,
           null,
           null,
           null,
           null,
           null,
           null,
           null,
           null,
           null,
           null,
           null,
           null,
           null,
           null,
           null,
           null,
           null,
           null,
           null,
           null,
           null,
           null
          ]
         ]
        },
        {
         "marker": {
          "color": "black",
          "line": {
           "color": "Gray",
           "width": 2
          }
         },
         "mode": "markers",
         "name": "Feasible Trial",
         "showlegend": false,
         "type": "scatter",
         "x": [
          12,
          22,
          152,
          76,
          24,
          30,
          44,
          106,
          108,
          38,
          65,
          64,
          56,
          98,
          5,
          6,
          11,
          8,
          45,
          136,
          90,
          4,
          4,
          22,
          5,
          32,
          20,
          53,
          16,
          33,
          14,
          10,
          5,
          4,
          24,
          17,
          27,
          40,
          15,
          127,
          29,
          5,
          4,
          16,
          20,
          13,
          74,
          38,
          25,
          52
         ],
         "xaxis": "x7",
         "y": [
          6,
          6,
          3,
          5,
          2,
          7,
          3,
          3,
          4,
          4,
          7,
          7,
          7,
          6,
          7,
          5,
          5,
          5,
          5,
          4,
          5,
          6,
          6,
          6,
          6,
          6,
          6,
          5,
          4,
          6,
          6,
          5,
          5,
          6,
          6,
          6,
          7,
          5,
          2,
          6,
          7,
          7,
          7,
          7,
          7,
          7,
          7,
          7,
          7,
          3
         ],
         "yaxis": "y7"
        },
        {
         "colorbar": {
          "title": {
           "text": "smape"
          }
         },
         "colorscale": [
          [
           0,
           "rgb(247,251,255)"
          ],
          [
           0.125,
           "rgb(222,235,247)"
          ],
          [
           0.25,
           "rgb(198,219,239)"
          ],
          [
           0.375,
           "rgb(158,202,225)"
          ],
          [
           0.5,
           "rgb(107,174,214)"
          ],
          [
           0.625,
           "rgb(66,146,198)"
          ],
          [
           0.75,
           "rgb(33,113,181)"
          ],
          [
           0.875,
           "rgb(8,81,156)"
          ],
          [
           1,
           "rgb(8,48,107)"
          ]
         ],
         "connectgaps": true,
         "contours": {
          "coloring": "heatmap"
         },
         "hoverinfo": "none",
         "line": {
          "smoothing": 1.3
         },
         "reversescale": true,
         "showscale": false,
         "type": "contour",
         "x": [
          0.95,
          1,
          2,
          2.05
         ],
         "xaxis": "x2",
         "y": [
          -3.4000000000000004,
          4,
          5,
          6,
          8,
          10,
          11,
          12,
          13,
          14,
          15,
          16,
          17,
          20,
          22,
          24,
          25,
          27,
          29,
          30,
          32,
          33,
          38,
          40,
          44,
          45,
          52,
          53,
          56,
          64,
          65,
          74,
          76,
          90,
          98,
          106,
          108,
          127,
          136,
          152,
          159.4
         ],
         "yaxis": "y2",
         "z": [
          [
           null,
           null,
           null,
           null
          ],
          [
           null,
           27.760043333333332,
           23.058909999999997,
           null
          ],
          [
           null,
           27.96666,
           26.884576666666664,
           null
          ],
          [
           null,
           null,
           25.885206666666665,
           null
          ],
          [
           null,
           29.035163333333333,
           null,
           null
          ],
          [
           null,
           29.247870000000002,
           null,
           null
          ],
          [
           null,
           null,
           30.432080000000003,
           null
          ],
          [
           null,
           null,
           57.17731,
           null
          ],
          [
           null,
           null,
           39.79792,
           null
          ],
          [
           null,
           null,
           35.8272,
           null
          ],
          [
           null,
           null,
           39.44526333333334,
           null
          ],
          [
           null,
           null,
           24.503386666666668,
           null
          ],
          [
           null,
           33.41441666666666,
           null,
           null
          ],
          [
           null,
           null,
           63.93659333333333,
           null
          ],
          [
           null,
           34.71989333333334,
           52.89028,
           null
          ],
          [
           null,
           27.94499,
           null,
           null
          ],
          [
           null,
           null,
           26.985323333333337,
           null
          ],
          [
           null,
           null,
           54.18399,
           null
          ],
          [
           null,
           null,
           27.848203333333334,
           null
          ],
          [
           null,
           null,
           30.81898,
           null
          ],
          [
           null,
           35.936566666666664,
           null,
           null
          ],
          [
           null,
           42.28951333333334,
           null,
           null
          ],
          [
           null,
           80.77009666666667,
           30.06703,
           null
          ],
          [
           null,
           34.30800333333334,
           null,
           null
          ],
          [
           null,
           null,
           104.96717333333333,
           null
          ],
          [
           null,
           null,
           30.867593333333332,
           null
          ],
          [
           null,
           null,
           78.32469666666667,
           null
          ],
          [
           null,
           103.97121333333332,
           null,
           null
          ],
          [
           null,
           41.87186,
           null,
           null
          ],
          [
           null,
           39.42832666666667,
           null,
           null
          ],
          [
           null,
           34.20766666666667,
           null,
           null
          ],
          [
           null,
           null,
           31.99142333333333,
           null
          ],
          [
           null,
           null,
           37.93136333333333,
           null
          ],
          [
           null,
           39.26704333333333,
           null,
           null
          ],
          [
           null,
           61.95826666666667,
           null,
           null
          ],
          [
           null,
           134.18969333333334,
           null,
           null
          ],
          [
           null,
           null,
           110.72557333333333,
           null
          ],
          [
           null,
           45.215203333333335,
           null,
           null
          ],
          [
           null,
           41.35354666666667,
           null,
           null
          ],
          [
           null,
           null,
           60.195196666666675,
           null
          ],
          [
           null,
           null,
           null,
           null
          ]
         ]
        },
        {
         "marker": {
          "color": "black",
          "line": {
           "color": "Gray",
           "width": 2
          }
         },
         "mode": "markers",
         "name": "Feasible Trial",
         "showlegend": false,
         "type": "scatter",
         "x": [
          2,
          2,
          2,
          2,
          1,
          2,
          2,
          1,
          2,
          1,
          1,
          1,
          1,
          1,
          1,
          2,
          2,
          1,
          2,
          1,
          1,
          1,
          1,
          1,
          1,
          1,
          2,
          1,
          2,
          1,
          2,
          1,
          1,
          1,
          1,
          1,
          2,
          1,
          2,
          1,
          2,
          2,
          2,
          2,
          2,
          2,
          2,
          2,
          2,
          2
         ],
         "xaxis": "x2",
         "y": [
          12,
          22,
          152,
          76,
          24,
          30,
          44,
          106,
          108,
          38,
          65,
          64,
          56,
          98,
          5,
          6,
          11,
          8,
          45,
          136,
          90,
          4,
          4,
          22,
          5,
          32,
          20,
          53,
          16,
          33,
          14,
          10,
          5,
          4,
          24,
          17,
          27,
          40,
          15,
          127,
          29,
          5,
          4,
          16,
          20,
          13,
          74,
          38,
          25,
          52
         ],
         "yaxis": "y2"
        },
        {
         "type": "scatter",
         "xaxis": "x5",
         "yaxis": "y5"
        },
        {
         "colorbar": {
          "title": {
           "text": "smape"
          }
         },
         "colorscale": [
          [
           0,
           "rgb(247,251,255)"
          ],
          [
           0.125,
           "rgb(222,235,247)"
          ],
          [
           0.25,
           "rgb(198,219,239)"
          ],
          [
           0.375,
           "rgb(158,202,225)"
          ],
          [
           0.5,
           "rgb(107,174,214)"
          ],
          [
           0.625,
           "rgb(66,146,198)"
          ],
          [
           0.75,
           "rgb(33,113,181)"
          ],
          [
           0.875,
           "rgb(8,81,156)"
          ],
          [
           1,
           "rgb(8,48,107)"
          ]
         ],
         "connectgaps": true,
         "contours": {
          "coloring": "heatmap"
         },
         "hoverinfo": "none",
         "line": {
          "smoothing": 1.3
         },
         "reversescale": true,
         "showscale": false,
         "type": "contour",
         "x": [
          0.95,
          1,
          2,
          2.05
         ],
         "xaxis": "x8",
         "y": [
          1.75,
          2,
          3,
          4,
          5,
          6,
          7,
          7.25
         ],
         "yaxis": "y8",
         "z": [
          [
           null,
           null,
           null,
           null
          ],
          [
           null,
           76.21560666666666,
           39.44526333333334,
           null
          ],
          [
           null,
           134.18969333333334,
           78.32469666666667,
           null
          ],
          [
           null,
           41.35354666666667,
           48.94245000000001,
           null
          ],
          [
           null,
           34.30800333333334,
           30.867593333333332,
           null
          ],
          [
           null,
           45.215203333333335,
           35.8272,
           null
          ],
          [
           null,
           30.215226666666666,
           26.985323333333337,
           null
          ],
          [
           null,
           null,
           null,
           null
          ]
         ]
        },
        {
         "marker": {
          "color": "black",
          "line": {
           "color": "Gray",
           "width": 2
          }
         },
         "mode": "markers",
         "name": "Feasible Trial",
         "showlegend": false,
         "type": "scatter",
         "x": [
          2,
          2,
          2,
          2,
          1,
          2,
          2,
          1,
          2,
          1,
          1,
          1,
          1,
          1,
          1,
          2,
          2,
          1,
          2,
          1,
          1,
          1,
          1,
          1,
          1,
          1,
          2,
          1,
          2,
          1,
          2,
          1,
          1,
          1,
          1,
          1,
          2,
          1,
          2,
          1,
          2,
          2,
          2,
          2,
          2,
          2,
          2,
          2,
          2,
          2
         ],
         "xaxis": "x8",
         "y": [
          6,
          6,
          3,
          5,
          2,
          7,
          3,
          3,
          4,
          4,
          7,
          7,
          7,
          6,
          7,
          5,
          5,
          5,
          5,
          4,
          5,
          6,
          6,
          6,
          6,
          6,
          6,
          5,
          4,
          6,
          6,
          5,
          5,
          6,
          6,
          6,
          7,
          5,
          2,
          6,
          7,
          7,
          7,
          7,
          7,
          7,
          7,
          7,
          7,
          3
         ],
         "yaxis": "y8"
        },
        {
         "colorbar": {
          "title": {
           "text": "smape"
          }
         },
         "colorscale": [
          [
           0,
           "rgb(247,251,255)"
          ],
          [
           0.125,
           "rgb(222,235,247)"
          ],
          [
           0.25,
           "rgb(198,219,239)"
          ],
          [
           0.375,
           "rgb(158,202,225)"
          ],
          [
           0.5,
           "rgb(107,174,214)"
          ],
          [
           0.625,
           "rgb(66,146,198)"
          ],
          [
           0.75,
           "rgb(33,113,181)"
          ],
          [
           0.875,
           "rgb(8,81,156)"
          ],
          [
           1,
           "rgb(8,48,107)"
          ]
         ],
         "connectgaps": true,
         "contours": {
          "coloring": "heatmap"
         },
         "hoverinfo": "none",
         "line": {
          "smoothing": 1.3
         },
         "reversescale": true,
         "showscale": false,
         "type": "contour",
         "x": [
          1.75,
          2,
          3,
          4,
          5,
          6,
          7,
          7.25
         ],
         "xaxis": "x3",
         "y": [
          -3.4000000000000004,
          4,
          5,
          6,
          8,
          10,
          11,
          12,
          13,
          14,
          15,
          16,
          17,
          20,
          22,
          24,
          25,
          27,
          29,
          30,
          32,
          33,
          38,
          40,
          44,
          45,
          52,
          53,
          56,
          64,
          65,
          74,
          76,
          90,
          98,
          106,
          108,
          127,
          136,
          152,
          159.4
         ],
         "yaxis": "y3",
         "z": [
          [
           null,
           null,
           null,
           null,
           null,
           null,
           null,
           null
          ],
          [
           null,
           null,
           null,
           null,
           null,
           27.760043333333332,
           23.058909999999997,
           null
          ],
          [
           null,
           null,
           null,
           null,
           27.96666,
           31.126823333333334,
           26.884576666666664,
           null
          ],
          [
           null,
           null,
           null,
           null,
           25.885206666666665,
           null,
           null,
           null
          ],
          [
           null,
           null,
           null,
           null,
           29.035163333333333,
           null,
           null,
           null
          ],
          [
           null,
           null,
           null,
           null,
           29.247870000000002,
           null,
           null,
           null
          ],
          [
           null,
           null,
           null,
           null,
           30.432080000000003,
           null,
           null,
           null
          ],
          [
           null,
           null,
           null,
           null,
           null,
           57.17731,
           null,
           null
          ],
          [
           null,
           null,
           null,
           null,
           null,
           null,
           39.79792,
           null
          ],
          [
           null,
           null,
           null,
           null,
           null,
           35.8272,
           null,
           null
          ],
          [
           null,
           39.44526333333334,
           null,
           null,
           null,
           null,
           null,
           null
          ],
          [
           null,
           null,
           null,
           48.94245000000001,
           null,
           null,
           24.503386666666668,
           null
          ],
          [
           null,
           null,
           null,
           null,
           null,
           33.41441666666666,
           null,
           null
          ],
          [
           null,
           null,
           null,
           null,
           null,
           33.33466333333333,
           63.93659333333333,
           null
          ],
          [
           null,
           null,
           null,
           null,
           null,
           34.71989333333334,
           null,
           null
          ],
          [
           null,
           76.21560666666666,
           null,
           null,
           null,
           27.94499,
           null,
           null
          ],
          [
           null,
           null,
           null,
           null,
           null,
           null,
           26.985323333333337,
           null
          ],
          [
           null,
           null,
           null,
           null,
           null,
           null,
           54.18399,
           null
          ],
          [
           null,
           null,
           null,
           null,
           null,
           null,
           27.848203333333334,
           null
          ],
          [
           null,
           null,
           null,
           null,
           null,
           null,
           30.81898,
           null
          ],
          [
           null,
           null,
           null,
           null,
           null,
           35.936566666666664,
           null,
           null
          ],
          [
           null,
           null,
           null,
           null,
           null,
           42.28951333333334,
           null,
           null
          ],
          [
           null,
           null,
           null,
           80.77009666666667,
           null,
           null,
           30.06703,
           null
          ],
          [
           null,
           null,
           null,
           null,
           34.30800333333334,
           null,
           null,
           null
          ],
          [
           null,
           null,
           104.96717333333333,
           null,
           null,
           null,
           null,
           null
          ],
          [
           null,
           null,
           null,
           null,
           30.867593333333332,
           null,
           null,
           null
          ],
          [
           null,
           null,
           78.32469666666667,
           null,
           null,
           null,
           null,
           null
          ],
          [
           null,
           null,
           null,
           null,
           103.97121333333332,
           null,
           null,
           null
          ],
          [
           null,
           null,
           null,
           null,
           null,
           null,
           41.87186,
           null
          ],
          [
           null,
           null,
           null,
           null,
           null,
           null,
           39.42832666666667,
           null
          ],
          [
           null,
           null,
           null,
           null,
           null,
           null,
           34.20766666666667,
           null
          ],
          [
           null,
           null,
           null,
           null,
           null,
           null,
           31.99142333333333,
           null
          ],
          [
           null,
           null,
           null,
           null,
           37.93136333333333,
           null,
           null,
           null
          ],
          [
           null,
           null,
           null,
           null,
           39.26704333333333,
           null,
           null,
           null
          ],
          [
           null,
           null,
           null,
           null,
           null,
           61.95826666666667,
           null,
           null
          ],
          [
           null,
           null,
           134.18969333333334,
           null,
           null,
           null,
           null,
           null
          ],
          [
           null,
           null,
           null,
           110.72557333333333,
           null,
           null,
           null,
           null
          ],
          [
           null,
           null,
           null,
           null,
           null,
           45.215203333333335,
           null,
           null
          ],
          [
           null,
           null,
           null,
           41.35354666666667,
           null,
           null,
           null,
           null
          ],
          [
           null,
           null,
           60.195196666666675,
           null,
           null,
           null,
           null,
           null
          ],
          [
           null,
           null,
           null,
           null,
           null,
           null,
           null,
           null
          ]
         ]
        },
        {
         "marker": {
          "color": "black",
          "line": {
           "color": "Gray",
           "width": 2
          }
         },
         "mode": "markers",
         "name": "Feasible Trial",
         "showlegend": false,
         "type": "scatter",
         "x": [
          6,
          6,
          3,
          5,
          2,
          7,
          3,
          3,
          4,
          4,
          7,
          7,
          7,
          6,
          7,
          5,
          5,
          5,
          5,
          4,
          5,
          6,
          6,
          6,
          6,
          6,
          6,
          5,
          4,
          6,
          6,
          5,
          5,
          6,
          6,
          6,
          7,
          5,
          2,
          6,
          7,
          7,
          7,
          7,
          7,
          7,
          7,
          7,
          7,
          3
         ],
         "xaxis": "x3",
         "y": [
          12,
          22,
          152,
          76,
          24,
          30,
          44,
          106,
          108,
          38,
          65,
          64,
          56,
          98,
          5,
          6,
          11,
          8,
          45,
          136,
          90,
          4,
          4,
          22,
          5,
          32,
          20,
          53,
          16,
          33,
          14,
          10,
          5,
          4,
          24,
          17,
          27,
          40,
          15,
          127,
          29,
          5,
          4,
          16,
          20,
          13,
          74,
          38,
          25,
          52
         ],
         "yaxis": "y3"
        },
        {
         "colorbar": {
          "title": {
           "text": "smape"
          }
         },
         "colorscale": [
          [
           0,
           "rgb(247,251,255)"
          ],
          [
           0.125,
           "rgb(222,235,247)"
          ],
          [
           0.25,
           "rgb(198,219,239)"
          ],
          [
           0.375,
           "rgb(158,202,225)"
          ],
          [
           0.5,
           "rgb(107,174,214)"
          ],
          [
           0.625,
           "rgb(66,146,198)"
          ],
          [
           0.75,
           "rgb(33,113,181)"
          ],
          [
           0.875,
           "rgb(8,81,156)"
          ],
          [
           1,
           "rgb(8,48,107)"
          ]
         ],
         "connectgaps": true,
         "contours": {
          "coloring": "heatmap"
         },
         "hoverinfo": "none",
         "line": {
          "smoothing": 1.3
         },
         "reversescale": true,
         "showscale": false,
         "type": "contour",
         "x": [
          1.75,
          2,
          3,
          4,
          5,
          6,
          7,
          7.25
         ],
         "xaxis": "x6",
         "y": [
          0.95,
          1,
          2,
          2.05
         ],
         "yaxis": "y6",
         "z": [
          [
           null,
           null,
           null,
           null,
           null,
           null,
           null,
           null
          ],
          [
           null,
           76.21560666666666,
           134.18969333333334,
           41.35354666666667,
           34.30800333333334,
           45.215203333333335,
           30.215226666666666,
           null
          ],
          [
           null,
           39.44526333333334,
           78.32469666666667,
           48.94245000000001,
           30.867593333333332,
           35.8272,
           26.985323333333337,
           null
          ],
          [
           null,
           null,
           null,
           null,
           null,
           null,
           null,
           null
          ]
         ]
        },
        {
         "marker": {
          "color": "black",
          "line": {
           "color": "Gray",
           "width": 2
          }
         },
         "mode": "markers",
         "name": "Feasible Trial",
         "showlegend": false,
         "type": "scatter",
         "x": [
          6,
          6,
          3,
          5,
          2,
          7,
          3,
          3,
          4,
          4,
          7,
          7,
          7,
          6,
          7,
          5,
          5,
          5,
          5,
          4,
          5,
          6,
          6,
          6,
          6,
          6,
          6,
          5,
          4,
          6,
          6,
          5,
          5,
          6,
          6,
          6,
          7,
          5,
          2,
          6,
          7,
          7,
          7,
          7,
          7,
          7,
          7,
          7,
          7,
          3
         ],
         "xaxis": "x6",
         "y": [
          2,
          2,
          2,
          2,
          1,
          2,
          2,
          1,
          2,
          1,
          1,
          1,
          1,
          1,
          1,
          2,
          2,
          1,
          2,
          1,
          1,
          1,
          1,
          1,
          1,
          1,
          2,
          1,
          2,
          1,
          2,
          1,
          1,
          1,
          1,
          1,
          2,
          1,
          2,
          1,
          2,
          2,
          2,
          2,
          2,
          2,
          2,
          2,
          2,
          2
         ],
         "yaxis": "y6"
        },
        {
         "type": "scatter",
         "xaxis": "x9",
         "yaxis": "y9"
        }
       ],
       "layout": {
        "height": 600,
        "plot_bgcolor": "white",
        "template": {
         "data": {
          "bar": [
           {
            "error_x": {
             "color": "#2a3f5f"
            },
            "error_y": {
             "color": "#2a3f5f"
            },
            "marker": {
             "line": {
              "color": "#E5ECF6",
              "width": 0.5
             },
             "pattern": {
              "fillmode": "overlay",
              "size": 10,
              "solidity": 0.2
             }
            },
            "type": "bar"
           }
          ],
          "barpolar": [
           {
            "marker": {
             "line": {
              "color": "#E5ECF6",
              "width": 0.5
             },
             "pattern": {
              "fillmode": "overlay",
              "size": 10,
              "solidity": 0.2
             }
            },
            "type": "barpolar"
           }
          ],
          "carpet": [
           {
            "aaxis": {
             "endlinecolor": "#2a3f5f",
             "gridcolor": "white",
             "linecolor": "white",
             "minorgridcolor": "white",
             "startlinecolor": "#2a3f5f"
            },
            "baxis": {
             "endlinecolor": "#2a3f5f",
             "gridcolor": "white",
             "linecolor": "white",
             "minorgridcolor": "white",
             "startlinecolor": "#2a3f5f"
            },
            "type": "carpet"
           }
          ],
          "choropleth": [
           {
            "colorbar": {
             "outlinewidth": 0,
             "ticks": ""
            },
            "type": "choropleth"
           }
          ],
          "contour": [
           {
            "colorbar": {
             "outlinewidth": 0,
             "ticks": ""
            },
            "colorscale": [
             [
              0,
              "#0d0887"
             ],
             [
              0.1111111111111111,
              "#46039f"
             ],
             [
              0.2222222222222222,
              "#7201a8"
             ],
             [
              0.3333333333333333,
              "#9c179e"
             ],
             [
              0.4444444444444444,
              "#bd3786"
             ],
             [
              0.5555555555555556,
              "#d8576b"
             ],
             [
              0.6666666666666666,
              "#ed7953"
             ],
             [
              0.7777777777777778,
              "#fb9f3a"
             ],
             [
              0.8888888888888888,
              "#fdca26"
             ],
             [
              1,
              "#f0f921"
             ]
            ],
            "type": "contour"
           }
          ],
          "contourcarpet": [
           {
            "colorbar": {
             "outlinewidth": 0,
             "ticks": ""
            },
            "type": "contourcarpet"
           }
          ],
          "heatmap": [
           {
            "colorbar": {
             "outlinewidth": 0,
             "ticks": ""
            },
            "colorscale": [
             [
              0,
              "#0d0887"
             ],
             [
              0.1111111111111111,
              "#46039f"
             ],
             [
              0.2222222222222222,
              "#7201a8"
             ],
             [
              0.3333333333333333,
              "#9c179e"
             ],
             [
              0.4444444444444444,
              "#bd3786"
             ],
             [
              0.5555555555555556,
              "#d8576b"
             ],
             [
              0.6666666666666666,
              "#ed7953"
             ],
             [
              0.7777777777777778,
              "#fb9f3a"
             ],
             [
              0.8888888888888888,
              "#fdca26"
             ],
             [
              1,
              "#f0f921"
             ]
            ],
            "type": "heatmap"
           }
          ],
          "heatmapgl": [
           {
            "colorbar": {
             "outlinewidth": 0,
             "ticks": ""
            },
            "colorscale": [
             [
              0,
              "#0d0887"
             ],
             [
              0.1111111111111111,
              "#46039f"
             ],
             [
              0.2222222222222222,
              "#7201a8"
             ],
             [
              0.3333333333333333,
              "#9c179e"
             ],
             [
              0.4444444444444444,
              "#bd3786"
             ],
             [
              0.5555555555555556,
              "#d8576b"
             ],
             [
              0.6666666666666666,
              "#ed7953"
             ],
             [
              0.7777777777777778,
              "#fb9f3a"
             ],
             [
              0.8888888888888888,
              "#fdca26"
             ],
             [
              1,
              "#f0f921"
             ]
            ],
            "type": "heatmapgl"
           }
          ],
          "histogram": [
           {
            "marker": {
             "pattern": {
              "fillmode": "overlay",
              "size": 10,
              "solidity": 0.2
             }
            },
            "type": "histogram"
           }
          ],
          "histogram2d": [
           {
            "colorbar": {
             "outlinewidth": 0,
             "ticks": ""
            },
            "colorscale": [
             [
              0,
              "#0d0887"
             ],
             [
              0.1111111111111111,
              "#46039f"
             ],
             [
              0.2222222222222222,
              "#7201a8"
             ],
             [
              0.3333333333333333,
              "#9c179e"
             ],
             [
              0.4444444444444444,
              "#bd3786"
             ],
             [
              0.5555555555555556,
              "#d8576b"
             ],
             [
              0.6666666666666666,
              "#ed7953"
             ],
             [
              0.7777777777777778,
              "#fb9f3a"
             ],
             [
              0.8888888888888888,
              "#fdca26"
             ],
             [
              1,
              "#f0f921"
             ]
            ],
            "type": "histogram2d"
           }
          ],
          "histogram2dcontour": [
           {
            "colorbar": {
             "outlinewidth": 0,
             "ticks": ""
            },
            "colorscale": [
             [
              0,
              "#0d0887"
             ],
             [
              0.1111111111111111,
              "#46039f"
             ],
             [
              0.2222222222222222,
              "#7201a8"
             ],
             [
              0.3333333333333333,
              "#9c179e"
             ],
             [
              0.4444444444444444,
              "#bd3786"
             ],
             [
              0.5555555555555556,
              "#d8576b"
             ],
             [
              0.6666666666666666,
              "#ed7953"
             ],
             [
              0.7777777777777778,
              "#fb9f3a"
             ],
             [
              0.8888888888888888,
              "#fdca26"
             ],
             [
              1,
              "#f0f921"
             ]
            ],
            "type": "histogram2dcontour"
           }
          ],
          "mesh3d": [
           {
            "colorbar": {
             "outlinewidth": 0,
             "ticks": ""
            },
            "type": "mesh3d"
           }
          ],
          "parcoords": [
           {
            "line": {
             "colorbar": {
              "outlinewidth": 0,
              "ticks": ""
             }
            },
            "type": "parcoords"
           }
          ],
          "pie": [
           {
            "automargin": true,
            "type": "pie"
           }
          ],
          "scatter": [
           {
            "fillpattern": {
             "fillmode": "overlay",
             "size": 10,
             "solidity": 0.2
            },
            "type": "scatter"
           }
          ],
          "scatter3d": [
           {
            "line": {
             "colorbar": {
              "outlinewidth": 0,
              "ticks": ""
             }
            },
            "marker": {
             "colorbar": {
              "outlinewidth": 0,
              "ticks": ""
             }
            },
            "type": "scatter3d"
           }
          ],
          "scattercarpet": [
           {
            "marker": {
             "colorbar": {
              "outlinewidth": 0,
              "ticks": ""
             }
            },
            "type": "scattercarpet"
           }
          ],
          "scattergeo": [
           {
            "marker": {
             "colorbar": {
              "outlinewidth": 0,
              "ticks": ""
             }
            },
            "type": "scattergeo"
           }
          ],
          "scattergl": [
           {
            "marker": {
             "colorbar": {
              "outlinewidth": 0,
              "ticks": ""
             }
            },
            "type": "scattergl"
           }
          ],
          "scattermapbox": [
           {
            "marker": {
             "colorbar": {
              "outlinewidth": 0,
              "ticks": ""
             }
            },
            "type": "scattermapbox"
           }
          ],
          "scatterpolar": [
           {
            "marker": {
             "colorbar": {
              "outlinewidth": 0,
              "ticks": ""
             }
            },
            "type": "scatterpolar"
           }
          ],
          "scatterpolargl": [
           {
            "marker": {
             "colorbar": {
              "outlinewidth": 0,
              "ticks": ""
             }
            },
            "type": "scatterpolargl"
           }
          ],
          "scatterternary": [
           {
            "marker": {
             "colorbar": {
              "outlinewidth": 0,
              "ticks": ""
             }
            },
            "type": "scatterternary"
           }
          ],
          "surface": [
           {
            "colorbar": {
             "outlinewidth": 0,
             "ticks": ""
            },
            "colorscale": [
             [
              0,
              "#0d0887"
             ],
             [
              0.1111111111111111,
              "#46039f"
             ],
             [
              0.2222222222222222,
              "#7201a8"
             ],
             [
              0.3333333333333333,
              "#9c179e"
             ],
             [
              0.4444444444444444,
              "#bd3786"
             ],
             [
              0.5555555555555556,
              "#d8576b"
             ],
             [
              0.6666666666666666,
              "#ed7953"
             ],
             [
              0.7777777777777778,
              "#fb9f3a"
             ],
             [
              0.8888888888888888,
              "#fdca26"
             ],
             [
              1,
              "#f0f921"
             ]
            ],
            "type": "surface"
           }
          ],
          "table": [
           {
            "cells": {
             "fill": {
              "color": "#EBF0F8"
             },
             "line": {
              "color": "white"
             }
            },
            "header": {
             "fill": {
              "color": "#C8D4E3"
             },
             "line": {
              "color": "white"
             }
            },
            "type": "table"
           }
          ]
         },
         "layout": {
          "annotationdefaults": {
           "arrowcolor": "#2a3f5f",
           "arrowhead": 0,
           "arrowwidth": 1
          },
          "autotypenumbers": "strict",
          "coloraxis": {
           "colorbar": {
            "outlinewidth": 0,
            "ticks": ""
           }
          },
          "colorscale": {
           "diverging": [
            [
             0,
             "#8e0152"
            ],
            [
             0.1,
             "#c51b7d"
            ],
            [
             0.2,
             "#de77ae"
            ],
            [
             0.3,
             "#f1b6da"
            ],
            [
             0.4,
             "#fde0ef"
            ],
            [
             0.5,
             "#f7f7f7"
            ],
            [
             0.6,
             "#e6f5d0"
            ],
            [
             0.7,
             "#b8e186"
            ],
            [
             0.8,
             "#7fbc41"
            ],
            [
             0.9,
             "#4d9221"
            ],
            [
             1,
             "#276419"
            ]
           ],
           "sequential": [
            [
             0,
             "#0d0887"
            ],
            [
             0.1111111111111111,
             "#46039f"
            ],
            [
             0.2222222222222222,
             "#7201a8"
            ],
            [
             0.3333333333333333,
             "#9c179e"
            ],
            [
             0.4444444444444444,
             "#bd3786"
            ],
            [
             0.5555555555555556,
             "#d8576b"
            ],
            [
             0.6666666666666666,
             "#ed7953"
            ],
            [
             0.7777777777777778,
             "#fb9f3a"
            ],
            [
             0.8888888888888888,
             "#fdca26"
            ],
            [
             1,
             "#f0f921"
            ]
           ],
           "sequentialminus": [
            [
             0,
             "#0d0887"
            ],
            [
             0.1111111111111111,
             "#46039f"
            ],
            [
             0.2222222222222222,
             "#7201a8"
            ],
            [
             0.3333333333333333,
             "#9c179e"
            ],
            [
             0.4444444444444444,
             "#bd3786"
            ],
            [
             0.5555555555555556,
             "#d8576b"
            ],
            [
             0.6666666666666666,
             "#ed7953"
            ],
            [
             0.7777777777777778,
             "#fb9f3a"
            ],
            [
             0.8888888888888888,
             "#fdca26"
            ],
            [
             1,
             "#f0f921"
            ]
           ]
          },
          "colorway": [
           "#636efa",
           "#EF553B",
           "#00cc96",
           "#ab63fa",
           "#FFA15A",
           "#19d3f3",
           "#FF6692",
           "#B6E880",
           "#FF97FF",
           "#FECB52"
          ],
          "font": {
           "color": "#2a3f5f"
          },
          "geo": {
           "bgcolor": "white",
           "lakecolor": "white",
           "landcolor": "#E5ECF6",
           "showlakes": true,
           "showland": true,
           "subunitcolor": "white"
          },
          "hoverlabel": {
           "align": "left"
          },
          "hovermode": "closest",
          "mapbox": {
           "style": "light"
          },
          "paper_bgcolor": "white",
          "plot_bgcolor": "#E5ECF6",
          "polar": {
           "angularaxis": {
            "gridcolor": "white",
            "linecolor": "white",
            "ticks": ""
           },
           "bgcolor": "#E5ECF6",
           "radialaxis": {
            "gridcolor": "white",
            "linecolor": "white",
            "ticks": ""
           }
          },
          "scene": {
           "xaxis": {
            "backgroundcolor": "#E5ECF6",
            "gridcolor": "white",
            "gridwidth": 2,
            "linecolor": "white",
            "showbackground": true,
            "ticks": "",
            "zerolinecolor": "white"
           },
           "yaxis": {
            "backgroundcolor": "#E5ECF6",
            "gridcolor": "white",
            "gridwidth": 2,
            "linecolor": "white",
            "showbackground": true,
            "ticks": "",
            "zerolinecolor": "white"
           },
           "zaxis": {
            "backgroundcolor": "#E5ECF6",
            "gridcolor": "white",
            "gridwidth": 2,
            "linecolor": "white",
            "showbackground": true,
            "ticks": "",
            "zerolinecolor": "white"
           }
          },
          "shapedefaults": {
           "line": {
            "color": "#2a3f5f"
           }
          },
          "ternary": {
           "aaxis": {
            "gridcolor": "white",
            "linecolor": "white",
            "ticks": ""
           },
           "baxis": {
            "gridcolor": "white",
            "linecolor": "white",
            "ticks": ""
           },
           "bgcolor": "#E5ECF6",
           "caxis": {
            "gridcolor": "white",
            "linecolor": "white",
            "ticks": ""
           }
          },
          "title": {
           "x": 0.05
          },
          "xaxis": {
           "automargin": true,
           "gridcolor": "white",
           "linecolor": "white",
           "ticks": "",
           "title": {
            "standoff": 15
           },
           "zerolinecolor": "white",
           "zerolinewidth": 2
          },
          "yaxis": {
           "automargin": true,
           "gridcolor": "white",
           "linecolor": "white",
           "ticks": "",
           "title": {
            "standoff": 15
           },
           "zerolinecolor": "white",
           "zerolinewidth": 2
          }
         }
        },
        "title": {
         "text": "Contour Plot"
        },
        "width": 800,
        "xaxis": {
         "anchor": "y",
         "domain": [
          0,
          0.2888888888888889
         ],
         "matches": "x7",
         "range": [
          -3.4000000000000004,
          159.4
         ],
         "showticklabels": false
        },
        "xaxis2": {
         "anchor": "y2",
         "domain": [
          0.35555555555555557,
          0.6444444444444445
         ],
         "matches": "x8",
         "range": [
          0.95,
          2.05
         ],
         "showticklabels": false
        },
        "xaxis3": {
         "anchor": "y3",
         "domain": [
          0.7111111111111111,
          1
         ],
         "matches": "x9",
         "range": [
          1.75,
          7.25
         ],
         "showticklabels": false
        },
        "xaxis4": {
         "anchor": "y4",
         "domain": [
          0,
          0.2888888888888889
         ],
         "matches": "x7",
         "range": [
          -3.4000000000000004,
          159.4
         ],
         "showticklabels": false
        },
        "xaxis5": {
         "anchor": "y5",
         "domain": [
          0.35555555555555557,
          0.6444444444444445
         ],
         "matches": "x8",
         "range": [
          0.95,
          2.05
         ],
         "showticklabels": false
        },
        "xaxis6": {
         "anchor": "y6",
         "domain": [
          0.7111111111111111,
          1
         ],
         "matches": "x9",
         "range": [
          1.75,
          7.25
         ],
         "showticklabels": false
        },
        "xaxis7": {
         "anchor": "y7",
         "domain": [
          0,
          0.2888888888888889
         ],
         "range": [
          -3.4000000000000004,
          159.4
         ],
         "title": {
          "text": "input_size"
         }
        },
        "xaxis8": {
         "anchor": "y8",
         "domain": [
          0.35555555555555557,
          0.6444444444444445
         ],
         "range": [
          0.95,
          2.05
         ],
         "title": {
          "text": "max_steps"
         }
        },
        "xaxis9": {
         "anchor": "y9",
         "domain": [
          0.7111111111111111,
          1
         ],
         "range": [
          1.75,
          7.25
         ],
         "title": {
          "text": "n_stacks"
         }
        },
        "yaxis": {
         "anchor": "x",
         "domain": [
          0.7333333333333333,
          1
         ],
         "range": [
          -3.4000000000000004,
          159.4
         ],
         "title": {
          "text": "input_size"
         }
        },
        "yaxis2": {
         "anchor": "x2",
         "domain": [
          0.7333333333333333,
          1
         ],
         "matches": "y",
         "range": [
          -3.4000000000000004,
          159.4
         ],
         "showticklabels": false
        },
        "yaxis3": {
         "anchor": "x3",
         "domain": [
          0.7333333333333333,
          1
         ],
         "matches": "y",
         "range": [
          -3.4000000000000004,
          159.4
         ],
         "showticklabels": false
        },
        "yaxis4": {
         "anchor": "x4",
         "domain": [
          0.36666666666666664,
          0.6333333333333333
         ],
         "range": [
          0.95,
          2.05
         ],
         "title": {
          "text": "max_steps"
         }
        },
        "yaxis5": {
         "anchor": "x5",
         "domain": [
          0.36666666666666664,
          0.6333333333333333
         ],
         "matches": "y4",
         "range": [
          0.95,
          2.05
         ],
         "showticklabels": false
        },
        "yaxis6": {
         "anchor": "x6",
         "domain": [
          0.36666666666666664,
          0.6333333333333333
         ],
         "matches": "y4",
         "range": [
          0.95,
          2.05
         ],
         "showticklabels": false
        },
        "yaxis7": {
         "anchor": "x7",
         "domain": [
          0,
          0.26666666666666666
         ],
         "range": [
          1.75,
          7.25
         ],
         "title": {
          "text": "n_stacks"
         }
        },
        "yaxis8": {
         "anchor": "x8",
         "domain": [
          0,
          0.26666666666666666
         ],
         "matches": "y7",
         "range": [
          1.75,
          7.25
         ],
         "showticklabels": false
        },
        "yaxis9": {
         "anchor": "x9",
         "domain": [
          0,
          0.26666666666666666
         ],
         "matches": "y7",
         "range": [
          1.75,
          7.25
         ],
         "showticklabels": false
        }
       }
      }
     },
     "metadata": {},
     "output_type": "display_data"
    },
    {
     "data": {
      "application/vnd.plotly.v1+json": {
       "config": {
        "plotlyServerURL": "https://plot.ly"
       },
       "data": [
        {
         "type": "scatter",
         "xaxis": "x",
         "yaxis": "y"
        },
        {
         "colorbar": {
          "title": {
           "text": "mae"
          }
         },
         "colorscale": [
          [
           0,
           "rgb(247,251,255)"
          ],
          [
           0.125,
           "rgb(222,235,247)"
          ],
          [
           0.25,
           "rgb(198,219,239)"
          ],
          [
           0.375,
           "rgb(158,202,225)"
          ],
          [
           0.5,
           "rgb(107,174,214)"
          ],
          [
           0.625,
           "rgb(66,146,198)"
          ],
          [
           0.75,
           "rgb(33,113,181)"
          ],
          [
           0.875,
           "rgb(8,81,156)"
          ],
          [
           1,
           "rgb(8,48,107)"
          ]
         ],
         "connectgaps": true,
         "contours": {
          "coloring": "heatmap"
         },
         "hoverinfo": "none",
         "line": {
          "smoothing": 1.3
         },
         "reversescale": true,
         "showscale": true,
         "type": "contour",
         "x": [
          -3.4000000000000004,
          4,
          5,
          6,
          8,
          10,
          11,
          12,
          13,
          14,
          15,
          16,
          17,
          20,
          22,
          24,
          25,
          27,
          29,
          30,
          32,
          33,
          38,
          40,
          44,
          45,
          52,
          53,
          56,
          64,
          65,
          74,
          76,
          90,
          98,
          106,
          108,
          127,
          136,
          152,
          159.4
         ],
         "xaxis": "x4",
         "y": [
          0.95,
          1,
          2,
          2.05
         ],
         "yaxis": "y4",
         "z": [
          [
           null,
           null,
           null,
           null,
           null,
           null,
           null,
           null,
           null,
           null,
           null,
           null,
           null,
           null,
           null,
           null,
           null,
           null,
           null,
           null,
           null,
           null,
           null,
           null,
           null,
           null,
           null,
           null,
           null,
           null,
           null,
           null,
           null,
           null,
           null,
           null,
           null,
           null,
           null,
           null,
           null
          ],
          [
           null,
           27.760043333333332,
           27.96666,
           null,
           29.035163333333333,
           29.247870000000002,
           null,
           null,
           null,
           null,
           null,
           null,
           33.41441666666666,
           null,
           34.71989333333334,
           27.94499,
           null,
           null,
           null,
           null,
           35.936566666666664,
           42.28951333333334,
           80.77009666666667,
           34.30800333333334,
           null,
           null,
           null,
           103.97121333333332,
           41.87186,
           39.42832666666667,
           34.20766666666667,
           null,
           null,
           39.26704333333333,
           61.95826666666667,
           134.18969333333334,
           null,
           45.215203333333335,
           41.35354666666667,
           null,
           null
          ],
          [
           null,
           23.058909999999997,
           26.884576666666664,
           25.885206666666665,
           null,
           null,
           30.432080000000003,
           57.17731,
           39.79792,
           35.8272,
           39.44526333333334,
           24.503386666666668,
           null,
           63.93659333333333,
           52.89028,
           null,
           26.985323333333337,
           54.18399,
           27.848203333333334,
           30.81898,
           null,
           null,
           30.06703,
           null,
           104.96717333333333,
           30.867593333333332,
           78.32469666666667,
           null,
           null,
           null,
           null,
           31.99142333333333,
           37.93136333333333,
           null,
           null,
           null,
           110.72557333333333,
           null,
           null,
           60.195196666666675,
           null
          ],
          [
           null,
           null,
           null,
           null,
           null,
           null,
           null,
           null,
           null,
           null,
           null,
           null,
           null,
           null,
           null,
           null,
           null,
           null,
           null,
           null,
           null,
           null,
           null,
           null,
           null,
           null,
           null,
           null,
           null,
           null,
           null,
           null,
           null,
           null,
           null,
           null,
           null,
           null,
           null,
           null,
           null
          ]
         ]
        },
        {
         "marker": {
          "color": "black",
          "line": {
           "color": "Gray",
           "width": 2
          }
         },
         "mode": "markers",
         "name": "Feasible Trial",
         "showlegend": false,
         "type": "scatter",
         "x": [
          12,
          22,
          152,
          76,
          24,
          30,
          44,
          106,
          108,
          38,
          65,
          64,
          56,
          98,
          5,
          6,
          11,
          8,
          45,
          136,
          90,
          4,
          4,
          22,
          5,
          32,
          20,
          53,
          16,
          33,
          14,
          10,
          5,
          4,
          24,
          17,
          27,
          40,
          15,
          127,
          29,
          5,
          4,
          16,
          20,
          13,
          74,
          38,
          25,
          52
         ],
         "xaxis": "x4",
         "y": [
          2,
          2,
          2,
          2,
          1,
          2,
          2,
          1,
          2,
          1,
          1,
          1,
          1,
          1,
          1,
          2,
          2,
          1,
          2,
          1,
          1,
          1,
          1,
          1,
          1,
          1,
          2,
          1,
          2,
          1,
          2,
          1,
          1,
          1,
          1,
          1,
          2,
          1,
          2,
          1,
          2,
          2,
          2,
          2,
          2,
          2,
          2,
          2,
          2,
          2
         ],
         "yaxis": "y4"
        },
        {
         "colorbar": {
          "title": {
           "text": "mae"
          }
         },
         "colorscale": [
          [
           0,
           "rgb(247,251,255)"
          ],
          [
           0.125,
           "rgb(222,235,247)"
          ],
          [
           0.25,
           "rgb(198,219,239)"
          ],
          [
           0.375,
           "rgb(158,202,225)"
          ],
          [
           0.5,
           "rgb(107,174,214)"
          ],
          [
           0.625,
           "rgb(66,146,198)"
          ],
          [
           0.75,
           "rgb(33,113,181)"
          ],
          [
           0.875,
           "rgb(8,81,156)"
          ],
          [
           1,
           "rgb(8,48,107)"
          ]
         ],
         "connectgaps": true,
         "contours": {
          "coloring": "heatmap"
         },
         "hoverinfo": "none",
         "line": {
          "smoothing": 1.3
         },
         "reversescale": true,
         "showscale": false,
         "type": "contour",
         "x": [
          -3.4000000000000004,
          4,
          5,
          6,
          8,
          10,
          11,
          12,
          13,
          14,
          15,
          16,
          17,
          20,
          22,
          24,
          25,
          27,
          29,
          30,
          32,
          33,
          38,
          40,
          44,
          45,
          52,
          53,
          56,
          64,
          65,
          74,
          76,
          90,
          98,
          106,
          108,
          127,
          136,
          152,
          159.4
         ],
         "xaxis": "x7",
         "y": [
          1.75,
          2,
          3,
          4,
          5,
          6,
          7,
          7.25
         ],
         "yaxis": "y7",
         "z": [
          [
           null,
           null,
           null,
           null,
           null,
           null,
           null,
           null,
           null,
           null,
           null,
           null,
           null,
           null,
           null,
           null,
           null,
           null,
           null,
           null,
           null,
           null,
           null,
           null,
           null,
           null,
           null,
           null,
           null,
           null,
           null,
           null,
           null,
           null,
           null,
           null,
           null,
           null,
           null,
           null,
           null
          ],
          [
           null,
           null,
           null,
           null,
           null,
           null,
           null,
           null,
           null,
           null,
           39.44526333333334,
           null,
           null,
           null,
           null,
           76.21560666666666,
           null,
           null,
           null,
           null,
           null,
           null,
           null,
           null,
           null,
           null,
           null,
           null,
           null,
           null,
           null,
           null,
           null,
           null,
           null,
           null,
           null,
           null,
           null,
           null,
           null
          ],
          [
           null,
           null,
           null,
           null,
           null,
           null,
           null,
           null,
           null,
           null,
           null,
           null,
           null,
           null,
           null,
           null,
           null,
           null,
           null,
           null,
           null,
           null,
           null,
           null,
           104.96717333333333,
           null,
           78.32469666666667,
           null,
           null,
           null,
           null,
           null,
           null,
           null,
           null,
           134.18969333333334,
           null,
           null,
           null,
           60.195196666666675,
           null
          ],
          [
           null,
           null,
           null,
           null,
           null,
           null,
           null,
           null,
           null,
           null,
           null,
           48.94245000000001,
           null,
           null,
           null,
           null,
           null,
           null,
           null,
           null,
           null,
           null,
           80.77009666666667,
           null,
           null,
           null,
           null,
           null,
           null,
           null,
           null,
           null,
           null,
           null,
           null,
           null,
           110.72557333333333,
           null,
           41.35354666666667,
           null,
           null
          ],
          [
           null,
           null,
           27.96666,
           25.885206666666665,
           29.035163333333333,
           29.247870000000002,
           30.432080000000003,
           null,
           null,
           null,
           null,
           null,
           null,
           null,
           null,
           null,
           null,
           null,
           null,
           null,
           null,
           null,
           null,
           34.30800333333334,
           null,
           30.867593333333332,
           null,
           103.97121333333332,
           null,
           null,
           null,
           null,
           37.93136333333333,
           39.26704333333333,
           null,
           null,
           null,
           null,
           null,
           null,
           null
          ],
          [
           null,
           27.760043333333332,
           31.126823333333334,
           null,
           null,
           null,
           null,
           57.17731,
           null,
           35.8272,
           null,
           null,
           33.41441666666666,
           33.33466333333333,
           34.71989333333334,
           27.94499,
           null,
           null,
           null,
           null,
           35.936566666666664,
           42.28951333333334,
           null,
           null,
           null,
           null,
           null,
           null,
           null,
           null,
           null,
           null,
           null,
           null,
           61.95826666666667,
           null,
           null,
           45.215203333333335,
           null,
           null,
           null
          ],
          [
           null,
           23.058909999999997,
           26.884576666666664,
           null,
           null,
           null,
           null,
           null,
           39.79792,
           null,
           null,
           24.503386666666668,
           null,
           63.93659333333333,
           null,
           null,
           26.985323333333337,
           54.18399,
           27.848203333333334,
           30.81898,
           null,
           null,
           30.06703,
           null,
           null,
           null,
           null,
           null,
           41.87186,
           39.42832666666667,
           34.20766666666667,
           31.99142333333333,
           null,
           null,
           null,
           null,
           null,
           null,
           null,
           null,
           null
          ],
          [
           null,
           null,
           null,
           null,
           null,
           null,
           null,
           null,
           null,
           null,
           null,
           null,
           null,
           null,
           null,
           null,
           null,
           null,
           null,
           null,
           null,
           null,
           null,
           null,
           null,
           null,
           null,
           null,
           null,
           null,
           null,
           null,
           null,
           null,
           null,
           null,
           null,
           null,
           null,
           null,
           null
          ]
         ]
        },
        {
         "marker": {
          "color": "black",
          "line": {
           "color": "Gray",
           "width": 2
          }
         },
         "mode": "markers",
         "name": "Feasible Trial",
         "showlegend": false,
         "type": "scatter",
         "x": [
          12,
          22,
          152,
          76,
          24,
          30,
          44,
          106,
          108,
          38,
          65,
          64,
          56,
          98,
          5,
          6,
          11,
          8,
          45,
          136,
          90,
          4,
          4,
          22,
          5,
          32,
          20,
          53,
          16,
          33,
          14,
          10,
          5,
          4,
          24,
          17,
          27,
          40,
          15,
          127,
          29,
          5,
          4,
          16,
          20,
          13,
          74,
          38,
          25,
          52
         ],
         "xaxis": "x7",
         "y": [
          6,
          6,
          3,
          5,
          2,
          7,
          3,
          3,
          4,
          4,
          7,
          7,
          7,
          6,
          7,
          5,
          5,
          5,
          5,
          4,
          5,
          6,
          6,
          6,
          6,
          6,
          6,
          5,
          4,
          6,
          6,
          5,
          5,
          6,
          6,
          6,
          7,
          5,
          2,
          6,
          7,
          7,
          7,
          7,
          7,
          7,
          7,
          7,
          7,
          3
         ],
         "yaxis": "y7"
        },
        {
         "colorbar": {
          "title": {
           "text": "mae"
          }
         },
         "colorscale": [
          [
           0,
           "rgb(247,251,255)"
          ],
          [
           0.125,
           "rgb(222,235,247)"
          ],
          [
           0.25,
           "rgb(198,219,239)"
          ],
          [
           0.375,
           "rgb(158,202,225)"
          ],
          [
           0.5,
           "rgb(107,174,214)"
          ],
          [
           0.625,
           "rgb(66,146,198)"
          ],
          [
           0.75,
           "rgb(33,113,181)"
          ],
          [
           0.875,
           "rgb(8,81,156)"
          ],
          [
           1,
           "rgb(8,48,107)"
          ]
         ],
         "connectgaps": true,
         "contours": {
          "coloring": "heatmap"
         },
         "hoverinfo": "none",
         "line": {
          "smoothing": 1.3
         },
         "reversescale": true,
         "showscale": false,
         "type": "contour",
         "x": [
          0.95,
          1,
          2,
          2.05
         ],
         "xaxis": "x2",
         "y": [
          -3.4000000000000004,
          4,
          5,
          6,
          8,
          10,
          11,
          12,
          13,
          14,
          15,
          16,
          17,
          20,
          22,
          24,
          25,
          27,
          29,
          30,
          32,
          33,
          38,
          40,
          44,
          45,
          52,
          53,
          56,
          64,
          65,
          74,
          76,
          90,
          98,
          106,
          108,
          127,
          136,
          152,
          159.4
         ],
         "yaxis": "y2",
         "z": [
          [
           null,
           null,
           null,
           null
          ],
          [
           null,
           27.760043333333332,
           23.058909999999997,
           null
          ],
          [
           null,
           27.96666,
           26.884576666666664,
           null
          ],
          [
           null,
           null,
           25.885206666666665,
           null
          ],
          [
           null,
           29.035163333333333,
           null,
           null
          ],
          [
           null,
           29.247870000000002,
           null,
           null
          ],
          [
           null,
           null,
           30.432080000000003,
           null
          ],
          [
           null,
           null,
           57.17731,
           null
          ],
          [
           null,
           null,
           39.79792,
           null
          ],
          [
           null,
           null,
           35.8272,
           null
          ],
          [
           null,
           null,
           39.44526333333334,
           null
          ],
          [
           null,
           null,
           24.503386666666668,
           null
          ],
          [
           null,
           33.41441666666666,
           null,
           null
          ],
          [
           null,
           null,
           63.93659333333333,
           null
          ],
          [
           null,
           34.71989333333334,
           52.89028,
           null
          ],
          [
           null,
           27.94499,
           null,
           null
          ],
          [
           null,
           null,
           26.985323333333337,
           null
          ],
          [
           null,
           null,
           54.18399,
           null
          ],
          [
           null,
           null,
           27.848203333333334,
           null
          ],
          [
           null,
           null,
           30.81898,
           null
          ],
          [
           null,
           35.936566666666664,
           null,
           null
          ],
          [
           null,
           42.28951333333334,
           null,
           null
          ],
          [
           null,
           80.77009666666667,
           30.06703,
           null
          ],
          [
           null,
           34.30800333333334,
           null,
           null
          ],
          [
           null,
           null,
           104.96717333333333,
           null
          ],
          [
           null,
           null,
           30.867593333333332,
           null
          ],
          [
           null,
           null,
           78.32469666666667,
           null
          ],
          [
           null,
           103.97121333333332,
           null,
           null
          ],
          [
           null,
           41.87186,
           null,
           null
          ],
          [
           null,
           39.42832666666667,
           null,
           null
          ],
          [
           null,
           34.20766666666667,
           null,
           null
          ],
          [
           null,
           null,
           31.99142333333333,
           null
          ],
          [
           null,
           null,
           37.93136333333333,
           null
          ],
          [
           null,
           39.26704333333333,
           null,
           null
          ],
          [
           null,
           61.95826666666667,
           null,
           null
          ],
          [
           null,
           134.18969333333334,
           null,
           null
          ],
          [
           null,
           null,
           110.72557333333333,
           null
          ],
          [
           null,
           45.215203333333335,
           null,
           null
          ],
          [
           null,
           41.35354666666667,
           null,
           null
          ],
          [
           null,
           null,
           60.195196666666675,
           null
          ],
          [
           null,
           null,
           null,
           null
          ]
         ]
        },
        {
         "marker": {
          "color": "black",
          "line": {
           "color": "Gray",
           "width": 2
          }
         },
         "mode": "markers",
         "name": "Feasible Trial",
         "showlegend": false,
         "type": "scatter",
         "x": [
          2,
          2,
          2,
          2,
          1,
          2,
          2,
          1,
          2,
          1,
          1,
          1,
          1,
          1,
          1,
          2,
          2,
          1,
          2,
          1,
          1,
          1,
          1,
          1,
          1,
          1,
          2,
          1,
          2,
          1,
          2,
          1,
          1,
          1,
          1,
          1,
          2,
          1,
          2,
          1,
          2,
          2,
          2,
          2,
          2,
          2,
          2,
          2,
          2,
          2
         ],
         "xaxis": "x2",
         "y": [
          12,
          22,
          152,
          76,
          24,
          30,
          44,
          106,
          108,
          38,
          65,
          64,
          56,
          98,
          5,
          6,
          11,
          8,
          45,
          136,
          90,
          4,
          4,
          22,
          5,
          32,
          20,
          53,
          16,
          33,
          14,
          10,
          5,
          4,
          24,
          17,
          27,
          40,
          15,
          127,
          29,
          5,
          4,
          16,
          20,
          13,
          74,
          38,
          25,
          52
         ],
         "yaxis": "y2"
        },
        {
         "type": "scatter",
         "xaxis": "x5",
         "yaxis": "y5"
        },
        {
         "colorbar": {
          "title": {
           "text": "mae"
          }
         },
         "colorscale": [
          [
           0,
           "rgb(247,251,255)"
          ],
          [
           0.125,
           "rgb(222,235,247)"
          ],
          [
           0.25,
           "rgb(198,219,239)"
          ],
          [
           0.375,
           "rgb(158,202,225)"
          ],
          [
           0.5,
           "rgb(107,174,214)"
          ],
          [
           0.625,
           "rgb(66,146,198)"
          ],
          [
           0.75,
           "rgb(33,113,181)"
          ],
          [
           0.875,
           "rgb(8,81,156)"
          ],
          [
           1,
           "rgb(8,48,107)"
          ]
         ],
         "connectgaps": true,
         "contours": {
          "coloring": "heatmap"
         },
         "hoverinfo": "none",
         "line": {
          "smoothing": 1.3
         },
         "reversescale": true,
         "showscale": false,
         "type": "contour",
         "x": [
          0.95,
          1,
          2,
          2.05
         ],
         "xaxis": "x8",
         "y": [
          1.75,
          2,
          3,
          4,
          5,
          6,
          7,
          7.25
         ],
         "yaxis": "y8",
         "z": [
          [
           null,
           null,
           null,
           null
          ],
          [
           null,
           76.21560666666666,
           39.44526333333334,
           null
          ],
          [
           null,
           134.18969333333334,
           78.32469666666667,
           null
          ],
          [
           null,
           41.35354666666667,
           48.94245000000001,
           null
          ],
          [
           null,
           34.30800333333334,
           30.867593333333332,
           null
          ],
          [
           null,
           45.215203333333335,
           35.8272,
           null
          ],
          [
           null,
           30.215226666666666,
           26.985323333333337,
           null
          ],
          [
           null,
           null,
           null,
           null
          ]
         ]
        },
        {
         "marker": {
          "color": "black",
          "line": {
           "color": "Gray",
           "width": 2
          }
         },
         "mode": "markers",
         "name": "Feasible Trial",
         "showlegend": false,
         "type": "scatter",
         "x": [
          2,
          2,
          2,
          2,
          1,
          2,
          2,
          1,
          2,
          1,
          1,
          1,
          1,
          1,
          1,
          2,
          2,
          1,
          2,
          1,
          1,
          1,
          1,
          1,
          1,
          1,
          2,
          1,
          2,
          1,
          2,
          1,
          1,
          1,
          1,
          1,
          2,
          1,
          2,
          1,
          2,
          2,
          2,
          2,
          2,
          2,
          2,
          2,
          2,
          2
         ],
         "xaxis": "x8",
         "y": [
          6,
          6,
          3,
          5,
          2,
          7,
          3,
          3,
          4,
          4,
          7,
          7,
          7,
          6,
          7,
          5,
          5,
          5,
          5,
          4,
          5,
          6,
          6,
          6,
          6,
          6,
          6,
          5,
          4,
          6,
          6,
          5,
          5,
          6,
          6,
          6,
          7,
          5,
          2,
          6,
          7,
          7,
          7,
          7,
          7,
          7,
          7,
          7,
          7,
          3
         ],
         "yaxis": "y8"
        },
        {
         "colorbar": {
          "title": {
           "text": "mae"
          }
         },
         "colorscale": [
          [
           0,
           "rgb(247,251,255)"
          ],
          [
           0.125,
           "rgb(222,235,247)"
          ],
          [
           0.25,
           "rgb(198,219,239)"
          ],
          [
           0.375,
           "rgb(158,202,225)"
          ],
          [
           0.5,
           "rgb(107,174,214)"
          ],
          [
           0.625,
           "rgb(66,146,198)"
          ],
          [
           0.75,
           "rgb(33,113,181)"
          ],
          [
           0.875,
           "rgb(8,81,156)"
          ],
          [
           1,
           "rgb(8,48,107)"
          ]
         ],
         "connectgaps": true,
         "contours": {
          "coloring": "heatmap"
         },
         "hoverinfo": "none",
         "line": {
          "smoothing": 1.3
         },
         "reversescale": true,
         "showscale": false,
         "type": "contour",
         "x": [
          1.75,
          2,
          3,
          4,
          5,
          6,
          7,
          7.25
         ],
         "xaxis": "x3",
         "y": [
          -3.4000000000000004,
          4,
          5,
          6,
          8,
          10,
          11,
          12,
          13,
          14,
          15,
          16,
          17,
          20,
          22,
          24,
          25,
          27,
          29,
          30,
          32,
          33,
          38,
          40,
          44,
          45,
          52,
          53,
          56,
          64,
          65,
          74,
          76,
          90,
          98,
          106,
          108,
          127,
          136,
          152,
          159.4
         ],
         "yaxis": "y3",
         "z": [
          [
           null,
           null,
           null,
           null,
           null,
           null,
           null,
           null
          ],
          [
           null,
           null,
           null,
           null,
           null,
           27.760043333333332,
           23.058909999999997,
           null
          ],
          [
           null,
           null,
           null,
           null,
           27.96666,
           31.126823333333334,
           26.884576666666664,
           null
          ],
          [
           null,
           null,
           null,
           null,
           25.885206666666665,
           null,
           null,
           null
          ],
          [
           null,
           null,
           null,
           null,
           29.035163333333333,
           null,
           null,
           null
          ],
          [
           null,
           null,
           null,
           null,
           29.247870000000002,
           null,
           null,
           null
          ],
          [
           null,
           null,
           null,
           null,
           30.432080000000003,
           null,
           null,
           null
          ],
          [
           null,
           null,
           null,
           null,
           null,
           57.17731,
           null,
           null
          ],
          [
           null,
           null,
           null,
           null,
           null,
           null,
           39.79792,
           null
          ],
          [
           null,
           null,
           null,
           null,
           null,
           35.8272,
           null,
           null
          ],
          [
           null,
           39.44526333333334,
           null,
           null,
           null,
           null,
           null,
           null
          ],
          [
           null,
           null,
           null,
           48.94245000000001,
           null,
           null,
           24.503386666666668,
           null
          ],
          [
           null,
           null,
           null,
           null,
           null,
           33.41441666666666,
           null,
           null
          ],
          [
           null,
           null,
           null,
           null,
           null,
           33.33466333333333,
           63.93659333333333,
           null
          ],
          [
           null,
           null,
           null,
           null,
           null,
           34.71989333333334,
           null,
           null
          ],
          [
           null,
           76.21560666666666,
           null,
           null,
           null,
           27.94499,
           null,
           null
          ],
          [
           null,
           null,
           null,
           null,
           null,
           null,
           26.985323333333337,
           null
          ],
          [
           null,
           null,
           null,
           null,
           null,
           null,
           54.18399,
           null
          ],
          [
           null,
           null,
           null,
           null,
           null,
           null,
           27.848203333333334,
           null
          ],
          [
           null,
           null,
           null,
           null,
           null,
           null,
           30.81898,
           null
          ],
          [
           null,
           null,
           null,
           null,
           null,
           35.936566666666664,
           null,
           null
          ],
          [
           null,
           null,
           null,
           null,
           null,
           42.28951333333334,
           null,
           null
          ],
          [
           null,
           null,
           null,
           80.77009666666667,
           null,
           null,
           30.06703,
           null
          ],
          [
           null,
           null,
           null,
           null,
           34.30800333333334,
           null,
           null,
           null
          ],
          [
           null,
           null,
           104.96717333333333,
           null,
           null,
           null,
           null,
           null
          ],
          [
           null,
           null,
           null,
           null,
           30.867593333333332,
           null,
           null,
           null
          ],
          [
           null,
           null,
           78.32469666666667,
           null,
           null,
           null,
           null,
           null
          ],
          [
           null,
           null,
           null,
           null,
           103.97121333333332,
           null,
           null,
           null
          ],
          [
           null,
           null,
           null,
           null,
           null,
           null,
           41.87186,
           null
          ],
          [
           null,
           null,
           null,
           null,
           null,
           null,
           39.42832666666667,
           null
          ],
          [
           null,
           null,
           null,
           null,
           null,
           null,
           34.20766666666667,
           null
          ],
          [
           null,
           null,
           null,
           null,
           null,
           null,
           31.99142333333333,
           null
          ],
          [
           null,
           null,
           null,
           null,
           37.93136333333333,
           null,
           null,
           null
          ],
          [
           null,
           null,
           null,
           null,
           39.26704333333333,
           null,
           null,
           null
          ],
          [
           null,
           null,
           null,
           null,
           null,
           61.95826666666667,
           null,
           null
          ],
          [
           null,
           null,
           134.18969333333334,
           null,
           null,
           null,
           null,
           null
          ],
          [
           null,
           null,
           null,
           110.72557333333333,
           null,
           null,
           null,
           null
          ],
          [
           null,
           null,
           null,
           null,
           null,
           45.215203333333335,
           null,
           null
          ],
          [
           null,
           null,
           null,
           41.35354666666667,
           null,
           null,
           null,
           null
          ],
          [
           null,
           null,
           60.195196666666675,
           null,
           null,
           null,
           null,
           null
          ],
          [
           null,
           null,
           null,
           null,
           null,
           null,
           null,
           null
          ]
         ]
        },
        {
         "marker": {
          "color": "black",
          "line": {
           "color": "Gray",
           "width": 2
          }
         },
         "mode": "markers",
         "name": "Feasible Trial",
         "showlegend": false,
         "type": "scatter",
         "x": [
          6,
          6,
          3,
          5,
          2,
          7,
          3,
          3,
          4,
          4,
          7,
          7,
          7,
          6,
          7,
          5,
          5,
          5,
          5,
          4,
          5,
          6,
          6,
          6,
          6,
          6,
          6,
          5,
          4,
          6,
          6,
          5,
          5,
          6,
          6,
          6,
          7,
          5,
          2,
          6,
          7,
          7,
          7,
          7,
          7,
          7,
          7,
          7,
          7,
          3
         ],
         "xaxis": "x3",
         "y": [
          12,
          22,
          152,
          76,
          24,
          30,
          44,
          106,
          108,
          38,
          65,
          64,
          56,
          98,
          5,
          6,
          11,
          8,
          45,
          136,
          90,
          4,
          4,
          22,
          5,
          32,
          20,
          53,
          16,
          33,
          14,
          10,
          5,
          4,
          24,
          17,
          27,
          40,
          15,
          127,
          29,
          5,
          4,
          16,
          20,
          13,
          74,
          38,
          25,
          52
         ],
         "yaxis": "y3"
        },
        {
         "colorbar": {
          "title": {
           "text": "mae"
          }
         },
         "colorscale": [
          [
           0,
           "rgb(247,251,255)"
          ],
          [
           0.125,
           "rgb(222,235,247)"
          ],
          [
           0.25,
           "rgb(198,219,239)"
          ],
          [
           0.375,
           "rgb(158,202,225)"
          ],
          [
           0.5,
           "rgb(107,174,214)"
          ],
          [
           0.625,
           "rgb(66,146,198)"
          ],
          [
           0.75,
           "rgb(33,113,181)"
          ],
          [
           0.875,
           "rgb(8,81,156)"
          ],
          [
           1,
           "rgb(8,48,107)"
          ]
         ],
         "connectgaps": true,
         "contours": {
          "coloring": "heatmap"
         },
         "hoverinfo": "none",
         "line": {
          "smoothing": 1.3
         },
         "reversescale": true,
         "showscale": false,
         "type": "contour",
         "x": [
          1.75,
          2,
          3,
          4,
          5,
          6,
          7,
          7.25
         ],
         "xaxis": "x6",
         "y": [
          0.95,
          1,
          2,
          2.05
         ],
         "yaxis": "y6",
         "z": [
          [
           null,
           null,
           null,
           null,
           null,
           null,
           null,
           null
          ],
          [
           null,
           76.21560666666666,
           134.18969333333334,
           41.35354666666667,
           34.30800333333334,
           45.215203333333335,
           30.215226666666666,
           null
          ],
          [
           null,
           39.44526333333334,
           78.32469666666667,
           48.94245000000001,
           30.867593333333332,
           35.8272,
           26.985323333333337,
           null
          ],
          [
           null,
           null,
           null,
           null,
           null,
           null,
           null,
           null
          ]
         ]
        },
        {
         "marker": {
          "color": "black",
          "line": {
           "color": "Gray",
           "width": 2
          }
         },
         "mode": "markers",
         "name": "Feasible Trial",
         "showlegend": false,
         "type": "scatter",
         "x": [
          6,
          6,
          3,
          5,
          2,
          7,
          3,
          3,
          4,
          4,
          7,
          7,
          7,
          6,
          7,
          5,
          5,
          5,
          5,
          4,
          5,
          6,
          6,
          6,
          6,
          6,
          6,
          5,
          4,
          6,
          6,
          5,
          5,
          6,
          6,
          6,
          7,
          5,
          2,
          6,
          7,
          7,
          7,
          7,
          7,
          7,
          7,
          7,
          7,
          3
         ],
         "xaxis": "x6",
         "y": [
          2,
          2,
          2,
          2,
          1,
          2,
          2,
          1,
          2,
          1,
          1,
          1,
          1,
          1,
          1,
          2,
          2,
          1,
          2,
          1,
          1,
          1,
          1,
          1,
          1,
          1,
          2,
          1,
          2,
          1,
          2,
          1,
          1,
          1,
          1,
          1,
          2,
          1,
          2,
          1,
          2,
          2,
          2,
          2,
          2,
          2,
          2,
          2,
          2,
          2
         ],
         "yaxis": "y6"
        },
        {
         "type": "scatter",
         "xaxis": "x9",
         "yaxis": "y9"
        }
       ],
       "layout": {
        "height": 600,
        "plot_bgcolor": "white",
        "template": {
         "data": {
          "bar": [
           {
            "error_x": {
             "color": "#2a3f5f"
            },
            "error_y": {
             "color": "#2a3f5f"
            },
            "marker": {
             "line": {
              "color": "#E5ECF6",
              "width": 0.5
             },
             "pattern": {
              "fillmode": "overlay",
              "size": 10,
              "solidity": 0.2
             }
            },
            "type": "bar"
           }
          ],
          "barpolar": [
           {
            "marker": {
             "line": {
              "color": "#E5ECF6",
              "width": 0.5
             },
             "pattern": {
              "fillmode": "overlay",
              "size": 10,
              "solidity": 0.2
             }
            },
            "type": "barpolar"
           }
          ],
          "carpet": [
           {
            "aaxis": {
             "endlinecolor": "#2a3f5f",
             "gridcolor": "white",
             "linecolor": "white",
             "minorgridcolor": "white",
             "startlinecolor": "#2a3f5f"
            },
            "baxis": {
             "endlinecolor": "#2a3f5f",
             "gridcolor": "white",
             "linecolor": "white",
             "minorgridcolor": "white",
             "startlinecolor": "#2a3f5f"
            },
            "type": "carpet"
           }
          ],
          "choropleth": [
           {
            "colorbar": {
             "outlinewidth": 0,
             "ticks": ""
            },
            "type": "choropleth"
           }
          ],
          "contour": [
           {
            "colorbar": {
             "outlinewidth": 0,
             "ticks": ""
            },
            "colorscale": [
             [
              0,
              "#0d0887"
             ],
             [
              0.1111111111111111,
              "#46039f"
             ],
             [
              0.2222222222222222,
              "#7201a8"
             ],
             [
              0.3333333333333333,
              "#9c179e"
             ],
             [
              0.4444444444444444,
              "#bd3786"
             ],
             [
              0.5555555555555556,
              "#d8576b"
             ],
             [
              0.6666666666666666,
              "#ed7953"
             ],
             [
              0.7777777777777778,
              "#fb9f3a"
             ],
             [
              0.8888888888888888,
              "#fdca26"
             ],
             [
              1,
              "#f0f921"
             ]
            ],
            "type": "contour"
           }
          ],
          "contourcarpet": [
           {
            "colorbar": {
             "outlinewidth": 0,
             "ticks": ""
            },
            "type": "contourcarpet"
           }
          ],
          "heatmap": [
           {
            "colorbar": {
             "outlinewidth": 0,
             "ticks": ""
            },
            "colorscale": [
             [
              0,
              "#0d0887"
             ],
             [
              0.1111111111111111,
              "#46039f"
             ],
             [
              0.2222222222222222,
              "#7201a8"
             ],
             [
              0.3333333333333333,
              "#9c179e"
             ],
             [
              0.4444444444444444,
              "#bd3786"
             ],
             [
              0.5555555555555556,
              "#d8576b"
             ],
             [
              0.6666666666666666,
              "#ed7953"
             ],
             [
              0.7777777777777778,
              "#fb9f3a"
             ],
             [
              0.8888888888888888,
              "#fdca26"
             ],
             [
              1,
              "#f0f921"
             ]
            ],
            "type": "heatmap"
           }
          ],
          "heatmapgl": [
           {
            "colorbar": {
             "outlinewidth": 0,
             "ticks": ""
            },
            "colorscale": [
             [
              0,
              "#0d0887"
             ],
             [
              0.1111111111111111,
              "#46039f"
             ],
             [
              0.2222222222222222,
              "#7201a8"
             ],
             [
              0.3333333333333333,
              "#9c179e"
             ],
             [
              0.4444444444444444,
              "#bd3786"
             ],
             [
              0.5555555555555556,
              "#d8576b"
             ],
             [
              0.6666666666666666,
              "#ed7953"
             ],
             [
              0.7777777777777778,
              "#fb9f3a"
             ],
             [
              0.8888888888888888,
              "#fdca26"
             ],
             [
              1,
              "#f0f921"
             ]
            ],
            "type": "heatmapgl"
           }
          ],
          "histogram": [
           {
            "marker": {
             "pattern": {
              "fillmode": "overlay",
              "size": 10,
              "solidity": 0.2
             }
            },
            "type": "histogram"
           }
          ],
          "histogram2d": [
           {
            "colorbar": {
             "outlinewidth": 0,
             "ticks": ""
            },
            "colorscale": [
             [
              0,
              "#0d0887"
             ],
             [
              0.1111111111111111,
              "#46039f"
             ],
             [
              0.2222222222222222,
              "#7201a8"
             ],
             [
              0.3333333333333333,
              "#9c179e"
             ],
             [
              0.4444444444444444,
              "#bd3786"
             ],
             [
              0.5555555555555556,
              "#d8576b"
             ],
             [
              0.6666666666666666,
              "#ed7953"
             ],
             [
              0.7777777777777778,
              "#fb9f3a"
             ],
             [
              0.8888888888888888,
              "#fdca26"
             ],
             [
              1,
              "#f0f921"
             ]
            ],
            "type": "histogram2d"
           }
          ],
          "histogram2dcontour": [
           {
            "colorbar": {
             "outlinewidth": 0,
             "ticks": ""
            },
            "colorscale": [
             [
              0,
              "#0d0887"
             ],
             [
              0.1111111111111111,
              "#46039f"
             ],
             [
              0.2222222222222222,
              "#7201a8"
             ],
             [
              0.3333333333333333,
              "#9c179e"
             ],
             [
              0.4444444444444444,
              "#bd3786"
             ],
             [
              0.5555555555555556,
              "#d8576b"
             ],
             [
              0.6666666666666666,
              "#ed7953"
             ],
             [
              0.7777777777777778,
              "#fb9f3a"
             ],
             [
              0.8888888888888888,
              "#fdca26"
             ],
             [
              1,
              "#f0f921"
             ]
            ],
            "type": "histogram2dcontour"
           }
          ],
          "mesh3d": [
           {
            "colorbar": {
             "outlinewidth": 0,
             "ticks": ""
            },
            "type": "mesh3d"
           }
          ],
          "parcoords": [
           {
            "line": {
             "colorbar": {
              "outlinewidth": 0,
              "ticks": ""
             }
            },
            "type": "parcoords"
           }
          ],
          "pie": [
           {
            "automargin": true,
            "type": "pie"
           }
          ],
          "scatter": [
           {
            "fillpattern": {
             "fillmode": "overlay",
             "size": 10,
             "solidity": 0.2
            },
            "type": "scatter"
           }
          ],
          "scatter3d": [
           {
            "line": {
             "colorbar": {
              "outlinewidth": 0,
              "ticks": ""
             }
            },
            "marker": {
             "colorbar": {
              "outlinewidth": 0,
              "ticks": ""
             }
            },
            "type": "scatter3d"
           }
          ],
          "scattercarpet": [
           {
            "marker": {
             "colorbar": {
              "outlinewidth": 0,
              "ticks": ""
             }
            },
            "type": "scattercarpet"
           }
          ],
          "scattergeo": [
           {
            "marker": {
             "colorbar": {
              "outlinewidth": 0,
              "ticks": ""
             }
            },
            "type": "scattergeo"
           }
          ],
          "scattergl": [
           {
            "marker": {
             "colorbar": {
              "outlinewidth": 0,
              "ticks": ""
             }
            },
            "type": "scattergl"
           }
          ],
          "scattermapbox": [
           {
            "marker": {
             "colorbar": {
              "outlinewidth": 0,
              "ticks": ""
             }
            },
            "type": "scattermapbox"
           }
          ],
          "scatterpolar": [
           {
            "marker": {
             "colorbar": {
              "outlinewidth": 0,
              "ticks": ""
             }
            },
            "type": "scatterpolar"
           }
          ],
          "scatterpolargl": [
           {
            "marker": {
             "colorbar": {
              "outlinewidth": 0,
              "ticks": ""
             }
            },
            "type": "scatterpolargl"
           }
          ],
          "scatterternary": [
           {
            "marker": {
             "colorbar": {
              "outlinewidth": 0,
              "ticks": ""
             }
            },
            "type": "scatterternary"
           }
          ],
          "surface": [
           {
            "colorbar": {
             "outlinewidth": 0,
             "ticks": ""
            },
            "colorscale": [
             [
              0,
              "#0d0887"
             ],
             [
              0.1111111111111111,
              "#46039f"
             ],
             [
              0.2222222222222222,
              "#7201a8"
             ],
             [
              0.3333333333333333,
              "#9c179e"
             ],
             [
              0.4444444444444444,
              "#bd3786"
             ],
             [
              0.5555555555555556,
              "#d8576b"
             ],
             [
              0.6666666666666666,
              "#ed7953"
             ],
             [
              0.7777777777777778,
              "#fb9f3a"
             ],
             [
              0.8888888888888888,
              "#fdca26"
             ],
             [
              1,
              "#f0f921"
             ]
            ],
            "type": "surface"
           }
          ],
          "table": [
           {
            "cells": {
             "fill": {
              "color": "#EBF0F8"
             },
             "line": {
              "color": "white"
             }
            },
            "header": {
             "fill": {
              "color": "#C8D4E3"
             },
             "line": {
              "color": "white"
             }
            },
            "type": "table"
           }
          ]
         },
         "layout": {
          "annotationdefaults": {
           "arrowcolor": "#2a3f5f",
           "arrowhead": 0,
           "arrowwidth": 1
          },
          "autotypenumbers": "strict",
          "coloraxis": {
           "colorbar": {
            "outlinewidth": 0,
            "ticks": ""
           }
          },
          "colorscale": {
           "diverging": [
            [
             0,
             "#8e0152"
            ],
            [
             0.1,
             "#c51b7d"
            ],
            [
             0.2,
             "#de77ae"
            ],
            [
             0.3,
             "#f1b6da"
            ],
            [
             0.4,
             "#fde0ef"
            ],
            [
             0.5,
             "#f7f7f7"
            ],
            [
             0.6,
             "#e6f5d0"
            ],
            [
             0.7,
             "#b8e186"
            ],
            [
             0.8,
             "#7fbc41"
            ],
            [
             0.9,
             "#4d9221"
            ],
            [
             1,
             "#276419"
            ]
           ],
           "sequential": [
            [
             0,
             "#0d0887"
            ],
            [
             0.1111111111111111,
             "#46039f"
            ],
            [
             0.2222222222222222,
             "#7201a8"
            ],
            [
             0.3333333333333333,
             "#9c179e"
            ],
            [
             0.4444444444444444,
             "#bd3786"
            ],
            [
             0.5555555555555556,
             "#d8576b"
            ],
            [
             0.6666666666666666,
             "#ed7953"
            ],
            [
             0.7777777777777778,
             "#fb9f3a"
            ],
            [
             0.8888888888888888,
             "#fdca26"
            ],
            [
             1,
             "#f0f921"
            ]
           ],
           "sequentialminus": [
            [
             0,
             "#0d0887"
            ],
            [
             0.1111111111111111,
             "#46039f"
            ],
            [
             0.2222222222222222,
             "#7201a8"
            ],
            [
             0.3333333333333333,
             "#9c179e"
            ],
            [
             0.4444444444444444,
             "#bd3786"
            ],
            [
             0.5555555555555556,
             "#d8576b"
            ],
            [
             0.6666666666666666,
             "#ed7953"
            ],
            [
             0.7777777777777778,
             "#fb9f3a"
            ],
            [
             0.8888888888888888,
             "#fdca26"
            ],
            [
             1,
             "#f0f921"
            ]
           ]
          },
          "colorway": [
           "#636efa",
           "#EF553B",
           "#00cc96",
           "#ab63fa",
           "#FFA15A",
           "#19d3f3",
           "#FF6692",
           "#B6E880",
           "#FF97FF",
           "#FECB52"
          ],
          "font": {
           "color": "#2a3f5f"
          },
          "geo": {
           "bgcolor": "white",
           "lakecolor": "white",
           "landcolor": "#E5ECF6",
           "showlakes": true,
           "showland": true,
           "subunitcolor": "white"
          },
          "hoverlabel": {
           "align": "left"
          },
          "hovermode": "closest",
          "mapbox": {
           "style": "light"
          },
          "paper_bgcolor": "white",
          "plot_bgcolor": "#E5ECF6",
          "polar": {
           "angularaxis": {
            "gridcolor": "white",
            "linecolor": "white",
            "ticks": ""
           },
           "bgcolor": "#E5ECF6",
           "radialaxis": {
            "gridcolor": "white",
            "linecolor": "white",
            "ticks": ""
           }
          },
          "scene": {
           "xaxis": {
            "backgroundcolor": "#E5ECF6",
            "gridcolor": "white",
            "gridwidth": 2,
            "linecolor": "white",
            "showbackground": true,
            "ticks": "",
            "zerolinecolor": "white"
           },
           "yaxis": {
            "backgroundcolor": "#E5ECF6",
            "gridcolor": "white",
            "gridwidth": 2,
            "linecolor": "white",
            "showbackground": true,
            "ticks": "",
            "zerolinecolor": "white"
           },
           "zaxis": {
            "backgroundcolor": "#E5ECF6",
            "gridcolor": "white",
            "gridwidth": 2,
            "linecolor": "white",
            "showbackground": true,
            "ticks": "",
            "zerolinecolor": "white"
           }
          },
          "shapedefaults": {
           "line": {
            "color": "#2a3f5f"
           }
          },
          "ternary": {
           "aaxis": {
            "gridcolor": "white",
            "linecolor": "white",
            "ticks": ""
           },
           "baxis": {
            "gridcolor": "white",
            "linecolor": "white",
            "ticks": ""
           },
           "bgcolor": "#E5ECF6",
           "caxis": {
            "gridcolor": "white",
            "linecolor": "white",
            "ticks": ""
           }
          },
          "title": {
           "x": 0.05
          },
          "xaxis": {
           "automargin": true,
           "gridcolor": "white",
           "linecolor": "white",
           "ticks": "",
           "title": {
            "standoff": 15
           },
           "zerolinecolor": "white",
           "zerolinewidth": 2
          },
          "yaxis": {
           "automargin": true,
           "gridcolor": "white",
           "linecolor": "white",
           "ticks": "",
           "title": {
            "standoff": 15
           },
           "zerolinecolor": "white",
           "zerolinewidth": 2
          }
         }
        },
        "title": {
         "text": "Contour Plot"
        },
        "width": 800,
        "xaxis": {
         "anchor": "y",
         "domain": [
          0,
          0.2888888888888889
         ],
         "matches": "x7",
         "range": [
          -3.4000000000000004,
          159.4
         ],
         "showticklabels": false
        },
        "xaxis2": {
         "anchor": "y2",
         "domain": [
          0.35555555555555557,
          0.6444444444444445
         ],
         "matches": "x8",
         "range": [
          0.95,
          2.05
         ],
         "showticklabels": false
        },
        "xaxis3": {
         "anchor": "y3",
         "domain": [
          0.7111111111111111,
          1
         ],
         "matches": "x9",
         "range": [
          1.75,
          7.25
         ],
         "showticklabels": false
        },
        "xaxis4": {
         "anchor": "y4",
         "domain": [
          0,
          0.2888888888888889
         ],
         "matches": "x7",
         "range": [
          -3.4000000000000004,
          159.4
         ],
         "showticklabels": false
        },
        "xaxis5": {
         "anchor": "y5",
         "domain": [
          0.35555555555555557,
          0.6444444444444445
         ],
         "matches": "x8",
         "range": [
          0.95,
          2.05
         ],
         "showticklabels": false
        },
        "xaxis6": {
         "anchor": "y6",
         "domain": [
          0.7111111111111111,
          1
         ],
         "matches": "x9",
         "range": [
          1.75,
          7.25
         ],
         "showticklabels": false
        },
        "xaxis7": {
         "anchor": "y7",
         "domain": [
          0,
          0.2888888888888889
         ],
         "range": [
          -3.4000000000000004,
          159.4
         ],
         "title": {
          "text": "input_size"
         }
        },
        "xaxis8": {
         "anchor": "y8",
         "domain": [
          0.35555555555555557,
          0.6444444444444445
         ],
         "range": [
          0.95,
          2.05
         ],
         "title": {
          "text": "max_steps"
         }
        },
        "xaxis9": {
         "anchor": "y9",
         "domain": [
          0.7111111111111111,
          1
         ],
         "range": [
          1.75,
          7.25
         ],
         "title": {
          "text": "n_stacks"
         }
        },
        "yaxis": {
         "anchor": "x",
         "domain": [
          0.7333333333333333,
          1
         ],
         "range": [
          -3.4000000000000004,
          159.4
         ],
         "title": {
          "text": "input_size"
         }
        },
        "yaxis2": {
         "anchor": "x2",
         "domain": [
          0.7333333333333333,
          1
         ],
         "matches": "y",
         "range": [
          -3.4000000000000004,
          159.4
         ],
         "showticklabels": false
        },
        "yaxis3": {
         "anchor": "x3",
         "domain": [
          0.7333333333333333,
          1
         ],
         "matches": "y",
         "range": [
          -3.4000000000000004,
          159.4
         ],
         "showticklabels": false
        },
        "yaxis4": {
         "anchor": "x4",
         "domain": [
          0.36666666666666664,
          0.6333333333333333
         ],
         "range": [
          0.95,
          2.05
         ],
         "title": {
          "text": "max_steps"
         }
        },
        "yaxis5": {
         "anchor": "x5",
         "domain": [
          0.36666666666666664,
          0.6333333333333333
         ],
         "matches": "y4",
         "range": [
          0.95,
          2.05
         ],
         "showticklabels": false
        },
        "yaxis6": {
         "anchor": "x6",
         "domain": [
          0.36666666666666664,
          0.6333333333333333
         ],
         "matches": "y4",
         "range": [
          0.95,
          2.05
         ],
         "showticklabels": false
        },
        "yaxis7": {
         "anchor": "x7",
         "domain": [
          0,
          0.26666666666666666
         ],
         "range": [
          1.75,
          7.25
         ],
         "title": {
          "text": "n_stacks"
         }
        },
        "yaxis8": {
         "anchor": "x8",
         "domain": [
          0,
          0.26666666666666666
         ],
         "matches": "y7",
         "range": [
          1.75,
          7.25
         ],
         "showticklabels": false
        },
        "yaxis9": {
         "anchor": "x9",
         "domain": [
          0,
          0.26666666666666666
         ],
         "matches": "y7",
         "range": [
          1.75,
          7.25
         ],
         "showticklabels": false
        }
       }
      }
     },
     "metadata": {},
     "output_type": "display_data"
    }
   ],
   "source": [
    "fig = optuna.visualization.plot_contour(\n",
    "    study_nbeats,\n",
    "    target=lambda t: t.values[0], target_name=\"smape\",\n",
    "    params=['input_size','n_stacks','max_steps']\n",
    ")\n",
    "fig.update_layout({'height':600, 'width':800, 'plot_bgcolor':'white'})\n",
    "fig.show()\n",
    "\n",
    "fig = optuna.visualization.plot_contour(\n",
    "    study_nbeats,\n",
    "    target=lambda t: t.values[0], target_name=\"mae\",\n",
    "    params=['input_size','n_stacks','max_steps']\n",
    ")\n",
    "fig.update_layout({'height':600, 'width':800, 'plot_bgcolor':'white'})\n",
    "fig.show()"
   ]
  },
  {
   "cell_type": "markdown",
   "metadata": {},
   "source": [
    "# **Statistical Methods**"
   ]
  },
  {
   "cell_type": "code",
   "execution_count": null,
   "metadata": {},
   "outputs": [],
   "source": [
    "from statsforecast import StatsForecast\n",
    "from statsforecast.models import AutoARIMA, AutoCES, AutoETS, AutoTheta\n",
    "\n",
    "results_stats = []\n",
    "for pollutant in ['co','pm10','pm25','o3','no2']:\n",
    "    for h in [12, 52, 104]:\n",
    "        obj = TimeObject(data, pollutant, agg_freq='W')\n",
    "        obj.NIXTLA_train_test(split=h)\n",
    "\n",
    "        season_length = 52 # Monthly data \n",
    "        horizon = len(obj.Y_train) # number of predictions\n",
    "\n",
    "        models = [\n",
    "            AutoARIMA(season_length=season_length, alias='AutoARIMA'),\n",
    "            AutoCES(season_length=season_length, model='Z', alias='AutoCES-Z'),\n",
    "            AutoCES(season_length=season_length, model='S', alias='AutoCES-S'),\n",
    "            AutoCES(season_length=season_length, model='P', alias='AutoCES-P'),\n",
    "            AutoCES(season_length=season_length, model='N', alias='AutoCES-N'),\n",
    "            AutoTheta(season_length=season_length, decomposition_type=\"multiplicative\", alias='AutoTheta-Multi'),\n",
    "            AutoTheta(season_length=season_length, decomposition_type=\"additive\", alias='AutoTheta-Add'),\n",
    "        ]\n",
    "        ets_combinations = [\n",
    "            f\"{e}{t}{s}\" for e in ['Z',]\n",
    "                         for t in ['Z',] \n",
    "                         for s in ['Z', 'A', 'M', 'N'] \n",
    "        ]\n",
    "        models = models + [\n",
    "            AutoETS(season_length=season_length, model=ets, alias=f'AutoETS-{ets}')\n",
    "            for ets in ets_combinations\n",
    "        ]\n",
    "\n",
    "        frct = StatsForecast(models=models, freq='W')\n",
    "        frct.fit(df=obj.Y_train)\n",
    "        predicted = frct.predict(h=h)\n",
    "\n",
    "        columns = predicted.columns\n",
    "        columns = columns[(columns != 'ds') & (columns != 'unique_id')]\n",
    "\n",
    "        for method in columns:\n",
    "            obj.metrics_(predicted, method=method)\n",
    "            results_stats.append({\n",
    "                'pollutant': pollutant,\n",
    "                'method':method,\n",
    "                'freq': 'W',\n",
    "                'h': h,\n",
    "                'mape': obj.metrics['mape'],\n",
    "                'smape': obj.metrics['smape'],\n",
    "                'max': obj.metrics['max'],\n",
    "                'mae': obj.metrics['mae'],\n",
    "                'mse': obj.metrics['mse'],\n",
    "            })\n",
    "            # obj.plot_forecast(predicted, method=method)\n",
    "\n",
    "results_stats = pd.DataFrame(results_stats)\n",
    "results_stats.to_pickle(r'Results\\StatisticalMethods_W_Df.pkl')"
   ]
  }
 ],
 "metadata": {
  "kernelspec": {
   "display_name": "Python 3",
   "language": "python",
   "name": "python3"
  },
  "language_info": {
   "codemirror_mode": {
    "name": "ipython",
    "version": 3
   },
   "file_extension": ".py",
   "mimetype": "text/x-python",
   "name": "python",
   "nbconvert_exporter": "python",
   "pygments_lexer": "ipython3",
   "version": "3.12.6"
  }
 },
 "nbformat": 4,
 "nbformat_minor": 2
}
