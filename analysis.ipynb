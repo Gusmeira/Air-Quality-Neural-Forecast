{
 "cells": [
  {
   "cell_type": "markdown",
   "metadata": {},
   "source": [
    "## Libs"
   ]
  },
  {
   "cell_type": "code",
   "execution_count": 1,
   "metadata": {},
   "outputs": [
    {
     "name": "stderr",
     "output_type": "stream",
     "text": [
      "GPU available: False, used: False\n",
      "TPU available: False, using: 0 TPU cores\n",
      "HPU available: False, using: 0 HPUs\n",
      "GPU available: False, used: False\n",
      "TPU available: False, using: 0 TPU cores\n",
      "HPU available: False, using: 0 HPUs\n"
     ]
    }
   ],
   "source": [
    "import pandas as pd\n",
    "import numpy as np\n",
    "np.random.seed(1)\n",
    "import optuna\n",
    "\n",
    "import plotly.graph_objects as go\n",
    "import plotly.express as px\n",
    "import plotly.subplots\n",
    "import time\n",
    "\n",
    "from neuralforecast import NeuralForecast\n",
    "from neuralforecast.models import NBEATS, NHITS\n",
    "import sklearn.metrics as metrics\n",
    "\n",
    "ponte = pd.read_pickle(r'Data\\Data_Ponte_dos_Remedios.pkl')\n",
    "del ponte['o3']\n",
    "guarulhos = pd.read_pickle(r'Data\\Data_Guarulhos.pkl')\n",
    "guarulhos = guarulhos[['date','o3']]\n",
    "\n",
    "data = ponte.merge(guarulhos, on='date', how='outer')\n",
    "data.reset_index(drop=True)\n",
    "\n",
    "import joblib\n",
    "import pickle\n",
    "from IPython.display import clear_output\n",
    "import os\n",
    "os.environ['NIXTLA_ID_AS_COL'] = '1'\n",
    "\n",
    "from pytorch_lightning import Trainer\n",
    "trainer = Trainer(\n",
    "    max_steps=4,\n",
    "    logger=False,\n",
    "    enable_progress_bar=False,\n",
    "    enable_model_summary=False  # Disable model summary\n",
    ")\n",
    "\n",
    "import warnings\n",
    "warnings.filterwarnings(\"ignore\", category=UserWarning, module=\"optuna\")\n",
    "\n",
    "from TimeObjectModule import TimeObject, main_layout, main_subplot_layout, data"
   ]
  },
  {
   "cell_type": "markdown",
   "metadata": {},
   "source": [
    "## **Metrics DataFrame**"
   ]
  },
  {
   "cell_type": "code",
   "execution_count": 5,
   "metadata": {},
   "outputs": [],
   "source": [
    "for pollutant in ['co','pm10','pm25','o3','no2']:\n",
    "    for h in [12, 52]:\n",
    "        # print(pollutant,h)\n",
    "        # display(pd.read_pickle(rf'C:\\Users\\gustavo.filho\\Documents\\Python\\GitHub\\TCC\\Results\\Stats\\{pollutant}\\{h}W_Df.pkl').sort_values(by=['smape','mae']).reset_index(drop=True).loc[:,['method','smape','mae','max','mape','mse']])\n",
    "        # print()\n",
    "        # print()\n",
    "        # print()\n",
    "        ..."
   ]
  },
  {
   "cell_type": "markdown",
   "metadata": {},
   "source": [
    "## **Params DataFrame**"
   ]
  },
  {
   "cell_type": "markdown",
   "metadata": {},
   "source": [
    "### NHITS"
   ]
  },
  {
   "cell_type": "code",
   "execution_count": 6,
   "metadata": {},
   "outputs": [
    {
     "data": {
      "text/html": [
       "<div>\n",
       "<style scoped>\n",
       "    .dataframe tbody tr th:only-of-type {\n",
       "        vertical-align: middle;\n",
       "    }\n",
       "\n",
       "    .dataframe tbody tr th {\n",
       "        vertical-align: top;\n",
       "    }\n",
       "\n",
       "    .dataframe thead th {\n",
       "        text-align: right;\n",
       "    }\n",
       "</style>\n",
       "<table border=\"1\" class=\"dataframe\">\n",
       "  <thead>\n",
       "    <tr style=\"text-align: right;\">\n",
       "      <th></th>\n",
       "      <th>pollutant</th>\n",
       "      <th>h</th>\n",
       "      <th>input_size</th>\n",
       "      <th>max_steps</th>\n",
       "      <th>n_stacks</th>\n",
       "      <th>n_blocks</th>\n",
       "      <th>n_freq_downsample</th>\n",
       "      <th>n_pool_kernel_size</th>\n",
       "      <th>local_scalar_type</th>\n",
       "      <th>smape</th>\n",
       "      <th>mae</th>\n",
       "      <th>max</th>\n",
       "      <th>mape</th>\n",
       "      <th>mse</th>\n",
       "    </tr>\n",
       "  </thead>\n",
       "  <tbody>\n",
       "    <tr>\n",
       "      <th>0</th>\n",
       "      <td>co</td>\n",
       "      <td>12</td>\n",
       "      <td>109</td>\n",
       "      <td>70</td>\n",
       "      <td>3</td>\n",
       "      <td>3</td>\n",
       "      <td>[52, 12, 52]</td>\n",
       "      <td>[3, 1, 1]</td>\n",
       "      <td>standard</td>\n",
       "      <td>7</td>\n",
       "      <td>6</td>\n",
       "      <td>8</td>\n",
       "      <td>10</td>\n",
       "      <td>6</td>\n",
       "    </tr>\n",
       "    <tr>\n",
       "      <th>0</th>\n",
       "      <td>pm10</td>\n",
       "      <td>12</td>\n",
       "      <td>134</td>\n",
       "      <td>456</td>\n",
       "      <td>3</td>\n",
       "      <td>1</td>\n",
       "      <td>[12, 12, 4]</td>\n",
       "      <td>[1, 3, 1]</td>\n",
       "      <td>boxcox</td>\n",
       "      <td>11</td>\n",
       "      <td>11</td>\n",
       "      <td>13</td>\n",
       "      <td>11</td>\n",
       "      <td>12</td>\n",
       "    </tr>\n",
       "    <tr>\n",
       "      <th>0</th>\n",
       "      <td>pm25</td>\n",
       "      <td>12</td>\n",
       "      <td>141</td>\n",
       "      <td>166</td>\n",
       "      <td>5</td>\n",
       "      <td>5</td>\n",
       "      <td>[12, 1, 1]</td>\n",
       "      <td>[2, 2, 2]</td>\n",
       "      <td>boxcox</td>\n",
       "      <td>11</td>\n",
       "      <td>11</td>\n",
       "      <td>12</td>\n",
       "      <td>13</td>\n",
       "      <td>13</td>\n",
       "    </tr>\n",
       "    <tr>\n",
       "      <th>0</th>\n",
       "      <td>o3</td>\n",
       "      <td>12</td>\n",
       "      <td>6</td>\n",
       "      <td>167</td>\n",
       "      <td>7</td>\n",
       "      <td>4</td>\n",
       "      <td>[12, 52, 12]</td>\n",
       "      <td>[1, 1, 1]</td>\n",
       "      <td>standard</td>\n",
       "      <td>2</td>\n",
       "      <td>2</td>\n",
       "      <td>21</td>\n",
       "      <td>2</td>\n",
       "      <td>2</td>\n",
       "    </tr>\n",
       "    <tr>\n",
       "      <th>0</th>\n",
       "      <td>no2</td>\n",
       "      <td>12</td>\n",
       "      <td>117</td>\n",
       "      <td>85</td>\n",
       "      <td>7</td>\n",
       "      <td>5</td>\n",
       "      <td>[12, 4, 52]</td>\n",
       "      <td>[1, 2, 3]</td>\n",
       "      <td>minmax</td>\n",
       "      <td>6</td>\n",
       "      <td>6</td>\n",
       "      <td>5</td>\n",
       "      <td>5</td>\n",
       "      <td>5</td>\n",
       "    </tr>\n",
       "    <tr>\n",
       "      <th>0</th>\n",
       "      <td>co</td>\n",
       "      <td>26</td>\n",
       "      <td>83</td>\n",
       "      <td>99</td>\n",
       "      <td>3</td>\n",
       "      <td>3</td>\n",
       "      <td>[12, 1, 1]</td>\n",
       "      <td>[1, 3, 1]</td>\n",
       "      <td>None</td>\n",
       "      <td>4</td>\n",
       "      <td>4</td>\n",
       "      <td>4</td>\n",
       "      <td>6</td>\n",
       "      <td>4</td>\n",
       "    </tr>\n",
       "    <tr>\n",
       "      <th>0</th>\n",
       "      <td>pm10</td>\n",
       "      <td>26</td>\n",
       "      <td>45</td>\n",
       "      <td>140</td>\n",
       "      <td>4</td>\n",
       "      <td>2</td>\n",
       "      <td>[4, 1, 52]</td>\n",
       "      <td>[2, 3, 1]</td>\n",
       "      <td>boxcox</td>\n",
       "      <td>10</td>\n",
       "      <td>10</td>\n",
       "      <td>13</td>\n",
       "      <td>3</td>\n",
       "      <td>8</td>\n",
       "    </tr>\n",
       "    <tr>\n",
       "      <th>0</th>\n",
       "      <td>pm25</td>\n",
       "      <td>26</td>\n",
       "      <td>109</td>\n",
       "      <td>92</td>\n",
       "      <td>3</td>\n",
       "      <td>6</td>\n",
       "      <td>[1, 12, 12]</td>\n",
       "      <td>[1, 2, 3]</td>\n",
       "      <td>None</td>\n",
       "      <td>1</td>\n",
       "      <td>1</td>\n",
       "      <td>12</td>\n",
       "      <td>1</td>\n",
       "      <td>1</td>\n",
       "    </tr>\n",
       "    <tr>\n",
       "      <th>0</th>\n",
       "      <td>o3</td>\n",
       "      <td>26</td>\n",
       "      <td>94</td>\n",
       "      <td>310</td>\n",
       "      <td>3</td>\n",
       "      <td>6</td>\n",
       "      <td>[12, 12, 12]</td>\n",
       "      <td>[1, 1, 2]</td>\n",
       "      <td>boxcox</td>\n",
       "      <td>1</td>\n",
       "      <td>1</td>\n",
       "      <td>1</td>\n",
       "      <td>1</td>\n",
       "      <td>1</td>\n",
       "    </tr>\n",
       "    <tr>\n",
       "      <th>0</th>\n",
       "      <td>no2</td>\n",
       "      <td>26</td>\n",
       "      <td>107</td>\n",
       "      <td>486</td>\n",
       "      <td>3</td>\n",
       "      <td>6</td>\n",
       "      <td>[52, 12, 52]</td>\n",
       "      <td>[3, 2, 3]</td>\n",
       "      <td>standard</td>\n",
       "      <td>14</td>\n",
       "      <td>14</td>\n",
       "      <td>14</td>\n",
       "      <td>14</td>\n",
       "      <td>14</td>\n",
       "    </tr>\n",
       "    <tr>\n",
       "      <th>0</th>\n",
       "      <td>co</td>\n",
       "      <td>52</td>\n",
       "      <td>41</td>\n",
       "      <td>393</td>\n",
       "      <td>3</td>\n",
       "      <td>7</td>\n",
       "      <td>[12, 52, 4]</td>\n",
       "      <td>[3, 1, 1]</td>\n",
       "      <td>None</td>\n",
       "      <td>1</td>\n",
       "      <td>2</td>\n",
       "      <td>5</td>\n",
       "      <td>1</td>\n",
       "      <td>3</td>\n",
       "    </tr>\n",
       "    <tr>\n",
       "      <th>0</th>\n",
       "      <td>pm10</td>\n",
       "      <td>52</td>\n",
       "      <td>89</td>\n",
       "      <td>397</td>\n",
       "      <td>4</td>\n",
       "      <td>5</td>\n",
       "      <td>[1, 12, 12]</td>\n",
       "      <td>[2, 1, 1]</td>\n",
       "      <td>standard</td>\n",
       "      <td>13</td>\n",
       "      <td>10</td>\n",
       "      <td>13</td>\n",
       "      <td>7</td>\n",
       "      <td>13</td>\n",
       "    </tr>\n",
       "    <tr>\n",
       "      <th>0</th>\n",
       "      <td>pm25</td>\n",
       "      <td>52</td>\n",
       "      <td>110</td>\n",
       "      <td>156</td>\n",
       "      <td>6</td>\n",
       "      <td>6</td>\n",
       "      <td>[4, 12, 52]</td>\n",
       "      <td>[1, 3, 1]</td>\n",
       "      <td>standard</td>\n",
       "      <td>13</td>\n",
       "      <td>11</td>\n",
       "      <td>12</td>\n",
       "      <td>13</td>\n",
       "      <td>12</td>\n",
       "    </tr>\n",
       "    <tr>\n",
       "      <th>0</th>\n",
       "      <td>o3</td>\n",
       "      <td>52</td>\n",
       "      <td>28</td>\n",
       "      <td>73</td>\n",
       "      <td>4</td>\n",
       "      <td>1</td>\n",
       "      <td>[52, 1, 12]</td>\n",
       "      <td>[2, 2, 2]</td>\n",
       "      <td>boxcox</td>\n",
       "      <td>15</td>\n",
       "      <td>15</td>\n",
       "      <td>13</td>\n",
       "      <td>15</td>\n",
       "      <td>14</td>\n",
       "    </tr>\n",
       "    <tr>\n",
       "      <th>0</th>\n",
       "      <td>no2</td>\n",
       "      <td>52</td>\n",
       "      <td>81</td>\n",
       "      <td>336</td>\n",
       "      <td>7</td>\n",
       "      <td>7</td>\n",
       "      <td>[52, 4, 1]</td>\n",
       "      <td>[2, 1, 2]</td>\n",
       "      <td>None</td>\n",
       "      <td>10</td>\n",
       "      <td>8</td>\n",
       "      <td>10</td>\n",
       "      <td>11</td>\n",
       "      <td>10</td>\n",
       "    </tr>\n",
       "    <tr>\n",
       "      <th>0</th>\n",
       "      <td>co</td>\n",
       "      <td>78</td>\n",
       "      <td>93</td>\n",
       "      <td>614</td>\n",
       "      <td>6</td>\n",
       "      <td>1</td>\n",
       "      <td>[4, 12, 12]</td>\n",
       "      <td>[1, 2, 3]</td>\n",
       "      <td>standard</td>\n",
       "      <td>17</td>\n",
       "      <td>17</td>\n",
       "      <td>10</td>\n",
       "      <td>11</td>\n",
       "      <td>17</td>\n",
       "    </tr>\n",
       "    <tr>\n",
       "      <th>0</th>\n",
       "      <td>pm10</td>\n",
       "      <td>78</td>\n",
       "      <td>75</td>\n",
       "      <td>685</td>\n",
       "      <td>6</td>\n",
       "      <td>4</td>\n",
       "      <td>[12, 4, 1]</td>\n",
       "      <td>[3, 2, 2]</td>\n",
       "      <td>boxcox</td>\n",
       "      <td>12</td>\n",
       "      <td>12</td>\n",
       "      <td>12</td>\n",
       "      <td>13</td>\n",
       "      <td>12</td>\n",
       "    </tr>\n",
       "    <tr>\n",
       "      <th>0</th>\n",
       "      <td>pm25</td>\n",
       "      <td>78</td>\n",
       "      <td>59</td>\n",
       "      <td>681</td>\n",
       "      <td>3</td>\n",
       "      <td>6</td>\n",
       "      <td>[52, 12, 12]</td>\n",
       "      <td>[2, 3, 2]</td>\n",
       "      <td>minmax</td>\n",
       "      <td>9</td>\n",
       "      <td>9</td>\n",
       "      <td>1</td>\n",
       "      <td>4</td>\n",
       "      <td>1</td>\n",
       "    </tr>\n",
       "    <tr>\n",
       "      <th>0</th>\n",
       "      <td>o3</td>\n",
       "      <td>78</td>\n",
       "      <td>28</td>\n",
       "      <td>546</td>\n",
       "      <td>6</td>\n",
       "      <td>2</td>\n",
       "      <td>[1, 1, 1]</td>\n",
       "      <td>[3, 2, 2]</td>\n",
       "      <td>standard</td>\n",
       "      <td>2</td>\n",
       "      <td>2</td>\n",
       "      <td>3</td>\n",
       "      <td>8</td>\n",
       "      <td>3</td>\n",
       "    </tr>\n",
       "    <tr>\n",
       "      <th>0</th>\n",
       "      <td>no2</td>\n",
       "      <td>78</td>\n",
       "      <td>69</td>\n",
       "      <td>75</td>\n",
       "      <td>7</td>\n",
       "      <td>2</td>\n",
       "      <td>[1, 1, 4]</td>\n",
       "      <td>[3, 2, 3]</td>\n",
       "      <td>boxcox</td>\n",
       "      <td>19</td>\n",
       "      <td>19</td>\n",
       "      <td>13</td>\n",
       "      <td>19</td>\n",
       "      <td>19</td>\n",
       "    </tr>\n",
       "  </tbody>\n",
       "</table>\n",
       "</div>"
      ],
      "text/plain": [
       "  pollutant   h  input_size  max_steps  n_stacks  n_blocks n_freq_downsample  \\\n",
       "0        co  12         109         70         3         3      [52, 12, 52]   \n",
       "0      pm10  12         134        456         3         1       [12, 12, 4]   \n",
       "0      pm25  12         141        166         5         5        [12, 1, 1]   \n",
       "0        o3  12           6        167         7         4      [12, 52, 12]   \n",
       "0       no2  12         117         85         7         5       [12, 4, 52]   \n",
       "0        co  26          83         99         3         3        [12, 1, 1]   \n",
       "0      pm10  26          45        140         4         2        [4, 1, 52]   \n",
       "0      pm25  26         109         92         3         6       [1, 12, 12]   \n",
       "0        o3  26          94        310         3         6      [12, 12, 12]   \n",
       "0       no2  26         107        486         3         6      [52, 12, 52]   \n",
       "0        co  52          41        393         3         7       [12, 52, 4]   \n",
       "0      pm10  52          89        397         4         5       [1, 12, 12]   \n",
       "0      pm25  52         110        156         6         6       [4, 12, 52]   \n",
       "0        o3  52          28         73         4         1       [52, 1, 12]   \n",
       "0       no2  52          81        336         7         7        [52, 4, 1]   \n",
       "0        co  78          93        614         6         1       [4, 12, 12]   \n",
       "0      pm10  78          75        685         6         4        [12, 4, 1]   \n",
       "0      pm25  78          59        681         3         6      [52, 12, 12]   \n",
       "0        o3  78          28        546         6         2         [1, 1, 1]   \n",
       "0       no2  78          69         75         7         2         [1, 1, 4]   \n",
       "\n",
       "  n_pool_kernel_size local_scalar_type  smape  mae  max  mape  mse  \n",
       "0          [3, 1, 1]          standard      7    6    8    10    6  \n",
       "0          [1, 3, 1]            boxcox     11   11   13    11   12  \n",
       "0          [2, 2, 2]            boxcox     11   11   12    13   13  \n",
       "0          [1, 1, 1]          standard      2    2   21     2    2  \n",
       "0          [1, 2, 3]            minmax      6    6    5     5    5  \n",
       "0          [1, 3, 1]              None      4    4    4     6    4  \n",
       "0          [2, 3, 1]            boxcox     10   10   13     3    8  \n",
       "0          [1, 2, 3]              None      1    1   12     1    1  \n",
       "0          [1, 1, 2]            boxcox      1    1    1     1    1  \n",
       "0          [3, 2, 3]          standard     14   14   14    14   14  \n",
       "0          [3, 1, 1]              None      1    2    5     1    3  \n",
       "0          [2, 1, 1]          standard     13   10   13     7   13  \n",
       "0          [1, 3, 1]          standard     13   11   12    13   12  \n",
       "0          [2, 2, 2]            boxcox     15   15   13    15   14  \n",
       "0          [2, 1, 2]              None     10    8   10    11   10  \n",
       "0          [1, 2, 3]          standard     17   17   10    11   17  \n",
       "0          [3, 2, 2]            boxcox     12   12   12    13   12  \n",
       "0          [2, 3, 2]            minmax      9    9    1     4    1  \n",
       "0          [3, 2, 2]          standard      2    2    3     8    3  \n",
       "0          [3, 2, 3]            boxcox     19   19   13    19   19  "
      ]
     },
     "metadata": {},
     "output_type": "display_data"
    }
   ],
   "source": [
    "df_nhits_params = pd.DataFrame()\n",
    "for h in [12, 26, 52, 78]:\n",
    "    for pollutant in ['co','pm10','pm25','o3','no2']:\n",
    "        nhits = joblib.load(fr\"Results\\NHITS\\{pollutant}\\{h}W_Study.pkl\")\n",
    "        nhits = nhits.trials_dataframe().sort_values(by=['values_0','values_1']).reset_index(drop=True)\n",
    "        nhits['pollutant'] = pollutant\n",
    "        nhits['h'] = h\n",
    "        nhits = nhits.loc[[0],['pollutant','h','params_input_size','params_max_steps','params_n_stacks','params_n_blocks','params_n_freq_downsample','params_n_pool_kernel_size','params_local_scalar_type']]\n",
    "        nhits.columns = nhits.columns.str.replace('params_', '', regex=False)\n",
    "\n",
    "        for metric in ['smape','mae','max','mape','mse']:\n",
    "            metrics = pd.read_pickle(rf'C:\\Users\\gustavo.filho\\Documents\\Python\\GitHub\\TCC\\Results\\Stats\\{pollutant}\\{h}W_Df.pkl').reset_index(drop=True)\n",
    "            metrics = metrics.sort_values(by=metric).reset_index(drop=True)\n",
    "            metrics = metrics[metrics['method'] == 'NHITS'].index + 1\n",
    "            nhits[metric] = metrics[0]\n",
    "\n",
    "        df_nhits_params = pd.concat([df_nhits_params, nhits])\n",
    "\n",
    "display(df_nhits_params)"
   ]
  },
  {
   "cell_type": "markdown",
   "metadata": {},
   "source": [
    "### NBEATS"
   ]
  },
  {
   "cell_type": "code",
   "execution_count": 7,
   "metadata": {},
   "outputs": [
    {
     "data": {
      "text/html": [
       "<div>\n",
       "<style scoped>\n",
       "    .dataframe tbody tr th:only-of-type {\n",
       "        vertical-align: middle;\n",
       "    }\n",
       "\n",
       "    .dataframe tbody tr th {\n",
       "        vertical-align: top;\n",
       "    }\n",
       "\n",
       "    .dataframe thead th {\n",
       "        text-align: right;\n",
       "    }\n",
       "</style>\n",
       "<table border=\"1\" class=\"dataframe\">\n",
       "  <thead>\n",
       "    <tr style=\"text-align: right;\">\n",
       "      <th></th>\n",
       "      <th>pollutant</th>\n",
       "      <th>h</th>\n",
       "      <th>input_size</th>\n",
       "      <th>max_steps</th>\n",
       "      <th>n_stacks</th>\n",
       "      <th>n_blocks</th>\n",
       "      <th>interpretability</th>\n",
       "      <th>local_scalar_type</th>\n",
       "      <th>smape</th>\n",
       "      <th>mae</th>\n",
       "      <th>max</th>\n",
       "      <th>mape</th>\n",
       "      <th>mse</th>\n",
       "    </tr>\n",
       "  </thead>\n",
       "  <tbody>\n",
       "    <tr>\n",
       "      <th>0</th>\n",
       "      <td>co</td>\n",
       "      <td>12</td>\n",
       "      <td>66</td>\n",
       "      <td>587</td>\n",
       "      <td>5</td>\n",
       "      <td>3</td>\n",
       "      <td>[identity, trend]</td>\n",
       "      <td>boxcox</td>\n",
       "      <td>5</td>\n",
       "      <td>4</td>\n",
       "      <td>21</td>\n",
       "      <td>1</td>\n",
       "      <td>13</td>\n",
       "    </tr>\n",
       "    <tr>\n",
       "      <th>0</th>\n",
       "      <td>pm10</td>\n",
       "      <td>12</td>\n",
       "      <td>40</td>\n",
       "      <td>88</td>\n",
       "      <td>5</td>\n",
       "      <td>5</td>\n",
       "      <td>[seasonality, seasonality]</td>\n",
       "      <td>boxcox</td>\n",
       "      <td>14</td>\n",
       "      <td>14</td>\n",
       "      <td>12</td>\n",
       "      <td>13</td>\n",
       "      <td>13</td>\n",
       "    </tr>\n",
       "    <tr>\n",
       "      <th>0</th>\n",
       "      <td>pm25</td>\n",
       "      <td>12</td>\n",
       "      <td>81</td>\n",
       "      <td>614</td>\n",
       "      <td>2</td>\n",
       "      <td>1</td>\n",
       "      <td>[seasonality, trend]</td>\n",
       "      <td>boxcox</td>\n",
       "      <td>21</td>\n",
       "      <td>21</td>\n",
       "      <td>19</td>\n",
       "      <td>21</td>\n",
       "      <td>21</td>\n",
       "    </tr>\n",
       "    <tr>\n",
       "      <th>0</th>\n",
       "      <td>o3</td>\n",
       "      <td>12</td>\n",
       "      <td>12</td>\n",
       "      <td>586</td>\n",
       "      <td>7</td>\n",
       "      <td>4</td>\n",
       "      <td>[identity, identity]</td>\n",
       "      <td>None</td>\n",
       "      <td>1</td>\n",
       "      <td>1</td>\n",
       "      <td>1</td>\n",
       "      <td>1</td>\n",
       "      <td>1</td>\n",
       "    </tr>\n",
       "    <tr>\n",
       "      <th>0</th>\n",
       "      <td>no2</td>\n",
       "      <td>12</td>\n",
       "      <td>144</td>\n",
       "      <td>290</td>\n",
       "      <td>4</td>\n",
       "      <td>2</td>\n",
       "      <td>[trend, seasonality]</td>\n",
       "      <td>minmax</td>\n",
       "      <td>1</td>\n",
       "      <td>1</td>\n",
       "      <td>21</td>\n",
       "      <td>6</td>\n",
       "      <td>8</td>\n",
       "    </tr>\n",
       "    <tr>\n",
       "      <th>0</th>\n",
       "      <td>co</td>\n",
       "      <td>26</td>\n",
       "      <td>42</td>\n",
       "      <td>198</td>\n",
       "      <td>7</td>\n",
       "      <td>3</td>\n",
       "      <td>[trend, identity]</td>\n",
       "      <td>boxcox</td>\n",
       "      <td>14</td>\n",
       "      <td>12</td>\n",
       "      <td>19</td>\n",
       "      <td>7</td>\n",
       "      <td>15</td>\n",
       "    </tr>\n",
       "    <tr>\n",
       "      <th>0</th>\n",
       "      <td>pm10</td>\n",
       "      <td>26</td>\n",
       "      <td>50</td>\n",
       "      <td>456</td>\n",
       "      <td>2</td>\n",
       "      <td>2</td>\n",
       "      <td>[seasonality, trend]</td>\n",
       "      <td>boxcox</td>\n",
       "      <td>13</td>\n",
       "      <td>13</td>\n",
       "      <td>15</td>\n",
       "      <td>13</td>\n",
       "      <td>14</td>\n",
       "    </tr>\n",
       "    <tr>\n",
       "      <th>0</th>\n",
       "      <td>pm25</td>\n",
       "      <td>26</td>\n",
       "      <td>62</td>\n",
       "      <td>155</td>\n",
       "      <td>2</td>\n",
       "      <td>1</td>\n",
       "      <td>[trend, identity]</td>\n",
       "      <td>None</td>\n",
       "      <td>2</td>\n",
       "      <td>2</td>\n",
       "      <td>14</td>\n",
       "      <td>2</td>\n",
       "      <td>3</td>\n",
       "    </tr>\n",
       "    <tr>\n",
       "      <th>0</th>\n",
       "      <td>o3</td>\n",
       "      <td>26</td>\n",
       "      <td>32</td>\n",
       "      <td>97</td>\n",
       "      <td>2</td>\n",
       "      <td>3</td>\n",
       "      <td>[trend, trend]</td>\n",
       "      <td>None</td>\n",
       "      <td>3</td>\n",
       "      <td>3</td>\n",
       "      <td>3</td>\n",
       "      <td>9</td>\n",
       "      <td>3</td>\n",
       "    </tr>\n",
       "    <tr>\n",
       "      <th>0</th>\n",
       "      <td>no2</td>\n",
       "      <td>26</td>\n",
       "      <td>114</td>\n",
       "      <td>39</td>\n",
       "      <td>3</td>\n",
       "      <td>5</td>\n",
       "      <td>[identity, identity]</td>\n",
       "      <td>minmax</td>\n",
       "      <td>1</td>\n",
       "      <td>1</td>\n",
       "      <td>2</td>\n",
       "      <td>1</td>\n",
       "      <td>1</td>\n",
       "    </tr>\n",
       "    <tr>\n",
       "      <th>0</th>\n",
       "      <td>co</td>\n",
       "      <td>52</td>\n",
       "      <td>135</td>\n",
       "      <td>605</td>\n",
       "      <td>2</td>\n",
       "      <td>5</td>\n",
       "      <td>[identity, seasonality]</td>\n",
       "      <td>boxcox</td>\n",
       "      <td>2</td>\n",
       "      <td>1</td>\n",
       "      <td>1</td>\n",
       "      <td>13</td>\n",
       "      <td>1</td>\n",
       "    </tr>\n",
       "    <tr>\n",
       "      <th>0</th>\n",
       "      <td>pm10</td>\n",
       "      <td>52</td>\n",
       "      <td>127</td>\n",
       "      <td>134</td>\n",
       "      <td>5</td>\n",
       "      <td>4</td>\n",
       "      <td>[identity, seasonality]</td>\n",
       "      <td>standard</td>\n",
       "      <td>10</td>\n",
       "      <td>7</td>\n",
       "      <td>12</td>\n",
       "      <td>8</td>\n",
       "      <td>8</td>\n",
       "    </tr>\n",
       "    <tr>\n",
       "      <th>0</th>\n",
       "      <td>pm25</td>\n",
       "      <td>52</td>\n",
       "      <td>116</td>\n",
       "      <td>398</td>\n",
       "      <td>6</td>\n",
       "      <td>4</td>\n",
       "      <td>[identity, identity]</td>\n",
       "      <td>None</td>\n",
       "      <td>9</td>\n",
       "      <td>6</td>\n",
       "      <td>13</td>\n",
       "      <td>6</td>\n",
       "      <td>13</td>\n",
       "    </tr>\n",
       "    <tr>\n",
       "      <th>0</th>\n",
       "      <td>o3</td>\n",
       "      <td>52</td>\n",
       "      <td>24</td>\n",
       "      <td>38</td>\n",
       "      <td>2</td>\n",
       "      <td>2</td>\n",
       "      <td>[trend, identity]</td>\n",
       "      <td>minmax</td>\n",
       "      <td>5</td>\n",
       "      <td>5</td>\n",
       "      <td>2</td>\n",
       "      <td>5</td>\n",
       "      <td>1</td>\n",
       "    </tr>\n",
       "    <tr>\n",
       "      <th>0</th>\n",
       "      <td>no2</td>\n",
       "      <td>52</td>\n",
       "      <td>85</td>\n",
       "      <td>255</td>\n",
       "      <td>3</td>\n",
       "      <td>2</td>\n",
       "      <td>[trend, trend]</td>\n",
       "      <td>boxcox</td>\n",
       "      <td>14</td>\n",
       "      <td>12</td>\n",
       "      <td>7</td>\n",
       "      <td>14</td>\n",
       "      <td>12</td>\n",
       "    </tr>\n",
       "    <tr>\n",
       "      <th>0</th>\n",
       "      <td>co</td>\n",
       "      <td>78</td>\n",
       "      <td>104</td>\n",
       "      <td>15</td>\n",
       "      <td>3</td>\n",
       "      <td>5</td>\n",
       "      <td>[trend, identity]</td>\n",
       "      <td>standard</td>\n",
       "      <td>21</td>\n",
       "      <td>19</td>\n",
       "      <td>15</td>\n",
       "      <td>18</td>\n",
       "      <td>18</td>\n",
       "    </tr>\n",
       "    <tr>\n",
       "      <th>0</th>\n",
       "      <td>pm10</td>\n",
       "      <td>78</td>\n",
       "      <td>51</td>\n",
       "      <td>380</td>\n",
       "      <td>7</td>\n",
       "      <td>3</td>\n",
       "      <td>[trend, trend]</td>\n",
       "      <td>minmax</td>\n",
       "      <td>13</td>\n",
       "      <td>13</td>\n",
       "      <td>19</td>\n",
       "      <td>14</td>\n",
       "      <td>13</td>\n",
       "    </tr>\n",
       "    <tr>\n",
       "      <th>0</th>\n",
       "      <td>pm25</td>\n",
       "      <td>78</td>\n",
       "      <td>53</td>\n",
       "      <td>689</td>\n",
       "      <td>2</td>\n",
       "      <td>4</td>\n",
       "      <td>[identity, seasonality]</td>\n",
       "      <td>boxcox</td>\n",
       "      <td>10</td>\n",
       "      <td>10</td>\n",
       "      <td>7</td>\n",
       "      <td>12</td>\n",
       "      <td>10</td>\n",
       "    </tr>\n",
       "    <tr>\n",
       "      <th>0</th>\n",
       "      <td>o3</td>\n",
       "      <td>78</td>\n",
       "      <td>4</td>\n",
       "      <td>95</td>\n",
       "      <td>3</td>\n",
       "      <td>2</td>\n",
       "      <td>[trend, trend]</td>\n",
       "      <td>minmax</td>\n",
       "      <td>1</td>\n",
       "      <td>1</td>\n",
       "      <td>1</td>\n",
       "      <td>7</td>\n",
       "      <td>1</td>\n",
       "    </tr>\n",
       "    <tr>\n",
       "      <th>0</th>\n",
       "      <td>no2</td>\n",
       "      <td>78</td>\n",
       "      <td>114</td>\n",
       "      <td>539</td>\n",
       "      <td>4</td>\n",
       "      <td>5</td>\n",
       "      <td>[trend, identity]</td>\n",
       "      <td>minmax</td>\n",
       "      <td>16</td>\n",
       "      <td>18</td>\n",
       "      <td>15</td>\n",
       "      <td>18</td>\n",
       "      <td>16</td>\n",
       "    </tr>\n",
       "  </tbody>\n",
       "</table>\n",
       "</div>"
      ],
      "text/plain": [
       "  pollutant   h  input_size  max_steps  n_stacks  n_blocks  \\\n",
       "0        co  12          66        587         5         3   \n",
       "0      pm10  12          40         88         5         5   \n",
       "0      pm25  12          81        614         2         1   \n",
       "0        o3  12          12        586         7         4   \n",
       "0       no2  12         144        290         4         2   \n",
       "0        co  26          42        198         7         3   \n",
       "0      pm10  26          50        456         2         2   \n",
       "0      pm25  26          62        155         2         1   \n",
       "0        o3  26          32         97         2         3   \n",
       "0       no2  26         114         39         3         5   \n",
       "0        co  52         135        605         2         5   \n",
       "0      pm10  52         127        134         5         4   \n",
       "0      pm25  52         116        398         6         4   \n",
       "0        o3  52          24         38         2         2   \n",
       "0       no2  52          85        255         3         2   \n",
       "0        co  78         104         15         3         5   \n",
       "0      pm10  78          51        380         7         3   \n",
       "0      pm25  78          53        689         2         4   \n",
       "0        o3  78           4         95         3         2   \n",
       "0       no2  78         114        539         4         5   \n",
       "\n",
       "             interpretability local_scalar_type  smape  mae  max  mape  mse  \n",
       "0           [identity, trend]            boxcox      5    4   21     1   13  \n",
       "0  [seasonality, seasonality]            boxcox     14   14   12    13   13  \n",
       "0        [seasonality, trend]            boxcox     21   21   19    21   21  \n",
       "0        [identity, identity]              None      1    1    1     1    1  \n",
       "0        [trend, seasonality]            minmax      1    1   21     6    8  \n",
       "0           [trend, identity]            boxcox     14   12   19     7   15  \n",
       "0        [seasonality, trend]            boxcox     13   13   15    13   14  \n",
       "0           [trend, identity]              None      2    2   14     2    3  \n",
       "0              [trend, trend]              None      3    3    3     9    3  \n",
       "0        [identity, identity]            minmax      1    1    2     1    1  \n",
       "0     [identity, seasonality]            boxcox      2    1    1    13    1  \n",
       "0     [identity, seasonality]          standard     10    7   12     8    8  \n",
       "0        [identity, identity]              None      9    6   13     6   13  \n",
       "0           [trend, identity]            minmax      5    5    2     5    1  \n",
       "0              [trend, trend]            boxcox     14   12    7    14   12  \n",
       "0           [trend, identity]          standard     21   19   15    18   18  \n",
       "0              [trend, trend]            minmax     13   13   19    14   13  \n",
       "0     [identity, seasonality]            boxcox     10   10    7    12   10  \n",
       "0              [trend, trend]            minmax      1    1    1     7    1  \n",
       "0           [trend, identity]            minmax     16   18   15    18   16  "
      ]
     },
     "metadata": {},
     "output_type": "display_data"
    }
   ],
   "source": [
    "df_nbeats_params = pd.DataFrame()\n",
    "for h in [12, 26, 52, 78]:\n",
    "    for pollutant in ['co','pm10','pm25','o3','no2']:\n",
    "        nbeats = joblib.load(fr\"Results\\NBEATS\\{pollutant}\\{h}W_Study.pkl\")\n",
    "        nbeats = nbeats.trials_dataframe().sort_values(by=['values_0','values_1']).reset_index(drop=True)\n",
    "        nbeats['pollutant'] = pollutant\n",
    "        nbeats['h'] = h\n",
    "        nbeats = nbeats.loc[[0],['pollutant','h','params_input_size','params_max_steps','params_n_stacks','params_n_blocks','params_interpretability','params_local_scalar_type']]\n",
    "        nbeats.columns = nbeats.columns.str.replace('params_', '', regex=False)\n",
    "\n",
    "        for metric in ['smape','mae','max','mape','mse']:\n",
    "            metrics = pd.read_pickle(rf'C:\\Users\\gustavo.filho\\Documents\\Python\\GitHub\\TCC\\Results\\Stats\\{pollutant}\\{h}W_Df.pkl').reset_index(drop=True)\n",
    "            metrics = metrics.sort_values(by=metric).reset_index(drop=True)\n",
    "            metrics = metrics[metrics['method'] == 'NBEATS'].index + 1\n",
    "            nbeats[metric] = metrics[0]\n",
    "\n",
    "        df_nbeats_params = pd.concat([df_nbeats_params, nbeats])\n",
    "\n",
    "display(df_nbeats_params)"
   ]
  },
  {
   "cell_type": "code",
   "execution_count": 8,
   "metadata": {},
   "outputs": [],
   "source": [
    "# metrics = pd.read_pickle(rf'C:\\Users\\gustavo.filho\\Documents\\Python\\GitHub\\TCC\\Results\\Stats\\co\\12W_Df.pkl').reset_index(drop=True)\n",
    "# metrics = metrics.sort_values(by='mse').reset_index(drop=True)\n",
    "# metrics"
   ]
  },
  {
   "cell_type": "markdown",
   "metadata": {},
   "source": [
    "# **Visualizations**"
   ]
  },
  {
   "cell_type": "code",
   "execution_count": null,
   "metadata": {},
   "outputs": [],
   "source": [
    "# from statsforecast import StatsForecast\n",
    "# from statsforecast.models import AutoARIMA, AutoCES, AutoETS, AutoTheta\n",
    "\n",
    "# results_stats = []\n",
    "# # for pollutant in ['co','pm10','pm25','o3','no2']:\n",
    "# for pollutant in ['pm25']:\n",
    "#     for h in [12, 26, 52, 78]:\n",
    "\n",
    "#         obj = TimeObject(data, pollutant, agg_freq='W')\n",
    "#         obj.NIXTLA_train_test(split=h)\n",
    "\n",
    "#         # ======================================================================================================\n",
    "\n",
    "#         nbeats = joblib.load(fr\"Results\\NBEATS\\{pollutant}\\{h}W_Study.pkl\")\n",
    "#         model = NBEATS(\n",
    "#             h=h,\n",
    "#             input_size=nbeats.best_trials[0].params.get('input_size'),\n",
    "#             stack_types=nbeats.best_trials[0].params.get('interpretability')+(nbeats.best_trials[0].params.get('n_stacks')-len(nbeats.best_trials[0].params.get('interpretability')))*['identity'],\n",
    "#             n_blocks=nbeats.best_trials[0].params.get('n_stacks') * [nbeats.best_trials[0].params.get('n_blocks')],\n",
    "#             max_steps=nbeats.best_trials[0].params.get('max_steps'),\n",
    "#             learning_rate=1e-3,\n",
    "#             val_check_steps=10,\n",
    "#         )\n",
    "#         fcst = NeuralForecast(\n",
    "#             models=[model],\n",
    "#             freq='W',\n",
    "#             local_scaler_type=nbeats.best_trials[0].params.get('local_scalar_type')\n",
    "#         )\n",
    "#         fcst.fit(df=obj.Y_train, verbose=False)\n",
    "#         predicted = fcst.predict(df=obj.Y_train, verbose=False)\n",
    "#         obj.plot_forecast(predicted, method='NBEATS')\n",
    "\n",
    "#         # ======================================================================================================\n",
    "        \n",
    "#         nhits = joblib.load(fr\"Results\\NHITS\\{pollutant}\\{h}W_Study.pkl\")\n",
    "#         model = NHITS(\n",
    "#             h=h,\n",
    "#             input_size=nhits.best_trials[0].params.get('input_size'),\n",
    "#             stack_types=nhits.best_trials[0].params.get('n_stacks')*['identity'],\n",
    "#             n_freq_downsample=nhits.best_trials[0].params.get('n_freq_downsample')+(nhits.best_trials[0].params.get('n_stacks')-len(nhits.best_trials[0].params.get('n_freq_downsample')))*[1],\n",
    "#             n_blocks=nhits.best_trials[0].params.get('n_stacks')*[nhits.best_trials[0].params.get('n_blocks')],\n",
    "#             n_pool_kernel_size=(nhits.best_trials[0].params.get('n_stacks')-len(nhits.best_trials[0].params.get('n_pool_kernel_size')))*[1]+nhits.best_trials[0].params.get('n_pool_kernel_size'),\n",
    "#             pooling_mode=\"MaxPool1d\",\n",
    "#             activation=\"ReLU\",\n",
    "#             interpolation_mode='linear',\n",
    "#             max_steps=nhits.best_trials[0].params.get('max_steps'),\n",
    "#             val_check_steps=10,\n",
    "#         )\n",
    "#         fcst = NeuralForecast(\n",
    "#             models=[model],\n",
    "#             freq='W',\n",
    "#             local_scaler_type=nhits.best_trials[0].params.get('local_scalar_type')\n",
    "#         )\n",
    "#         fcst.fit(df=obj.Y_train, verbose=False)\n",
    "#         predicted = fcst.predict(df=obj.Y_train, verbose=False)\n",
    "#         obj.metrics_(predicted, method='NHITS')\n",
    "#         obj.plot_forecast(predicted)"
   ]
  },
  {
   "cell_type": "code",
   "execution_count": 156,
   "metadata": {},
   "outputs": [
    {
     "data": {
      "application/vnd.plotly.v1+json": {
       "config": {
        "plotlyServerURL": "https://plot.ly"
       },
       "data": [
        {
         "hovertemplate": "x: %{x}<br>y: %{y}",
         "marker": {
          "color": "#000000"
         },
         "name": "12",
         "orientation": "h",
         "type": "bar",
         "x": [
          0.013619675691044855,
          0.017287556493920102,
          0.04831516174543708,
          0.07532334333123394,
          0.11790963776284949,
          0.7275446249755145
         ],
         "y": [
          "stacks",
          "blocks",
          "epochs",
          "interpretability",
          "scalar",
          "input"
         ]
        },
        {
         "hovertemplate": "x: %{x}<br>y: %{y}",
         "marker": {
          "color": "#404040"
         },
         "name": "26",
         "orientation": "h",
         "type": "bar",
         "x": [
          0.01385941611566087,
          0.016900775261414872,
          0.05912381185037241,
          0.07246505302070463,
          0.15541760961955212,
          0.682233334132295
         ],
         "y": [
          "stacks",
          "blocks",
          "epochs",
          "interpretability",
          "scalar",
          "input"
         ]
        },
        {
         "hovertemplate": "x: %{x}<br>y: %{y}",
         "marker": {
          "color": "#808080"
         },
         "name": "52",
         "orientation": "h",
         "type": "bar",
         "x": [
          0.015068969286582856,
          0.016782831457392573,
          0.0559306579901314,
          0.06466315405963273,
          0.11920344584237048,
          0.72835094136389
         ],
         "y": [
          "stacks",
          "blocks",
          "epochs",
          "interpretability",
          "scalar",
          "input"
         ]
        },
        {
         "hovertemplate": "x: %{x}<br>y: %{y}",
         "marker": {
          "color": "#BFBFBF"
         },
         "name": "78",
         "orientation": "h",
         "type": "bar",
         "x": [
          0.023305187674899915,
          0.017308611560735526,
          0.05229761721413813,
          0.11546833894219258,
          0.096166550759764,
          0.6954536938482698
         ],
         "y": [
          "stacks",
          "blocks",
          "epochs",
          "interpretability",
          "scalar",
          "input"
         ]
        }
       ],
       "layout": {
        "height": 500,
        "paper_bgcolor": "white",
        "plot_bgcolor": "white",
        "template": {
         "data": {
          "bar": [
           {
            "error_x": {
             "color": "#2a3f5f"
            },
            "error_y": {
             "color": "#2a3f5f"
            },
            "marker": {
             "line": {
              "color": "#E5ECF6",
              "width": 0.5
             },
             "pattern": {
              "fillmode": "overlay",
              "size": 10,
              "solidity": 0.2
             }
            },
            "type": "bar"
           }
          ],
          "barpolar": [
           {
            "marker": {
             "line": {
              "color": "#E5ECF6",
              "width": 0.5
             },
             "pattern": {
              "fillmode": "overlay",
              "size": 10,
              "solidity": 0.2
             }
            },
            "type": "barpolar"
           }
          ],
          "carpet": [
           {
            "aaxis": {
             "endlinecolor": "#2a3f5f",
             "gridcolor": "white",
             "linecolor": "white",
             "minorgridcolor": "white",
             "startlinecolor": "#2a3f5f"
            },
            "baxis": {
             "endlinecolor": "#2a3f5f",
             "gridcolor": "white",
             "linecolor": "white",
             "minorgridcolor": "white",
             "startlinecolor": "#2a3f5f"
            },
            "type": "carpet"
           }
          ],
          "choropleth": [
           {
            "colorbar": {
             "outlinewidth": 0,
             "ticks": ""
            },
            "type": "choropleth"
           }
          ],
          "contour": [
           {
            "colorbar": {
             "outlinewidth": 0,
             "ticks": ""
            },
            "colorscale": [
             [
              0,
              "#0d0887"
             ],
             [
              0.1111111111111111,
              "#46039f"
             ],
             [
              0.2222222222222222,
              "#7201a8"
             ],
             [
              0.3333333333333333,
              "#9c179e"
             ],
             [
              0.4444444444444444,
              "#bd3786"
             ],
             [
              0.5555555555555556,
              "#d8576b"
             ],
             [
              0.6666666666666666,
              "#ed7953"
             ],
             [
              0.7777777777777778,
              "#fb9f3a"
             ],
             [
              0.8888888888888888,
              "#fdca26"
             ],
             [
              1,
              "#f0f921"
             ]
            ],
            "type": "contour"
           }
          ],
          "contourcarpet": [
           {
            "colorbar": {
             "outlinewidth": 0,
             "ticks": ""
            },
            "type": "contourcarpet"
           }
          ],
          "heatmap": [
           {
            "colorbar": {
             "outlinewidth": 0,
             "ticks": ""
            },
            "colorscale": [
             [
              0,
              "#0d0887"
             ],
             [
              0.1111111111111111,
              "#46039f"
             ],
             [
              0.2222222222222222,
              "#7201a8"
             ],
             [
              0.3333333333333333,
              "#9c179e"
             ],
             [
              0.4444444444444444,
              "#bd3786"
             ],
             [
              0.5555555555555556,
              "#d8576b"
             ],
             [
              0.6666666666666666,
              "#ed7953"
             ],
             [
              0.7777777777777778,
              "#fb9f3a"
             ],
             [
              0.8888888888888888,
              "#fdca26"
             ],
             [
              1,
              "#f0f921"
             ]
            ],
            "type": "heatmap"
           }
          ],
          "heatmapgl": [
           {
            "colorbar": {
             "outlinewidth": 0,
             "ticks": ""
            },
            "colorscale": [
             [
              0,
              "#0d0887"
             ],
             [
              0.1111111111111111,
              "#46039f"
             ],
             [
              0.2222222222222222,
              "#7201a8"
             ],
             [
              0.3333333333333333,
              "#9c179e"
             ],
             [
              0.4444444444444444,
              "#bd3786"
             ],
             [
              0.5555555555555556,
              "#d8576b"
             ],
             [
              0.6666666666666666,
              "#ed7953"
             ],
             [
              0.7777777777777778,
              "#fb9f3a"
             ],
             [
              0.8888888888888888,
              "#fdca26"
             ],
             [
              1,
              "#f0f921"
             ]
            ],
            "type": "heatmapgl"
           }
          ],
          "histogram": [
           {
            "marker": {
             "pattern": {
              "fillmode": "overlay",
              "size": 10,
              "solidity": 0.2
             }
            },
            "type": "histogram"
           }
          ],
          "histogram2d": [
           {
            "colorbar": {
             "outlinewidth": 0,
             "ticks": ""
            },
            "colorscale": [
             [
              0,
              "#0d0887"
             ],
             [
              0.1111111111111111,
              "#46039f"
             ],
             [
              0.2222222222222222,
              "#7201a8"
             ],
             [
              0.3333333333333333,
              "#9c179e"
             ],
             [
              0.4444444444444444,
              "#bd3786"
             ],
             [
              0.5555555555555556,
              "#d8576b"
             ],
             [
              0.6666666666666666,
              "#ed7953"
             ],
             [
              0.7777777777777778,
              "#fb9f3a"
             ],
             [
              0.8888888888888888,
              "#fdca26"
             ],
             [
              1,
              "#f0f921"
             ]
            ],
            "type": "histogram2d"
           }
          ],
          "histogram2dcontour": [
           {
            "colorbar": {
             "outlinewidth": 0,
             "ticks": ""
            },
            "colorscale": [
             [
              0,
              "#0d0887"
             ],
             [
              0.1111111111111111,
              "#46039f"
             ],
             [
              0.2222222222222222,
              "#7201a8"
             ],
             [
              0.3333333333333333,
              "#9c179e"
             ],
             [
              0.4444444444444444,
              "#bd3786"
             ],
             [
              0.5555555555555556,
              "#d8576b"
             ],
             [
              0.6666666666666666,
              "#ed7953"
             ],
             [
              0.7777777777777778,
              "#fb9f3a"
             ],
             [
              0.8888888888888888,
              "#fdca26"
             ],
             [
              1,
              "#f0f921"
             ]
            ],
            "type": "histogram2dcontour"
           }
          ],
          "mesh3d": [
           {
            "colorbar": {
             "outlinewidth": 0,
             "ticks": ""
            },
            "type": "mesh3d"
           }
          ],
          "parcoords": [
           {
            "line": {
             "colorbar": {
              "outlinewidth": 0,
              "ticks": ""
             }
            },
            "type": "parcoords"
           }
          ],
          "pie": [
           {
            "automargin": true,
            "type": "pie"
           }
          ],
          "scatter": [
           {
            "fillpattern": {
             "fillmode": "overlay",
             "size": 10,
             "solidity": 0.2
            },
            "type": "scatter"
           }
          ],
          "scatter3d": [
           {
            "line": {
             "colorbar": {
              "outlinewidth": 0,
              "ticks": ""
             }
            },
            "marker": {
             "colorbar": {
              "outlinewidth": 0,
              "ticks": ""
             }
            },
            "type": "scatter3d"
           }
          ],
          "scattercarpet": [
           {
            "marker": {
             "colorbar": {
              "outlinewidth": 0,
              "ticks": ""
             }
            },
            "type": "scattercarpet"
           }
          ],
          "scattergeo": [
           {
            "marker": {
             "colorbar": {
              "outlinewidth": 0,
              "ticks": ""
             }
            },
            "type": "scattergeo"
           }
          ],
          "scattergl": [
           {
            "marker": {
             "colorbar": {
              "outlinewidth": 0,
              "ticks": ""
             }
            },
            "type": "scattergl"
           }
          ],
          "scattermapbox": [
           {
            "marker": {
             "colorbar": {
              "outlinewidth": 0,
              "ticks": ""
             }
            },
            "type": "scattermapbox"
           }
          ],
          "scatterpolar": [
           {
            "marker": {
             "colorbar": {
              "outlinewidth": 0,
              "ticks": ""
             }
            },
            "type": "scatterpolar"
           }
          ],
          "scatterpolargl": [
           {
            "marker": {
             "colorbar": {
              "outlinewidth": 0,
              "ticks": ""
             }
            },
            "type": "scatterpolargl"
           }
          ],
          "scatterternary": [
           {
            "marker": {
             "colorbar": {
              "outlinewidth": 0,
              "ticks": ""
             }
            },
            "type": "scatterternary"
           }
          ],
          "surface": [
           {
            "colorbar": {
             "outlinewidth": 0,
             "ticks": ""
            },
            "colorscale": [
             [
              0,
              "#0d0887"
             ],
             [
              0.1111111111111111,
              "#46039f"
             ],
             [
              0.2222222222222222,
              "#7201a8"
             ],
             [
              0.3333333333333333,
              "#9c179e"
             ],
             [
              0.4444444444444444,
              "#bd3786"
             ],
             [
              0.5555555555555556,
              "#d8576b"
             ],
             [
              0.6666666666666666,
              "#ed7953"
             ],
             [
              0.7777777777777778,
              "#fb9f3a"
             ],
             [
              0.8888888888888888,
              "#fdca26"
             ],
             [
              1,
              "#f0f921"
             ]
            ],
            "type": "surface"
           }
          ],
          "table": [
           {
            "cells": {
             "fill": {
              "color": "#EBF0F8"
             },
             "line": {
              "color": "white"
             }
            },
            "header": {
             "fill": {
              "color": "#C8D4E3"
             },
             "line": {
              "color": "white"
             }
            },
            "type": "table"
           }
          ]
         },
         "layout": {
          "annotationdefaults": {
           "arrowcolor": "#2a3f5f",
           "arrowhead": 0,
           "arrowwidth": 1
          },
          "autotypenumbers": "strict",
          "coloraxis": {
           "colorbar": {
            "outlinewidth": 0,
            "ticks": ""
           }
          },
          "colorscale": {
           "diverging": [
            [
             0,
             "#8e0152"
            ],
            [
             0.1,
             "#c51b7d"
            ],
            [
             0.2,
             "#de77ae"
            ],
            [
             0.3,
             "#f1b6da"
            ],
            [
             0.4,
             "#fde0ef"
            ],
            [
             0.5,
             "#f7f7f7"
            ],
            [
             0.6,
             "#e6f5d0"
            ],
            [
             0.7,
             "#b8e186"
            ],
            [
             0.8,
             "#7fbc41"
            ],
            [
             0.9,
             "#4d9221"
            ],
            [
             1,
             "#276419"
            ]
           ],
           "sequential": [
            [
             0,
             "#0d0887"
            ],
            [
             0.1111111111111111,
             "#46039f"
            ],
            [
             0.2222222222222222,
             "#7201a8"
            ],
            [
             0.3333333333333333,
             "#9c179e"
            ],
            [
             0.4444444444444444,
             "#bd3786"
            ],
            [
             0.5555555555555556,
             "#d8576b"
            ],
            [
             0.6666666666666666,
             "#ed7953"
            ],
            [
             0.7777777777777778,
             "#fb9f3a"
            ],
            [
             0.8888888888888888,
             "#fdca26"
            ],
            [
             1,
             "#f0f921"
            ]
           ],
           "sequentialminus": [
            [
             0,
             "#0d0887"
            ],
            [
             0.1111111111111111,
             "#46039f"
            ],
            [
             0.2222222222222222,
             "#7201a8"
            ],
            [
             0.3333333333333333,
             "#9c179e"
            ],
            [
             0.4444444444444444,
             "#bd3786"
            ],
            [
             0.5555555555555556,
             "#d8576b"
            ],
            [
             0.6666666666666666,
             "#ed7953"
            ],
            [
             0.7777777777777778,
             "#fb9f3a"
            ],
            [
             0.8888888888888888,
             "#fdca26"
            ],
            [
             1,
             "#f0f921"
            ]
           ]
          },
          "colorway": [
           "#636efa",
           "#EF553B",
           "#00cc96",
           "#ab63fa",
           "#FFA15A",
           "#19d3f3",
           "#FF6692",
           "#B6E880",
           "#FF97FF",
           "#FECB52"
          ],
          "font": {
           "color": "#2a3f5f"
          },
          "geo": {
           "bgcolor": "white",
           "lakecolor": "white",
           "landcolor": "#E5ECF6",
           "showlakes": true,
           "showland": true,
           "subunitcolor": "white"
          },
          "hoverlabel": {
           "align": "left"
          },
          "hovermode": "closest",
          "mapbox": {
           "style": "light"
          },
          "paper_bgcolor": "white",
          "plot_bgcolor": "#E5ECF6",
          "polar": {
           "angularaxis": {
            "gridcolor": "white",
            "linecolor": "white",
            "ticks": ""
           },
           "bgcolor": "#E5ECF6",
           "radialaxis": {
            "gridcolor": "white",
            "linecolor": "white",
            "ticks": ""
           }
          },
          "scene": {
           "xaxis": {
            "backgroundcolor": "#E5ECF6",
            "gridcolor": "white",
            "gridwidth": 2,
            "linecolor": "white",
            "showbackground": true,
            "ticks": "",
            "zerolinecolor": "white"
           },
           "yaxis": {
            "backgroundcolor": "#E5ECF6",
            "gridcolor": "white",
            "gridwidth": 2,
            "linecolor": "white",
            "showbackground": true,
            "ticks": "",
            "zerolinecolor": "white"
           },
           "zaxis": {
            "backgroundcolor": "#E5ECF6",
            "gridcolor": "white",
            "gridwidth": 2,
            "linecolor": "white",
            "showbackground": true,
            "ticks": "",
            "zerolinecolor": "white"
           }
          },
          "shapedefaults": {
           "line": {
            "color": "#2a3f5f"
           }
          },
          "ternary": {
           "aaxis": {
            "gridcolor": "white",
            "linecolor": "white",
            "ticks": ""
           },
           "baxis": {
            "gridcolor": "white",
            "linecolor": "white",
            "ticks": ""
           },
           "bgcolor": "#E5ECF6",
           "caxis": {
            "gridcolor": "white",
            "linecolor": "white",
            "ticks": ""
           }
          },
          "title": {
           "x": 0.05
          },
          "xaxis": {
           "automargin": true,
           "gridcolor": "white",
           "linecolor": "white",
           "ticks": "",
           "title": {
            "standoff": 15
           },
           "zerolinecolor": "white",
           "zerolinewidth": 2
          },
          "yaxis": {
           "automargin": true,
           "gridcolor": "white",
           "linecolor": "white",
           "ticks": "",
           "title": {
            "standoff": 15
           },
           "zerolinecolor": "white",
           "zerolinewidth": 2
          }
         }
        },
        "title": {
         "text": "N-BEATS | SMAPE"
        },
        "width": 600,
        "xaxis": {
         "gridcolor": "#cccccc",
         "linecolor": "black",
         "title": {
          "text": "Params Importance"
         }
        },
        "yaxis": {
         "gridcolor": "#cccccc",
         "linecolor": "black"
        }
       }
      }
     },
     "metadata": {},
     "output_type": "display_data"
    }
   ],
   "source": [
    "def plot_hyperparams_importance(metric='smape', nhits=True, type='poll'):\n",
    "\n",
    "    if nhits:\n",
    "        model = 'N-HiTS'\n",
    "        params_importance = joblib.load(r'Results\\Params Importance\\Params_Importance_NHITS')\n",
    "    else:\n",
    "        model = 'N-BEATS'\n",
    "        params_importance = joblib.load(r'Results\\Params Importance\\Params_Importance_NBEATS')\n",
    "\n",
    "    hyperparams_sum = {}\n",
    "    hyperparams_count = {}\n",
    "    hyper_results = pd.DataFrame()\n",
    "\n",
    "    if (type == 'poll'): concat = ['o3','no2','co','pm10','pm25']\n",
    "    else: concat = ['12','26','52','78']\n",
    "\n",
    "    for concat in concat:\n",
    "        for pollutant_h, item in params_importance.items():\n",
    "            for metric_, hyperparams in item.items():\n",
    "\n",
    "                if (concat in pollutant_h) and (metric_ == metric):\n",
    "\n",
    "                    for key, value in hyperparams.items():\n",
    "                        if key not in hyperparams_sum:\n",
    "                            hyperparams_sum[key] = 0\n",
    "                            hyperparams_count[key] = 0\n",
    "                        hyperparams_sum[key] += value\n",
    "                        hyperparams_count[key] += 1\n",
    "\n",
    "        mean_hyperparams = {key: hyperparams_sum[key] / hyperparams_count[key] for key in hyperparams_sum}\n",
    "        hyper_results = pd.concat([hyper_results, pd.DataFrame(mean_hyperparams, index=[f'{concat}'])])\n",
    "    \n",
    "    hyper_results = hyper_results.rename(columns={\n",
    "        'input_size':'input',\n",
    "        'n_freq_downsample':'downsample',\n",
    "        'n_pool_kernel_size':'kernel',\n",
    "        'local_scalar_type':'scalar',\n",
    "        'n_blocks':'blocks',\n",
    "        'n_stacks':'stacks',\n",
    "        'max_steps':'epochs',\n",
    "    })\n",
    "\n",
    "    fig = go.Figure()\n",
    "    colors = [\n",
    "        \"#000000\",  # Black\n",
    "        \"#404040\",  # Dark Gray\n",
    "        \"#808080\",  # Medium Gray\n",
    "        \"#BFBFBF\",  # Light Gray\n",
    "        \"#D9D9D9\",  # Light Silver\n",
    "    ]\n",
    "    sorted_hyper_results = hyper_results.T\n",
    "    sorted_hyper_results[\"mean\"] = sorted_hyper_results.mean(axis=1)  # Add mean column\n",
    "    sorted_hyper_results = sorted_hyper_results.sort_values(by=\"mean\", ascending=True).drop(columns=[\"mean\"])\n",
    "\n",
    "    # Add a bar for each hyperparameter\n",
    "    for idx, hyperparameter in enumerate(sorted_hyper_results.columns):\n",
    "    # for hyperparameter in sorted_hyper_results.columns:\n",
    "        fig.add_trace(\n",
    "            go.Bar(\n",
    "                y=sorted_hyper_results.index,  # Pollutants on the y-axis\n",
    "                x=sorted_hyper_results[hyperparameter],  # Values on the x-axis\n",
    "                name=hyperparameter,  # Name of the hyperparameter\n",
    "                marker=dict(color=colors[idx % len(colors)]),  # Assign colors\n",
    "                orientation=\"h\",  # Horizontal bars\n",
    "            )\n",
    "        )\n",
    "\n",
    "    # Update layout\n",
    "    fig.update_layout(\n",
    "        title=\"Hyperparameter Importance by Pollutant\",\n",
    "        xaxis_title=\"Importance\",\n",
    "        yaxis_title=\"Pollutant\",\n",
    "        barmode=\"group\",  # Stack the bars\n",
    "        legend_title=\"Hyperparameters\",\n",
    "    )\n",
    "\n",
    "    main_layout(fig, title=f'{model} | {metric.upper()}', x='Params Importance', width=600, height=500)\n",
    "    # Show the plot\n",
    "    return fig\n",
    "\n",
    "plot_hyperparams_importance(metric='smape', nhits=False, type='h')"
   ]
  }
 ],
 "metadata": {
  "kernelspec": {
   "display_name": "venv-3.12",
   "language": "python",
   "name": "python3"
  },
  "language_info": {
   "codemirror_mode": {
    "name": "ipython",
    "version": 3
   },
   "file_extension": ".py",
   "mimetype": "text/x-python",
   "name": "python",
   "nbconvert_exporter": "python",
   "pygments_lexer": "ipython3",
   "version": "3.11.9"
  }
 },
 "nbformat": 4,
 "nbformat_minor": 2
}
